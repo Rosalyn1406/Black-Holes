{
 "cells": [
  {
   "cell_type": "code",
   "execution_count": 2,
   "id": "b2bd4cc4",
   "metadata": {},
   "outputs": [],
   "source": [
    "from sympy import*\n",
    "import numpy as np\n",
    "import time"
   ]
  },
  {
   "cell_type": "code",
   "execution_count": 3,
   "id": "4e9ce2ec",
   "metadata": {},
   "outputs": [
    {
     "data": {
      "text/latex": [
       "$\\displaystyle \\left[\\begin{matrix}t\\\\r\\\\\\theta\\\\\\phi\\end{matrix}\\right]$"
      ],
      "text/plain": [
       "Matrix([\n",
       "[     t],\n",
       "[     r],\n",
       "[\\theta],\n",
       "[  \\phi]])"
      ]
     },
     "metadata": {},
     "output_type": "display_data"
    },
    {
     "data": {
      "text/latex": [
       "$\\displaystyle \\left[\\begin{matrix}dt\\\\dr\\\\d\\theta\\\\d\\phi\\end{matrix}\\right]$"
      ],
      "text/plain": [
       "Matrix([\n",
       "[     dt],\n",
       "[     dr],\n",
       "[d\\theta],\n",
       "[  d\\phi]])"
      ]
     },
     "metadata": {},
     "output_type": "display_data"
    },
    {
     "data": {
      "text/latex": [
       "$\\displaystyle \\left[\\begin{matrix}t\\\\x\\\\y\\\\z\\end{matrix}\\right]$"
      ],
      "text/plain": [
       "Matrix([\n",
       "[t],\n",
       "[x],\n",
       "[y],\n",
       "[z]])"
      ]
     },
     "metadata": {},
     "output_type": "display_data"
    },
    {
     "data": {
      "text/latex": [
       "$\\displaystyle \\left[\\begin{matrix}dt\\\\dx\\\\dy\\\\dz\\end{matrix}\\right]$"
      ],
      "text/plain": [
       "Matrix([\n",
       "[dt],\n",
       "[dx],\n",
       "[dy],\n",
       "[dz]])"
      ]
     },
     "metadata": {},
     "output_type": "display_data"
    }
   ],
   "source": [
    "# variables we need \n",
    "t,r,theta,phi = symbols('t,r,\\\\theta,\\phi')\n",
    "x,y,z = symbols ('x,y,z')\n",
    "\n",
    "# differentials\n",
    "a,b,c,ds,dt,dr,dtheta,dphi = symbols('a,b,c,ds,dt,dr,d\\\\theta,d\\phi')\n",
    "dx,dy,dz = symbols('dx,dy,dz')\n",
    "\n",
    "x_spherical = Matrix([t,r,theta,phi])\n",
    "x_cartesian = Matrix([t,x,y,z])\n",
    "dx_spherical = Matrix ([dt,dr,dtheta,dphi])\n",
    "dx_cartesian = Matrix([dt,dx,dy,dz])\n",
    "xlist = [x_spherical, dx_spherical, x_cartesian, dx_cartesian]\n",
    "\n",
    "for i in range(4):\n",
    "    display(xlist[i])\n",
    "\n",
    "# two arguments, transpose it \n",
    "def down(g,x):\n",
    "    return(g*x).T"
   ]
  },
  {
   "cell_type": "code",
   "execution_count": 4,
   "id": "872191ed",
   "metadata": {},
   "outputs": [
    {
     "data": {
      "text/latex": [
       "$\\displaystyle g_{uv}$"
      ],
      "text/plain": [
       "g_{uv}"
      ]
     },
     "metadata": {},
     "output_type": "display_data"
    },
    {
     "data": {
      "text/latex": [
       "$\\displaystyle \\left[\\begin{matrix}- N^{2}{\\left(t \\right)} + \\left(\\operatorname{N^{r}}\\right)^{2}{\\left(r,t \\right)} \\Lambda^{2}{\\left(r,t \\right)} & \\operatorname{N^{r}}{\\left(r,t \\right)} \\Lambda^{2}{\\left(r,t \\right)} & 0 & 0\\\\\\operatorname{N^{r}}{\\left(r,t \\right)} \\Lambda^{2}{\\left(r,t \\right)} & \\Lambda^{2}{\\left(r,t \\right)} & 0 & 0\\\\0 & 0 & R^{2}{\\left(r,t \\right)} & 0\\\\0 & 0 & 0 & R^{2}{\\left(r,t \\right)} \\sin^{2}{\\left(\\theta \\right)}\\end{matrix}\\right]$"
      ],
      "text/plain": [
       "Matrix([\n",
       "[-N(t)**2 + N^r(r, t)**2*\\Lambda(r, t)**2, N^r(r, t)*\\Lambda(r, t)**2,          0,                         0],\n",
       "[              N^r(r, t)*\\Lambda(r, t)**2,           \\Lambda(r, t)**2,          0,                         0],\n",
       "[                                       0,                          0, R(r, t)**2,                         0],\n",
       "[                                       0,                          0,          0, R(r, t)**2*sin(\\theta)**2]])"
      ]
     },
     "metadata": {},
     "output_type": "display_data"
    },
    {
     "data": {
      "text/latex": [
       "$\\displaystyle g^{uv}$"
      ],
      "text/plain": [
       "g^{uv}"
      ]
     },
     "metadata": {},
     "output_type": "display_data"
    },
    {
     "data": {
      "text/latex": [
       "$\\displaystyle \\left[\\begin{matrix}- \\frac{1}{N^{2}{\\left(t \\right)}} & \\frac{\\operatorname{N^{r}}{\\left(r,t \\right)}}{N^{2}{\\left(t \\right)}} & 0 & 0\\\\\\frac{\\operatorname{N^{r}}{\\left(r,t \\right)}}{N^{2}{\\left(t \\right)}} & \\frac{1}{\\Lambda^{2}{\\left(r,t \\right)}} - \\frac{\\left(\\operatorname{N^{r}}\\right)^{2}{\\left(r,t \\right)}}{N^{2}{\\left(t \\right)}} & 0 & 0\\\\0 & 0 & \\frac{1}{R^{2}{\\left(r,t \\right)}} & 0\\\\0 & 0 & 0 & \\frac{1}{R^{2}{\\left(r,t \\right)} \\sin^{2}{\\left(\\theta \\right)}}\\end{matrix}\\right]$"
      ],
      "text/plain": [
       "Matrix([\n",
       "[       -1/N(t)**2,                          N^r(r, t)/N(t)**2,             0,                             0],\n",
       "[N^r(r, t)/N(t)**2, \\Lambda(r, t)**(-2) - N^r(r, t)**2/N(t)**2,             0,                             0],\n",
       "[                0,                                          0, R(r, t)**(-2),                             0],\n",
       "[                0,                                          0,             0, 1/(R(r, t)**2*sin(\\theta)**2)]])"
      ]
     },
     "metadata": {},
     "output_type": "display_data"
    },
    {
     "data": {
      "text/latex": [
       "$\\displaystyle g^{uv} g_{uv}$"
      ],
      "text/plain": [
       "g^{uv}*g_{uv}"
      ]
     },
     "metadata": {},
     "output_type": "display_data"
    },
    {
     "data": {
      "text/latex": [
       "$\\displaystyle \\left[\\begin{matrix}1 & 0 & 0 & 0\\\\0 & 1 & 0 & 0\\\\0 & 0 & 1 & 0\\\\0 & 0 & 0 & 1\\end{matrix}\\right]$"
      ],
      "text/plain": [
       "Matrix([\n",
       "[1, 0, 0, 0],\n",
       "[0, 1, 0, 0],\n",
       "[0, 0, 1, 0],\n",
       "[0, 0, 0, 1]])"
      ]
     },
     "metadata": {},
     "output_type": "display_data"
    }
   ],
   "source": [
    "# Defining metric tensor \n",
    "\n",
    "Lambda = Function ('\\Lambda')(r,t)\n",
    "N = Function ('N')(r,t)\n",
    "N_r = Function ('N^r')(r,t)\n",
    "R_r = Function ('R')(r,t)\n",
    "N = Function ('N')(t)\n",
    "\n",
    "g_down = Matrix([[-N**2 + (N_r)**2 * (Lambda)**2, N_r*(Lambda)**2,0,0], [N_r*(Lambda)**2, (Lambda**2),0,0],[0,0,(R_r)**2,0],[0,0,0,(R_r)**2 * sin(theta)**2]])\n",
    "#display(g_down)\n",
    "\n",
    "g_mu_nu= symbols('g_{uv}')\n",
    "display(g_mu_nu)\n",
    "display(g_down)\n",
    "\n",
    "g_nu_mu = symbols('g^{uv}')\n",
    "display(g_nu_mu)\n",
    "g_up = simplify(g_down.inv())\n",
    "display(g_up)\n",
    "\n",
    "display(g_mu_nu*g_nu_mu)\n",
    "display(simplify(g_down*g_up))\n"
   ]
  },
  {
   "cell_type": "markdown",
   "id": "19bf9299",
   "metadata": {},
   "source": [
    "##### Finding Christoffel symbol "
   ]
  },
  {
   "cell_type": "code",
   "execution_count": 5,
   "id": "35eedbb9",
   "metadata": {},
   "outputs": [
    {
     "data": {
      "text/latex": [
       "$\\displaystyle \\left[\\begin{matrix}\\left[\\begin{matrix}0.0 & 0.0 & 0.0 & 0.0\\\\0.0 & 0.0 & 0.0 & 0.0\\\\0.0 & 0.0 & 0.0 & 0.0\\\\0.0 & 0.0 & 0.0 & 0.0\\end{matrix}\\right] & \\left[\\begin{matrix}0.0 & 0.0 & 0.0 & 0.0\\\\0.0 & 0.0 & 0.0 & 0.0\\\\0.0 & 0.0 & 0.0 & 0.0\\\\0.0 & 0.0 & 0.0 & 0.0\\end{matrix}\\right] & \\left[\\begin{matrix}0.0 & 0.0 & 0.0 & 0.0\\\\0.0 & 0.0 & 0.0 & 0.0\\\\0.0 & 0.0 & 0.0 & 0.0\\\\0.0 & 0.0 & 0.0 & 0.0\\end{matrix}\\right] & \\left[\\begin{matrix}0.0 & 0.0 & 0.0 & 0.0\\\\0.0 & 0.0 & 0.0 & 0.0\\\\0.0 & 0.0 & 0.0 & 0.0\\\\0.0 & 0.0 & 0.0 & 0.0\\end{matrix}\\right]\\end{matrix}\\right]$"
      ],
      "text/plain": [
       "[[[0.0, 0.0, 0.0, 0.0], [0.0, 0.0, 0.0, 0.0], [0.0, 0.0, 0.0, 0.0], [0.0, 0.0, 0.0, 0.0]], [[0.0, 0.0, 0.0, 0.0], [0.0, 0.0, 0.0, 0.0], [0.0, 0.0, 0.0, 0.0], [0.0, 0.0, 0.0, 0.0]], [[0.0, 0.0, 0.0, 0.0], [0.0, 0.0, 0.0, 0.0], [0.0, 0.0, 0.0, 0.0], [0.0, 0.0, 0.0, 0.0]], [[0.0, 0.0, 0.0, 0.0], [0.0, 0.0, 0.0, 0.0], [0.0, 0.0, 0.0, 0.0], [0.0, 0.0, 0.0, 0.0]]]"
      ]
     },
     "metadata": {},
     "output_type": "display_data"
    },
    {
     "data": {
      "text/latex": [
       "$\\displaystyle \\left[\\begin{matrix}\\left[\\begin{matrix}\\frac{1.0 \\left(N{\\left(t \\right)} \\frac{d}{d t} N{\\left(t \\right)} - \\left(\\operatorname{N^{r}}\\right)^{3}{\\left(r,t \\right)} \\Lambda{\\left(r,t \\right)} \\frac{\\partial}{\\partial r} \\Lambda{\\left(r,t \\right)} - \\left(\\operatorname{N^{r}}\\right)^{2}{\\left(r,t \\right)} \\Lambda^{2}{\\left(r,t \\right)} \\frac{\\partial}{\\partial r} \\operatorname{N^{r}}{\\left(r,t \\right)} + \\left(\\operatorname{N^{r}}\\right)^{2}{\\left(r,t \\right)} \\Lambda{\\left(r,t \\right)} \\frac{\\partial}{\\partial t} \\Lambda{\\left(r,t \\right)}\\right)}{N^{2}{\\left(t \\right)}} & \\frac{1.0 \\left(- \\operatorname{N^{r}}{\\left(r,t \\right)} \\frac{\\partial}{\\partial r} \\Lambda{\\left(r,t \\right)} - \\Lambda{\\left(r,t \\right)} \\frac{\\partial}{\\partial r} \\operatorname{N^{r}}{\\left(r,t \\right)} + \\frac{\\partial}{\\partial t} \\Lambda{\\left(r,t \\right)}\\right) \\operatorname{N^{r}}{\\left(r,t \\right)} \\Lambda{\\left(r,t \\right)}}{N^{2}{\\left(t \\right)}} & 0 & 0\\\\\\frac{1.0 \\left(- \\operatorname{N^{r}}{\\left(r,t \\right)} \\frac{\\partial}{\\partial r} \\Lambda{\\left(r,t \\right)} - \\Lambda{\\left(r,t \\right)} \\frac{\\partial}{\\partial r} \\operatorname{N^{r}}{\\left(r,t \\right)} + \\frac{\\partial}{\\partial t} \\Lambda{\\left(r,t \\right)}\\right) \\operatorname{N^{r}}{\\left(r,t \\right)} \\Lambda{\\left(r,t \\right)}}{N^{2}{\\left(t \\right)}} & \\frac{1.0 \\left(- \\operatorname{N^{r}}{\\left(r,t \\right)} \\frac{\\partial}{\\partial r} \\Lambda{\\left(r,t \\right)} - \\Lambda{\\left(r,t \\right)} \\frac{\\partial}{\\partial r} \\operatorname{N^{r}}{\\left(r,t \\right)} + \\frac{\\partial}{\\partial t} \\Lambda{\\left(r,t \\right)}\\right) \\Lambda{\\left(r,t \\right)}}{N^{2}{\\left(t \\right)}} & 0 & 0\\\\0 & 0 & \\frac{1.0 \\left(- \\operatorname{N^{r}}{\\left(r,t \\right)} \\frac{\\partial}{\\partial r} R{\\left(r,t \\right)} + \\frac{\\partial}{\\partial t} R{\\left(r,t \\right)}\\right) R{\\left(r,t \\right)}}{N^{2}{\\left(t \\right)}} & 0\\\\0 & 0 & 0 & \\frac{1.0 \\left(- \\operatorname{N^{r}}{\\left(r,t \\right)} \\frac{\\partial}{\\partial r} R{\\left(r,t \\right)} + \\frac{\\partial}{\\partial t} R{\\left(r,t \\right)}\\right) R{\\left(r,t \\right)} \\sin^{2}{\\left(\\theta \\right)}}{N^{2}{\\left(t \\right)}}\\end{matrix}\\right] & \\left[\\begin{matrix}\\frac{- 1.0 \\left(N^{2}{\\left(t \\right)} - \\left(\\operatorname{N^{r}}\\right)^{2}{\\left(r,t \\right)} \\Lambda^{2}{\\left(r,t \\right)}\\right) \\left(\\left(\\operatorname{N^{r}}\\right)^{2}{\\left(r,t \\right)} \\frac{\\partial}{\\partial r} \\Lambda{\\left(r,t \\right)} + \\operatorname{N^{r}}{\\left(r,t \\right)} \\Lambda{\\left(r,t \\right)} \\frac{\\partial}{\\partial r} \\operatorname{N^{r}}{\\left(r,t \\right)} - 2 \\operatorname{N^{r}}{\\left(r,t \\right)} \\frac{\\partial}{\\partial t} \\Lambda{\\left(r,t \\right)} - \\Lambda{\\left(r,t \\right)} \\frac{\\partial}{\\partial t} \\operatorname{N^{r}}{\\left(r,t \\right)}\\right) + \\left(- N{\\left(t \\right)} \\frac{d}{d t} N{\\left(t \\right)} + \\left(\\operatorname{N^{r}}\\right)^{2}{\\left(r,t \\right)} \\Lambda{\\left(r,t \\right)} \\frac{\\partial}{\\partial t} \\Lambda{\\left(r,t \\right)} + \\operatorname{N^{r}}{\\left(r,t \\right)} \\Lambda^{2}{\\left(r,t \\right)} \\frac{\\partial}{\\partial t} \\operatorname{N^{r}}{\\left(r,t \\right)}\\right) \\operatorname{N^{r}}{\\left(r,t \\right)} \\Lambda{\\left(r,t \\right)}}{N^{2}{\\left(t \\right)} \\Lambda{\\left(r,t \\right)}} & \\frac{\\left(\\operatorname{N^{r}}{\\left(r,t \\right)} \\frac{\\partial}{\\partial r} \\Lambda{\\left(r,t \\right)} + \\Lambda{\\left(r,t \\right)} \\frac{\\partial}{\\partial r} \\operatorname{N^{r}}{\\left(r,t \\right)}\\right) \\left(\\operatorname{N^{r}}\\right)^{2}{\\left(r,t \\right)} \\Lambda^{2}{\\left(r,t \\right)} + 1.0 \\left(N^{2}{\\left(t \\right)} - \\left(\\operatorname{N^{r}}\\right)^{2}{\\left(r,t \\right)} \\Lambda^{2}{\\left(r,t \\right)}\\right) \\frac{\\partial}{\\partial t} \\Lambda{\\left(r,t \\right)}}{N^{2}{\\left(t \\right)} \\Lambda{\\left(r,t \\right)}} & 0 & 0\\\\\\frac{\\left(\\operatorname{N^{r}}{\\left(r,t \\right)} \\frac{\\partial}{\\partial r} \\Lambda{\\left(r,t \\right)} + \\Lambda{\\left(r,t \\right)} \\frac{\\partial}{\\partial r} \\operatorname{N^{r}}{\\left(r,t \\right)}\\right) \\left(\\operatorname{N^{r}}\\right)^{2}{\\left(r,t \\right)} \\Lambda^{2}{\\left(r,t \\right)} + 1.0 \\left(N^{2}{\\left(t \\right)} - \\left(\\operatorname{N^{r}}\\right)^{2}{\\left(r,t \\right)} \\Lambda^{2}{\\left(r,t \\right)}\\right) \\frac{\\partial}{\\partial t} \\Lambda{\\left(r,t \\right)}}{N^{2}{\\left(t \\right)} \\Lambda{\\left(r,t \\right)}} & \\frac{N^{2}{\\left(t \\right)} \\frac{\\partial}{\\partial r} \\Lambda{\\left(r,t \\right)} + \\left(\\operatorname{N^{r}}\\right)^{2}{\\left(r,t \\right)} \\Lambda^{2}{\\left(r,t \\right)} \\frac{\\partial}{\\partial r} \\Lambda{\\left(r,t \\right)} + \\operatorname{N^{r}}{\\left(r,t \\right)} \\Lambda^{3}{\\left(r,t \\right)} \\frac{\\partial}{\\partial r} \\operatorname{N^{r}}{\\left(r,t \\right)} - \\operatorname{N^{r}}{\\left(r,t \\right)} \\Lambda^{2}{\\left(r,t \\right)} \\frac{\\partial}{\\partial t} \\Lambda{\\left(r,t \\right)}}{N^{2}{\\left(t \\right)} \\Lambda{\\left(r,t \\right)}} & 0 & 0\\\\0 & 0 & - \\frac{1.0 \\left(\\left(N^{2}{\\left(t \\right)} - \\left(\\operatorname{N^{r}}\\right)^{2}{\\left(r,t \\right)} \\Lambda^{2}{\\left(r,t \\right)}\\right) \\frac{\\partial}{\\partial r} R{\\left(r,t \\right)} + \\operatorname{N^{r}}{\\left(r,t \\right)} \\Lambda^{2}{\\left(r,t \\right)} \\frac{\\partial}{\\partial t} R{\\left(r,t \\right)}\\right) R{\\left(r,t \\right)}}{N^{2}{\\left(t \\right)} \\Lambda^{2}{\\left(r,t \\right)}} & 0\\\\0 & 0 & 0 & - \\frac{1.0 \\left(\\left(N^{2}{\\left(t \\right)} - \\left(\\operatorname{N^{r}}\\right)^{2}{\\left(r,t \\right)} \\Lambda^{2}{\\left(r,t \\right)}\\right) \\frac{\\partial}{\\partial r} R{\\left(r,t \\right)} + \\operatorname{N^{r}}{\\left(r,t \\right)} \\Lambda^{2}{\\left(r,t \\right)} \\frac{\\partial}{\\partial t} R{\\left(r,t \\right)}\\right) R{\\left(r,t \\right)} \\sin^{2}{\\left(\\theta \\right)}}{N^{2}{\\left(t \\right)} \\Lambda^{2}{\\left(r,t \\right)}}\\end{matrix}\\right] & \\left[\\begin{matrix}0 & 0 & \\frac{1.0 \\frac{\\partial}{\\partial t} R{\\left(r,t \\right)}}{R{\\left(r,t \\right)}} & 0\\\\0 & 0 & \\frac{1.0 \\frac{\\partial}{\\partial r} R{\\left(r,t \\right)}}{R{\\left(r,t \\right)}} & 0\\\\\\frac{1.0 \\frac{\\partial}{\\partial t} R{\\left(r,t \\right)}}{R{\\left(r,t \\right)}} & \\frac{1.0 \\frac{\\partial}{\\partial r} R{\\left(r,t \\right)}}{R{\\left(r,t \\right)}} & 0 & 0\\\\0 & 0 & 0 & - 0.5 \\sin{\\left(2 \\theta \\right)}\\end{matrix}\\right] & \\left[\\begin{matrix}0 & 0 & 0 & \\frac{1.0 \\frac{\\partial}{\\partial t} R{\\left(r,t \\right)}}{R{\\left(r,t \\right)}}\\\\0 & 0 & 0 & \\frac{1.0 \\frac{\\partial}{\\partial r} R{\\left(r,t \\right)}}{R{\\left(r,t \\right)}}\\\\0 & 0 & 0 & \\frac{1.0}{\\tan{\\left(\\theta \\right)}}\\\\\\frac{1.0 \\frac{\\partial}{\\partial t} R{\\left(r,t \\right)}}{R{\\left(r,t \\right)}} & \\frac{1.0 \\frac{\\partial}{\\partial r} R{\\left(r,t \\right)}}{R{\\left(r,t \\right)}} & \\frac{1.0}{\\tan{\\left(\\theta \\right)}} & 0\\end{matrix}\\right]\\end{matrix}\\right]$"
      ],
      "text/plain": [
       "[[[1.0*(N(t)*Derivative(N(t), t) - N^r(r, t)**3*\\Lambda(r, t)*Derivative(\\Lambda(r, t), r) - N^r(r, t)**2*\\Lambda(r, t)**2*Derivative(N^r(r, t), r) + N^r(r, t)**2*\\Lambda(r, t)*Derivative(\\Lambda(r, t), t))/N(t)**2, 1.0*(-N^r(r, t)*Derivative(\\Lambda(r, t), r) - \\Lambda(r, t)*Derivative(N^r(r, t), r) + Derivative(\\Lambda(r, t), t))*N^r(r, t)*\\Lambda(r, t)/N(t)**2, 0, 0], [1.0*(-N^r(r, t)*Derivative(\\Lambda(r, t), r) - \\Lambda(r, t)*Derivative(N^r(r, t), r) + Derivative(\\Lambda(r, t), t))*N^r(r, t)*\\Lambda(r, t)/N(t)**2, 1.0*(-N^r(r, t)*Derivative(\\Lambda(r, t), r) - \\Lambda(r, t)*Derivative(N^r(r, t), r) + Derivative(\\Lambda(r, t), t))*\\Lambda(r, t)/N(t)**2, 0, 0], [0, 0, 1.0*(-N^r(r, t)*Derivative(R(r, t), r) + Derivative(R(r, t), t))*R(r, t)/N(t)**2, 0], [0, 0, 0, 1.0*(-N^r(r, t)*Derivative(R(r, t), r) + Derivative(R(r, t), t))*R(r, t)*sin(\\theta)**2/N(t)**2]], [[(-1.0*(N(t)**2 - N^r(r, t)**2*\\Lambda(r, t)**2)*(N^r(r, t)**2*Derivative(\\Lambda(r, t), r) + N^r(r, t)*\\Lambda(r, t)*Derivative(N^r(r, t), r) - 2*N^r(r, t)*Derivative(\\Lambda(r, t), t) - \\Lambda(r, t)*Derivative(N^r(r, t), t)) + (-N(t)*Derivative(N(t), t) + N^r(r, t)**2*\\Lambda(r, t)*Derivative(\\Lambda(r, t), t) + N^r(r, t)*\\Lambda(r, t)**2*Derivative(N^r(r, t), t))*N^r(r, t)*\\Lambda(r, t))/(N(t)**2*\\Lambda(r, t)), ((N^r(r, t)*Derivative(\\Lambda(r, t), r) + \\Lambda(r, t)*Derivative(N^r(r, t), r))*N^r(r, t)**2*\\Lambda(r, t)**2 + 1.0*(N(t)**2 - N^r(r, t)**2*\\Lambda(r, t)**2)*Derivative(\\Lambda(r, t), t))/(N(t)**2*\\Lambda(r, t)), 0, 0], [((N^r(r, t)*Derivative(\\Lambda(r, t), r) + \\Lambda(r, t)*Derivative(N^r(r, t), r))*N^r(r, t)**2*\\Lambda(r, t)**2 + 1.0*(N(t)**2 - N^r(r, t)**2*\\Lambda(r, t)**2)*Derivative(\\Lambda(r, t), t))/(N(t)**2*\\Lambda(r, t)), (N(t)**2*Derivative(\\Lambda(r, t), r) + N^r(r, t)**2*\\Lambda(r, t)**2*Derivative(\\Lambda(r, t), r) + N^r(r, t)*\\Lambda(r, t)**3*Derivative(N^r(r, t), r) - N^r(r, t)*\\Lambda(r, t)**2*Derivative(\\Lambda(r, t), t))/(N(t)**2*\\Lambda(r, t)), 0, 0], [0, 0, -1.0*((N(t)**2 - N^r(r, t)**2*\\Lambda(r, t)**2)*Derivative(R(r, t), r) + N^r(r, t)*\\Lambda(r, t)**2*Derivative(R(r, t), t))*R(r, t)/(N(t)**2*\\Lambda(r, t)**2), 0], [0, 0, 0, -1.0*((N(t)**2 - N^r(r, t)**2*\\Lambda(r, t)**2)*Derivative(R(r, t), r) + N^r(r, t)*\\Lambda(r, t)**2*Derivative(R(r, t), t))*R(r, t)*sin(\\theta)**2/(N(t)**2*\\Lambda(r, t)**2)]], [[0, 0, 1.0*Derivative(R(r, t), t)/R(r, t), 0], [0, 0, 1.0*Derivative(R(r, t), r)/R(r, t), 0], [1.0*Derivative(R(r, t), t)/R(r, t), 1.0*Derivative(R(r, t), r)/R(r, t), 0, 0], [0, 0, 0, -0.5*sin(2*\\theta)]], [[0, 0, 0, 1.0*Derivative(R(r, t), t)/R(r, t)], [0, 0, 0, 1.0*Derivative(R(r, t), r)/R(r, t)], [0, 0, 0, 1.0/tan(\\theta)], [1.0*Derivative(R(r, t), t)/R(r, t), 1.0*Derivative(R(r, t), r)/R(r, t), 1.0/tan(\\theta), 0]]]"
      ]
     },
     "metadata": {},
     "output_type": "display_data"
    }
   ],
   "source": [
    "C = MutableDenseNDimArray(np.zeros((4,)*3))\n",
    "display(C)\n",
    "\n",
    "# Let's assign the component to the christoffel symbols\n",
    "for i in range(4):\n",
    "    for j in range(4):\n",
    "        for k in range(4):\n",
    "            su = 0\n",
    "            for p in range (4):\n",
    "                su = su +0.5*g_up[i,p]*( diff(g_down[k,p],xlist[0][j]) + diff(g_down[p,j],xlist[0][k]) - diff(g_down[j,k],xlist[0][p]))\n",
    "                C[i,j,k]=su\n",
    "display(simplify(C))\n"
   ]
  },
  {
   "cell_type": "code",
   "execution_count": 6,
   "id": "e694cb45",
   "metadata": {},
   "outputs": [
    {
     "data": {
      "text/latex": [
       "$\\displaystyle \\frac{1.0}{\\tan{\\left(\\theta \\right)}}$"
      ],
      "text/plain": [
       "1.0/tan(\\theta)"
      ]
     },
     "execution_count": 6,
     "metadata": {},
     "output_type": "execute_result"
    }
   ],
   "source": [
    "# taking element one by one to determine value \n",
    "simplify(C[3,2,3])"
   ]
  },
  {
   "cell_type": "code",
   "execution_count": 7,
   "id": "f415dbca",
   "metadata": {},
   "outputs": [
    {
     "data": {
      "text/latex": [
       "$\\displaystyle \\frac{N^{2}{\\left(t \\right)} \\frac{\\partial}{\\partial r} \\Lambda{\\left(r,t \\right)} + \\left(\\operatorname{N^{r}}\\right)^{2}{\\left(r,t \\right)} \\Lambda^{2}{\\left(r,t \\right)} \\frac{\\partial}{\\partial r} \\Lambda{\\left(r,t \\right)} + \\operatorname{N^{r}}{\\left(r,t \\right)} \\Lambda^{3}{\\left(r,t \\right)} \\frac{\\partial}{\\partial r} \\operatorname{N^{r}}{\\left(r,t \\right)} - \\operatorname{N^{r}}{\\left(r,t \\right)} \\Lambda^{2}{\\left(r,t \\right)} \\frac{\\partial}{\\partial t} \\Lambda{\\left(r,t \\right)}}{N^{2}{\\left(t \\right)} \\Lambda{\\left(r,t \\right)}}$"
      ],
      "text/plain": [
       "(N(t)**2*Derivative(\\Lambda(r, t), r) + N^r(r, t)**2*\\Lambda(r, t)**2*Derivative(\\Lambda(r, t), r) + N^r(r, t)*\\Lambda(r, t)**3*Derivative(N^r(r, t), r) - N^r(r, t)*\\Lambda(r, t)**2*Derivative(\\Lambda(r, t), t))/(N(t)**2*\\Lambda(r, t))"
      ]
     },
     "execution_count": 7,
     "metadata": {},
     "output_type": "execute_result"
    }
   ],
   "source": [
    "simplify(C[1,1,1])"
   ]
  },
  {
   "cell_type": "code",
   "execution_count": 8,
   "id": "5b1b6042",
   "metadata": {},
   "outputs": [
    {
     "data": {
      "text/latex": [
       "$\\displaystyle \\frac{1.0 \\left(N{\\left(t \\right)} \\frac{d}{d t} N{\\left(t \\right)} - \\left(\\operatorname{N^{r}}\\right)^{3}{\\left(r,t \\right)} \\Lambda{\\left(r,t \\right)} \\frac{\\partial}{\\partial r} \\Lambda{\\left(r,t \\right)} - \\left(\\operatorname{N^{r}}\\right)^{2}{\\left(r,t \\right)} \\Lambda^{2}{\\left(r,t \\right)} \\frac{\\partial}{\\partial r} \\operatorname{N^{r}}{\\left(r,t \\right)} + \\left(\\operatorname{N^{r}}\\right)^{2}{\\left(r,t \\right)} \\Lambda{\\left(r,t \\right)} \\frac{\\partial}{\\partial t} \\Lambda{\\left(r,t \\right)}\\right)}{N^{2}{\\left(t \\right)}}$"
      ],
      "text/plain": [
       "1.0*(N(t)*Derivative(N(t), t) - N^r(r, t)**3*\\Lambda(r, t)*Derivative(\\Lambda(r, t), r) - N^r(r, t)**2*\\Lambda(r, t)**2*Derivative(N^r(r, t), r) + N^r(r, t)**2*\\Lambda(r, t)*Derivative(\\Lambda(r, t), t))/N(t)**2"
      ]
     },
     "execution_count": 8,
     "metadata": {},
     "output_type": "execute_result"
    }
   ],
   "source": [
    "# cell 0, column 0,row 0\n",
    "# we can find part e by differentiating one by one \n",
    "simplify(C[0,0,0])"
   ]
  },
  {
   "cell_type": "code",
   "execution_count": 9,
   "id": "9e611b61",
   "metadata": {},
   "outputs": [
    {
     "data": {
      "text/latex": [
       "$\\displaystyle \\frac{1.0 \\left(- \\operatorname{N^{r}}{\\left(r,t \\right)} \\frac{\\partial}{\\partial r} \\Lambda{\\left(r,t \\right)} - \\Lambda{\\left(r,t \\right)} \\frac{\\partial}{\\partial r} \\operatorname{N^{r}}{\\left(r,t \\right)} + \\frac{\\partial}{\\partial t} \\Lambda{\\left(r,t \\right)}\\right) \\operatorname{N^{r}}{\\left(r,t \\right)} \\Lambda{\\left(r,t \\right)}}{N^{2}{\\left(t \\right)}}$"
      ],
      "text/plain": [
       "1.0*(-N^r(r, t)*Derivative(\\Lambda(r, t), r) - \\Lambda(r, t)*Derivative(N^r(r, t), r) + Derivative(\\Lambda(r, t), t))*N^r(r, t)*\\Lambda(r, t)/N(t)**2"
      ]
     },
     "execution_count": 9,
     "metadata": {},
     "output_type": "execute_result"
    }
   ],
   "source": [
    "simplify(C[0,1,0])"
   ]
  },
  {
   "cell_type": "code",
   "execution_count": 10,
   "id": "3df57e22",
   "metadata": {},
   "outputs": [
    {
     "data": {
      "text/latex": [
       "$\\displaystyle \\frac{1.0 \\left(- \\operatorname{N^{r}}{\\left(r,t \\right)} \\frac{\\partial}{\\partial r} \\Lambda{\\left(r,t \\right)} - \\Lambda{\\left(r,t \\right)} \\frac{\\partial}{\\partial r} \\operatorname{N^{r}}{\\left(r,t \\right)} + \\frac{\\partial}{\\partial t} \\Lambda{\\left(r,t \\right)}\\right) \\operatorname{N^{r}}{\\left(r,t \\right)} \\Lambda{\\left(r,t \\right)}}{N^{2}{\\left(t \\right)}}$"
      ],
      "text/plain": [
       "1.0*(-N^r(r, t)*Derivative(\\Lambda(r, t), r) - \\Lambda(r, t)*Derivative(N^r(r, t), r) + Derivative(\\Lambda(r, t), t))*N^r(r, t)*\\Lambda(r, t)/N(t)**2"
      ]
     },
     "execution_count": 10,
     "metadata": {},
     "output_type": "execute_result"
    }
   ],
   "source": [
    "simplify(C[0,0,1])"
   ]
  },
  {
   "cell_type": "code",
   "execution_count": 11,
   "id": "99477da9",
   "metadata": {},
   "outputs": [
    {
     "data": {
      "text/latex": [
       "$\\displaystyle \\frac{1.0 \\left(- \\operatorname{N^{r}}{\\left(r,t \\right)} \\frac{\\partial}{\\partial r} \\Lambda{\\left(r,t \\right)} - \\Lambda{\\left(r,t \\right)} \\frac{\\partial}{\\partial r} \\operatorname{N^{r}}{\\left(r,t \\right)} + \\frac{\\partial}{\\partial t} \\Lambda{\\left(r,t \\right)}\\right) \\Lambda{\\left(r,t \\right)}}{N^{2}{\\left(t \\right)}}$"
      ],
      "text/plain": [
       "1.0*(-N^r(r, t)*Derivative(\\Lambda(r, t), r) - \\Lambda(r, t)*Derivative(N^r(r, t), r) + Derivative(\\Lambda(r, t), t))*\\Lambda(r, t)/N(t)**2"
      ]
     },
     "execution_count": 11,
     "metadata": {},
     "output_type": "execute_result"
    }
   ],
   "source": [
    "simplify(C[0,1,1])"
   ]
  },
  {
   "cell_type": "code",
   "execution_count": 12,
   "id": "e5aecd67",
   "metadata": {},
   "outputs": [
    {
     "data": {
      "text/latex": [
       "$\\displaystyle 0$"
      ],
      "text/plain": [
       "0"
      ]
     },
     "execution_count": 12,
     "metadata": {},
     "output_type": "execute_result"
    }
   ],
   "source": [
    "simplify(C[0,0,2])"
   ]
  },
  {
   "cell_type": "markdown",
   "id": "518edc05",
   "metadata": {},
   "source": [
    "#### Finding Covariant derivative"
   ]
  },
  {
   "cell_type": "code",
   "execution_count": 13,
   "id": "6570e33c",
   "metadata": {},
   "outputs": [
    {
     "data": {
      "text/latex": [
       "$\\displaystyle \\left[\\begin{matrix}f{\\left(t \\right)}\\\\g{\\left(t \\right)}\\\\0\\\\0\\end{matrix}\\right]$"
      ],
      "text/plain": [
       "Matrix([\n",
       "[f(t)],\n",
       "[g(t)],\n",
       "[   0],\n",
       "[   0]])"
      ]
     },
     "metadata": {},
     "output_type": "display_data"
    },
    {
     "data": {
      "text/latex": [
       "$\\displaystyle B^{u}_{v}$"
      ],
      "text/plain": [
       "B^{u}_{v}"
      ]
     },
     "metadata": {},
     "output_type": "display_data"
    },
    {
     "data": {
      "text/latex": [
       "$\\displaystyle \\left[\\begin{matrix}\\left(- \\frac{0.5 \\left(2 \\left(\\operatorname{N^{r}}\\right)^{2}{\\left(r,t \\right)} \\Lambda{\\left(r,t \\right)} \\frac{\\partial}{\\partial r} \\Lambda{\\left(r,t \\right)} + 2 \\operatorname{N^{r}}{\\left(r,t \\right)} \\Lambda^{2}{\\left(r,t \\right)} \\frac{\\partial}{\\partial r} \\operatorname{N^{r}}{\\left(r,t \\right)}\\right)}{N^{2}{\\left(t \\right)}} + \\frac{1.0 \\operatorname{N^{r}}{\\left(r,t \\right)} \\Lambda{\\left(r,t \\right)} \\frac{\\partial}{\\partial t} \\Lambda{\\left(r,t \\right)}}{N^{2}{\\left(t \\right)}}\\right) g{\\left(t \\right)} + \\left(- \\frac{0.5 \\left(- 2 N{\\left(t \\right)} \\frac{d}{d t} N{\\left(t \\right)} + 2 \\left(\\operatorname{N^{r}}\\right)^{2}{\\left(r,t \\right)} \\Lambda{\\left(r,t \\right)} \\frac{\\partial}{\\partial t} \\Lambda{\\left(r,t \\right)} + 2 \\operatorname{N^{r}}{\\left(r,t \\right)} \\Lambda^{2}{\\left(r,t \\right)} \\frac{\\partial}{\\partial t} \\operatorname{N^{r}}{\\left(r,t \\right)}\\right)}{N^{2}{\\left(t \\right)}} + \\frac{0.5 \\left(- 2 \\left(\\operatorname{N^{r}}\\right)^{2}{\\left(r,t \\right)} \\Lambda{\\left(r,t \\right)} \\frac{\\partial}{\\partial r} \\Lambda{\\left(r,t \\right)} - 2 \\operatorname{N^{r}}{\\left(r,t \\right)} \\Lambda^{2}{\\left(r,t \\right)} \\frac{\\partial}{\\partial r} \\operatorname{N^{r}}{\\left(r,t \\right)} + 4 \\operatorname{N^{r}}{\\left(r,t \\right)} \\Lambda{\\left(r,t \\right)} \\frac{\\partial}{\\partial t} \\Lambda{\\left(r,t \\right)} + 2 \\Lambda^{2}{\\left(r,t \\right)} \\frac{\\partial}{\\partial t} \\operatorname{N^{r}}{\\left(r,t \\right)}\\right) \\operatorname{N^{r}}{\\left(r,t \\right)}}{N^{2}{\\left(t \\right)}}\\right) f{\\left(t \\right)} + \\frac{d}{d t} f{\\left(t \\right)} & \\left(- \\frac{0.5 \\left(2 \\left(\\operatorname{N^{r}}\\right)^{2}{\\left(r,t \\right)} \\Lambda{\\left(r,t \\right)} \\frac{\\partial}{\\partial r} \\Lambda{\\left(r,t \\right)} + 2 \\operatorname{N^{r}}{\\left(r,t \\right)} \\Lambda^{2}{\\left(r,t \\right)} \\frac{\\partial}{\\partial r} \\operatorname{N^{r}}{\\left(r,t \\right)}\\right)}{N^{2}{\\left(t \\right)}} + \\frac{1.0 \\operatorname{N^{r}}{\\left(r,t \\right)} \\Lambda{\\left(r,t \\right)} \\frac{\\partial}{\\partial t} \\Lambda{\\left(r,t \\right)}}{N^{2}{\\left(t \\right)}}\\right) f{\\left(t \\right)} + \\left(- \\frac{0.5 \\left(4 \\operatorname{N^{r}}{\\left(r,t \\right)} \\Lambda{\\left(r,t \\right)} \\frac{\\partial}{\\partial r} \\Lambda{\\left(r,t \\right)} + 2 \\Lambda^{2}{\\left(r,t \\right)} \\frac{\\partial}{\\partial r} \\operatorname{N^{r}}{\\left(r,t \\right)} - 2 \\Lambda{\\left(r,t \\right)} \\frac{\\partial}{\\partial t} \\Lambda{\\left(r,t \\right)}\\right)}{N^{2}{\\left(t \\right)}} + \\frac{1.0 \\operatorname{N^{r}}{\\left(r,t \\right)} \\Lambda{\\left(r,t \\right)} \\frac{\\partial}{\\partial r} \\Lambda{\\left(r,t \\right)}}{N^{2}{\\left(t \\right)}}\\right) g{\\left(t \\right)} & 0 & 0\\\\\\left(\\left(\\frac{0.5}{\\Lambda^{2}{\\left(r,t \\right)}} - \\frac{0.5 \\left(\\operatorname{N^{r}}\\right)^{2}{\\left(r,t \\right)}}{N^{2}{\\left(t \\right)}}\\right) \\left(- 2 \\left(\\operatorname{N^{r}}\\right)^{2}{\\left(r,t \\right)} \\Lambda{\\left(r,t \\right)} \\frac{\\partial}{\\partial r} \\Lambda{\\left(r,t \\right)} - 2 \\operatorname{N^{r}}{\\left(r,t \\right)} \\Lambda^{2}{\\left(r,t \\right)} \\frac{\\partial}{\\partial r} \\operatorname{N^{r}}{\\left(r,t \\right)} + 4 \\operatorname{N^{r}}{\\left(r,t \\right)} \\Lambda{\\left(r,t \\right)} \\frac{\\partial}{\\partial t} \\Lambda{\\left(r,t \\right)} + 2 \\Lambda^{2}{\\left(r,t \\right)} \\frac{\\partial}{\\partial t} \\operatorname{N^{r}}{\\left(r,t \\right)}\\right) + \\frac{0.5 \\left(- 2 N{\\left(t \\right)} \\frac{d}{d t} N{\\left(t \\right)} + 2 \\left(\\operatorname{N^{r}}\\right)^{2}{\\left(r,t \\right)} \\Lambda{\\left(r,t \\right)} \\frac{\\partial}{\\partial t} \\Lambda{\\left(r,t \\right)} + 2 \\operatorname{N^{r}}{\\left(r,t \\right)} \\Lambda^{2}{\\left(r,t \\right)} \\frac{\\partial}{\\partial t} \\operatorname{N^{r}}{\\left(r,t \\right)}\\right) \\operatorname{N^{r}}{\\left(r,t \\right)}}{N^{2}{\\left(t \\right)}}\\right) f{\\left(t \\right)} + \\left(\\frac{0.5 \\left(2 \\left(\\operatorname{N^{r}}\\right)^{2}{\\left(r,t \\right)} \\Lambda{\\left(r,t \\right)} \\frac{\\partial}{\\partial r} \\Lambda{\\left(r,t \\right)} + 2 \\operatorname{N^{r}}{\\left(r,t \\right)} \\Lambda^{2}{\\left(r,t \\right)} \\frac{\\partial}{\\partial r} \\operatorname{N^{r}}{\\left(r,t \\right)}\\right) \\operatorname{N^{r}}{\\left(r,t \\right)}}{N^{2}{\\left(t \\right)}} + 2 \\left(\\frac{0.5}{\\Lambda^{2}{\\left(r,t \\right)}} - \\frac{0.5 \\left(\\operatorname{N^{r}}\\right)^{2}{\\left(r,t \\right)}}{N^{2}{\\left(t \\right)}}\\right) \\Lambda{\\left(r,t \\right)} \\frac{\\partial}{\\partial t} \\Lambda{\\left(r,t \\right)}\\right) g{\\left(t \\right)} + \\frac{d}{d t} g{\\left(t \\right)} & \\left(\\frac{0.5 \\left(2 \\left(\\operatorname{N^{r}}\\right)^{2}{\\left(r,t \\right)} \\Lambda{\\left(r,t \\right)} \\frac{\\partial}{\\partial r} \\Lambda{\\left(r,t \\right)} + 2 \\operatorname{N^{r}}{\\left(r,t \\right)} \\Lambda^{2}{\\left(r,t \\right)} \\frac{\\partial}{\\partial r} \\operatorname{N^{r}}{\\left(r,t \\right)}\\right) \\operatorname{N^{r}}{\\left(r,t \\right)}}{N^{2}{\\left(t \\right)}} + 2 \\left(\\frac{0.5}{\\Lambda^{2}{\\left(r,t \\right)}} - \\frac{0.5 \\left(\\operatorname{N^{r}}\\right)^{2}{\\left(r,t \\right)}}{N^{2}{\\left(t \\right)}}\\right) \\Lambda{\\left(r,t \\right)} \\frac{\\partial}{\\partial t} \\Lambda{\\left(r,t \\right)}\\right) f{\\left(t \\right)} + \\left(2 \\left(\\frac{0.5}{\\Lambda^{2}{\\left(r,t \\right)}} - \\frac{0.5 \\left(\\operatorname{N^{r}}\\right)^{2}{\\left(r,t \\right)}}{N^{2}{\\left(t \\right)}}\\right) \\Lambda{\\left(r,t \\right)} \\frac{\\partial}{\\partial r} \\Lambda{\\left(r,t \\right)} + \\frac{0.5 \\left(4 \\operatorname{N^{r}}{\\left(r,t \\right)} \\Lambda{\\left(r,t \\right)} \\frac{\\partial}{\\partial r} \\Lambda{\\left(r,t \\right)} + 2 \\Lambda^{2}{\\left(r,t \\right)} \\frac{\\partial}{\\partial r} \\operatorname{N^{r}}{\\left(r,t \\right)} - 2 \\Lambda{\\left(r,t \\right)} \\frac{\\partial}{\\partial t} \\Lambda{\\left(r,t \\right)}\\right) \\operatorname{N^{r}}{\\left(r,t \\right)}}{N^{2}{\\left(t \\right)}}\\right) g{\\left(t \\right)} & 0 & 0\\\\0 & 0 & \\frac{1.0 f{\\left(t \\right)} \\frac{\\partial}{\\partial t} R{\\left(r,t \\right)}}{R{\\left(r,t \\right)}} + \\frac{1.0 g{\\left(t \\right)} \\frac{\\partial}{\\partial r} R{\\left(r,t \\right)}}{R{\\left(r,t \\right)}} & 0\\\\0 & 0 & 0 & \\frac{1.0 f{\\left(t \\right)} \\frac{\\partial}{\\partial t} R{\\left(r,t \\right)}}{R{\\left(r,t \\right)}} + \\frac{1.0 g{\\left(t \\right)} \\frac{\\partial}{\\partial r} R{\\left(r,t \\right)}}{R{\\left(r,t \\right)}}\\end{matrix}\\right]$"
      ],
      "text/plain": [
       "Matrix([\n",
       "[                                                                            (-0.5*(2*N^r(r, t)**2*\\Lambda(r, t)*Derivative(\\Lambda(r, t), r) + 2*N^r(r, t)*\\Lambda(r, t)**2*Derivative(N^r(r, t), r))/N(t)**2 + 1.0*N^r(r, t)*\\Lambda(r, t)*Derivative(\\Lambda(r, t), t)/N(t)**2)*g(t) + (-0.5*(-2*N(t)*Derivative(N(t), t) + 2*N^r(r, t)**2*\\Lambda(r, t)*Derivative(\\Lambda(r, t), t) + 2*N^r(r, t)*\\Lambda(r, t)**2*Derivative(N^r(r, t), t))/N(t)**2 + 0.5*(-2*N^r(r, t)**2*\\Lambda(r, t)*Derivative(\\Lambda(r, t), r) - 2*N^r(r, t)*\\Lambda(r, t)**2*Derivative(N^r(r, t), r) + 4*N^r(r, t)*\\Lambda(r, t)*Derivative(\\Lambda(r, t), t) + 2*\\Lambda(r, t)**2*Derivative(N^r(r, t), t))*N^r(r, t)/N(t)**2)*f(t) + Derivative(f(t), t),                                                                               (-0.5*(2*N^r(r, t)**2*\\Lambda(r, t)*Derivative(\\Lambda(r, t), r) + 2*N^r(r, t)*\\Lambda(r, t)**2*Derivative(N^r(r, t), r))/N(t)**2 + 1.0*N^r(r, t)*\\Lambda(r, t)*Derivative(\\Lambda(r, t), t)/N(t)**2)*f(t) + (-0.5*(4*N^r(r, t)*\\Lambda(r, t)*Derivative(\\Lambda(r, t), r) + 2*\\Lambda(r, t)**2*Derivative(N^r(r, t), r) - 2*\\Lambda(r, t)*Derivative(\\Lambda(r, t), t))/N(t)**2 + 1.0*N^r(r, t)*\\Lambda(r, t)*Derivative(\\Lambda(r, t), r)/N(t)**2)*g(t),                                                                                 0,                                                                                 0],\n",
       "[((0.5/\\Lambda(r, t)**2 - 0.5*N^r(r, t)**2/N(t)**2)*(-2*N^r(r, t)**2*\\Lambda(r, t)*Derivative(\\Lambda(r, t), r) - 2*N^r(r, t)*\\Lambda(r, t)**2*Derivative(N^r(r, t), r) + 4*N^r(r, t)*\\Lambda(r, t)*Derivative(\\Lambda(r, t), t) + 2*\\Lambda(r, t)**2*Derivative(N^r(r, t), t)) + 0.5*(-2*N(t)*Derivative(N(t), t) + 2*N^r(r, t)**2*\\Lambda(r, t)*Derivative(\\Lambda(r, t), t) + 2*N^r(r, t)*\\Lambda(r, t)**2*Derivative(N^r(r, t), t))*N^r(r, t)/N(t)**2)*f(t) + (0.5*(2*N^r(r, t)**2*\\Lambda(r, t)*Derivative(\\Lambda(r, t), r) + 2*N^r(r, t)*\\Lambda(r, t)**2*Derivative(N^r(r, t), r))*N^r(r, t)/N(t)**2 + 2*(0.5/\\Lambda(r, t)**2 - 0.5*N^r(r, t)**2/N(t)**2)*\\Lambda(r, t)*Derivative(\\Lambda(r, t), t))*g(t) + Derivative(g(t), t), (0.5*(2*N^r(r, t)**2*\\Lambda(r, t)*Derivative(\\Lambda(r, t), r) + 2*N^r(r, t)*\\Lambda(r, t)**2*Derivative(N^r(r, t), r))*N^r(r, t)/N(t)**2 + 2*(0.5/\\Lambda(r, t)**2 - 0.5*N^r(r, t)**2/N(t)**2)*\\Lambda(r, t)*Derivative(\\Lambda(r, t), t))*f(t) + (2*(0.5/\\Lambda(r, t)**2 - 0.5*N^r(r, t)**2/N(t)**2)*\\Lambda(r, t)*Derivative(\\Lambda(r, t), r) + 0.5*(4*N^r(r, t)*\\Lambda(r, t)*Derivative(\\Lambda(r, t), r) + 2*\\Lambda(r, t)**2*Derivative(N^r(r, t), r) - 2*\\Lambda(r, t)*Derivative(\\Lambda(r, t), t))*N^r(r, t)/N(t)**2)*g(t),                                                                                 0,                                                                                 0],\n",
       "[                                                                                                                                                                                                                                                                                                                                                                                                                                                                                                                                                                                                                                                                                                                                       0,                                                                                                                                                                                                                                                                                                                                                                                                                                                                                                                                       0, 1.0*f(t)*Derivative(R(r, t), t)/R(r, t) + 1.0*g(t)*Derivative(R(r, t), r)/R(r, t),                                                                                 0],\n",
       "[                                                                                                                                                                                                                                                                                                                                                                                                                                                                                                                                                                                                                                                                                                                                       0,                                                                                                                                                                                                                                                                                                                                                                                                                                                                                                                                       0,                                                                                 0, 1.0*f(t)*Derivative(R(r, t), t)/R(r, t) + 1.0*g(t)*Derivative(R(r, t), r)/R(r, t)]])"
      ]
     },
     "metadata": {},
     "output_type": "display_data"
    },
    {
     "data": {
      "text/latex": [
       "$\\displaystyle B_{uv}$"
      ],
      "text/plain": [
       "B_{uv}"
      ]
     },
     "metadata": {},
     "output_type": "display_data"
    },
    {
     "data": {
      "text/latex": [
       "$\\displaystyle \\left[\\begin{matrix}- \\left(\\left(- N^{2}{\\left(t \\right)} + \\left(\\operatorname{N^{r}}\\right)^{2}{\\left(r,t \\right)} \\Lambda^{2}{\\left(r,t \\right)}\\right) f{\\left(t \\right)} + \\operatorname{N^{r}}{\\left(r,t \\right)} \\Lambda^{2}{\\left(r,t \\right)} g{\\left(t \\right)}\\right) \\left(- \\frac{0.5 \\left(- 2 N{\\left(t \\right)} \\frac{d}{d t} N{\\left(t \\right)} + 2 \\left(\\operatorname{N^{r}}\\right)^{2}{\\left(r,t \\right)} \\Lambda{\\left(r,t \\right)} \\frac{\\partial}{\\partial t} \\Lambda{\\left(r,t \\right)} + 2 \\operatorname{N^{r}}{\\left(r,t \\right)} \\Lambda^{2}{\\left(r,t \\right)} \\frac{\\partial}{\\partial t} \\operatorname{N^{r}}{\\left(r,t \\right)}\\right)}{N^{2}{\\left(t \\right)}} + \\frac{0.5 \\left(- 2 \\left(\\operatorname{N^{r}}\\right)^{2}{\\left(r,t \\right)} \\Lambda{\\left(r,t \\right)} \\frac{\\partial}{\\partial r} \\Lambda{\\left(r,t \\right)} - 2 \\operatorname{N^{r}}{\\left(r,t \\right)} \\Lambda^{2}{\\left(r,t \\right)} \\frac{\\partial}{\\partial r} \\operatorname{N^{r}}{\\left(r,t \\right)} + 4 \\operatorname{N^{r}}{\\left(r,t \\right)} \\Lambda{\\left(r,t \\right)} \\frac{\\partial}{\\partial t} \\Lambda{\\left(r,t \\right)} + 2 \\Lambda^{2}{\\left(r,t \\right)} \\frac{\\partial}{\\partial t} \\operatorname{N^{r}}{\\left(r,t \\right)}\\right) \\operatorname{N^{r}}{\\left(r,t \\right)}}{N^{2}{\\left(t \\right)}}\\right) - \\left(\\left(\\frac{0.5}{\\Lambda^{2}{\\left(r,t \\right)}} - \\frac{0.5 \\left(\\operatorname{N^{r}}\\right)^{2}{\\left(r,t \\right)}}{N^{2}{\\left(t \\right)}}\\right) \\left(- 2 \\left(\\operatorname{N^{r}}\\right)^{2}{\\left(r,t \\right)} \\Lambda{\\left(r,t \\right)} \\frac{\\partial}{\\partial r} \\Lambda{\\left(r,t \\right)} - 2 \\operatorname{N^{r}}{\\left(r,t \\right)} \\Lambda^{2}{\\left(r,t \\right)} \\frac{\\partial}{\\partial r} \\operatorname{N^{r}}{\\left(r,t \\right)} + 4 \\operatorname{N^{r}}{\\left(r,t \\right)} \\Lambda{\\left(r,t \\right)} \\frac{\\partial}{\\partial t} \\Lambda{\\left(r,t \\right)} + 2 \\Lambda^{2}{\\left(r,t \\right)} \\frac{\\partial}{\\partial t} \\operatorname{N^{r}}{\\left(r,t \\right)}\\right) + \\frac{0.5 \\left(- 2 N{\\left(t \\right)} \\frac{d}{d t} N{\\left(t \\right)} + 2 \\left(\\operatorname{N^{r}}\\right)^{2}{\\left(r,t \\right)} \\Lambda{\\left(r,t \\right)} \\frac{\\partial}{\\partial t} \\Lambda{\\left(r,t \\right)} + 2 \\operatorname{N^{r}}{\\left(r,t \\right)} \\Lambda^{2}{\\left(r,t \\right)} \\frac{\\partial}{\\partial t} \\operatorname{N^{r}}{\\left(r,t \\right)}\\right) \\operatorname{N^{r}}{\\left(r,t \\right)}}{N^{2}{\\left(t \\right)}}\\right) \\left(\\operatorname{N^{r}}{\\left(r,t \\right)} \\Lambda^{2}{\\left(r,t \\right)} f{\\left(t \\right)} + \\Lambda^{2}{\\left(r,t \\right)} g{\\left(t \\right)}\\right) + \\left(- N^{2}{\\left(t \\right)} + \\left(\\operatorname{N^{r}}\\right)^{2}{\\left(r,t \\right)} \\Lambda^{2}{\\left(r,t \\right)}\\right) \\frac{d}{d t} f{\\left(t \\right)} + \\left(- 2 N{\\left(t \\right)} \\frac{d}{d t} N{\\left(t \\right)} + 2 \\left(\\operatorname{N^{r}}\\right)^{2}{\\left(r,t \\right)} \\Lambda{\\left(r,t \\right)} \\frac{\\partial}{\\partial t} \\Lambda{\\left(r,t \\right)} + 2 \\operatorname{N^{r}}{\\left(r,t \\right)} \\Lambda^{2}{\\left(r,t \\right)} \\frac{\\partial}{\\partial t} \\operatorname{N^{r}}{\\left(r,t \\right)}\\right) f{\\left(t \\right)} + \\operatorname{N^{r}}{\\left(r,t \\right)} \\Lambda^{2}{\\left(r,t \\right)} \\frac{d}{d t} g{\\left(t \\right)} + 2 \\operatorname{N^{r}}{\\left(r,t \\right)} \\Lambda{\\left(r,t \\right)} g{\\left(t \\right)} \\frac{\\partial}{\\partial t} \\Lambda{\\left(r,t \\right)} + \\Lambda^{2}{\\left(r,t \\right)} g{\\left(t \\right)} \\frac{\\partial}{\\partial t} \\operatorname{N^{r}}{\\left(r,t \\right)} & - \\left(- \\frac{0.5 \\left(2 \\left(\\operatorname{N^{r}}\\right)^{2}{\\left(r,t \\right)} \\Lambda{\\left(r,t \\right)} \\frac{\\partial}{\\partial r} \\Lambda{\\left(r,t \\right)} + 2 \\operatorname{N^{r}}{\\left(r,t \\right)} \\Lambda^{2}{\\left(r,t \\right)} \\frac{\\partial}{\\partial r} \\operatorname{N^{r}}{\\left(r,t \\right)}\\right)}{N^{2}{\\left(t \\right)}} + \\frac{1.0 \\operatorname{N^{r}}{\\left(r,t \\right)} \\Lambda{\\left(r,t \\right)} \\frac{\\partial}{\\partial t} \\Lambda{\\left(r,t \\right)}}{N^{2}{\\left(t \\right)}}\\right) \\left(\\left(- N^{2}{\\left(t \\right)} + \\left(\\operatorname{N^{r}}\\right)^{2}{\\left(r,t \\right)} \\Lambda^{2}{\\left(r,t \\right)}\\right) f{\\left(t \\right)} + \\operatorname{N^{r}}{\\left(r,t \\right)} \\Lambda^{2}{\\left(r,t \\right)} g{\\left(t \\right)}\\right) - \\left(\\frac{0.5 \\left(2 \\left(\\operatorname{N^{r}}\\right)^{2}{\\left(r,t \\right)} \\Lambda{\\left(r,t \\right)} \\frac{\\partial}{\\partial r} \\Lambda{\\left(r,t \\right)} + 2 \\operatorname{N^{r}}{\\left(r,t \\right)} \\Lambda^{2}{\\left(r,t \\right)} \\frac{\\partial}{\\partial r} \\operatorname{N^{r}}{\\left(r,t \\right)}\\right) \\operatorname{N^{r}}{\\left(r,t \\right)}}{N^{2}{\\left(t \\right)}} + 2 \\left(\\frac{0.5}{\\Lambda^{2}{\\left(r,t \\right)}} - \\frac{0.5 \\left(\\operatorname{N^{r}}\\right)^{2}{\\left(r,t \\right)}}{N^{2}{\\left(t \\right)}}\\right) \\Lambda{\\left(r,t \\right)} \\frac{\\partial}{\\partial t} \\Lambda{\\left(r,t \\right)}\\right) \\left(\\operatorname{N^{r}}{\\left(r,t \\right)} \\Lambda^{2}{\\left(r,t \\right)} f{\\left(t \\right)} + \\Lambda^{2}{\\left(r,t \\right)} g{\\left(t \\right)}\\right) + \\left(2 \\left(\\operatorname{N^{r}}\\right)^{2}{\\left(r,t \\right)} \\Lambda{\\left(r,t \\right)} \\frac{\\partial}{\\partial r} \\Lambda{\\left(r,t \\right)} + 2 \\operatorname{N^{r}}{\\left(r,t \\right)} \\Lambda^{2}{\\left(r,t \\right)} \\frac{\\partial}{\\partial r} \\operatorname{N^{r}}{\\left(r,t \\right)}\\right) f{\\left(t \\right)} + 2 \\operatorname{N^{r}}{\\left(r,t \\right)} \\Lambda{\\left(r,t \\right)} g{\\left(t \\right)} \\frac{\\partial}{\\partial r} \\Lambda{\\left(r,t \\right)} + \\Lambda^{2}{\\left(r,t \\right)} g{\\left(t \\right)} \\frac{\\partial}{\\partial r} \\operatorname{N^{r}}{\\left(r,t \\right)} & 0 & 0\\\\- \\left(- \\frac{0.5 \\left(2 \\left(\\operatorname{N^{r}}\\right)^{2}{\\left(r,t \\right)} \\Lambda{\\left(r,t \\right)} \\frac{\\partial}{\\partial r} \\Lambda{\\left(r,t \\right)} + 2 \\operatorname{N^{r}}{\\left(r,t \\right)} \\Lambda^{2}{\\left(r,t \\right)} \\frac{\\partial}{\\partial r} \\operatorname{N^{r}}{\\left(r,t \\right)}\\right)}{N^{2}{\\left(t \\right)}} + \\frac{1.0 \\operatorname{N^{r}}{\\left(r,t \\right)} \\Lambda{\\left(r,t \\right)} \\frac{\\partial}{\\partial t} \\Lambda{\\left(r,t \\right)}}{N^{2}{\\left(t \\right)}}\\right) \\left(\\left(- N^{2}{\\left(t \\right)} + \\left(\\operatorname{N^{r}}\\right)^{2}{\\left(r,t \\right)} \\Lambda^{2}{\\left(r,t \\right)}\\right) f{\\left(t \\right)} + \\operatorname{N^{r}}{\\left(r,t \\right)} \\Lambda^{2}{\\left(r,t \\right)} g{\\left(t \\right)}\\right) - \\left(\\frac{0.5 \\left(2 \\left(\\operatorname{N^{r}}\\right)^{2}{\\left(r,t \\right)} \\Lambda{\\left(r,t \\right)} \\frac{\\partial}{\\partial r} \\Lambda{\\left(r,t \\right)} + 2 \\operatorname{N^{r}}{\\left(r,t \\right)} \\Lambda^{2}{\\left(r,t \\right)} \\frac{\\partial}{\\partial r} \\operatorname{N^{r}}{\\left(r,t \\right)}\\right) \\operatorname{N^{r}}{\\left(r,t \\right)}}{N^{2}{\\left(t \\right)}} + 2 \\left(\\frac{0.5}{\\Lambda^{2}{\\left(r,t \\right)}} - \\frac{0.5 \\left(\\operatorname{N^{r}}\\right)^{2}{\\left(r,t \\right)}}{N^{2}{\\left(t \\right)}}\\right) \\Lambda{\\left(r,t \\right)} \\frac{\\partial}{\\partial t} \\Lambda{\\left(r,t \\right)}\\right) \\left(\\operatorname{N^{r}}{\\left(r,t \\right)} \\Lambda^{2}{\\left(r,t \\right)} f{\\left(t \\right)} + \\Lambda^{2}{\\left(r,t \\right)} g{\\left(t \\right)}\\right) + \\operatorname{N^{r}}{\\left(r,t \\right)} \\Lambda^{2}{\\left(r,t \\right)} \\frac{d}{d t} f{\\left(t \\right)} + 2 \\operatorname{N^{r}}{\\left(r,t \\right)} \\Lambda{\\left(r,t \\right)} f{\\left(t \\right)} \\frac{\\partial}{\\partial t} \\Lambda{\\left(r,t \\right)} + \\Lambda^{2}{\\left(r,t \\right)} f{\\left(t \\right)} \\frac{\\partial}{\\partial t} \\operatorname{N^{r}}{\\left(r,t \\right)} + \\Lambda^{2}{\\left(r,t \\right)} \\frac{d}{d t} g{\\left(t \\right)} + 2 \\Lambda{\\left(r,t \\right)} g{\\left(t \\right)} \\frac{\\partial}{\\partial t} \\Lambda{\\left(r,t \\right)} & - \\left(\\left(- N^{2}{\\left(t \\right)} + \\left(\\operatorname{N^{r}}\\right)^{2}{\\left(r,t \\right)} \\Lambda^{2}{\\left(r,t \\right)}\\right) f{\\left(t \\right)} + \\operatorname{N^{r}}{\\left(r,t \\right)} \\Lambda^{2}{\\left(r,t \\right)} g{\\left(t \\right)}\\right) \\left(- \\frac{0.5 \\left(4 \\operatorname{N^{r}}{\\left(r,t \\right)} \\Lambda{\\left(r,t \\right)} \\frac{\\partial}{\\partial r} \\Lambda{\\left(r,t \\right)} + 2 \\Lambda^{2}{\\left(r,t \\right)} \\frac{\\partial}{\\partial r} \\operatorname{N^{r}}{\\left(r,t \\right)} - 2 \\Lambda{\\left(r,t \\right)} \\frac{\\partial}{\\partial t} \\Lambda{\\left(r,t \\right)}\\right)}{N^{2}{\\left(t \\right)}} + \\frac{1.0 \\operatorname{N^{r}}{\\left(r,t \\right)} \\Lambda{\\left(r,t \\right)} \\frac{\\partial}{\\partial r} \\Lambda{\\left(r,t \\right)}}{N^{2}{\\left(t \\right)}}\\right) - \\left(2 \\left(\\frac{0.5}{\\Lambda^{2}{\\left(r,t \\right)}} - \\frac{0.5 \\left(\\operatorname{N^{r}}\\right)^{2}{\\left(r,t \\right)}}{N^{2}{\\left(t \\right)}}\\right) \\Lambda{\\left(r,t \\right)} \\frac{\\partial}{\\partial r} \\Lambda{\\left(r,t \\right)} + \\frac{0.5 \\left(4 \\operatorname{N^{r}}{\\left(r,t \\right)} \\Lambda{\\left(r,t \\right)} \\frac{\\partial}{\\partial r} \\Lambda{\\left(r,t \\right)} + 2 \\Lambda^{2}{\\left(r,t \\right)} \\frac{\\partial}{\\partial r} \\operatorname{N^{r}}{\\left(r,t \\right)} - 2 \\Lambda{\\left(r,t \\right)} \\frac{\\partial}{\\partial t} \\Lambda{\\left(r,t \\right)}\\right) \\operatorname{N^{r}}{\\left(r,t \\right)}}{N^{2}{\\left(t \\right)}}\\right) \\left(\\operatorname{N^{r}}{\\left(r,t \\right)} \\Lambda^{2}{\\left(r,t \\right)} f{\\left(t \\right)} + \\Lambda^{2}{\\left(r,t \\right)} g{\\left(t \\right)}\\right) + 2 \\operatorname{N^{r}}{\\left(r,t \\right)} \\Lambda{\\left(r,t \\right)} f{\\left(t \\right)} \\frac{\\partial}{\\partial r} \\Lambda{\\left(r,t \\right)} + \\Lambda^{2}{\\left(r,t \\right)} f{\\left(t \\right)} \\frac{\\partial}{\\partial r} \\operatorname{N^{r}}{\\left(r,t \\right)} + 2 \\Lambda{\\left(r,t \\right)} g{\\left(t \\right)} \\frac{\\partial}{\\partial r} \\Lambda{\\left(r,t \\right)} & 0 & 0\\\\0 & 0 & - \\left(\\left(- N^{2}{\\left(t \\right)} + \\left(\\operatorname{N^{r}}\\right)^{2}{\\left(r,t \\right)} \\Lambda^{2}{\\left(r,t \\right)}\\right) f{\\left(t \\right)} + \\operatorname{N^{r}}{\\left(r,t \\right)} \\Lambda^{2}{\\left(r,t \\right)} g{\\left(t \\right)}\\right) \\left(- \\frac{1.0 \\operatorname{N^{r}}{\\left(r,t \\right)} R{\\left(r,t \\right)} \\frac{\\partial}{\\partial r} R{\\left(r,t \\right)}}{N^{2}{\\left(t \\right)}} + \\frac{1.0 R{\\left(r,t \\right)} \\frac{\\partial}{\\partial t} R{\\left(r,t \\right)}}{N^{2}{\\left(t \\right)}}\\right) - \\left(- 2 \\left(\\frac{0.5}{\\Lambda^{2}{\\left(r,t \\right)}} - \\frac{0.5 \\left(\\operatorname{N^{r}}\\right)^{2}{\\left(r,t \\right)}}{N^{2}{\\left(t \\right)}}\\right) R{\\left(r,t \\right)} \\frac{\\partial}{\\partial r} R{\\left(r,t \\right)} - \\frac{1.0 \\operatorname{N^{r}}{\\left(r,t \\right)} R{\\left(r,t \\right)} \\frac{\\partial}{\\partial t} R{\\left(r,t \\right)}}{N^{2}{\\left(t \\right)}}\\right) \\left(\\operatorname{N^{r}}{\\left(r,t \\right)} \\Lambda^{2}{\\left(r,t \\right)} f{\\left(t \\right)} + \\Lambda^{2}{\\left(r,t \\right)} g{\\left(t \\right)}\\right) & 0\\\\0 & 0 & 0 & - \\left(\\left(- N^{2}{\\left(t \\right)} + \\left(\\operatorname{N^{r}}\\right)^{2}{\\left(r,t \\right)} \\Lambda^{2}{\\left(r,t \\right)}\\right) f{\\left(t \\right)} + \\operatorname{N^{r}}{\\left(r,t \\right)} \\Lambda^{2}{\\left(r,t \\right)} g{\\left(t \\right)}\\right) \\left(- \\frac{1.0 \\operatorname{N^{r}}{\\left(r,t \\right)} R{\\left(r,t \\right)} \\sin^{2}{\\left(\\theta \\right)} \\frac{\\partial}{\\partial r} R{\\left(r,t \\right)}}{N^{2}{\\left(t \\right)}} + \\frac{1.0 R{\\left(r,t \\right)} \\sin^{2}{\\left(\\theta \\right)} \\frac{\\partial}{\\partial t} R{\\left(r,t \\right)}}{N^{2}{\\left(t \\right)}}\\right) - \\left(\\operatorname{N^{r}}{\\left(r,t \\right)} \\Lambda^{2}{\\left(r,t \\right)} f{\\left(t \\right)} + \\Lambda^{2}{\\left(r,t \\right)} g{\\left(t \\right)}\\right) \\left(- 2 \\left(\\frac{0.5}{\\Lambda^{2}{\\left(r,t \\right)}} - \\frac{0.5 \\left(\\operatorname{N^{r}}\\right)^{2}{\\left(r,t \\right)}}{N^{2}{\\left(t \\right)}}\\right) R{\\left(r,t \\right)} \\sin^{2}{\\left(\\theta \\right)} \\frac{\\partial}{\\partial r} R{\\left(r,t \\right)} - \\frac{1.0 \\operatorname{N^{r}}{\\left(r,t \\right)} R{\\left(r,t \\right)} \\sin^{2}{\\left(\\theta \\right)} \\frac{\\partial}{\\partial t} R{\\left(r,t \\right)}}{N^{2}{\\left(t \\right)}}\\right)\\end{matrix}\\right]$"
      ],
      "text/plain": [
       "Matrix([\n",
       "[-((-N(t)**2 + N^r(r, t)**2*\\Lambda(r, t)**2)*f(t) + N^r(r, t)*\\Lambda(r, t)**2*g(t))*(-0.5*(-2*N(t)*Derivative(N(t), t) + 2*N^r(r, t)**2*\\Lambda(r, t)*Derivative(\\Lambda(r, t), t) + 2*N^r(r, t)*\\Lambda(r, t)**2*Derivative(N^r(r, t), t))/N(t)**2 + 0.5*(-2*N^r(r, t)**2*\\Lambda(r, t)*Derivative(\\Lambda(r, t), r) - 2*N^r(r, t)*\\Lambda(r, t)**2*Derivative(N^r(r, t), r) + 4*N^r(r, t)*\\Lambda(r, t)*Derivative(\\Lambda(r, t), t) + 2*\\Lambda(r, t)**2*Derivative(N^r(r, t), t))*N^r(r, t)/N(t)**2) - ((0.5/\\Lambda(r, t)**2 - 0.5*N^r(r, t)**2/N(t)**2)*(-2*N^r(r, t)**2*\\Lambda(r, t)*Derivative(\\Lambda(r, t), r) - 2*N^r(r, t)*\\Lambda(r, t)**2*Derivative(N^r(r, t), r) + 4*N^r(r, t)*\\Lambda(r, t)*Derivative(\\Lambda(r, t), t) + 2*\\Lambda(r, t)**2*Derivative(N^r(r, t), t)) + 0.5*(-2*N(t)*Derivative(N(t), t) + 2*N^r(r, t)**2*\\Lambda(r, t)*Derivative(\\Lambda(r, t), t) + 2*N^r(r, t)*\\Lambda(r, t)**2*Derivative(N^r(r, t), t))*N^r(r, t)/N(t)**2)*(N^r(r, t)*\\Lambda(r, t)**2*f(t) + \\Lambda(r, t)**2*g(t)) + (-N(t)**2 + N^r(r, t)**2*\\Lambda(r, t)**2)*Derivative(f(t), t) + (-2*N(t)*Derivative(N(t), t) + 2*N^r(r, t)**2*\\Lambda(r, t)*Derivative(\\Lambda(r, t), t) + 2*N^r(r, t)*\\Lambda(r, t)**2*Derivative(N^r(r, t), t))*f(t) + N^r(r, t)*\\Lambda(r, t)**2*Derivative(g(t), t) + 2*N^r(r, t)*\\Lambda(r, t)*g(t)*Derivative(\\Lambda(r, t), t) + \\Lambda(r, t)**2*g(t)*Derivative(N^r(r, t), t), -(-0.5*(2*N^r(r, t)**2*\\Lambda(r, t)*Derivative(\\Lambda(r, t), r) + 2*N^r(r, t)*\\Lambda(r, t)**2*Derivative(N^r(r, t), r))/N(t)**2 + 1.0*N^r(r, t)*\\Lambda(r, t)*Derivative(\\Lambda(r, t), t)/N(t)**2)*((-N(t)**2 + N^r(r, t)**2*\\Lambda(r, t)**2)*f(t) + N^r(r, t)*\\Lambda(r, t)**2*g(t)) - (0.5*(2*N^r(r, t)**2*\\Lambda(r, t)*Derivative(\\Lambda(r, t), r) + 2*N^r(r, t)*\\Lambda(r, t)**2*Derivative(N^r(r, t), r))*N^r(r, t)/N(t)**2 + 2*(0.5/\\Lambda(r, t)**2 - 0.5*N^r(r, t)**2/N(t)**2)*\\Lambda(r, t)*Derivative(\\Lambda(r, t), t))*(N^r(r, t)*\\Lambda(r, t)**2*f(t) + \\Lambda(r, t)**2*g(t)) + (2*N^r(r, t)**2*\\Lambda(r, t)*Derivative(\\Lambda(r, t), r) + 2*N^r(r, t)*\\Lambda(r, t)**2*Derivative(N^r(r, t), r))*f(t) + 2*N^r(r, t)*\\Lambda(r, t)*g(t)*Derivative(\\Lambda(r, t), r) + \\Lambda(r, t)**2*g(t)*Derivative(N^r(r, t), r),                                                                                                                                                                                                                                                                                                                                                                                                  0,                                                                                                                                                                                                                                                                                                                                                                                                                                                              0],\n",
       "[                                                                                                                                                                                                                                                                                                                                                                                                                                                                                                                                                           -(-0.5*(2*N^r(r, t)**2*\\Lambda(r, t)*Derivative(\\Lambda(r, t), r) + 2*N^r(r, t)*\\Lambda(r, t)**2*Derivative(N^r(r, t), r))/N(t)**2 + 1.0*N^r(r, t)*\\Lambda(r, t)*Derivative(\\Lambda(r, t), t)/N(t)**2)*((-N(t)**2 + N^r(r, t)**2*\\Lambda(r, t)**2)*f(t) + N^r(r, t)*\\Lambda(r, t)**2*g(t)) - (0.5*(2*N^r(r, t)**2*\\Lambda(r, t)*Derivative(\\Lambda(r, t), r) + 2*N^r(r, t)*\\Lambda(r, t)**2*Derivative(N^r(r, t), r))*N^r(r, t)/N(t)**2 + 2*(0.5/\\Lambda(r, t)**2 - 0.5*N^r(r, t)**2/N(t)**2)*\\Lambda(r, t)*Derivative(\\Lambda(r, t), t))*(N^r(r, t)*\\Lambda(r, t)**2*f(t) + \\Lambda(r, t)**2*g(t)) + N^r(r, t)*\\Lambda(r, t)**2*Derivative(f(t), t) + 2*N^r(r, t)*\\Lambda(r, t)*f(t)*Derivative(\\Lambda(r, t), t) + \\Lambda(r, t)**2*f(t)*Derivative(N^r(r, t), t) + \\Lambda(r, t)**2*Derivative(g(t), t) + 2*\\Lambda(r, t)*g(t)*Derivative(\\Lambda(r, t), t),    -((-N(t)**2 + N^r(r, t)**2*\\Lambda(r, t)**2)*f(t) + N^r(r, t)*\\Lambda(r, t)**2*g(t))*(-0.5*(4*N^r(r, t)*\\Lambda(r, t)*Derivative(\\Lambda(r, t), r) + 2*\\Lambda(r, t)**2*Derivative(N^r(r, t), r) - 2*\\Lambda(r, t)*Derivative(\\Lambda(r, t), t))/N(t)**2 + 1.0*N^r(r, t)*\\Lambda(r, t)*Derivative(\\Lambda(r, t), r)/N(t)**2) - (2*(0.5/\\Lambda(r, t)**2 - 0.5*N^r(r, t)**2/N(t)**2)*\\Lambda(r, t)*Derivative(\\Lambda(r, t), r) + 0.5*(4*N^r(r, t)*\\Lambda(r, t)*Derivative(\\Lambda(r, t), r) + 2*\\Lambda(r, t)**2*Derivative(N^r(r, t), r) - 2*\\Lambda(r, t)*Derivative(\\Lambda(r, t), t))*N^r(r, t)/N(t)**2)*(N^r(r, t)*\\Lambda(r, t)**2*f(t) + \\Lambda(r, t)**2*g(t)) + 2*N^r(r, t)*\\Lambda(r, t)*f(t)*Derivative(\\Lambda(r, t), r) + \\Lambda(r, t)**2*f(t)*Derivative(N^r(r, t), r) + 2*\\Lambda(r, t)*g(t)*Derivative(\\Lambda(r, t), r),                                                                                                                                                                                                                                                                                                                                                                                                  0,                                                                                                                                                                                                                                                                                                                                                                                                                                                              0],\n",
       "[                                                                                                                                                                                                                                                                                                                                                                                                                                                                                                                                                                                                                                                                                                                                                                                                                                                                                                                                                                                                                                                                                                                                                                                                                                                                                                                                                                                                                        0,                                                                                                                                                                                                                                                                                                                                                                                                                                                                                                                                                                                                                                                                                                                                                                                                                                             0, -((-N(t)**2 + N^r(r, t)**2*\\Lambda(r, t)**2)*f(t) + N^r(r, t)*\\Lambda(r, t)**2*g(t))*(-1.0*N^r(r, t)*R(r, t)*Derivative(R(r, t), r)/N(t)**2 + 1.0*R(r, t)*Derivative(R(r, t), t)/N(t)**2) - (-2*(0.5/\\Lambda(r, t)**2 - 0.5*N^r(r, t)**2/N(t)**2)*R(r, t)*Derivative(R(r, t), r) - 1.0*N^r(r, t)*R(r, t)*Derivative(R(r, t), t)/N(t)**2)*(N^r(r, t)*\\Lambda(r, t)**2*f(t) + \\Lambda(r, t)**2*g(t)),                                                                                                                                                                                                                                                                                                                                                                                                                                                              0],\n",
       "[                                                                                                                                                                                                                                                                                                                                                                                                                                                                                                                                                                                                                                                                                                                                                                                                                                                                                                                                                                                                                                                                                                                                                                                                                                                                                                                                                                                                                        0,                                                                                                                                                                                                                                                                                                                                                                                                                                                                                                                                                                                                                                                                                                                                                                                                                                             0,                                                                                                                                                                                                                                                                                                                                                                                                  0, -((-N(t)**2 + N^r(r, t)**2*\\Lambda(r, t)**2)*f(t) + N^r(r, t)*\\Lambda(r, t)**2*g(t))*(-1.0*N^r(r, t)*R(r, t)*sin(\\theta)**2*Derivative(R(r, t), r)/N(t)**2 + 1.0*R(r, t)*sin(\\theta)**2*Derivative(R(r, t), t)/N(t)**2) - (N^r(r, t)*\\Lambda(r, t)**2*f(t) + \\Lambda(r, t)**2*g(t))*(-2*(0.5/\\Lambda(r, t)**2 - 0.5*N^r(r, t)**2/N(t)**2)*R(r, t)*sin(\\theta)**2*Derivative(R(r, t), r) - 1.0*N^r(r, t)*R(r, t)*sin(\\theta)**2*Derivative(R(r, t), t)/N(t)**2)]])"
      ]
     },
     "metadata": {},
     "output_type": "display_data"
    }
   ],
   "source": [
    "t1 = Function('f')(t)\n",
    "r1 = Function('g')(t)\n",
    "x1 = Matrix([t1,r1,0,0])\n",
    "display(x1)\n",
    "\n",
    "# from equation 1:\n",
    "def covariant_derivative_eq1(C,xlist,x1):\n",
    "    D = Matrix(np.zeros((4,)*2))\n",
    "    for i in range (4):\n",
    "        for j in range (4):\n",
    "            tmp = 0 \n",
    "            for k in range(4):\n",
    "                tmp = tmp + C[j,i,k]*x1[k]\n",
    "                D[i,j]=diff(x1[j],xlist[0][i]) + tmp \n",
    "    return D.transpose()\n",
    "\n",
    "B_mu_nu = symbols('B^{u}_{v}')\n",
    "display(B_mu_nu)\n",
    "display( covariant_derivative_eq1(C,xlist,x1) )\n",
    "\n",
    "# from equation 2\n",
    "def covariant_derivative_eq2(C,xlist,x1):\n",
    "    D = Matrix(np.zeros((4,)*2))\n",
    "    for i in range (4):\n",
    "        for j in range (4):\n",
    "            tmp = 0\n",
    "            for k in range (4):\n",
    "                tmp = tmp + C[k,i,j]*x1[k]\n",
    "                D[i,j]=diff(x1[j],xlist[0][i]) - tmp\n",
    "    return D.transpose()\n",
    "\n",
    "\n",
    "B_mu_nu_down = symbols('B_{uv}')\n",
    "display(B_mu_nu_down)\n",
    "# going from upper index to down index\n",
    "# calling the down function \n",
    "x1_down = down(g_down,x1)\n",
    "display( covariant_derivative_eq2(C,xlist,x1_down))\n",
    "\n",
    "\n"
   ]
  },
  {
   "cell_type": "markdown",
   "id": "c3c4449e",
   "metadata": {},
   "source": [
    "#### Finding component of tangent vector \n"
   ]
  },
  {
   "cell_type": "code",
   "execution_count": 14,
   "id": "e7f90af8",
   "metadata": {},
   "outputs": [
    {
     "name": "stdout",
     "output_type": "stream",
     "text": [
      "Then we have for U:\n"
     ]
    },
    {
     "data": {
      "text/latex": [
       "$\\displaystyle \\left[\\begin{matrix}\\operatorname{u_{0}}{\\left(t \\right)}\\\\\\operatorname{u_{1}}{\\left(t \\right)}\\\\0\\\\0\\end{matrix}\\right]$"
      ],
      "text/plain": [
       "Matrix([\n",
       "[u_0(t)],\n",
       "[u_1(t)],\n",
       "[     0],\n",
       "[     0]])"
      ]
     },
     "metadata": {},
     "output_type": "display_data"
    },
    {
     "name": "stdout",
     "output_type": "stream",
     "text": [
      "The Contraction:\n"
     ]
    },
    {
     "data": {
      "text/latex": [
       "$\\displaystyle g_{uv}U^{u}U{v}$"
      ],
      "text/plain": [
       "g_{uv}U^{u}U{v}"
      ]
     },
     "metadata": {},
     "output_type": "display_data"
    },
    {
     "name": "stdout",
     "output_type": "stream",
     "text": [
      "yield a value of:\n"
     ]
    },
    {
     "data": {
      "text/latex": [
       "$\\displaystyle \\left(\\left(- N^{2}{\\left(t \\right)} + \\left(\\operatorname{N^{r}}\\right)^{2}{\\left(r,t \\right)} \\Lambda^{2}{\\left(r,t \\right)}\\right) \\operatorname{u_{0}}{\\left(t \\right)} + \\operatorname{N^{r}}{\\left(r,t \\right)} \\Lambda^{2}{\\left(r,t \\right)} \\operatorname{u_{1}}{\\left(t \\right)}\\right) \\operatorname{u_{0}}{\\left(t \\right)} + \\left(\\operatorname{N^{r}}{\\left(r,t \\right)} \\Lambda^{2}{\\left(r,t \\right)} \\operatorname{u_{0}}{\\left(t \\right)} + \\Lambda^{2}{\\left(r,t \\right)} \\operatorname{u_{1}}{\\left(t \\right)}\\right) \\operatorname{u_{1}}{\\left(t \\right)}$"
      ],
      "text/plain": [
       "((-N(t)**2 + N^r(r, t)**2*\\Lambda(r, t)**2)*u_0(t) + N^r(r, t)*\\Lambda(r, t)**2*u_1(t))*u_0(t) + (N^r(r, t)*\\Lambda(r, t)**2*u_0(t) + \\Lambda(r, t)**2*u_1(t))*u_1(t)"
      ]
     },
     "metadata": {},
     "output_type": "display_data"
    },
    {
     "name": "stdout",
     "output_type": "stream",
     "text": [
      "Choosing a normalization of -1 yields:\n"
     ]
    },
    {
     "data": {
      "text/latex": [
       "$\\displaystyle g_{uv}U^{u}U{v} = -1$"
      ],
      "text/plain": [
       "Eq(g_{uv}U^{u}U{v}, -1)"
      ]
     },
     "metadata": {},
     "output_type": "display_data"
    },
    {
     "data": {
      "text/latex": [
       "$\\displaystyle \\operatorname{u_{1}}{\\left(t \\right)} = - \\frac{\\sqrt{N^{2}{\\left(t \\right)} \\operatorname{u_{0}}^{2}{\\left(t \\right)} - 1}}{\\Lambda{\\left(r,t \\right)}} - \\operatorname{N^{r}}{\\left(r,t \\right)} \\operatorname{u_{0}}{\\left(t \\right)}$"
      ],
      "text/plain": [
       "Eq(u_1(t), -sqrt(N(t)**2*u_0(t)**2 - 1)/\\Lambda(r, t) - N^r(r, t)*u_0(t))"
      ]
     },
     "metadata": {},
     "output_type": "display_data"
    },
    {
     "data": {
      "text/latex": [
       "$\\displaystyle U^{u}$"
      ],
      "text/plain": [
       "U^{u}"
      ]
     },
     "metadata": {},
     "output_type": "display_data"
    },
    {
     "data": {
      "text/latex": [
       "$\\displaystyle \\left[\\begin{matrix}\\frac{1}{N{\\left(t \\right)}}\\\\- \\frac{\\operatorname{N^{r}}{\\left(r,t \\right)}}{N{\\left(t \\right)}}\\\\0\\\\0\\end{matrix}\\right]$"
      ],
      "text/plain": [
       "Matrix([\n",
       "[         1/N(t)],\n",
       "[-N^r(r, t)/N(t)],\n",
       "[              0],\n",
       "[              0]])"
      ]
     },
     "metadata": {},
     "output_type": "display_data"
    }
   ],
   "source": [
    "\n",
    "u0=Function('u_0')(t)\n",
    "u1 = Function('u_1')(t)\n",
    "print('Then we have for U:')\n",
    "\n",
    "# contraction of U\n",
    "U = Matrix([u0,u1,0,0])\n",
    "display(U)\n",
    "print('The Contraction:')\n",
    "# U mu \n",
    "U_mu = symbols('g_{uv}U^{u}U{v}')\n",
    "display(U_mu)\n",
    "\n",
    "# changing up index to down index:\n",
    "contraction = (down(g_down,U)*U)[0]\n",
    "print('yield a value of:')\n",
    "display(contraction)\n",
    "\n",
    "# choose normalization\n",
    "normalization = -1\n",
    "print('Choosing a normalization of', normalization, 'yields:')\n",
    "display(Eq(U_mu,normalization))\n",
    "\n",
    "# computing \n",
    "tmp = contraction-normalization\n",
    "tmp1 = solve(tmp,u1)\n",
    "display(Eq(u1,tmp1[0]))\n",
    "\n",
    "# Final U vector\n",
    "arbitrary_u0 = 1/N\n",
    "# substitute u0 with arbitrary u0=1/N\n",
    "U_mu = symbols('U^{u}')\n",
    "display(U_mu)\n",
    "U_mu_up= simplify(Matrix([u0,tmp1[0],0,0]).subs(u0,arbitrary_u0))\n",
    "display(U_mu_up)\n"
   ]
  },
  {
   "cell_type": "markdown",
   "id": "a8857a96",
   "metadata": {},
   "source": [
    "# d)"
   ]
  },
  {
   "cell_type": "code",
   "execution_count": 15,
   "id": "44f1a275",
   "metadata": {},
   "outputs": [
    {
     "data": {
      "text/latex": [
       "$\\displaystyle g_{uv}$"
      ],
      "text/plain": [
       "g_{uv}"
      ]
     },
     "metadata": {},
     "output_type": "display_data"
    },
    {
     "data": {
      "text/latex": [
       "$\\displaystyle \\left[\\begin{matrix}- N^{2}{\\left(t \\right)} + \\left(\\operatorname{N^{r}}\\right)^{2}{\\left(r,t \\right)} \\Lambda^{2}{\\left(r,t \\right)} & \\operatorname{N^{r}}{\\left(r,t \\right)} \\Lambda^{2}{\\left(r,t \\right)} & 0 & 0\\\\\\operatorname{N^{r}}{\\left(r,t \\right)} \\Lambda^{2}{\\left(r,t \\right)} & \\Lambda^{2}{\\left(r,t \\right)} & 0 & 0\\\\0 & 0 & R^{2}{\\left(r,t \\right)} & 0\\\\0 & 0 & 0 & R^{2}{\\left(r,t \\right)} \\sin^{2}{\\left(\\theta \\right)}\\end{matrix}\\right]$"
      ],
      "text/plain": [
       "Matrix([\n",
       "[-N(t)**2 + N^r(r, t)**2*\\Lambda(r, t)**2, N^r(r, t)*\\Lambda(r, t)**2,          0,                         0],\n",
       "[              N^r(r, t)*\\Lambda(r, t)**2,           \\Lambda(r, t)**2,          0,                         0],\n",
       "[                                       0,                          0, R(r, t)**2,                         0],\n",
       "[                                       0,                          0,          0, R(r, t)**2*sin(\\theta)**2]])"
      ]
     },
     "metadata": {},
     "output_type": "display_data"
    },
    {
     "data": {
      "text/latex": [
       "$\\displaystyle U^{u}$"
      ],
      "text/plain": [
       "U^{u}"
      ]
     },
     "metadata": {},
     "output_type": "display_data"
    },
    {
     "data": {
      "text/latex": [
       "$\\displaystyle \\left[\\begin{matrix}\\frac{1}{N{\\left(t \\right)}}\\\\- \\frac{\\operatorname{N^{r}}{\\left(r,t \\right)}}{N{\\left(t \\right)}}\\\\0\\\\0\\end{matrix}\\right]$"
      ],
      "text/plain": [
       "Matrix([\n",
       "[         1/N(t)],\n",
       "[-N^r(r, t)/N(t)],\n",
       "[              0],\n",
       "[              0]])"
      ]
     },
     "metadata": {},
     "output_type": "display_data"
    },
    {
     "data": {
      "text/latex": [
       "$\\displaystyle U_{u}$"
      ],
      "text/plain": [
       "U_{u}"
      ]
     },
     "metadata": {},
     "output_type": "display_data"
    },
    {
     "data": {
      "text/latex": [
       "$\\displaystyle \\left[\\begin{matrix}\\frac{- N^{2}{\\left(t \\right)} + \\left(\\operatorname{N^{r}}\\right)^{2}{\\left(r,t \\right)} \\Lambda^{2}{\\left(r,t \\right)}}{N{\\left(t \\right)}} - \\frac{\\left(\\operatorname{N^{r}}\\right)^{2}{\\left(r,t \\right)} \\Lambda^{2}{\\left(r,t \\right)}}{N{\\left(t \\right)}} & 0 & 0 & 0\\end{matrix}\\right]$"
      ],
      "text/plain": [
       "Matrix([[(-N(t)**2 + N^r(r, t)**2*\\Lambda(r, t)**2)/N(t) - N^r(r, t)**2*\\Lambda(r, t)**2/N(t), 0, 0, 0]])"
      ]
     },
     "metadata": {},
     "output_type": "display_data"
    },
    {
     "data": {
      "text/latex": [
       "$\\displaystyle U^{v}$"
      ],
      "text/plain": [
       "U^{v}"
      ]
     },
     "metadata": {},
     "output_type": "display_data"
    },
    {
     "data": {
      "text/latex": [
       "$\\displaystyle \\left[\\begin{matrix}\\frac{1}{N{\\left(t \\right)}} & - \\frac{\\operatorname{N^{r}}{\\left(r,t \\right)}}{N{\\left(t \\right)}} & 0 & 0\\end{matrix}\\right]$"
      ],
      "text/plain": [
       "Matrix([[1/N(t), -N^r(r, t)/N(t), 0, 0]])"
      ]
     },
     "metadata": {},
     "output_type": "display_data"
    },
    {
     "data": {
      "text/latex": [
       "$\\displaystyle U_{v}$"
      ],
      "text/plain": [
       "U_{v}"
      ]
     },
     "metadata": {},
     "output_type": "display_data"
    },
    {
     "data": {
      "text/latex": [
       "$\\displaystyle \\left[\\begin{matrix}\\frac{- N^{2}{\\left(t \\right)} + \\left(\\operatorname{N^{r}}\\right)^{2}{\\left(r,t \\right)} \\Lambda^{2}{\\left(r,t \\right)}}{N{\\left(t \\right)}} - \\frac{\\left(\\operatorname{N^{r}}\\right)^{2}{\\left(r,t \\right)} \\Lambda^{2}{\\left(r,t \\right)}}{N{\\left(t \\right)}}\\\\0\\\\0\\\\0\\end{matrix}\\right]$"
      ],
      "text/plain": [
       "Matrix([\n",
       "[(-N(t)**2 + N^r(r, t)**2*\\Lambda(r, t)**2)/N(t) - N^r(r, t)**2*\\Lambda(r, t)**2/N(t)],\n",
       "[                                                                                   0],\n",
       "[                                                                                   0],\n",
       "[                                                                                   0]])"
      ]
     },
     "metadata": {},
     "output_type": "display_data"
    },
    {
     "data": {
      "text/latex": [
       "$\\displaystyle h_{uv}$"
      ],
      "text/plain": [
       "h_{uv}"
      ]
     },
     "metadata": {},
     "output_type": "display_data"
    },
    {
     "data": {
      "text/latex": [
       "$\\displaystyle \\left[\\begin{matrix}\\left(\\operatorname{N^{r}}\\right)^{2}{\\left(r,t \\right)} \\Lambda^{2}{\\left(r,t \\right)} & \\operatorname{N^{r}}{\\left(r,t \\right)} \\Lambda^{2}{\\left(r,t \\right)} & 0 & 0\\\\\\operatorname{N^{r}}{\\left(r,t \\right)} \\Lambda^{2}{\\left(r,t \\right)} & \\Lambda^{2}{\\left(r,t \\right)} & 0 & 0\\\\0 & 0 & R^{2}{\\left(r,t \\right)} & 0\\\\0 & 0 & 0 & R^{2}{\\left(r,t \\right)} \\sin^{2}{\\left(\\theta \\right)}\\end{matrix}\\right]$"
      ],
      "text/plain": [
       "Matrix([\n",
       "[N^r(r, t)**2*\\Lambda(r, t)**2, N^r(r, t)*\\Lambda(r, t)**2,          0,                         0],\n",
       "[   N^r(r, t)*\\Lambda(r, t)**2,           \\Lambda(r, t)**2,          0,                         0],\n",
       "[                            0,                          0, R(r, t)**2,                         0],\n",
       "[                            0,                          0,          0, R(r, t)**2*sin(\\theta)**2]])"
      ]
     },
     "metadata": {},
     "output_type": "display_data"
    }
   ],
   "source": [
    "#g_uv\n",
    "import sympy \n",
    "g_mu_nu= symbols('g_{uv}')\n",
    "display(g_mu_nu)\n",
    "display(g_down)\n",
    "\n",
    "# U^mu\n",
    "U_mu = symbols('U^{u}')\n",
    "display(U_mu)\n",
    "U_mu_up= simplify(Matrix([u0,tmp1[0],0,0]).subs(u0,arbitrary_u0))\n",
    "display(U_mu_up)\n",
    "\n",
    "# change U^mu to lower index U_mu\n",
    "U_down_mu = symbols('U_{u}')\n",
    "display(U_down_mu)\n",
    "U_mu_down = down(g_down,U_mu_up)\n",
    "display(U_mu_down)\n",
    "\n",
    "# U^nu\n",
    "U_nu = symbols('U^{v}')\n",
    "display(U_nu)\n",
    "U_nu_transpose = U_mu_up.transpose()\n",
    "display(U_nu_transpose)\n",
    "\n",
    "# change U^nu to lower index U_nu\n",
    "U_down_nu = symbols('U_{v}')\n",
    "display(U_down_nu)\n",
    "U_nu_down = U_mu_down.transpose()\n",
    "display(U_nu_down)\n",
    "\n",
    "\n",
    "h_mu_nu = Matrix([[0,0,0,0],[0,0,0,0],[0,0,0,0],[0,0,0,0]])\n",
    "for mu in range(4):\n",
    "    for nu in range(4):\n",
    "        h_mu_nu[mu,nu]=g_down[mu,nu] +  U_mu_down[mu]*U_mu_down[nu]\n",
    "h_mu_nu_char = symbols('h_{uv}')\n",
    "display(h_mu_nu_char)\n",
    "display(simplify(h_mu_nu))\n"
   ]
  },
  {
   "cell_type": "markdown",
   "id": "9f59fdcd",
   "metadata": {},
   "source": [
    "# e)"
   ]
  },
  {
   "cell_type": "code",
   "execution_count": 16,
   "id": "1bebd615",
   "metadata": {},
   "outputs": [
    {
     "data": {
      "text/latex": [
       "$\\displaystyle B_{uv}$"
      ],
      "text/plain": [
       "B_{uv}"
      ]
     },
     "metadata": {},
     "output_type": "display_data"
    },
    {
     "data": {
      "text/latex": [
       "$\\displaystyle \\left[\\begin{matrix}\\frac{1.0 \\left(- \\operatorname{N^{r}}{\\left(r,t \\right)} \\frac{\\partial}{\\partial r} \\Lambda{\\left(r,t \\right)} - \\Lambda{\\left(r,t \\right)} \\frac{\\partial}{\\partial r} \\operatorname{N^{r}}{\\left(r,t \\right)} + \\frac{\\partial}{\\partial t} \\Lambda{\\left(r,t \\right)}\\right) \\left(\\operatorname{N^{r}}\\right)^{2}{\\left(r,t \\right)} \\Lambda{\\left(r,t \\right)}}{N{\\left(t \\right)}} & \\frac{1.0 \\left(- \\operatorname{N^{r}}{\\left(r,t \\right)} \\frac{\\partial}{\\partial r} \\Lambda{\\left(r,t \\right)} - \\Lambda{\\left(r,t \\right)} \\frac{\\partial}{\\partial r} \\operatorname{N^{r}}{\\left(r,t \\right)} + \\frac{\\partial}{\\partial t} \\Lambda{\\left(r,t \\right)}\\right) \\operatorname{N^{r}}{\\left(r,t \\right)} \\Lambda{\\left(r,t \\right)}}{N{\\left(t \\right)}} & 0 & 0\\\\\\frac{1.0 \\left(- \\operatorname{N^{r}}{\\left(r,t \\right)} \\frac{\\partial}{\\partial r} \\Lambda{\\left(r,t \\right)} - \\Lambda{\\left(r,t \\right)} \\frac{\\partial}{\\partial r} \\operatorname{N^{r}}{\\left(r,t \\right)} + \\frac{\\partial}{\\partial t} \\Lambda{\\left(r,t \\right)}\\right) \\operatorname{N^{r}}{\\left(r,t \\right)} \\Lambda{\\left(r,t \\right)}}{N{\\left(t \\right)}} & \\frac{1.0 \\left(- \\operatorname{N^{r}}{\\left(r,t \\right)} \\frac{\\partial}{\\partial r} \\Lambda{\\left(r,t \\right)} - \\Lambda{\\left(r,t \\right)} \\frac{\\partial}{\\partial r} \\operatorname{N^{r}}{\\left(r,t \\right)} + \\frac{\\partial}{\\partial t} \\Lambda{\\left(r,t \\right)}\\right) \\Lambda{\\left(r,t \\right)}}{N{\\left(t \\right)}} & 0 & 0\\\\0 & 0 & \\frac{1.0 \\left(- \\operatorname{N^{r}}{\\left(r,t \\right)} \\frac{\\partial}{\\partial r} R{\\left(r,t \\right)} + \\frac{\\partial}{\\partial t} R{\\left(r,t \\right)}\\right) R{\\left(r,t \\right)}}{N{\\left(t \\right)}} & 0\\\\0 & 0 & 0 & \\frac{1.0 \\left(- \\operatorname{N^{r}}{\\left(r,t \\right)} \\frac{\\partial}{\\partial r} R{\\left(r,t \\right)} + \\frac{\\partial}{\\partial t} R{\\left(r,t \\right)}\\right) R{\\left(r,t \\right)} \\sin^{2}{\\left(\\theta \\right)}}{N{\\left(t \\right)}}\\end{matrix}\\right]$"
      ],
      "text/plain": [
       "Matrix([\n",
       "[1.0*(-N^r(r, t)*Derivative(\\Lambda(r, t), r) - \\Lambda(r, t)*Derivative(N^r(r, t), r) + Derivative(\\Lambda(r, t), t))*N^r(r, t)**2*\\Lambda(r, t)/N(t), 1.0*(-N^r(r, t)*Derivative(\\Lambda(r, t), r) - \\Lambda(r, t)*Derivative(N^r(r, t), r) + Derivative(\\Lambda(r, t), t))*N^r(r, t)*\\Lambda(r, t)/N(t),                                                                             0,                                                                                            0],\n",
       "[   1.0*(-N^r(r, t)*Derivative(\\Lambda(r, t), r) - \\Lambda(r, t)*Derivative(N^r(r, t), r) + Derivative(\\Lambda(r, t), t))*N^r(r, t)*\\Lambda(r, t)/N(t),           1.0*(-N^r(r, t)*Derivative(\\Lambda(r, t), r) - \\Lambda(r, t)*Derivative(N^r(r, t), r) + Derivative(\\Lambda(r, t), t))*\\Lambda(r, t)/N(t),                                                                             0,                                                                                            0],\n",
       "[                                                                                                                                                    0,                                                                                                                                                  0, 1.0*(-N^r(r, t)*Derivative(R(r, t), r) + Derivative(R(r, t), t))*R(r, t)/N(t),                                                                                            0],\n",
       "[                                                                                                                                                    0,                                                                                                                                                  0,                                                                             0, 1.0*(-N^r(r, t)*Derivative(R(r, t), r) + Derivative(R(r, t), t))*R(r, t)*sin(\\theta)**2/N(t)]])"
      ]
     },
     "metadata": {},
     "output_type": "display_data"
    }
   ],
   "source": [
    "# this is equals to the covariant of equation 2 found in part b\n",
    "\n",
    "B_mu_nu_char = symbols('B_{uv}')\n",
    "display(B_mu_nu_char)\n",
    "display(simplify(covariant_derivative_eq2(C,xlist,U_mu_down)))"
   ]
  },
  {
   "cell_type": "markdown",
   "id": "f2898dad",
   "metadata": {},
   "source": [
    "# f)"
   ]
  },
  {
   "cell_type": "code",
   "execution_count": 17,
   "id": "504dc44f",
   "metadata": {},
   "outputs": [
    {
     "data": {
      "text/latex": [
       "$\\displaystyle g^{uv}$"
      ],
      "text/plain": [
       "g^{uv}"
      ]
     },
     "metadata": {},
     "output_type": "display_data"
    },
    {
     "data": {
      "text/latex": [
       "$\\displaystyle \\left[\\begin{matrix}- \\frac{1}{N^{2}{\\left(t \\right)}} & \\frac{\\operatorname{N^{r}}{\\left(r,t \\right)}}{N^{2}{\\left(t \\right)}} & 0 & 0\\\\\\frac{\\operatorname{N^{r}}{\\left(r,t \\right)}}{N^{2}{\\left(t \\right)}} & \\frac{1}{\\Lambda^{2}{\\left(r,t \\right)}} - \\frac{\\left(\\operatorname{N^{r}}\\right)^{2}{\\left(r,t \\right)}}{N^{2}{\\left(t \\right)}} & 0 & 0\\\\0 & 0 & \\frac{1}{R^{2}{\\left(r,t \\right)}} & 0\\\\0 & 0 & 0 & \\frac{1}{R^{2}{\\left(r,t \\right)} \\sin^{2}{\\left(\\theta \\right)}}\\end{matrix}\\right]$"
      ],
      "text/plain": [
       "Matrix([\n",
       "[       -1/N(t)**2,                          N^r(r, t)/N(t)**2,             0,                             0],\n",
       "[N^r(r, t)/N(t)**2, \\Lambda(r, t)**(-2) - N^r(r, t)**2/N(t)**2,             0,                             0],\n",
       "[                0,                                          0, R(r, t)**(-2),                             0],\n",
       "[                0,                                          0,             0, 1/(R(r, t)**2*sin(\\theta)**2)]])"
      ]
     },
     "metadata": {},
     "output_type": "display_data"
    },
    {
     "name": "stdout",
     "output_type": "stream",
     "text": [
      "Expansion:\n"
     ]
    },
    {
     "data": {
      "text/latex": [
       "$\\displaystyle \\frac{2.0 \\left(- \\operatorname{N^{r}}{\\left(r,t \\right)} \\frac{\\partial}{\\partial r} R{\\left(r,t \\right)} + \\frac{\\partial}{\\partial t} R{\\left(r,t \\right)}\\right)}{N{\\left(t \\right)} R{\\left(r,t \\right)}} + \\frac{1.0 \\left(- \\operatorname{N^{r}}{\\left(r,t \\right)} \\frac{\\partial}{\\partial r} \\Lambda{\\left(r,t \\right)} - \\Lambda{\\left(r,t \\right)} \\frac{\\partial}{\\partial r} \\operatorname{N^{r}}{\\left(r,t \\right)} + \\frac{\\partial}{\\partial t} \\Lambda{\\left(r,t \\right)}\\right)}{N{\\left(t \\right)} \\Lambda{\\left(r,t \\right)}}$"
      ],
      "text/plain": [
       "2.0*(-N^r(r, t)*Derivative(R(r, t), r) + Derivative(R(r, t), t))/(N(t)*R(r, t)) + 1.0*(-N^r(r, t)*Derivative(\\Lambda(r, t), r) - \\Lambda(r, t)*Derivative(N^r(r, t), r) + Derivative(\\Lambda(r, t), t))/(N(t)*\\Lambda(r, t))"
      ]
     },
     "metadata": {},
     "output_type": "display_data"
    }
   ],
   "source": [
    "# from part a) get the inverse of the metric tensor and from part e). we get B\n",
    "g_nu_mu_char = symbols('g^{uv}')\n",
    "display(g_nu_mu_char)\n",
    "g_up = simplify(g_down.inv())\n",
    "display(g_up)\n",
    "\n",
    "expansion = simplify(Trace( (g_up)*(covariant_derivative_eq2(C,xlist,U_mu_down))) ) \n",
    "print('Expansion:')\n",
    "display(expansion)"
   ]
  },
  {
   "cell_type": "markdown",
   "id": "22cbe7d9",
   "metadata": {},
   "source": [
    "# g)"
   ]
  },
  {
   "cell_type": "code",
   "execution_count": 18,
   "id": "12bd4c65",
   "metadata": {
    "scrolled": true
   },
   "outputs": [
    {
     "data": {
      "text/latex": [
       "$\\displaystyle B_{uv}$"
      ],
      "text/plain": [
       "B_{uv}"
      ]
     },
     "metadata": {},
     "output_type": "display_data"
    },
    {
     "data": {
      "text/latex": [
       "$\\displaystyle \\left[\\begin{matrix}\\frac{1.0 \\left(- \\operatorname{N^{r}}{\\left(r,t \\right)} \\frac{\\partial}{\\partial r} \\Lambda{\\left(r,t \\right)} - \\Lambda{\\left(r,t \\right)} \\frac{\\partial}{\\partial r} \\operatorname{N^{r}}{\\left(r,t \\right)} + \\frac{\\partial}{\\partial t} \\Lambda{\\left(r,t \\right)}\\right) \\left(\\operatorname{N^{r}}\\right)^{2}{\\left(r,t \\right)} \\Lambda{\\left(r,t \\right)}}{N{\\left(t \\right)}} & \\frac{1.0 \\left(- \\operatorname{N^{r}}{\\left(r,t \\right)} \\frac{\\partial}{\\partial r} \\Lambda{\\left(r,t \\right)} - \\Lambda{\\left(r,t \\right)} \\frac{\\partial}{\\partial r} \\operatorname{N^{r}}{\\left(r,t \\right)} + \\frac{\\partial}{\\partial t} \\Lambda{\\left(r,t \\right)}\\right) \\operatorname{N^{r}}{\\left(r,t \\right)} \\Lambda{\\left(r,t \\right)}}{N{\\left(t \\right)}} & 0 & 0\\\\\\frac{1.0 \\left(- \\operatorname{N^{r}}{\\left(r,t \\right)} \\frac{\\partial}{\\partial r} \\Lambda{\\left(r,t \\right)} - \\Lambda{\\left(r,t \\right)} \\frac{\\partial}{\\partial r} \\operatorname{N^{r}}{\\left(r,t \\right)} + \\frac{\\partial}{\\partial t} \\Lambda{\\left(r,t \\right)}\\right) \\operatorname{N^{r}}{\\left(r,t \\right)} \\Lambda{\\left(r,t \\right)}}{N{\\left(t \\right)}} & \\frac{1.0 \\left(- \\operatorname{N^{r}}{\\left(r,t \\right)} \\frac{\\partial}{\\partial r} \\Lambda{\\left(r,t \\right)} - \\Lambda{\\left(r,t \\right)} \\frac{\\partial}{\\partial r} \\operatorname{N^{r}}{\\left(r,t \\right)} + \\frac{\\partial}{\\partial t} \\Lambda{\\left(r,t \\right)}\\right) \\Lambda{\\left(r,t \\right)}}{N{\\left(t \\right)}} & 0 & 0\\\\0 & 0 & \\frac{1.0 \\left(- \\operatorname{N^{r}}{\\left(r,t \\right)} \\frac{\\partial}{\\partial r} R{\\left(r,t \\right)} + \\frac{\\partial}{\\partial t} R{\\left(r,t \\right)}\\right) R{\\left(r,t \\right)}}{N{\\left(t \\right)}} & 0\\\\0 & 0 & 0 & \\frac{1.0 \\left(- \\operatorname{N^{r}}{\\left(r,t \\right)} \\frac{\\partial}{\\partial r} R{\\left(r,t \\right)} + \\frac{\\partial}{\\partial t} R{\\left(r,t \\right)}\\right) R{\\left(r,t \\right)} \\sin^{2}{\\left(\\theta \\right)}}{N{\\left(t \\right)}}\\end{matrix}\\right]$"
      ],
      "text/plain": [
       "Matrix([\n",
       "[1.0*(-N^r(r, t)*Derivative(\\Lambda(r, t), r) - \\Lambda(r, t)*Derivative(N^r(r, t), r) + Derivative(\\Lambda(r, t), t))*N^r(r, t)**2*\\Lambda(r, t)/N(t), 1.0*(-N^r(r, t)*Derivative(\\Lambda(r, t), r) - \\Lambda(r, t)*Derivative(N^r(r, t), r) + Derivative(\\Lambda(r, t), t))*N^r(r, t)*\\Lambda(r, t)/N(t),                                                                             0,                                                                                            0],\n",
       "[   1.0*(-N^r(r, t)*Derivative(\\Lambda(r, t), r) - \\Lambda(r, t)*Derivative(N^r(r, t), r) + Derivative(\\Lambda(r, t), t))*N^r(r, t)*\\Lambda(r, t)/N(t),           1.0*(-N^r(r, t)*Derivative(\\Lambda(r, t), r) - \\Lambda(r, t)*Derivative(N^r(r, t), r) + Derivative(\\Lambda(r, t), t))*\\Lambda(r, t)/N(t),                                                                             0,                                                                                            0],\n",
       "[                                                                                                                                                    0,                                                                                                                                                  0, 1.0*(-N^r(r, t)*Derivative(R(r, t), r) + Derivative(R(r, t), t))*R(r, t)/N(t),                                                                                            0],\n",
       "[                                                                                                                                                    0,                                                                                                                                                  0,                                                                             0, 1.0*(-N^r(r, t)*Derivative(R(r, t), r) + Derivative(R(r, t), t))*R(r, t)*sin(\\theta)**2/N(t)]])"
      ]
     },
     "metadata": {},
     "output_type": "display_data"
    },
    {
     "data": {
      "text/latex": [
       "$\\displaystyle B_{vu}$"
      ],
      "text/plain": [
       "B_{vu}"
      ]
     },
     "metadata": {},
     "output_type": "display_data"
    },
    {
     "data": {
      "text/latex": [
       "$\\displaystyle \\left[\\begin{matrix}\\frac{1.0 \\left(- \\operatorname{N^{r}}{\\left(r,t \\right)} \\frac{\\partial}{\\partial r} \\Lambda{\\left(r,t \\right)} - \\Lambda{\\left(r,t \\right)} \\frac{\\partial}{\\partial r} \\operatorname{N^{r}}{\\left(r,t \\right)} + \\frac{\\partial}{\\partial t} \\Lambda{\\left(r,t \\right)}\\right) \\left(\\operatorname{N^{r}}\\right)^{2}{\\left(r,t \\right)} \\Lambda{\\left(r,t \\right)}}{N{\\left(t \\right)}} & \\frac{1.0 \\left(- \\operatorname{N^{r}}{\\left(r,t \\right)} \\frac{\\partial}{\\partial r} \\Lambda{\\left(r,t \\right)} - \\Lambda{\\left(r,t \\right)} \\frac{\\partial}{\\partial r} \\operatorname{N^{r}}{\\left(r,t \\right)} + \\frac{\\partial}{\\partial t} \\Lambda{\\left(r,t \\right)}\\right) \\operatorname{N^{r}}{\\left(r,t \\right)} \\Lambda{\\left(r,t \\right)}}{N{\\left(t \\right)}} & 0 & 0\\\\\\frac{1.0 \\left(- \\operatorname{N^{r}}{\\left(r,t \\right)} \\frac{\\partial}{\\partial r} \\Lambda{\\left(r,t \\right)} - \\Lambda{\\left(r,t \\right)} \\frac{\\partial}{\\partial r} \\operatorname{N^{r}}{\\left(r,t \\right)} + \\frac{\\partial}{\\partial t} \\Lambda{\\left(r,t \\right)}\\right) \\operatorname{N^{r}}{\\left(r,t \\right)} \\Lambda{\\left(r,t \\right)}}{N{\\left(t \\right)}} & \\frac{1.0 \\left(- \\operatorname{N^{r}}{\\left(r,t \\right)} \\frac{\\partial}{\\partial r} \\Lambda{\\left(r,t \\right)} - \\Lambda{\\left(r,t \\right)} \\frac{\\partial}{\\partial r} \\operatorname{N^{r}}{\\left(r,t \\right)} + \\frac{\\partial}{\\partial t} \\Lambda{\\left(r,t \\right)}\\right) \\Lambda{\\left(r,t \\right)}}{N{\\left(t \\right)}} & 0 & 0\\\\0 & 0 & \\frac{1.0 \\left(- \\operatorname{N^{r}}{\\left(r,t \\right)} \\frac{\\partial}{\\partial r} R{\\left(r,t \\right)} + \\frac{\\partial}{\\partial t} R{\\left(r,t \\right)}\\right) R{\\left(r,t \\right)}}{N{\\left(t \\right)}} & 0\\\\0 & 0 & 0 & \\frac{1.0 \\left(- \\operatorname{N^{r}}{\\left(r,t \\right)} \\frac{\\partial}{\\partial r} R{\\left(r,t \\right)} + \\frac{\\partial}{\\partial t} R{\\left(r,t \\right)}\\right) R{\\left(r,t \\right)} \\sin^{2}{\\left(\\theta \\right)}}{N{\\left(t \\right)}}\\end{matrix}\\right]$"
      ],
      "text/plain": [
       "Matrix([\n",
       "[1.0*(-N^r(r, t)*Derivative(\\Lambda(r, t), r) - \\Lambda(r, t)*Derivative(N^r(r, t), r) + Derivative(\\Lambda(r, t), t))*N^r(r, t)**2*\\Lambda(r, t)/N(t), 1.0*(-N^r(r, t)*Derivative(\\Lambda(r, t), r) - \\Lambda(r, t)*Derivative(N^r(r, t), r) + Derivative(\\Lambda(r, t), t))*N^r(r, t)*\\Lambda(r, t)/N(t),                                                                             0,                                                                                            0],\n",
       "[   1.0*(-N^r(r, t)*Derivative(\\Lambda(r, t), r) - \\Lambda(r, t)*Derivative(N^r(r, t), r) + Derivative(\\Lambda(r, t), t))*N^r(r, t)*\\Lambda(r, t)/N(t),           1.0*(-N^r(r, t)*Derivative(\\Lambda(r, t), r) - \\Lambda(r, t)*Derivative(N^r(r, t), r) + Derivative(\\Lambda(r, t), t))*\\Lambda(r, t)/N(t),                                                                             0,                                                                                            0],\n",
       "[                                                                                                                                                    0,                                                                                                                                                  0, 1.0*(-N^r(r, t)*Derivative(R(r, t), r) + Derivative(R(r, t), t))*R(r, t)/N(t),                                                                                            0],\n",
       "[                                                                                                                                                    0,                                                                                                                                                  0,                                                                             0, 1.0*(-N^r(r, t)*Derivative(R(r, t), r) + Derivative(R(r, t), t))*R(r, t)*sin(\\theta)**2/N(t)]])"
      ]
     },
     "metadata": {},
     "output_type": "display_data"
    },
    {
     "name": "stdout",
     "output_type": "stream",
     "text": [
      "sigma:\n"
     ]
    },
    {
     "data": {
      "text/latex": [
       "$\\displaystyle \\left[\\begin{matrix}\\frac{\\left(0.666666666666667 \\left(\\operatorname{N^{r}}{\\left(r,t \\right)} \\frac{\\partial}{\\partial r} R{\\left(r,t \\right)} - \\frac{\\partial}{\\partial t} R{\\left(r,t \\right)}\\right) \\Lambda{\\left(r,t \\right)} - 0.666666666666667 \\left(\\operatorname{N^{r}}{\\left(r,t \\right)} \\frac{\\partial}{\\partial r} \\Lambda{\\left(r,t \\right)} + \\Lambda{\\left(r,t \\right)} \\frac{\\partial}{\\partial r} \\operatorname{N^{r}}{\\left(r,t \\right)} - \\frac{\\partial}{\\partial t} \\Lambda{\\left(r,t \\right)}\\right) R{\\left(r,t \\right)}\\right) \\left(\\operatorname{N^{r}}\\right)^{2}{\\left(r,t \\right)} \\Lambda{\\left(r,t \\right)}}{N{\\left(t \\right)} R{\\left(r,t \\right)}} & \\frac{\\left(0.666666666666667 \\left(\\operatorname{N^{r}}{\\left(r,t \\right)} \\frac{\\partial}{\\partial r} R{\\left(r,t \\right)} - \\frac{\\partial}{\\partial t} R{\\left(r,t \\right)}\\right) \\Lambda{\\left(r,t \\right)} - 0.666666666666667 \\left(\\operatorname{N^{r}}{\\left(r,t \\right)} \\frac{\\partial}{\\partial r} \\Lambda{\\left(r,t \\right)} + \\Lambda{\\left(r,t \\right)} \\frac{\\partial}{\\partial r} \\operatorname{N^{r}}{\\left(r,t \\right)} - \\frac{\\partial}{\\partial t} \\Lambda{\\left(r,t \\right)}\\right) R{\\left(r,t \\right)}\\right) \\operatorname{N^{r}}{\\left(r,t \\right)} \\Lambda{\\left(r,t \\right)}}{N{\\left(t \\right)} R{\\left(r,t \\right)}} & 0 & 0\\\\\\frac{\\left(0.666666666666667 \\left(\\operatorname{N^{r}}{\\left(r,t \\right)} \\frac{\\partial}{\\partial r} R{\\left(r,t \\right)} - \\frac{\\partial}{\\partial t} R{\\left(r,t \\right)}\\right) \\Lambda{\\left(r,t \\right)} - 0.666666666666667 \\left(\\operatorname{N^{r}}{\\left(r,t \\right)} \\frac{\\partial}{\\partial r} \\Lambda{\\left(r,t \\right)} + \\Lambda{\\left(r,t \\right)} \\frac{\\partial}{\\partial r} \\operatorname{N^{r}}{\\left(r,t \\right)} - \\frac{\\partial}{\\partial t} \\Lambda{\\left(r,t \\right)}\\right) R{\\left(r,t \\right)}\\right) \\operatorname{N^{r}}{\\left(r,t \\right)} \\Lambda{\\left(r,t \\right)}}{N{\\left(t \\right)} R{\\left(r,t \\right)}} & \\frac{\\left(0.666666666666667 \\left(\\operatorname{N^{r}}{\\left(r,t \\right)} \\frac{\\partial}{\\partial r} R{\\left(r,t \\right)} - \\frac{\\partial}{\\partial t} R{\\left(r,t \\right)}\\right) \\Lambda{\\left(r,t \\right)} - 0.666666666666667 \\left(\\operatorname{N^{r}}{\\left(r,t \\right)} \\frac{\\partial}{\\partial r} \\Lambda{\\left(r,t \\right)} + \\Lambda{\\left(r,t \\right)} \\frac{\\partial}{\\partial r} \\operatorname{N^{r}}{\\left(r,t \\right)} - \\frac{\\partial}{\\partial t} \\Lambda{\\left(r,t \\right)}\\right) R{\\left(r,t \\right)}\\right) \\Lambda{\\left(r,t \\right)}}{N{\\left(t \\right)} R{\\left(r,t \\right)}} & 0 & 0\\\\0 & 0 & \\frac{\\left(- 0.333333333333333 \\left(\\operatorname{N^{r}}{\\left(r,t \\right)} \\frac{\\partial}{\\partial r} R{\\left(r,t \\right)} - \\frac{\\partial}{\\partial t} R{\\left(r,t \\right)}\\right) \\Lambda{\\left(r,t \\right)} + 0.333333333333333 \\left(\\operatorname{N^{r}}{\\left(r,t \\right)} \\frac{\\partial}{\\partial r} \\Lambda{\\left(r,t \\right)} + \\Lambda{\\left(r,t \\right)} \\frac{\\partial}{\\partial r} \\operatorname{N^{r}}{\\left(r,t \\right)} - \\frac{\\partial}{\\partial t} \\Lambda{\\left(r,t \\right)}\\right) R{\\left(r,t \\right)}\\right) R{\\left(r,t \\right)}}{N{\\left(t \\right)} \\Lambda{\\left(r,t \\right)}} & 0\\\\0 & 0 & 0 & \\frac{\\left(- 0.333333333333333 \\left(\\operatorname{N^{r}}{\\left(r,t \\right)} \\frac{\\partial}{\\partial r} R{\\left(r,t \\right)} - \\frac{\\partial}{\\partial t} R{\\left(r,t \\right)}\\right) \\Lambda{\\left(r,t \\right)} + 0.333333333333333 \\left(\\operatorname{N^{r}}{\\left(r,t \\right)} \\frac{\\partial}{\\partial r} \\Lambda{\\left(r,t \\right)} + \\Lambda{\\left(r,t \\right)} \\frac{\\partial}{\\partial r} \\operatorname{N^{r}}{\\left(r,t \\right)} - \\frac{\\partial}{\\partial t} \\Lambda{\\left(r,t \\right)}\\right) R{\\left(r,t \\right)}\\right) R{\\left(r,t \\right)} \\sin^{2}{\\left(\\theta \\right)}}{N{\\left(t \\right)} \\Lambda{\\left(r,t \\right)}}\\end{matrix}\\right]$"
      ],
      "text/plain": [
       "Matrix([\n",
       "[(0.666666666666667*(N^r(r, t)*Derivative(R(r, t), r) - Derivative(R(r, t), t))*\\Lambda(r, t) - 0.666666666666667*(N^r(r, t)*Derivative(\\Lambda(r, t), r) + \\Lambda(r, t)*Derivative(N^r(r, t), r) - Derivative(\\Lambda(r, t), t))*R(r, t))*N^r(r, t)**2*\\Lambda(r, t)/(N(t)*R(r, t)), (0.666666666666667*(N^r(r, t)*Derivative(R(r, t), r) - Derivative(R(r, t), t))*\\Lambda(r, t) - 0.666666666666667*(N^r(r, t)*Derivative(\\Lambda(r, t), r) + \\Lambda(r, t)*Derivative(N^r(r, t), r) - Derivative(\\Lambda(r, t), t))*R(r, t))*N^r(r, t)*\\Lambda(r, t)/(N(t)*R(r, t)),                                                                                                                                                                                                                                                                        0,                                                                                                                                                                                                                                                                                       0],\n",
       "[   (0.666666666666667*(N^r(r, t)*Derivative(R(r, t), r) - Derivative(R(r, t), t))*\\Lambda(r, t) - 0.666666666666667*(N^r(r, t)*Derivative(\\Lambda(r, t), r) + \\Lambda(r, t)*Derivative(N^r(r, t), r) - Derivative(\\Lambda(r, t), t))*R(r, t))*N^r(r, t)*\\Lambda(r, t)/(N(t)*R(r, t)),           (0.666666666666667*(N^r(r, t)*Derivative(R(r, t), r) - Derivative(R(r, t), t))*\\Lambda(r, t) - 0.666666666666667*(N^r(r, t)*Derivative(\\Lambda(r, t), r) + \\Lambda(r, t)*Derivative(N^r(r, t), r) - Derivative(\\Lambda(r, t), t))*R(r, t))*\\Lambda(r, t)/(N(t)*R(r, t)),                                                                                                                                                                                                                                                                        0,                                                                                                                                                                                                                                                                                       0],\n",
       "[                                                                                                                                                                                                                                                                                   0,                                                                                                                                                                                                                                                                                 0, (-0.333333333333333*(N^r(r, t)*Derivative(R(r, t), r) - Derivative(R(r, t), t))*\\Lambda(r, t) + 0.333333333333333*(N^r(r, t)*Derivative(\\Lambda(r, t), r) + \\Lambda(r, t)*Derivative(N^r(r, t), r) - Derivative(\\Lambda(r, t), t))*R(r, t))*R(r, t)/(N(t)*\\Lambda(r, t)),                                                                                                                                                                                                                                                                                       0],\n",
       "[                                                                                                                                                                                                                                                                                   0,                                                                                                                                                                                                                                                                                 0,                                                                                                                                                                                                                                                                        0, (-0.333333333333333*(N^r(r, t)*Derivative(R(r, t), r) - Derivative(R(r, t), t))*\\Lambda(r, t) + 0.333333333333333*(N^r(r, t)*Derivative(\\Lambda(r, t), r) + \\Lambda(r, t)*Derivative(N^r(r, t), r) - Derivative(\\Lambda(r, t), t))*R(r, t))*R(r, t)*sin(\\theta)**2/(N(t)*\\Lambda(r, t))]])"
      ]
     },
     "metadata": {},
     "output_type": "display_data"
    }
   ],
   "source": [
    "# B is from part e)\n",
    "B_mu_nu_char = symbols('B_{uv}')\n",
    "display(B_mu_nu_char)\n",
    "B_mu_nu =simplify(covariant_derivative_eq2(C,xlist,U_mu_down))\n",
    "display(B_mu_nu)\n",
    "\n",
    "B_nu_mu_char = symbols('B_{vu}')\n",
    "display(B_nu_mu_char)\n",
    "B_nu_mu = display(B_mu_nu.transpose())\n",
    "\n",
    "# from the formula given\n",
    "sigma = simplify( (1/2 * (B_mu_nu + B_mu_nu.transpose()) - 1/3*h_mu_nu*expansion) )\n",
    "print('sigma:')\n",
    "display(sigma)"
   ]
  },
  {
   "cell_type": "markdown",
   "id": "2637f693",
   "metadata": {},
   "source": [
    "# g)i)"
   ]
  },
  {
   "cell_type": "code",
   "execution_count": 19,
   "id": "f423b485",
   "metadata": {},
   "outputs": [
    {
     "data": {
      "text/latex": [
       "$\\displaystyle \\left[\\begin{matrix}\\frac{\\left(0.666666666666667 \\left(\\operatorname{N^{r}}{\\left(r,t \\right)} \\frac{\\partial}{\\partial r} R{\\left(r,t \\right)} - \\frac{\\partial}{\\partial t} R{\\left(r,t \\right)}\\right) \\Lambda{\\left(r,t \\right)} - 0.666666666666667 \\left(\\operatorname{N^{r}}{\\left(r,t \\right)} \\frac{\\partial}{\\partial r} \\Lambda{\\left(r,t \\right)} + \\Lambda{\\left(r,t \\right)} \\frac{\\partial}{\\partial r} \\operatorname{N^{r}}{\\left(r,t \\right)} - \\frac{\\partial}{\\partial t} \\Lambda{\\left(r,t \\right)}\\right) R{\\left(r,t \\right)}\\right) \\left(\\operatorname{N^{r}}\\right)^{2}{\\left(r,t \\right)} \\Lambda{\\left(r,t \\right)}}{N{\\left(t \\right)} R{\\left(r,t \\right)}} & \\frac{\\left(0.666666666666667 \\left(\\operatorname{N^{r}}{\\left(r,t \\right)} \\frac{\\partial}{\\partial r} R{\\left(r,t \\right)} - \\frac{\\partial}{\\partial t} R{\\left(r,t \\right)}\\right) \\Lambda{\\left(r,t \\right)} - 0.666666666666667 \\left(\\operatorname{N^{r}}{\\left(r,t \\right)} \\frac{\\partial}{\\partial r} \\Lambda{\\left(r,t \\right)} + \\Lambda{\\left(r,t \\right)} \\frac{\\partial}{\\partial r} \\operatorname{N^{r}}{\\left(r,t \\right)} - \\frac{\\partial}{\\partial t} \\Lambda{\\left(r,t \\right)}\\right) R{\\left(r,t \\right)}\\right) \\operatorname{N^{r}}{\\left(r,t \\right)} \\Lambda{\\left(r,t \\right)}}{N{\\left(t \\right)} R{\\left(r,t \\right)}} & 0 & 0\\\\\\frac{\\left(0.666666666666667 \\left(\\operatorname{N^{r}}{\\left(r,t \\right)} \\frac{\\partial}{\\partial r} R{\\left(r,t \\right)} - \\frac{\\partial}{\\partial t} R{\\left(r,t \\right)}\\right) \\Lambda{\\left(r,t \\right)} - 0.666666666666667 \\left(\\operatorname{N^{r}}{\\left(r,t \\right)} \\frac{\\partial}{\\partial r} \\Lambda{\\left(r,t \\right)} + \\Lambda{\\left(r,t \\right)} \\frac{\\partial}{\\partial r} \\operatorname{N^{r}}{\\left(r,t \\right)} - \\frac{\\partial}{\\partial t} \\Lambda{\\left(r,t \\right)}\\right) R{\\left(r,t \\right)}\\right) \\operatorname{N^{r}}{\\left(r,t \\right)} \\Lambda{\\left(r,t \\right)}}{N{\\left(t \\right)} R{\\left(r,t \\right)}} & \\frac{\\left(0.666666666666667 \\left(\\operatorname{N^{r}}{\\left(r,t \\right)} \\frac{\\partial}{\\partial r} R{\\left(r,t \\right)} - \\frac{\\partial}{\\partial t} R{\\left(r,t \\right)}\\right) \\Lambda{\\left(r,t \\right)} - 0.666666666666667 \\left(\\operatorname{N^{r}}{\\left(r,t \\right)} \\frac{\\partial}{\\partial r} \\Lambda{\\left(r,t \\right)} + \\Lambda{\\left(r,t \\right)} \\frac{\\partial}{\\partial r} \\operatorname{N^{r}}{\\left(r,t \\right)} - \\frac{\\partial}{\\partial t} \\Lambda{\\left(r,t \\right)}\\right) R{\\left(r,t \\right)}\\right) \\Lambda{\\left(r,t \\right)}}{N{\\left(t \\right)} R{\\left(r,t \\right)}} & 0 & 0\\\\0 & 0 & \\frac{\\left(- 0.333333333333333 \\left(\\operatorname{N^{r}}{\\left(r,t \\right)} \\frac{\\partial}{\\partial r} R{\\left(r,t \\right)} - \\frac{\\partial}{\\partial t} R{\\left(r,t \\right)}\\right) \\Lambda{\\left(r,t \\right)} + 0.333333333333333 \\left(\\operatorname{N^{r}}{\\left(r,t \\right)} \\frac{\\partial}{\\partial r} \\Lambda{\\left(r,t \\right)} + \\Lambda{\\left(r,t \\right)} \\frac{\\partial}{\\partial r} \\operatorname{N^{r}}{\\left(r,t \\right)} - \\frac{\\partial}{\\partial t} \\Lambda{\\left(r,t \\right)}\\right) R{\\left(r,t \\right)}\\right) R{\\left(r,t \\right)}}{N{\\left(t \\right)} \\Lambda{\\left(r,t \\right)}} & 0\\\\0 & 0 & 0 & \\frac{\\left(- 0.333333333333333 \\left(\\operatorname{N^{r}}{\\left(r,t \\right)} \\frac{\\partial}{\\partial r} R{\\left(r,t \\right)} - \\frac{\\partial}{\\partial t} R{\\left(r,t \\right)}\\right) \\Lambda{\\left(r,t \\right)} + 0.333333333333333 \\left(\\operatorname{N^{r}}{\\left(r,t \\right)} \\frac{\\partial}{\\partial r} \\Lambda{\\left(r,t \\right)} + \\Lambda{\\left(r,t \\right)} \\frac{\\partial}{\\partial r} \\operatorname{N^{r}}{\\left(r,t \\right)} - \\frac{\\partial}{\\partial t} \\Lambda{\\left(r,t \\right)}\\right) R{\\left(r,t \\right)}\\right) R{\\left(r,t \\right)} \\sin^{2}{\\left(\\theta \\right)}}{N{\\left(t \\right)} \\Lambda{\\left(r,t \\right)}}\\end{matrix}\\right]$"
      ],
      "text/plain": [
       "Matrix([\n",
       "[(0.666666666666667*(N^r(r, t)*Derivative(R(r, t), r) - Derivative(R(r, t), t))*\\Lambda(r, t) - 0.666666666666667*(N^r(r, t)*Derivative(\\Lambda(r, t), r) + \\Lambda(r, t)*Derivative(N^r(r, t), r) - Derivative(\\Lambda(r, t), t))*R(r, t))*N^r(r, t)**2*\\Lambda(r, t)/(N(t)*R(r, t)), (0.666666666666667*(N^r(r, t)*Derivative(R(r, t), r) - Derivative(R(r, t), t))*\\Lambda(r, t) - 0.666666666666667*(N^r(r, t)*Derivative(\\Lambda(r, t), r) + \\Lambda(r, t)*Derivative(N^r(r, t), r) - Derivative(\\Lambda(r, t), t))*R(r, t))*N^r(r, t)*\\Lambda(r, t)/(N(t)*R(r, t)),                                                                                                                                                                                                                                                                        0,                                                                                                                                                                                                                                                                                       0],\n",
       "[   (0.666666666666667*(N^r(r, t)*Derivative(R(r, t), r) - Derivative(R(r, t), t))*\\Lambda(r, t) - 0.666666666666667*(N^r(r, t)*Derivative(\\Lambda(r, t), r) + \\Lambda(r, t)*Derivative(N^r(r, t), r) - Derivative(\\Lambda(r, t), t))*R(r, t))*N^r(r, t)*\\Lambda(r, t)/(N(t)*R(r, t)),           (0.666666666666667*(N^r(r, t)*Derivative(R(r, t), r) - Derivative(R(r, t), t))*\\Lambda(r, t) - 0.666666666666667*(N^r(r, t)*Derivative(\\Lambda(r, t), r) + \\Lambda(r, t)*Derivative(N^r(r, t), r) - Derivative(\\Lambda(r, t), t))*R(r, t))*\\Lambda(r, t)/(N(t)*R(r, t)),                                                                                                                                                                                                                                                                        0,                                                                                                                                                                                                                                                                                       0],\n",
       "[                                                                                                                                                                                                                                                                                   0,                                                                                                                                                                                                                                                                                 0, (-0.333333333333333*(N^r(r, t)*Derivative(R(r, t), r) - Derivative(R(r, t), t))*\\Lambda(r, t) + 0.333333333333333*(N^r(r, t)*Derivative(\\Lambda(r, t), r) + \\Lambda(r, t)*Derivative(N^r(r, t), r) - Derivative(\\Lambda(r, t), t))*R(r, t))*R(r, t)/(N(t)*\\Lambda(r, t)),                                                                                                                                                                                                                                                                                       0],\n",
       "[                                                                                                                                                                                                                                                                                   0,                                                                                                                                                                                                                                                                                 0,                                                                                                                                                                                                                                                                        0, (-0.333333333333333*(N^r(r, t)*Derivative(R(r, t), r) - Derivative(R(r, t), t))*\\Lambda(r, t) + 0.333333333333333*(N^r(r, t)*Derivative(\\Lambda(r, t), r) + \\Lambda(r, t)*Derivative(N^r(r, t), r) - Derivative(\\Lambda(r, t), t))*R(r, t))*R(r, t)*sin(\\theta)**2/(N(t)*\\Lambda(r, t))]])"
      ]
     },
     "metadata": {},
     "output_type": "display_data"
    }
   ],
   "source": [
    "sigma = ( (1/2 * (B_mu_nu + B_mu_nu.T) - 1/3*h_mu_nu*expansion) )\n",
    "display(simplify(sigma))\n"
   ]
  },
  {
   "cell_type": "code",
   "execution_count": 22,
   "id": "6e4440eb",
   "metadata": {},
   "outputs": [
    {
     "data": {
      "text/latex": [
       "$\\displaystyle \\frac{0.444444444444445 \\left(1.0 \\left(\\operatorname{N^{r}}{\\left(r,t \\right)} \\frac{\\partial}{\\partial r} R{\\left(r,t \\right)} - \\frac{\\partial}{\\partial t} R{\\left(r,t \\right)}\\right) \\Lambda{\\left(r,t \\right)} - \\left(\\operatorname{N^{r}}{\\left(r,t \\right)} \\frac{\\partial}{\\partial r} \\Lambda{\\left(r,t \\right)} + \\Lambda{\\left(r,t \\right)} \\frac{\\partial}{\\partial r} \\operatorname{N^{r}}{\\left(r,t \\right)} - \\frac{\\partial}{\\partial t} \\Lambda{\\left(r,t \\right)}\\right) R{\\left(r,t \\right)}\\right)^{2} \\left(\\left(\\operatorname{N^{r}}\\right)^{2}{\\left(r,t \\right)} + 1\\right) \\left(\\left(N^{2}{\\left(t \\right)} - \\left(\\operatorname{N^{r}}\\right)^{2}{\\left(r,t \\right)} \\Lambda^{2}{\\left(r,t \\right)}\\right)^{2} + \\left(N^{2}{\\left(t \\right)} - \\left(\\operatorname{N^{r}}\\right)^{2}{\\left(r,t \\right)} \\Lambda^{2}{\\left(r,t \\right)} - \\Lambda^{2}{\\left(r,t \\right)}\\right) \\left(\\operatorname{N^{r}}\\right)^{2}{\\left(r,t \\right)} \\Lambda^{2}{\\left(r,t \\right)} + \\left(\\operatorname{N^{r}}\\right)^{2}{\\left(r,t \\right)} \\Lambda^{4}{\\left(r,t \\right)}\\right) + 0.444444444444445 \\left(1.0 \\left(\\operatorname{N^{r}}{\\left(r,t \\right)} \\frac{\\partial}{\\partial r} R{\\left(r,t \\right)} - \\frac{\\partial}{\\partial t} R{\\left(r,t \\right)}\\right) \\Lambda{\\left(r,t \\right)} - \\left(\\operatorname{N^{r}}{\\left(r,t \\right)} \\frac{\\partial}{\\partial r} \\Lambda{\\left(r,t \\right)} + \\Lambda{\\left(r,t \\right)} \\frac{\\partial}{\\partial r} \\operatorname{N^{r}}{\\left(r,t \\right)} - \\frac{\\partial}{\\partial t} \\Lambda{\\left(r,t \\right)}\\right) R{\\left(r,t \\right)}\\right)^{2} \\left(\\left(\\operatorname{N^{r}}\\right)^{2}{\\left(r,t \\right)} + 1\\right) \\left(\\left(\\left(\\operatorname{N^{r}}\\right)^{2}{\\left(r,t \\right)} + 1\\right) \\Lambda^{2}{\\left(r,t \\right)} + N^{2}{\\left(t \\right)} - \\left(\\operatorname{N^{r}}\\right)^{2}{\\left(r,t \\right)} \\Lambda^{2}{\\left(r,t \\right)} - \\Lambda^{2}{\\left(r,t \\right)}\\right) \\left(\\operatorname{N^{r}}\\right)^{2}{\\left(r,t \\right)} \\Lambda^{2}{\\left(r,t \\right)} + 0.222222222222222 \\left(\\left(\\operatorname{N^{r}}{\\left(r,t \\right)} \\frac{\\partial}{\\partial r} R{\\left(r,t \\right)} - \\frac{\\partial}{\\partial t} R{\\left(r,t \\right)}\\right) \\Lambda{\\left(r,t \\right)} - 1.0 \\left(\\operatorname{N^{r}}{\\left(r,t \\right)} \\frac{\\partial}{\\partial r} \\Lambda{\\left(r,t \\right)} + \\Lambda{\\left(r,t \\right)} \\frac{\\partial}{\\partial r} \\operatorname{N^{r}}{\\left(r,t \\right)} - \\frac{\\partial}{\\partial t} \\Lambda{\\left(r,t \\right)}\\right) R{\\left(r,t \\right)}\\right)^{2} N^{4}{\\left(t \\right)}}{N^{6}{\\left(t \\right)} R^{2}{\\left(r,t \\right)} \\Lambda^{2}{\\left(r,t \\right)}}$"
      ],
      "text/plain": [
       "(0.444444444444445*(1.0*(N^r(r, t)*Derivative(R(r, t), r) - Derivative(R(r, t), t))*\\Lambda(r, t) - (N^r(r, t)*Derivative(\\Lambda(r, t), r) + \\Lambda(r, t)*Derivative(N^r(r, t), r) - Derivative(\\Lambda(r, t), t))*R(r, t))**2*(N^r(r, t)**2 + 1)*((N(t)**2 - N^r(r, t)**2*\\Lambda(r, t)**2)**2 + (N(t)**2 - N^r(r, t)**2*\\Lambda(r, t)**2 - \\Lambda(r, t)**2)*N^r(r, t)**2*\\Lambda(r, t)**2 + N^r(r, t)**2*\\Lambda(r, t)**4) + 0.444444444444445*(1.0*(N^r(r, t)*Derivative(R(r, t), r) - Derivative(R(r, t), t))*\\Lambda(r, t) - (N^r(r, t)*Derivative(\\Lambda(r, t), r) + \\Lambda(r, t)*Derivative(N^r(r, t), r) - Derivative(\\Lambda(r, t), t))*R(r, t))**2*(N^r(r, t)**2 + 1)*((N^r(r, t)**2 + 1)*\\Lambda(r, t)**2 + N(t)**2 - N^r(r, t)**2*\\Lambda(r, t)**2 - \\Lambda(r, t)**2)*N^r(r, t)**2*\\Lambda(r, t)**2 + 0.222222222222222*((N^r(r, t)*Derivative(R(r, t), r) - Derivative(R(r, t), t))*\\Lambda(r, t) - 1.0*(N^r(r, t)*Derivative(\\Lambda(r, t), r) + \\Lambda(r, t)*Derivative(N^r(r, t), r) - Derivative(\\Lambda(r, t), t))*R(r, t))**2*N(t)**4)/(N(t)**6*R(r, t)**2*\\Lambda(r, t)**2)"
      ]
     },
     "metadata": {},
     "output_type": "display_data"
    }
   ],
   "source": [
    "sigma_mu_nu = g_up*g_up*sigma\n",
    "\n",
    "# initial condition \n",
    "shear_square = 0 \n",
    "# summing component by component \n",
    "for i in range(0,4):\n",
    "    for j in range(0,4):\n",
    "        shear_square = shear_square + sigma_mu_nu[i,j]*sigma[i,j]\n",
    "shear_square=(simplify(shear_square))\n",
    "display(shear_square)"
   ]
  },
  {
   "cell_type": "code",
   "execution_count": 25,
   "id": "551bdb43",
   "metadata": {},
   "outputs": [
    {
     "data": {
      "text/latex": [
       "$\\displaystyle \\frac{0.444444444444445 \\left(\\operatorname{N^{r}}\\right)^{4}{\\left(r,t \\right)} \\left(\\frac{\\partial}{\\partial r} \\Lambda{\\left(r,t \\right)}\\right)^{2}}{N^{2}{\\left(t \\right)} \\Lambda^{2}{\\left(r,t \\right)}} - \\frac{0.888888888888889 \\left(\\operatorname{N^{r}}\\right)^{4}{\\left(r,t \\right)} \\frac{\\partial}{\\partial r} R{\\left(r,t \\right)} \\frac{\\partial}{\\partial r} \\Lambda{\\left(r,t \\right)}}{N^{2}{\\left(t \\right)} R{\\left(r,t \\right)} \\Lambda{\\left(r,t \\right)}} + \\frac{0.444444444444444 \\left(\\operatorname{N^{r}}\\right)^{4}{\\left(r,t \\right)} \\left(\\frac{\\partial}{\\partial r} R{\\left(r,t \\right)}\\right)^{2}}{N^{2}{\\left(t \\right)} R^{2}{\\left(r,t \\right)}} + \\frac{0.888888888888889 \\left(\\operatorname{N^{r}}\\right)^{3}{\\left(r,t \\right)} \\frac{\\partial}{\\partial r} \\operatorname{N^{r}}{\\left(r,t \\right)} \\frac{\\partial}{\\partial r} \\Lambda{\\left(r,t \\right)}}{N^{2}{\\left(t \\right)} \\Lambda{\\left(r,t \\right)}} - \\frac{0.888888888888889 \\left(\\operatorname{N^{r}}\\right)^{3}{\\left(r,t \\right)} \\frac{\\partial}{\\partial r} \\Lambda{\\left(r,t \\right)} \\frac{\\partial}{\\partial t} \\Lambda{\\left(r,t \\right)}}{N^{2}{\\left(t \\right)} \\Lambda^{2}{\\left(r,t \\right)}} - \\frac{0.888888888888889 \\left(\\operatorname{N^{r}}\\right)^{3}{\\left(r,t \\right)} \\frac{\\partial}{\\partial r} \\operatorname{N^{r}}{\\left(r,t \\right)} \\frac{\\partial}{\\partial r} R{\\left(r,t \\right)}}{N^{2}{\\left(t \\right)} R{\\left(r,t \\right)}} + \\frac{0.888888888888889 \\left(\\operatorname{N^{r}}\\right)^{3}{\\left(r,t \\right)} \\frac{\\partial}{\\partial r} R{\\left(r,t \\right)} \\frac{\\partial}{\\partial t} \\Lambda{\\left(r,t \\right)}}{N^{2}{\\left(t \\right)} R{\\left(r,t \\right)} \\Lambda{\\left(r,t \\right)}} + \\frac{0.888888888888889 \\left(\\operatorname{N^{r}}\\right)^{3}{\\left(r,t \\right)} \\frac{\\partial}{\\partial t} R{\\left(r,t \\right)} \\frac{\\partial}{\\partial r} \\Lambda{\\left(r,t \\right)}}{N^{2}{\\left(t \\right)} R{\\left(r,t \\right)} \\Lambda{\\left(r,t \\right)}} - \\frac{0.888888888888889 \\left(\\operatorname{N^{r}}\\right)^{3}{\\left(r,t \\right)} \\frac{\\partial}{\\partial r} R{\\left(r,t \\right)} \\frac{\\partial}{\\partial t} R{\\left(r,t \\right)}}{N^{2}{\\left(t \\right)} R^{2}{\\left(r,t \\right)}} + \\frac{0.444444444444445 \\left(\\operatorname{N^{r}}\\right)^{2}{\\left(r,t \\right)} \\left(\\frac{\\partial}{\\partial r} \\operatorname{N^{r}}{\\left(r,t \\right)}\\right)^{2}}{N^{2}{\\left(t \\right)}} - \\frac{0.888888888888889 \\left(\\operatorname{N^{r}}\\right)^{2}{\\left(r,t \\right)} \\frac{\\partial}{\\partial r} \\operatorname{N^{r}}{\\left(r,t \\right)} \\frac{\\partial}{\\partial t} \\Lambda{\\left(r,t \\right)}}{N^{2}{\\left(t \\right)} \\Lambda{\\left(r,t \\right)}} + \\frac{0.666666666666667 \\left(\\operatorname{N^{r}}\\right)^{2}{\\left(r,t \\right)} \\left(\\frac{\\partial}{\\partial r} \\Lambda{\\left(r,t \\right)}\\right)^{2}}{N^{2}{\\left(t \\right)} \\Lambda^{2}{\\left(r,t \\right)}} + \\frac{0.444444444444445 \\left(\\operatorname{N^{r}}\\right)^{2}{\\left(r,t \\right)} \\left(\\frac{\\partial}{\\partial t} \\Lambda{\\left(r,t \\right)}\\right)^{2}}{N^{2}{\\left(t \\right)} \\Lambda^{2}{\\left(r,t \\right)}} + \\frac{0.888888888888889 \\left(\\operatorname{N^{r}}\\right)^{2}{\\left(r,t \\right)} \\frac{\\partial}{\\partial r} \\operatorname{N^{r}}{\\left(r,t \\right)} \\frac{\\partial}{\\partial t} R{\\left(r,t \\right)}}{N^{2}{\\left(t \\right)} R{\\left(r,t \\right)}} - \\frac{1.33333333333333 \\left(\\operatorname{N^{r}}\\right)^{2}{\\left(r,t \\right)} \\frac{\\partial}{\\partial r} R{\\left(r,t \\right)} \\frac{\\partial}{\\partial r} \\Lambda{\\left(r,t \\right)}}{N^{2}{\\left(t \\right)} R{\\left(r,t \\right)} \\Lambda{\\left(r,t \\right)}} - \\frac{0.888888888888889 \\left(\\operatorname{N^{r}}\\right)^{2}{\\left(r,t \\right)} \\frac{\\partial}{\\partial t} R{\\left(r,t \\right)} \\frac{\\partial}{\\partial t} \\Lambda{\\left(r,t \\right)}}{N^{2}{\\left(t \\right)} R{\\left(r,t \\right)} \\Lambda{\\left(r,t \\right)}} + \\frac{0.666666666666667 \\left(\\operatorname{N^{r}}\\right)^{2}{\\left(r,t \\right)} \\left(\\frac{\\partial}{\\partial r} R{\\left(r,t \\right)}\\right)^{2}}{N^{2}{\\left(t \\right)} R^{2}{\\left(r,t \\right)}} + \\frac{0.444444444444444 \\left(\\operatorname{N^{r}}\\right)^{2}{\\left(r,t \\right)} \\left(\\frac{\\partial}{\\partial t} R{\\left(r,t \\right)}\\right)^{2}}{N^{2}{\\left(t \\right)} R^{2}{\\left(r,t \\right)}} + \\frac{1.33333333333333 \\operatorname{N^{r}}{\\left(r,t \\right)} \\frac{\\partial}{\\partial r} \\operatorname{N^{r}}{\\left(r,t \\right)} \\frac{\\partial}{\\partial r} \\Lambda{\\left(r,t \\right)}}{N^{2}{\\left(t \\right)} \\Lambda{\\left(r,t \\right)}} - \\frac{1.33333333333333 \\operatorname{N^{r}}{\\left(r,t \\right)} \\frac{\\partial}{\\partial r} \\Lambda{\\left(r,t \\right)} \\frac{\\partial}{\\partial t} \\Lambda{\\left(r,t \\right)}}{N^{2}{\\left(t \\right)} \\Lambda^{2}{\\left(r,t \\right)}} - \\frac{1.33333333333333 \\operatorname{N^{r}}{\\left(r,t \\right)} \\frac{\\partial}{\\partial r} \\operatorname{N^{r}}{\\left(r,t \\right)} \\frac{\\partial}{\\partial r} R{\\left(r,t \\right)}}{N^{2}{\\left(t \\right)} R{\\left(r,t \\right)}} + \\frac{1.33333333333333 \\operatorname{N^{r}}{\\left(r,t \\right)} \\frac{\\partial}{\\partial r} R{\\left(r,t \\right)} \\frac{\\partial}{\\partial t} \\Lambda{\\left(r,t \\right)}}{N^{2}{\\left(t \\right)} R{\\left(r,t \\right)} \\Lambda{\\left(r,t \\right)}} + \\frac{1.33333333333333 \\operatorname{N^{r}}{\\left(r,t \\right)} \\frac{\\partial}{\\partial t} R{\\left(r,t \\right)} \\frac{\\partial}{\\partial r} \\Lambda{\\left(r,t \\right)}}{N^{2}{\\left(t \\right)} R{\\left(r,t \\right)} \\Lambda{\\left(r,t \\right)}} - \\frac{1.33333333333333 \\operatorname{N^{r}}{\\left(r,t \\right)} \\frac{\\partial}{\\partial r} R{\\left(r,t \\right)} \\frac{\\partial}{\\partial t} R{\\left(r,t \\right)}}{N^{2}{\\left(t \\right)} R^{2}{\\left(r,t \\right)}} + \\frac{0.666666666666667 \\left(\\frac{\\partial}{\\partial r} \\operatorname{N^{r}}{\\left(r,t \\right)}\\right)^{2}}{N^{2}{\\left(t \\right)}} - \\frac{1.33333333333333 \\frac{\\partial}{\\partial r} \\operatorname{N^{r}}{\\left(r,t \\right)} \\frac{\\partial}{\\partial t} \\Lambda{\\left(r,t \\right)}}{N^{2}{\\left(t \\right)} \\Lambda{\\left(r,t \\right)}} + \\frac{0.666666666666667 \\left(\\frac{\\partial}{\\partial t} \\Lambda{\\left(r,t \\right)}\\right)^{2}}{N^{2}{\\left(t \\right)} \\Lambda^{2}{\\left(r,t \\right)}} + \\frac{1.33333333333333 \\frac{\\partial}{\\partial r} \\operatorname{N^{r}}{\\left(r,t \\right)} \\frac{\\partial}{\\partial t} R{\\left(r,t \\right)}}{N^{2}{\\left(t \\right)} R{\\left(r,t \\right)}} - \\frac{1.33333333333333 \\frac{\\partial}{\\partial t} R{\\left(r,t \\right)} \\frac{\\partial}{\\partial t} \\Lambda{\\left(r,t \\right)}}{N^{2}{\\left(t \\right)} R{\\left(r,t \\right)} \\Lambda{\\left(r,t \\right)}} + \\frac{0.666666666666667 \\left(\\frac{\\partial}{\\partial t} R{\\left(r,t \\right)}\\right)^{2}}{N^{2}{\\left(t \\right)} R^{2}{\\left(r,t \\right)}}$"
      ],
      "text/plain": [
       "0.444444444444445*N^r(r, t)**4*Derivative(\\Lambda(r, t), r)**2/(N(t)**2*\\Lambda(r, t)**2) - 0.888888888888889*N^r(r, t)**4*Derivative(R(r, t), r)*Derivative(\\Lambda(r, t), r)/(N(t)**2*R(r, t)*\\Lambda(r, t)) + 0.444444444444444*N^r(r, t)**4*Derivative(R(r, t), r)**2/(N(t)**2*R(r, t)**2) + 0.888888888888889*N^r(r, t)**3*Derivative(N^r(r, t), r)*Derivative(\\Lambda(r, t), r)/(N(t)**2*\\Lambda(r, t)) - 0.888888888888889*N^r(r, t)**3*Derivative(\\Lambda(r, t), r)*Derivative(\\Lambda(r, t), t)/(N(t)**2*\\Lambda(r, t)**2) - 0.888888888888889*N^r(r, t)**3*Derivative(N^r(r, t), r)*Derivative(R(r, t), r)/(N(t)**2*R(r, t)) + 0.888888888888889*N^r(r, t)**3*Derivative(R(r, t), r)*Derivative(\\Lambda(r, t), t)/(N(t)**2*R(r, t)*\\Lambda(r, t)) + 0.888888888888889*N^r(r, t)**3*Derivative(R(r, t), t)*Derivative(\\Lambda(r, t), r)/(N(t)**2*R(r, t)*\\Lambda(r, t)) - 0.888888888888889*N^r(r, t)**3*Derivative(R(r, t), r)*Derivative(R(r, t), t)/(N(t)**2*R(r, t)**2) + 0.444444444444445*N^r(r, t)**2*Derivative(N^r(r, t), r)**2/N(t)**2 - 0.888888888888889*N^r(r, t)**2*Derivative(N^r(r, t), r)*Derivative(\\Lambda(r, t), t)/(N(t)**2*\\Lambda(r, t)) + 0.666666666666667*N^r(r, t)**2*Derivative(\\Lambda(r, t), r)**2/(N(t)**2*\\Lambda(r, t)**2) + 0.444444444444445*N^r(r, t)**2*Derivative(\\Lambda(r, t), t)**2/(N(t)**2*\\Lambda(r, t)**2) + 0.888888888888889*N^r(r, t)**2*Derivative(N^r(r, t), r)*Derivative(R(r, t), t)/(N(t)**2*R(r, t)) - 1.33333333333333*N^r(r, t)**2*Derivative(R(r, t), r)*Derivative(\\Lambda(r, t), r)/(N(t)**2*R(r, t)*\\Lambda(r, t)) - 0.888888888888889*N^r(r, t)**2*Derivative(R(r, t), t)*Derivative(\\Lambda(r, t), t)/(N(t)**2*R(r, t)*\\Lambda(r, t)) + 0.666666666666667*N^r(r, t)**2*Derivative(R(r, t), r)**2/(N(t)**2*R(r, t)**2) + 0.444444444444444*N^r(r, t)**2*Derivative(R(r, t), t)**2/(N(t)**2*R(r, t)**2) + 1.33333333333333*N^r(r, t)*Derivative(N^r(r, t), r)*Derivative(\\Lambda(r, t), r)/(N(t)**2*\\Lambda(r, t)) - 1.33333333333333*N^r(r, t)*Derivative(\\Lambda(r, t), r)*Derivative(\\Lambda(r, t), t)/(N(t)**2*\\Lambda(r, t)**2) - 1.33333333333333*N^r(r, t)*Derivative(N^r(r, t), r)*Derivative(R(r, t), r)/(N(t)**2*R(r, t)) + 1.33333333333333*N^r(r, t)*Derivative(R(r, t), r)*Derivative(\\Lambda(r, t), t)/(N(t)**2*R(r, t)*\\Lambda(r, t)) + 1.33333333333333*N^r(r, t)*Derivative(R(r, t), t)*Derivative(\\Lambda(r, t), r)/(N(t)**2*R(r, t)*\\Lambda(r, t)) - 1.33333333333333*N^r(r, t)*Derivative(R(r, t), r)*Derivative(R(r, t), t)/(N(t)**2*R(r, t)**2) + 0.666666666666667*Derivative(N^r(r, t), r)**2/N(t)**2 - 1.33333333333333*Derivative(N^r(r, t), r)*Derivative(\\Lambda(r, t), t)/(N(t)**2*\\Lambda(r, t)) + 0.666666666666667*Derivative(\\Lambda(r, t), t)**2/(N(t)**2*\\Lambda(r, t)**2) + 1.33333333333333*Derivative(N^r(r, t), r)*Derivative(R(r, t), t)/(N(t)**2*R(r, t)) - 1.33333333333333*Derivative(R(r, t), t)*Derivative(\\Lambda(r, t), t)/(N(t)**2*R(r, t)*\\Lambda(r, t)) + 0.666666666666667*Derivative(R(r, t), t)**2/(N(t)**2*R(r, t)**2)"
      ]
     },
     "execution_count": 25,
     "metadata": {},
     "output_type": "execute_result"
    }
   ],
   "source": [
    "expand(shear_square)"
   ]
  },
  {
   "cell_type": "markdown",
   "id": "9c4e82b6",
   "metadata": {},
   "source": [
    "# h)"
   ]
  },
  {
   "cell_type": "code",
   "execution_count": 23,
   "id": "fc6b3927",
   "metadata": {},
   "outputs": [
    {
     "data": {
      "text/latex": [
       "$\\displaystyle \\left[\\begin{matrix}0 & 0 & 0 & 0\\\\0 & 0 & 0 & 0\\\\0 & 0 & 0 & 0\\\\0 & 0 & 0 & 0\\end{matrix}\\right]$"
      ],
      "text/plain": [
       "Matrix([\n",
       "[0, 0, 0, 0],\n",
       "[0, 0, 0, 0],\n",
       "[0, 0, 0, 0],\n",
       "[0, 0, 0, 0]])"
      ]
     },
     "metadata": {},
     "output_type": "display_data"
    }
   ],
   "source": [
    "omega = simplify(1/2 *B_mu_nu - 1/2*B_mu_nu.transpose())\n",
    "display(omega)"
   ]
  },
  {
   "cell_type": "markdown",
   "id": "592c056f",
   "metadata": {},
   "source": [
    "# h)i)"
   ]
  },
  {
   "cell_type": "code",
   "execution_count": 24,
   "id": "e3e18d17",
   "metadata": {},
   "outputs": [
    {
     "data": {
      "text/latex": [
       "$\\displaystyle 0$"
      ],
      "text/plain": [
       "0"
      ]
     },
     "metadata": {},
     "output_type": "display_data"
    }
   ],
   "source": [
    "omega_mu_nu = g_up*g_up*omega\n",
    "\n",
    "# initial condition \n",
    "omega_square = 0 \n",
    "for i in range(0,4):\n",
    "    for j in range(0,4):\n",
    "        omega_square = omega_square + omega_mu_nu[i,j]*sigma[i,j]\n",
    "# vorticity \n",
    "display(expand(simplify(omega_square)))\n"
   ]
  },
  {
   "cell_type": "markdown",
   "id": "92169d49",
   "metadata": {},
   "source": [
    "# Raychaudhuri equation"
   ]
  },
  {
   "cell_type": "code",
   "execution_count": null,
   "id": "56c35297",
   "metadata": {},
   "outputs": [],
   "source": [
    "# R_mu_nu=symbols('R_mu_nu')\n",
    "# display(R_mu_nu)\n",
    "\n",
    "R_mu_nu=MutableDenseNDimArray(np.zeros((4,)*4))\n",
    "for i in range(0,4):\n",
    "    for j in range(0,4):\n",
    "        for k in range(0,4):\n",
    "            for l in range(0,4):\n",
    "                sum=0\n",
    "                for m in range(0,4):\n",
    "                    sum+=  C[i,k,m]*C[m,l,j] -  C[i,l,m]*C[m,k,j] \n",
    "                R_mu_nu[i,j,k,l]= sum + (   diff(C[i,l,j],xlist[0][k]) - diff(C[i,k,j],xlist[0][l])   )       \n",
    "# Ricci tensor \n",
    "Ricci_tensor=MutableDenseNDimArray(np.zeros((4,)*2))\n",
    "# adding it component by component\n",
    "for i in range(4):\n",
    "    for k in range(4):\n",
    "        sum =0 \n",
    "        for j in range(4):\n",
    "            sum += R_up[j,i,j,k]\n",
    "        Ricci_tensor[i,k]=sum\n",
    "\n",
    "# R_mu_nu\n",
    "R_mu_nu_U_mu_U_nu=0\n",
    "for i in range(4):\n",
    "    for j in range(4):\n",
    "        R_mu_nu_U_mu_U_nu+= Ric_t[i,j] * U_mu_up[i] * U_mu_up[j]\n",
    "        \n"
   ]
  },
  {
   "cell_type": "code",
   "execution_count": 68,
   "id": "489ba81b",
   "metadata": {},
   "outputs": [
    {
     "data": {
      "text/latex": [
       "$\\displaystyle - \\frac{0.444444444444445 \\left(1.0 \\left(\\operatorname{N^{r}}{\\left(r,t \\right)} \\frac{\\partial}{\\partial r} R{\\left(r,t \\right)} - \\frac{\\partial}{\\partial t} R{\\left(r,t \\right)}\\right) \\Lambda{\\left(r,t \\right)} - \\left(\\operatorname{N^{r}}{\\left(r,t \\right)} \\frac{\\partial}{\\partial r} \\Lambda{\\left(r,t \\right)} + \\Lambda{\\left(r,t \\right)} \\frac{\\partial}{\\partial r} \\operatorname{N^{r}}{\\left(r,t \\right)} - \\frac{\\partial}{\\partial t} \\Lambda{\\left(r,t \\right)}\\right) R{\\left(r,t \\right)}\\right)^{2} \\left(\\left(\\operatorname{N^{r}}\\right)^{2}{\\left(r,t \\right)} + 1\\right) \\left(\\left(N^{2}{\\left(t \\right)} - \\left(\\operatorname{N^{r}}\\right)^{2}{\\left(r,t \\right)} \\Lambda^{2}{\\left(r,t \\right)}\\right)^{2} - \\left(- N^{2}{\\left(t \\right)} + \\left(\\operatorname{N^{r}}\\right)^{2}{\\left(r,t \\right)} \\Lambda^{2}{\\left(r,t \\right)} + \\Lambda^{2}{\\left(r,t \\right)}\\right) \\left(\\operatorname{N^{r}}\\right)^{2}{\\left(r,t \\right)} \\Lambda^{2}{\\left(r,t \\right)} + \\left(\\operatorname{N^{r}}\\right)^{2}{\\left(r,t \\right)} \\Lambda^{4}{\\left(r,t \\right)}\\right) + 0.444444444444445 \\left(1.0 \\left(\\operatorname{N^{r}}{\\left(r,t \\right)} \\frac{\\partial}{\\partial r} R{\\left(r,t \\right)} - \\frac{\\partial}{\\partial t} R{\\left(r,t \\right)}\\right) \\Lambda{\\left(r,t \\right)} - \\left(\\operatorname{N^{r}}{\\left(r,t \\right)} \\frac{\\partial}{\\partial r} \\Lambda{\\left(r,t \\right)} + \\Lambda{\\left(r,t \\right)} \\frac{\\partial}{\\partial r} \\operatorname{N^{r}}{\\left(r,t \\right)} - \\frac{\\partial}{\\partial t} \\Lambda{\\left(r,t \\right)}\\right) R{\\left(r,t \\right)}\\right)^{2} \\left(\\left(\\operatorname{N^{r}}\\right)^{2}{\\left(r,t \\right)} + 1\\right) \\left(\\left(\\left(\\operatorname{N^{r}}\\right)^{2}{\\left(r,t \\right)} + 1\\right) \\Lambda^{2}{\\left(r,t \\right)} + N^{2}{\\left(t \\right)} - \\left(\\operatorname{N^{r}}\\right)^{2}{\\left(r,t \\right)} \\Lambda^{2}{\\left(r,t \\right)} - \\Lambda^{2}{\\left(r,t \\right)}\\right) \\left(\\operatorname{N^{r}}\\right)^{2}{\\left(r,t \\right)} \\Lambda^{2}{\\left(r,t \\right)} + 0.222222222222222 \\left(\\left(\\operatorname{N^{r}}{\\left(r,t \\right)} \\frac{\\partial}{\\partial r} R{\\left(r,t \\right)} - \\frac{\\partial}{\\partial t} R{\\left(r,t \\right)}\\right) \\Lambda{\\left(r,t \\right)} - 1.0 \\left(\\operatorname{N^{r}}{\\left(r,t \\right)} \\frac{\\partial}{\\partial r} \\Lambda{\\left(r,t \\right)} + \\Lambda{\\left(r,t \\right)} \\frac{\\partial}{\\partial r} \\operatorname{N^{r}}{\\left(r,t \\right)} - \\frac{\\partial}{\\partial t} \\Lambda{\\left(r,t \\right)}\\right) R{\\left(r,t \\right)}\\right)^{2} N^{4}{\\left(t \\right)} + 1.33333333333333 \\left(\\left(\\operatorname{N^{r}}{\\left(r,t \\right)} \\frac{\\partial}{\\partial r} R{\\left(r,t \\right)} - \\frac{\\partial}{\\partial t} R{\\left(r,t \\right)}\\right) \\Lambda{\\left(r,t \\right)} + 0.5 \\left(\\operatorname{N^{r}}{\\left(r,t \\right)} \\frac{\\partial}{\\partial r} \\Lambda{\\left(r,t \\right)} + \\Lambda{\\left(r,t \\right)} \\frac{\\partial}{\\partial r} \\operatorname{N^{r}}{\\left(r,t \\right)} - \\frac{\\partial}{\\partial t} \\Lambda{\\left(r,t \\right)}\\right) R{\\left(r,t \\right)}\\right)^{2} N^{4}{\\left(t \\right)}}{N^{6}{\\left(t \\right)} R^{2}{\\left(r,t \\right)} \\Lambda^{2}{\\left(r,t \\right)}}$"
      ],
      "text/plain": [
       "-(0.444444444444445*(1.0*(N^r(r, t)*Derivative(R(r, t), r) - Derivative(R(r, t), t))*\\Lambda(r, t) - (N^r(r, t)*Derivative(\\Lambda(r, t), r) + \\Lambda(r, t)*Derivative(N^r(r, t), r) - Derivative(\\Lambda(r, t), t))*R(r, t))**2*(N^r(r, t)**2 + 1)*((N(t)**2 - N^r(r, t)**2*\\Lambda(r, t)**2)**2 - (-N(t)**2 + N^r(r, t)**2*\\Lambda(r, t)**2 + \\Lambda(r, t)**2)*N^r(r, t)**2*\\Lambda(r, t)**2 + N^r(r, t)**2*\\Lambda(r, t)**4) + 0.444444444444445*(1.0*(N^r(r, t)*Derivative(R(r, t), r) - Derivative(R(r, t), t))*\\Lambda(r, t) - (N^r(r, t)*Derivative(\\Lambda(r, t), r) + \\Lambda(r, t)*Derivative(N^r(r, t), r) - Derivative(\\Lambda(r, t), t))*R(r, t))**2*(N^r(r, t)**2 + 1)*((N^r(r, t)**2 + 1)*\\Lambda(r, t)**2 + N(t)**2 - N^r(r, t)**2*\\Lambda(r, t)**2 - \\Lambda(r, t)**2)*N^r(r, t)**2*\\Lambda(r, t)**2 + 0.222222222222222*((N^r(r, t)*Derivative(R(r, t), r) - Derivative(R(r, t), t))*\\Lambda(r, t) - 1.0*(N^r(r, t)*Derivative(\\Lambda(r, t), r) + \\Lambda(r, t)*Derivative(N^r(r, t), r) - Derivative(\\Lambda(r, t), t))*R(r, t))**2*N(t)**4 + 1.33333333333333*((N^r(r, t)*Derivative(R(r, t), r) - Derivative(R(r, t), t))*\\Lambda(r, t) + 0.5*(N^r(r, t)*Derivative(\\Lambda(r, t), r) + \\Lambda(r, t)*Derivative(N^r(r, t), r) - Derivative(\\Lambda(r, t), t))*R(r, t))**2*N(t)**4)/(N(t)**6*R(r, t)**2*\\Lambda(r, t)**2)"
      ]
     },
     "metadata": {},
     "output_type": "display_data"
    }
   ],
   "source": [
    "raychaudhuri =(-(expansion**2 /3) - shear_square + omega_square -RUU)\n",
    "display(simplify(raychaudhuri))"
   ]
  },
  {
   "cell_type": "code",
   "execution_count": 69,
   "id": "cd79d64c",
   "metadata": {},
   "outputs": [
    {
     "data": {
      "text/latex": [
       "$\\displaystyle - \\frac{0.444444444444445 \\left(\\operatorname{N^{r}}\\right)^{4}{\\left(r,t \\right)} \\left(\\frac{\\partial}{\\partial r} \\Lambda{\\left(r,t \\right)}\\right)^{2}}{N^{2}{\\left(t \\right)} \\Lambda^{2}{\\left(r,t \\right)}} + \\frac{0.888888888888889 \\left(\\operatorname{N^{r}}\\right)^{4}{\\left(r,t \\right)} \\frac{\\partial}{\\partial r} R{\\left(r,t \\right)} \\frac{\\partial}{\\partial r} \\Lambda{\\left(r,t \\right)}}{N^{2}{\\left(t \\right)} R{\\left(r,t \\right)} \\Lambda{\\left(r,t \\right)}} - \\frac{0.444444444444444 \\left(\\operatorname{N^{r}}\\right)^{4}{\\left(r,t \\right)} \\left(\\frac{\\partial}{\\partial r} R{\\left(r,t \\right)}\\right)^{2}}{N^{2}{\\left(t \\right)} R^{2}{\\left(r,t \\right)}} - \\frac{0.888888888888889 \\left(\\operatorname{N^{r}}\\right)^{3}{\\left(r,t \\right)} \\frac{\\partial}{\\partial r} \\operatorname{N^{r}}{\\left(r,t \\right)} \\frac{\\partial}{\\partial r} \\Lambda{\\left(r,t \\right)}}{N^{2}{\\left(t \\right)} \\Lambda{\\left(r,t \\right)}} + \\frac{0.888888888888889 \\left(\\operatorname{N^{r}}\\right)^{3}{\\left(r,t \\right)} \\frac{\\partial}{\\partial r} \\Lambda{\\left(r,t \\right)} \\frac{\\partial}{\\partial t} \\Lambda{\\left(r,t \\right)}}{N^{2}{\\left(t \\right)} \\Lambda^{2}{\\left(r,t \\right)}} + \\frac{0.888888888888889 \\left(\\operatorname{N^{r}}\\right)^{3}{\\left(r,t \\right)} \\frac{\\partial}{\\partial r} \\operatorname{N^{r}}{\\left(r,t \\right)} \\frac{\\partial}{\\partial r} R{\\left(r,t \\right)}}{N^{2}{\\left(t \\right)} R{\\left(r,t \\right)}} - \\frac{0.888888888888889 \\left(\\operatorname{N^{r}}\\right)^{3}{\\left(r,t \\right)} \\frac{\\partial}{\\partial r} R{\\left(r,t \\right)} \\frac{\\partial}{\\partial t} \\Lambda{\\left(r,t \\right)}}{N^{2}{\\left(t \\right)} R{\\left(r,t \\right)} \\Lambda{\\left(r,t \\right)}} - \\frac{0.888888888888889 \\left(\\operatorname{N^{r}}\\right)^{3}{\\left(r,t \\right)} \\frac{\\partial}{\\partial t} R{\\left(r,t \\right)} \\frac{\\partial}{\\partial r} \\Lambda{\\left(r,t \\right)}}{N^{2}{\\left(t \\right)} R{\\left(r,t \\right)} \\Lambda{\\left(r,t \\right)}} + \\frac{0.888888888888889 \\left(\\operatorname{N^{r}}\\right)^{3}{\\left(r,t \\right)} \\frac{\\partial}{\\partial r} R{\\left(r,t \\right)} \\frac{\\partial}{\\partial t} R{\\left(r,t \\right)}}{N^{2}{\\left(t \\right)} R^{2}{\\left(r,t \\right)}} - \\frac{0.444444444444445 \\left(\\operatorname{N^{r}}\\right)^{2}{\\left(r,t \\right)} \\left(\\frac{\\partial}{\\partial r} \\operatorname{N^{r}}{\\left(r,t \\right)}\\right)^{2}}{N^{2}{\\left(t \\right)}} + \\frac{0.888888888888889 \\left(\\operatorname{N^{r}}\\right)^{2}{\\left(r,t \\right)} \\frac{\\partial}{\\partial r} \\operatorname{N^{r}}{\\left(r,t \\right)} \\frac{\\partial}{\\partial t} \\Lambda{\\left(r,t \\right)}}{N^{2}{\\left(t \\right)} \\Lambda{\\left(r,t \\right)}} - \\frac{1.0 \\left(\\operatorname{N^{r}}\\right)^{2}{\\left(r,t \\right)} \\left(\\frac{\\partial}{\\partial r} \\Lambda{\\left(r,t \\right)}\\right)^{2}}{N^{2}{\\left(t \\right)} \\Lambda^{2}{\\left(r,t \\right)}} - \\frac{0.444444444444445 \\left(\\operatorname{N^{r}}\\right)^{2}{\\left(r,t \\right)} \\left(\\frac{\\partial}{\\partial t} \\Lambda{\\left(r,t \\right)}\\right)^{2}}{N^{2}{\\left(t \\right)} \\Lambda^{2}{\\left(r,t \\right)}} - \\frac{0.888888888888889 \\left(\\operatorname{N^{r}}\\right)^{2}{\\left(r,t \\right)} \\frac{\\partial}{\\partial r} \\operatorname{N^{r}}{\\left(r,t \\right)} \\frac{\\partial}{\\partial t} R{\\left(r,t \\right)}}{N^{2}{\\left(t \\right)} R{\\left(r,t \\right)}} + \\frac{2.22044604925031 \\cdot 10^{-16} \\left(\\operatorname{N^{r}}\\right)^{2}{\\left(r,t \\right)} \\frac{\\partial}{\\partial r} R{\\left(r,t \\right)} \\frac{\\partial}{\\partial r} \\Lambda{\\left(r,t \\right)}}{N^{2}{\\left(t \\right)} R{\\left(r,t \\right)} \\Lambda{\\left(r,t \\right)}} + \\frac{0.888888888888889 \\left(\\operatorname{N^{r}}\\right)^{2}{\\left(r,t \\right)} \\frac{\\partial}{\\partial t} R{\\left(r,t \\right)} \\frac{\\partial}{\\partial t} \\Lambda{\\left(r,t \\right)}}{N^{2}{\\left(t \\right)} R{\\left(r,t \\right)} \\Lambda{\\left(r,t \\right)}} - \\frac{2.0 \\left(\\operatorname{N^{r}}\\right)^{2}{\\left(r,t \\right)} \\left(\\frac{\\partial}{\\partial r} R{\\left(r,t \\right)}\\right)^{2}}{N^{2}{\\left(t \\right)} R^{2}{\\left(r,t \\right)}} - \\frac{0.444444444444444 \\left(\\operatorname{N^{r}}\\right)^{2}{\\left(r,t \\right)} \\left(\\frac{\\partial}{\\partial t} R{\\left(r,t \\right)}\\right)^{2}}{N^{2}{\\left(t \\right)} R^{2}{\\left(r,t \\right)}} - \\frac{2.0 \\operatorname{N^{r}}{\\left(r,t \\right)} \\frac{\\partial}{\\partial r} \\operatorname{N^{r}}{\\left(r,t \\right)} \\frac{\\partial}{\\partial r} \\Lambda{\\left(r,t \\right)}}{N^{2}{\\left(t \\right)} \\Lambda{\\left(r,t \\right)}} + \\frac{2.0 \\operatorname{N^{r}}{\\left(r,t \\right)} \\frac{\\partial}{\\partial r} \\Lambda{\\left(r,t \\right)} \\frac{\\partial}{\\partial t} \\Lambda{\\left(r,t \\right)}}{N^{2}{\\left(t \\right)} \\Lambda^{2}{\\left(r,t \\right)}} + \\frac{2.22044604925031 \\cdot 10^{-16} \\operatorname{N^{r}}{\\left(r,t \\right)} \\frac{\\partial}{\\partial r} \\operatorname{N^{r}}{\\left(r,t \\right)} \\frac{\\partial}{\\partial r} R{\\left(r,t \\right)}}{N^{2}{\\left(t \\right)} R{\\left(r,t \\right)}} - \\frac{2.22044604925031 \\cdot 10^{-16} \\operatorname{N^{r}}{\\left(r,t \\right)} \\frac{\\partial}{\\partial r} R{\\left(r,t \\right)} \\frac{\\partial}{\\partial t} \\Lambda{\\left(r,t \\right)}}{N^{2}{\\left(t \\right)} R{\\left(r,t \\right)} \\Lambda{\\left(r,t \\right)}} - \\frac{2.22044604925031 \\cdot 10^{-16} \\operatorname{N^{r}}{\\left(r,t \\right)} \\frac{\\partial}{\\partial t} R{\\left(r,t \\right)} \\frac{\\partial}{\\partial r} \\Lambda{\\left(r,t \\right)}}{N^{2}{\\left(t \\right)} R{\\left(r,t \\right)} \\Lambda{\\left(r,t \\right)}} + \\frac{4.0 \\operatorname{N^{r}}{\\left(r,t \\right)} \\frac{\\partial}{\\partial r} R{\\left(r,t \\right)} \\frac{\\partial}{\\partial t} R{\\left(r,t \\right)}}{N^{2}{\\left(t \\right)} R^{2}{\\left(r,t \\right)}} - \\frac{1.0 \\left(\\frac{\\partial}{\\partial r} \\operatorname{N^{r}}{\\left(r,t \\right)}\\right)^{2}}{N^{2}{\\left(t \\right)}} + \\frac{2.0 \\frac{\\partial}{\\partial r} \\operatorname{N^{r}}{\\left(r,t \\right)} \\frac{\\partial}{\\partial t} \\Lambda{\\left(r,t \\right)}}{N^{2}{\\left(t \\right)} \\Lambda{\\left(r,t \\right)}} - \\frac{1.0 \\left(\\frac{\\partial}{\\partial t} \\Lambda{\\left(r,t \\right)}\\right)^{2}}{N^{2}{\\left(t \\right)} \\Lambda^{2}{\\left(r,t \\right)}} - \\frac{2.22044604925031 \\cdot 10^{-16} \\frac{\\partial}{\\partial r} \\operatorname{N^{r}}{\\left(r,t \\right)} \\frac{\\partial}{\\partial t} R{\\left(r,t \\right)}}{N^{2}{\\left(t \\right)} R{\\left(r,t \\right)}} + \\frac{2.22044604925031 \\cdot 10^{-16} \\frac{\\partial}{\\partial t} R{\\left(r,t \\right)} \\frac{\\partial}{\\partial t} \\Lambda{\\left(r,t \\right)}}{N^{2}{\\left(t \\right)} R{\\left(r,t \\right)} \\Lambda{\\left(r,t \\right)}} - \\frac{2.0 \\left(\\frac{\\partial}{\\partial t} R{\\left(r,t \\right)}\\right)^{2}}{N^{2}{\\left(t \\right)} R^{2}{\\left(r,t \\right)}}$"
      ],
      "text/plain": [
       "-0.444444444444445*N^r(r, t)**4*Derivative(\\Lambda(r, t), r)**2/(N(t)**2*\\Lambda(r, t)**2) + 0.888888888888889*N^r(r, t)**4*Derivative(R(r, t), r)*Derivative(\\Lambda(r, t), r)/(N(t)**2*R(r, t)*\\Lambda(r, t)) - 0.444444444444444*N^r(r, t)**4*Derivative(R(r, t), r)**2/(N(t)**2*R(r, t)**2) - 0.888888888888889*N^r(r, t)**3*Derivative(N^r(r, t), r)*Derivative(\\Lambda(r, t), r)/(N(t)**2*\\Lambda(r, t)) + 0.888888888888889*N^r(r, t)**3*Derivative(\\Lambda(r, t), r)*Derivative(\\Lambda(r, t), t)/(N(t)**2*\\Lambda(r, t)**2) + 0.888888888888889*N^r(r, t)**3*Derivative(N^r(r, t), r)*Derivative(R(r, t), r)/(N(t)**2*R(r, t)) - 0.888888888888889*N^r(r, t)**3*Derivative(R(r, t), r)*Derivative(\\Lambda(r, t), t)/(N(t)**2*R(r, t)*\\Lambda(r, t)) - 0.888888888888889*N^r(r, t)**3*Derivative(R(r, t), t)*Derivative(\\Lambda(r, t), r)/(N(t)**2*R(r, t)*\\Lambda(r, t)) + 0.888888888888889*N^r(r, t)**3*Derivative(R(r, t), r)*Derivative(R(r, t), t)/(N(t)**2*R(r, t)**2) - 0.444444444444445*N^r(r, t)**2*Derivative(N^r(r, t), r)**2/N(t)**2 + 0.888888888888889*N^r(r, t)**2*Derivative(N^r(r, t), r)*Derivative(\\Lambda(r, t), t)/(N(t)**2*\\Lambda(r, t)) - 1.0*N^r(r, t)**2*Derivative(\\Lambda(r, t), r)**2/(N(t)**2*\\Lambda(r, t)**2) - 0.444444444444445*N^r(r, t)**2*Derivative(\\Lambda(r, t), t)**2/(N(t)**2*\\Lambda(r, t)**2) - 0.888888888888889*N^r(r, t)**2*Derivative(N^r(r, t), r)*Derivative(R(r, t), t)/(N(t)**2*R(r, t)) + 2.22044604925031e-16*N^r(r, t)**2*Derivative(R(r, t), r)*Derivative(\\Lambda(r, t), r)/(N(t)**2*R(r, t)*\\Lambda(r, t)) + 0.888888888888889*N^r(r, t)**2*Derivative(R(r, t), t)*Derivative(\\Lambda(r, t), t)/(N(t)**2*R(r, t)*\\Lambda(r, t)) - 2.0*N^r(r, t)**2*Derivative(R(r, t), r)**2/(N(t)**2*R(r, t)**2) - 0.444444444444444*N^r(r, t)**2*Derivative(R(r, t), t)**2/(N(t)**2*R(r, t)**2) - 2.0*N^r(r, t)*Derivative(N^r(r, t), r)*Derivative(\\Lambda(r, t), r)/(N(t)**2*\\Lambda(r, t)) + 2.0*N^r(r, t)*Derivative(\\Lambda(r, t), r)*Derivative(\\Lambda(r, t), t)/(N(t)**2*\\Lambda(r, t)**2) + 2.22044604925031e-16*N^r(r, t)*Derivative(N^r(r, t), r)*Derivative(R(r, t), r)/(N(t)**2*R(r, t)) - 2.22044604925031e-16*N^r(r, t)*Derivative(R(r, t), r)*Derivative(\\Lambda(r, t), t)/(N(t)**2*R(r, t)*\\Lambda(r, t)) - 2.22044604925031e-16*N^r(r, t)*Derivative(R(r, t), t)*Derivative(\\Lambda(r, t), r)/(N(t)**2*R(r, t)*\\Lambda(r, t)) + 4.0*N^r(r, t)*Derivative(R(r, t), r)*Derivative(R(r, t), t)/(N(t)**2*R(r, t)**2) - 1.0*Derivative(N^r(r, t), r)**2/N(t)**2 + 2.0*Derivative(N^r(r, t), r)*Derivative(\\Lambda(r, t), t)/(N(t)**2*\\Lambda(r, t)) - 1.0*Derivative(\\Lambda(r, t), t)**2/(N(t)**2*\\Lambda(r, t)**2) - 2.22044604925031e-16*Derivative(N^r(r, t), r)*Derivative(R(r, t), t)/(N(t)**2*R(r, t)) + 2.22044604925031e-16*Derivative(R(r, t), t)*Derivative(\\Lambda(r, t), t)/(N(t)**2*R(r, t)*\\Lambda(r, t)) - 2.0*Derivative(R(r, t), t)**2/(N(t)**2*R(r, t)**2)"
      ]
     },
     "execution_count": 69,
     "metadata": {},
     "output_type": "execute_result"
    }
   ],
   "source": [
    "expand(raychaudhuri)"
   ]
  },
  {
   "cell_type": "code",
   "execution_count": null,
   "id": "87497311",
   "metadata": {},
   "outputs": [],
   "source": []
  }
 ],
 "metadata": {
  "kernelspec": {
   "display_name": "Python 3",
   "language": "python",
   "name": "python3"
  },
  "language_info": {
   "codemirror_mode": {
    "name": "ipython",
    "version": 3
   },
   "file_extension": ".py",
   "mimetype": "text/x-python",
   "name": "python",
   "nbconvert_exporter": "python",
   "pygments_lexer": "ipython3",
   "version": "3.8.8"
  }
 },
 "nbformat": 4,
 "nbformat_minor": 5
}
