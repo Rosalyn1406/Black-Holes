{
 "cells": [
  {
   "cell_type": "markdown",
   "id": "0ece077b",
   "metadata": {},
   "source": [
    "# Question 2"
   ]
  },
  {
   "cell_type": "code",
   "execution_count": 14,
   "id": "43fa49c5",
   "metadata": {},
   "outputs": [],
   "source": [
    "import numpy as np\n",
    "import time \n",
    "import math \n",
    "import sympy\n",
    "import scipy\n"
   ]
  },
  {
   "cell_type": "code",
   "execution_count": 15,
   "id": "072282f4",
   "metadata": {},
   "outputs": [],
   "source": [
    "# page 12\n",
    "# z and tau "
   ]
  },
  {
   "cell_type": "code",
   "execution_count": 19,
   "id": "93b79b11",
   "metadata": {},
   "outputs": [
    {
     "data": {
      "text/latex": [
       "$\\displaystyle z$"
      ],
      "text/plain": [
       "z"
      ]
     },
     "metadata": {},
     "output_type": "display_data"
    },
    {
     "data": {
      "text/latex": [
       "$\\displaystyle R$"
      ],
      "text/plain": [
       "R"
      ]
     },
     "metadata": {},
     "output_type": "display_data"
    },
    {
     "data": {
      "text/latex": [
       "$\\displaystyle P_{R}$"
      ],
      "text/plain": [
       "P_R"
      ]
     },
     "metadata": {},
     "output_type": "display_data"
    },
    {
     "data": {
      "text/latex": [
       "$\\displaystyle P_{\\lambda}$"
      ],
      "text/plain": [
       "P_lambda"
      ]
     },
     "metadata": {},
     "output_type": "display_data"
    },
    {
     "data": {
      "text/latex": [
       "$\\displaystyle l_{p}$"
      ],
      "text/plain": [
       "l_p"
      ]
     },
     "metadata": {},
     "output_type": "display_data"
    },
    {
     "data": {
      "text/latex": [
       "$\\displaystyle \\pi$"
      ],
      "text/plain": [
       "pi"
      ]
     },
     "metadata": {},
     "output_type": "display_data"
    },
    {
     "data": {
      "text/latex": [
       "$\\displaystyle \\nu$"
      ],
      "text/plain": [
       "nu"
      ]
     },
     "metadata": {},
     "output_type": "display_data"
    }
   ],
   "source": [
    "# variables that we need\n",
    "z = sympy.symbols('z')\n",
    "R = sympy.symbols('R')\n",
    "P_R =sympy.symbols('P_R')\n",
    "Lambda = sympy.symbols('lambda')\n",
    "P_lambda= sympy.symbols('P_lambda')\n",
    "alpha = sympy.symbols('alpha')\n",
    "m =sympy.symbols('m')\n",
    "gamma = sympy.symbols('gamma')\n",
    "G = sympy.symbols('G')\n",
    "beta = sympy.symbols('beta')\n",
    "l_p =sympy.symbols('l_p')\n",
    "deltax = sympy.symbols('deltax')\n",
    "delta = sympy.symbols('delt')\n",
    "nu = sympy.symbols('nu')\n",
    "pi = sympy.symbols('pi')\n",
    "h_0 = sympy.symbols('h_0')\n",
    "\n",
    "# checking\n",
    "display(z)\n",
    "display(R)\n",
    "display(P_R)\n",
    "display(P_lambda)\n",
    "display(l_p)\n",
    "display(pi)\n",
    "display(nu)"
   ]
  },
  {
   "cell_type": "code",
   "execution_count": 21,
   "id": "9104393b",
   "metadata": {},
   "outputs": [],
   "source": [
    "# equating all to 1\n",
    "z = sympy.symbols('z')\n",
    "R = 1\n",
    "P_R = sympy.symbols('P_R')\n",
    "Lambda = sympy.symbols('lambda')\n",
    "P_lambda= sympy.symbols('P_lambda')\n",
    "alpha = 1\n",
    "m = 1\n",
    "gamma = 1\n",
    "G = 1\n",
    "beta = 1\n",
    "l_p = 1\n",
    "deltax = 1\n",
    "delta = 1\n",
    "nu = 1\n",
    "# h_0 = 1\n"
   ]
  },
  {
   "cell_type": "markdown",
   "id": "50ff8cdf",
   "metadata": {},
   "source": [
    "# One"
   ]
  },
  {
   "cell_type": "code",
   "execution_count": 115,
   "id": "a81947be",
   "metadata": {},
   "outputs": [
    {
     "data": {
      "text/latex": [
       "$\\displaystyle \\frac{R \\left(\\frac{G P_{\\lambda} \\alpha \\gamma h_{0} \\pi \\left(1 - \\frac{8 \\gamma^{2} l_{p}^{2}}{R^{2} deltax} + \\frac{\\gamma^{2} l_{p}^{2} \\left(24 - 8 \\nu\\right)}{R^{2} delt} + \\frac{2 \\gamma^{2} l_{p}^{4}}{R^{2} \\beta^{2}}\\right)}{R^{2} \\left(\\frac{G P_{\\lambda} \\alpha \\gamma h_{0} \\pi}{R^{2}} + 2 \\sin{\\left(\\frac{G P_{\\lambda} \\alpha \\gamma}{R^{2}} \\right)}\\right)} + \\frac{2 \\left(1 - \\frac{8 \\gamma^{2} l_{p}^{2}}{R^{2} deltax} + \\frac{\\gamma^{2} l_{p}^{2} \\left(24 \\nu - 8\\right)}{R^{2} delt} + \\frac{\\gamma^{2} l_{p}^{4}}{R^{2} \\beta^{2}}\\right) \\sin{\\left(\\frac{G P_{\\lambda} \\alpha \\gamma}{R^{2}} \\right)}}{\\frac{G P_{\\lambda} \\alpha \\gamma h_{0} \\pi}{R^{2}} + 2 \\sin{\\left(\\frac{G P_{\\lambda} \\alpha \\gamma}{R^{2}} \\right)}}\\right) \\cos{\\left(G \\beta \\gamma \\left(\\frac{P_{R}}{R \\lambda} - \\frac{P_{\\lambda}}{R^{2}}\\right) \\right)}}{2 G m}$"
      ],
      "text/plain": [
       "R*(G*P_lambda*alpha*gamma*h_0*pi*(1 - 8*gamma**2*l_p**2/(R**2*deltax) + gamma**2*l_p**2*(24 - 8*nu)/(R**2*delt) + 2*gamma**2*l_p**4/(R**2*beta**2))/(R**2*(G*P_lambda*alpha*gamma*h_0*pi/R**2 + 2*sin(G*P_lambda*alpha*gamma/R**2))) + 2*(1 - 8*gamma**2*l_p**2/(R**2*deltax) + gamma**2*l_p**2*(24*nu - 8)/(R**2*delt) + gamma**2*l_p**4/(R**2*beta**2))*sin(G*P_lambda*alpha*gamma/R**2)/(G*P_lambda*alpha*gamma*h_0*pi/R**2 + 2*sin(G*P_lambda*alpha*gamma/R**2)))*cos(G*beta*gamma*(P_R/(R*lambda) - P_lambda/R**2))/(2*G*m)"
      ]
     },
     "metadata": {},
     "output_type": "display_data"
    }
   ],
   "source": [
    "# computing dR/dtau from the paper\n",
    "\n",
    "\n",
    "dR = R/(2*G*m)*sympy.cos(gamma*G*beta*((P_R/(R*Lambda)) - P_lambda/R**2))*(((1+((2*l_p**4)*gamma**2)/((beta**2)*R**2))-\\\n",
    "8*(l_p**2*gamma**2)/(deltax*R**2) + (8*(3-nu)*l_p**2*gamma**2)/(delta*R**2))*(((pi)*h_0)*gamma*G*alpha*P_lambda/R**2)/\\\n",
    "(2*sympy.sin(gamma*G*alpha*P_lambda/R**2)+(pi)*h_0*(gamma*G*alpha*P_lambda/R**2))+((1+((l_p**4)*gamma**2)/((beta**2)*R**2))-\\\n",
    "8*(l_p**2*gamma**2)/(deltax*R**2) + (8*(3*nu-1)*l_p**2*gamma**2)/(delta*R**2))*(2*sympy.sin(gamma*G*alpha*P_lambda/R**2)/\\\n",
    "(2*sympy.sin(gamma*G*alpha*P_lambda/R**2)+pi*h_0*gamma*G*alpha*P_lambda/R**2)))\n",
    "\n",
    "display(dR)"
   ]
  },
  {
   "cell_type": "markdown",
   "id": "f82c813d",
   "metadata": {},
   "source": [
    "# Two"
   ]
  },
  {
   "cell_type": "code",
   "execution_count": 116,
   "id": "208b6985",
   "metadata": {},
   "outputs": [
    {
     "data": {
      "text/latex": [
       "$\\displaystyle \\frac{P_{R} R \\left(\\frac{G P_{\\lambda} \\alpha \\gamma h_{0} \\pi \\left(1 - \\frac{8 \\gamma^{2} l_{p}^{2}}{R^{2} deltax} + \\frac{\\gamma^{2} l_{p}^{2} \\left(24 - 8 \\nu\\right)}{R^{2} delt} + \\frac{2 \\gamma^{2} l_{p}^{4}}{R^{2} \\beta^{2}}\\right)}{R^{2} \\left(\\frac{\\pi G P_{\\lambda} \\alpha \\gamma h_{0}}{R^{2}} + 2 \\sin{\\left(\\frac{G P_{\\lambda} \\alpha \\gamma}{R^{2}} \\right)}\\right)} + \\frac{2 \\left(1 - \\frac{8 \\gamma^{2} l_{p}^{2}}{R^{2} deltax} + \\frac{\\gamma^{2} l_{p}^{2} \\left(24 \\nu - 8\\right)}{R^{2} delt} + \\frac{\\gamma^{2} l_{p}^{4}}{R^{2} \\beta^{2}}\\right) \\sin{\\left(\\frac{G P_{\\lambda} \\alpha \\gamma}{R^{2}} \\right)}}{\\frac{G P_{\\lambda} \\alpha \\gamma h_{0} \\pi}{R^{2}} + 2 \\sin{\\left(\\frac{G P_{\\lambda} \\alpha \\gamma}{R^{2}} \\right)}}\\right) \\cos{\\left(G \\beta \\gamma \\left(\\frac{P_{R}}{R \\lambda} - \\frac{P_{\\lambda}}{R^{2}}\\right) \\right)}}{2 G \\lambda m}$"
      ],
      "text/plain": [
       "P_R*R*(G*P_lambda*alpha*gamma*h_0*pi*(1 - 8*gamma**2*l_p**2/(R**2*deltax) + gamma**2*l_p**2*(24 - 8*nu)/(R**2*delt) + 2*gamma**2*l_p**4/(R**2*beta**2))/(R**2*(pi*G*P_lambda*alpha*gamma*h_0/R**2 + 2*sin(G*P_lambda*alpha*gamma/R**2))) + 2*(1 - 8*gamma**2*l_p**2/(R**2*deltax) + gamma**2*l_p**2*(24*nu - 8)/(R**2*delt) + gamma**2*l_p**4/(R**2*beta**2))*sin(G*P_lambda*alpha*gamma/R**2)/(G*P_lambda*alpha*gamma*h_0*pi/R**2 + 2*sin(G*P_lambda*alpha*gamma/R**2)))*cos(G*beta*gamma*(P_R/(R*lambda) - P_lambda/R**2))/(2*G*lambda*m)"
      ]
     },
     "metadata": {},
     "output_type": "display_data"
    }
   ],
   "source": [
    "#Computing dP_lambda/dtau from the paper\n",
    "\n",
    "dP_lambda = (R*P_R/(2*G*m*Lambda)*(sympy.cos(gamma*G*beta*(P_R/(R*Lambda) - P_lambda/R**2))))*(((1+((2*l_p**4)*gamma**2)/\\\n",
    "((beta**2)*R**2))-8*(l_p**2*gamma**2)/(deltax*R**2) + (8*(3-nu)*l_p**2*gamma**2)/(delta*R**2))*(((pi)*h_0)*gamma*G*alpha*\\\n",
    "P_lambda/R**2)/(2*sympy.sin(gamma*G*alpha*P_lambda/R**2)+(sympy.pi)*h_0*(gamma*G*alpha*P_lambda/R**2))+((1+((l_p**4)*gamma**2)/((beta**2)*R**2))\\\n",
    "-8*(l_p**2*gamma**2)/(deltax*R**2) + (8*(3*nu-1)*l_p**2*gamma**2)/(delta*R**2))*((2*sympy.sin(gamma*G*alpha*P_lambda/R**2)/\\\n",
    "(2*sympy.sin(gamma*G*alpha*P_lambda/R**2)+pi*h_0*gamma*G*alpha*P_lambda/R**2))))\n",
    "\n",
    "display(dP_lambda)"
   ]
  },
  {
   "cell_type": "markdown",
   "id": "02b10863",
   "metadata": {},
   "source": [
    "# Three"
   ]
  },
  {
   "cell_type": "code",
   "execution_count": 117,
   "id": "4a5bad69",
   "metadata": {},
   "outputs": [
    {
     "data": {
      "text/latex": [
       "$\\displaystyle \\frac{\\frac{2 G P_{\\lambda} \\alpha \\gamma \\pi \\left(1 + \\frac{24 \\gamma^{2} l_{p}^{2}}{R^{2} deltax} - \\frac{\\gamma^{2} l_{p}^{2} \\left(8 \\nu + 8\\right)}{R^{2} delt} + \\frac{2 \\gamma^{2} l_{p}^{4}}{R^{2} \\alpha^{2}}\\right) \\sin^{2}{\\left(\\frac{G P_{\\lambda} \\alpha \\gamma}{R^{2}} \\right)}}{R^{2}} - 8 \\gamma^{2} \\sin^{2}{\\left(\\frac{\\alpha}{2 R} \\right)} \\cos{\\left(\\frac{\\alpha}{R} \\right)}}{\\left(\\frac{G P_{\\lambda} \\alpha \\gamma h_{0} \\pi}{R^{2}} + 2 \\sin{\\left(\\frac{G P_{\\lambda} \\alpha \\gamma}{R^{2}} \\right)}\\right)^{2}} + \\frac{\\frac{G P_{\\lambda} \\alpha \\gamma h_{0}^{2} \\pi^{2} \\left(1 + \\frac{24 \\gamma^{2} l_{p}^{2}}{R^{2} deltax} - \\frac{\\gamma^{2} l_{p}^{2} \\left(8 \\nu + 8\\right)}{R^{2} delt} + \\frac{2 \\gamma^{2} l_{p}^{4}}{R^{2} \\alpha^{2}}\\right) \\cos{\\left(\\frac{G P_{\\lambda} \\alpha \\gamma}{R^{2}} \\right)}}{R^{2}} - 16 \\gamma^{2} \\sin^{2}{\\left(\\frac{\\alpha}{2 R} \\right)} \\cos{\\left(\\frac{\\alpha}{R} \\right)}}{\\left(\\frac{G P_{\\lambda} \\alpha \\gamma h_{0} \\pi}{R^{2}} + 2 \\sin{\\left(\\frac{G P_{\\lambda} \\alpha \\gamma}{R^{2}} \\right)}\\right)^{2}} + \\frac{2 \\alpha \\gamma^{2} l_{p}^{2} \\pi \\left(\\frac{32 - 32 \\nu}{delt} + \\frac{l_{p}^{2}}{\\beta^{2}}\\right) \\left(- \\frac{G P_{\\lambda} \\alpha \\gamma h_{0} \\cos{\\left(\\frac{G P_{\\lambda} \\alpha \\gamma}{R^{2}} \\right)}}{R^{2}} + \\frac{G P_{\\lambda} \\alpha \\gamma \\sin{\\left(\\frac{G P_{\\lambda} \\alpha \\gamma}{R^{2}} \\right)}}{R^{2}}\\right) \\sin{\\left(G \\beta \\gamma \\left(\\frac{P_{R}}{R \\lambda} - \\frac{P_{\\lambda}}{R^{2}}\\right) \\right)}}{R^{2} \\beta \\left(\\frac{G P_{\\lambda} \\alpha \\gamma h_{0} \\pi}{R^{2}} + 2 \\sin{\\left(\\frac{G P_{\\lambda} \\alpha \\gamma}{R^{2}} \\right)}\\right)^{2}} - \\frac{\\lambda \\left(\\frac{G P_{\\lambda} \\alpha \\gamma h_{0} \\pi \\left(1 - \\frac{8 \\gamma^{2} l_{p}^{2}}{R^{2} deltax} + \\frac{\\gamma^{2} l_{p}^{2} \\left(24 - 8 \\nu\\right)}{R^{2} delt} + \\frac{2 \\gamma^{2} l_{p}^{4}}{R^{2} \\beta^{2}}\\right)}{R^{2} \\left(\\frac{G P_{\\lambda} \\alpha \\gamma h_{0} \\pi}{R^{2}} + 2 \\sin{\\left(\\frac{G P_{\\lambda} \\alpha \\gamma}{R^{2}} \\right)}\\right)} + \\frac{2 \\left(1 - \\frac{8 \\gamma^{2} l_{p}^{2}}{R^{2} deltax} + \\frac{\\gamma^{2} l_{p}^{2} \\left(24 \\nu - 8\\right)}{R^{2} delt} + \\frac{\\gamma^{2} l_{p}^{4}}{R^{2} \\beta^{2}}\\right) \\sin{\\left(\\frac{G P_{\\lambda} \\alpha \\gamma}{R^{2}} \\right)}}{\\frac{G P_{\\lambda} \\alpha \\gamma h_{0} \\pi}{R^{2}} + 2 \\sin{\\left(\\frac{G P_{\\lambda} \\alpha \\gamma}{R^{2}} \\right)}}\\right) \\cos{\\left(G \\beta \\gamma \\left(\\frac{P_{R}}{R \\lambda} - \\frac{P_{\\lambda}}{R^{2}}\\right) \\right)}}{2 G m}$"
      ],
      "text/plain": [
       "(2*G*P_lambda*alpha*gamma*pi*(1 + 24*gamma**2*l_p**2/(R**2*deltax) - gamma**2*l_p**2*(8*nu + 8)/(R**2*delt) + 2*gamma**2*l_p**4/(R**2*alpha**2))*sin(G*P_lambda*alpha*gamma/R**2)**2/R**2 - 8*gamma**2*sin(alpha/(2*R))**2*cos(alpha/R))/(G*P_lambda*alpha*gamma*h_0*pi/R**2 + 2*sin(G*P_lambda*alpha*gamma/R**2))**2 + (G*P_lambda*alpha*gamma*h_0**2*pi**2*(1 + 24*gamma**2*l_p**2/(R**2*deltax) - gamma**2*l_p**2*(8*nu + 8)/(R**2*delt) + 2*gamma**2*l_p**4/(R**2*alpha**2))*cos(G*P_lambda*alpha*gamma/R**2)/R**2 - 16*gamma**2*sin(alpha/(2*R))**2*cos(alpha/R))/(G*P_lambda*alpha*gamma*h_0*pi/R**2 + 2*sin(G*P_lambda*alpha*gamma/R**2))**2 + 2*alpha*gamma**2*l_p**2*pi*((32 - 32*nu)/delt + l_p**2/beta**2)*(-G*P_lambda*alpha*gamma*h_0*cos(G*P_lambda*alpha*gamma/R**2)/R**2 + G*P_lambda*alpha*gamma*sin(G*P_lambda*alpha*gamma/R**2)/R**2)*sin(G*beta*gamma*(P_R/(R*lambda) - P_lambda/R**2))/(R**2*beta*(G*P_lambda*alpha*gamma*h_0*pi/R**2 + 2*sin(G*P_lambda*alpha*gamma/R**2))**2) - lambda*(G*P_lambda*alpha*gamma*h_0*pi*(1 - 8*gamma**2*l_p**2/(R**2*deltax) + gamma**2*l_p**2*(24 - 8*nu)/(R**2*delt) + 2*gamma**2*l_p**4/(R**2*beta**2))/(R**2*(G*P_lambda*alpha*gamma*h_0*pi/R**2 + 2*sin(G*P_lambda*alpha*gamma/R**2))) + 2*(1 - 8*gamma**2*l_p**2/(R**2*deltax) + gamma**2*l_p**2*(24*nu - 8)/(R**2*delt) + gamma**2*l_p**4/(R**2*beta**2))*sin(G*P_lambda*alpha*gamma/R**2)/(G*P_lambda*alpha*gamma*h_0*pi/R**2 + 2*sin(G*P_lambda*alpha*gamma/R**2)))*cos(G*beta*gamma*(P_R/(R*lambda) - P_lambda/R**2))/(2*G*m)"
      ]
     },
     "metadata": {},
     "output_type": "display_data"
    }
   ],
   "source": [
    "#Computing dLambda/dtau\n",
    "#h_1 = symbols('h_-1')\n",
    "h_1 = 1\n",
    "\n",
    "dLambda = -(Lambda/(2*G*m))*sympy.cos(gamma*G*beta*(P_R/(R*Lambda) - P_lambda/R**2))*\\\n",
    "((((1+((2*l_p**4)*gamma**2)/((beta**2)*R**2))-8*(l_p**2*gamma**2)/(deltax*R**2) + (8*(3-nu)*l_p**2*gamma**2)/(delta*R**2))*\\\n",
    "((((pi)*h_0)*gamma*G*alpha*P_lambda/R**2)/(2*sympy.sin(gamma*G*alpha*P_lambda/R**2)+(pi)*h_0*(gamma*G*alpha*P_lambda/R**2)))) +\\\n",
    "(((1+((l_p**4)*gamma**2)/((beta**2)*R**2))-8*(l_p**2*gamma**2)/(deltax*R**2) + (8*(3*nu-1)*l_p**2*gamma**2)/(delta*R**2))*\\\n",
    "((((2*sympy.sin(gamma*G*alpha*P_lambda/R**2)/(2*sympy.sin(gamma*G*alpha*P_lambda/R**2)+pi*h_0*gamma*G*alpha*P_lambda/R**2))))))) +\\\n",
    "((pi*h_1*(gamma*G*alpha*P_lambda/R**2))*(1+(2*l_p**4*gamma**2)/(alpha**2*R**2) + (24*l_p**2*gamma**2)/(deltax*R**2) -\\\n",
    "(8*(1+nu)*l_p**2*gamma**2/(delta*R**2)))*(2*(sympy.sin(gamma*G*alpha*P_lambda/R**2))**2)-8*gamma**2*sympy.cos(alpha/R)*\\\n",
    "(sympy.sin(alpha/(2*R))**2))/((2*sympy.sin(gamma*G*alpha*P_lambda/R**2)+(pi*h_0*gamma*G*alpha*P_lambda/R**2))**2) +\\\n",
    "((sympy.cos(gamma*G*alpha*P_lambda/R**2))*(1+(2*l_p**4*gamma**2)/(alpha**2*R**2) + (24*l_p**2*gamma**2)/(deltax*R**2) -\\\n",
    "(8*(1+nu)*l_p**2*gamma**2/(delta*R**2)))*(pi)**2*(h_0**2)*gamma*G*alpha*P_lambda/R**2 - 16*gamma**2*sympy.cos(alpha/R)*\\\n",
    "(sympy.sin(alpha/(2*R)))**2)/((2*sympy.sin(gamma*G*alpha*P_lambda/R**2)+(pi*h_0*gamma*G*alpha*P_lambda/R**2))**2)+\\\n",
    "(((2*pi*gamma**2*alpha*l_p**2)/(beta*R**2))*(l_p**2/beta**2 + (32*(1-nu))/delta)*sympy.sin(gamma*G*beta*(P_R/(R*Lambda)-\\\n",
    "P_lambda/R**2)))*((sympy.sin(gamma*G*alpha*P_lambda/R**2)*h_1*gamma*G*alpha*P_lambda/R**2)-(sympy.cos(gamma*G*alpha*P_lambda/R**2)*h_0*gamma*G*alpha*P_lambda/R**2))/\\\n",
    "(2*sympy.sin(gamma*G*alpha*P_lambda/R**2)+(pi*h_0*gamma*G*alpha*P_lambda/R**2))**2\n",
    "\n",
    "display(dLambda)"
   ]
  },
  {
   "cell_type": "markdown",
   "id": "ed7e22b8",
   "metadata": {},
   "source": [
    "# Four"
   ]
  },
  {
   "cell_type": "code",
   "execution_count": 118,
   "id": "2d7754cf",
   "metadata": {},
   "outputs": [
    {
     "data": {
      "text/latex": [
       "$\\displaystyle \\frac{P_{\\lambda}^{2} \\alpha \\gamma \\lambda \\pi \\left(1 + \\frac{24 \\gamma^{2} l_{p}^{2}}{R^{2} deltax} - \\frac{\\gamma^{2} l_{p}^{2} \\left(8 \\nu + 8\\right)}{R^{2} delt} + \\frac{2 \\gamma^{2} l_{p}^{4}}{R^{2} \\alpha^{2}}\\right) \\sin{\\left(\\frac{G P_{\\lambda} \\alpha \\gamma}{R^{2}} \\right)}}{R^{3} m \\left(\\frac{\\pi G P_{\\lambda} \\alpha \\gamma h_{0}}{R^{2}} + 2 \\sin{\\left(\\frac{G P_{\\lambda} \\alpha \\gamma}{R^{2}} \\right)}\\right)} + \\frac{P_{\\lambda} \\alpha \\gamma h_{0} \\lambda \\pi \\left(G P_{\\lambda} \\left(1 + \\frac{24 \\gamma^{2} l_{p}^{2}}{R^{2} deltax} - \\frac{8 \\gamma^{2} l_{p}^{2} \\left(\\nu + 1\\right)}{R^{2} delt} + \\frac{2 \\gamma^{2} l_{p}^{4}}{R^{2} \\alpha^{2}}\\right) \\cos{\\left(\\frac{G P_{\\lambda} \\alpha \\gamma}{R^{2}} \\right)} + \\left(\\frac{24 \\gamma l_{p}^{2}}{\\alpha deltax} - \\frac{8 \\gamma l_{p}^{2} \\left(\\nu + 1\\right)}{\\alpha delt} + \\frac{2 \\gamma l_{p}^{4}}{\\alpha^{3}}\\right) \\sin{\\left(\\frac{G P_{\\lambda} \\alpha \\gamma}{R^{2}} \\right)}\\right)}{G R^{3} m \\left(\\frac{G P_{\\lambda} \\alpha \\gamma h_{0} \\pi}{R^{2}} + 2 \\sin{\\left(\\frac{G P_{\\lambda} \\alpha \\gamma}{R^{2}} \\right)}\\right)} + \\frac{\\left(P_{R} R - 2 P_{\\lambda} \\lambda\\right) \\left(\\frac{G P_{\\lambda} \\alpha \\gamma h_{0} \\pi \\left(1 - \\frac{8 \\gamma^{2} l_{p}^{2}}{R^{2} deltax} + \\frac{\\gamma^{2} l_{p}^{2} \\left(24 - 8 \\nu\\right)}{R^{2} delt} + \\frac{2 \\gamma^{2} l_{p}^{4}}{R^{2} \\beta^{2}}\\right)}{R^{2} \\left(\\frac{G P_{\\lambda} \\alpha \\gamma h_{0} \\pi}{R^{2}} + 2 \\sin{\\left(\\frac{G P_{\\lambda} \\alpha \\gamma}{R^{2}} \\right)}\\right)} + \\frac{2 \\left(1 - \\frac{8 \\gamma^{2} l_{p}^{2}}{R^{2} deltax} + \\frac{\\gamma^{2} l_{p}^{2} \\left(24 \\nu - 8\\right)}{R^{2} delt} + \\frac{\\gamma^{2} l_{p}^{4}}{R^{2} \\beta^{2}}\\right) \\sin{\\left(\\frac{G P_{\\lambda} \\alpha \\gamma}{R^{2}} \\right)}}{\\frac{G P_{\\lambda} \\alpha \\gamma h_{0} \\pi}{R^{2}} + 2 \\sin{\\left(\\frac{G P_{\\lambda} \\alpha \\gamma}{R^{2}} \\right)}}\\right) \\cos{\\left(G \\beta \\gamma \\left(\\frac{P_{R}}{R \\lambda} - \\frac{P_{\\lambda}}{R^{2}}\\right) \\right)}}{2 G R m} - \\frac{2 \\gamma \\lambda \\left(\\sin{\\left(\\frac{\\alpha}{R} \\right)} - \\sin{\\left(\\frac{2 \\alpha}{R} \\right)}\\right)}{G^{2} m \\left(\\frac{G P_{\\lambda} \\alpha \\gamma h_{0} \\pi}{R^{2}} + 2 \\sin{\\left(\\frac{G P_{\\lambda} \\alpha \\gamma}{R^{2}} \\right)}\\right)} + \\frac{\\lambda \\left(\\frac{G^{2} P_{\\lambda}^{2} \\alpha^{2} \\gamma \\pi \\left(1 - \\frac{8 \\gamma^{2} l_{p}^{2}}{R^{2} deltax^{2}} + \\frac{8 \\gamma^{2} l_{p}^{2} \\left(3 - \\nu\\right)}{R^{2} delt} + \\frac{2 \\gamma^{2} l_{p}^{4}}{R^{2} \\beta^{2}}\\right)}{R^{2} \\beta} + \\frac{2 G P_{\\lambda} \\alpha \\left(1 + \\frac{\\gamma^{2} l_{p}^{4}}{R^{2} \\beta^{2}}\\right) \\cos{\\left(\\frac{G P_{\\lambda} \\alpha \\gamma}{R^{2}} \\right)}}{\\beta} + \\frac{2 G P_{\\lambda} \\alpha \\gamma h_{0} \\pi \\left(- \\frac{4 \\gamma l_{p}^{2}}{\\beta deltax} + \\frac{4 \\gamma l_{p}^{2} \\left(3 - \\nu\\right)}{\\beta delt} + \\frac{\\gamma l_{p}^{4}}{\\beta^{3}}\\right)}{R^{2}} + \\left(- \\frac{16 \\gamma l_{p}^{2}}{\\beta deltax} + \\frac{16 \\gamma l_{p}^{2} \\left(3 \\nu - 1\\right)}{\\beta delt} + \\frac{2 \\gamma l_{p}^{4}}{\\beta^{3}}\\right) \\sin{\\left(\\frac{G P_{\\lambda} \\alpha \\gamma}{R^{2}} \\right)} - \\frac{8 \\gamma^{2} l_{p}^{2}}{R^{2} deltax} + \\frac{8 \\gamma^{2} l_{p}^{2} \\left(3 \\nu - 1\\right)}{R^{2} delt}\\right) \\sin{\\left(G \\beta \\gamma \\left(\\frac{P_{R}}{R \\lambda} - \\frac{P_{\\lambda}}{R^{2}}\\right) \\right)}}{G^{2} R m \\left(\\frac{G P_{\\lambda} \\alpha \\gamma h_{0} \\pi}{R^{2}} + 2 \\sin{\\left(\\frac{G P_{\\lambda} \\alpha \\gamma}{R^{2}} \\right)}\\right)}$"
      ],
      "text/plain": [
       "P_lambda**2*alpha*gamma*lambda*pi*(1 + 24*gamma**2*l_p**2/(R**2*deltax) - gamma**2*l_p**2*(8*nu + 8)/(R**2*delt) + 2*gamma**2*l_p**4/(R**2*alpha**2))*sin(G*P_lambda*alpha*gamma/R**2)/(R**3*m*(pi*G*P_lambda*alpha*gamma*h_0/R**2 + 2*sin(G*P_lambda*alpha*gamma/R**2))) + P_lambda*alpha*gamma*h_0*lambda*pi*(G*P_lambda*(1 + 24*gamma**2*l_p**2/(R**2*deltax) - 8*gamma**2*l_p**2*(nu + 1)/(R**2*delt) + 2*gamma**2*l_p**4/(R**2*alpha**2))*cos(G*P_lambda*alpha*gamma/R**2) + (24*gamma*l_p**2/(alpha*deltax) - 8*gamma*l_p**2*(nu + 1)/(alpha*delt) + 2*gamma*l_p**4/alpha**3)*sin(G*P_lambda*alpha*gamma/R**2))/(G*R**3*m*(G*P_lambda*alpha*gamma*h_0*pi/R**2 + 2*sin(G*P_lambda*alpha*gamma/R**2))) + (P_R*R - 2*P_lambda*lambda)*(G*P_lambda*alpha*gamma*h_0*pi*(1 - 8*gamma**2*l_p**2/(R**2*deltax) + gamma**2*l_p**2*(24 - 8*nu)/(R**2*delt) + 2*gamma**2*l_p**4/(R**2*beta**2))/(R**2*(G*P_lambda*alpha*gamma*h_0*pi/R**2 + 2*sin(G*P_lambda*alpha*gamma/R**2))) + 2*(1 - 8*gamma**2*l_p**2/(R**2*deltax) + gamma**2*l_p**2*(24*nu - 8)/(R**2*delt) + gamma**2*l_p**4/(R**2*beta**2))*sin(G*P_lambda*alpha*gamma/R**2)/(G*P_lambda*alpha*gamma*h_0*pi/R**2 + 2*sin(G*P_lambda*alpha*gamma/R**2)))*cos(G*beta*gamma*(P_R/(R*lambda) - P_lambda/R**2))/(2*G*R*m) - 2*gamma*lambda*(sin(alpha/R) - sin(2*alpha/R))/(G**2*m*(G*P_lambda*alpha*gamma*h_0*pi/R**2 + 2*sin(G*P_lambda*alpha*gamma/R**2))) + lambda*(G**2*P_lambda**2*alpha**2*gamma*pi*(1 - 8*gamma**2*l_p**2/(R**2*deltax**2) + 8*gamma**2*l_p**2*(3 - nu)/(R**2*delt) + 2*gamma**2*l_p**4/(R**2*beta**2))/(R**2*beta) + 2*G*P_lambda*alpha*(1 + gamma**2*l_p**4/(R**2*beta**2))*cos(G*P_lambda*alpha*gamma/R**2)/beta + 2*G*P_lambda*alpha*gamma*h_0*pi*(-4*gamma*l_p**2/(beta*deltax) + 4*gamma*l_p**2*(3 - nu)/(beta*delt) + gamma*l_p**4/beta**3)/R**2 + (-16*gamma*l_p**2/(beta*deltax) + 16*gamma*l_p**2*(3*nu - 1)/(beta*delt) + 2*gamma*l_p**4/beta**3)*sin(G*P_lambda*alpha*gamma/R**2) - 8*gamma**2*l_p**2/(R**2*deltax) + 8*gamma**2*l_p**2*(3*nu - 1)/(R**2*delt))*sin(G*beta*gamma*(P_R/(R*lambda) - P_lambda/R**2))/(G**2*R*m*(G*P_lambda*alpha*gamma*h_0*pi/R**2 + 2*sin(G*P_lambda*alpha*gamma/R**2)))"
      ]
     },
     "metadata": {},
     "output_type": "display_data"
    }
   ],
   "source": [
    "#Computing dPR/dtau\n",
    "\n",
    "dP_R = ((R*P_R-2*Lambda*P_lambda)/(2*G*m*R) * (sympy.cos(gamma*G*beta*(P_R/(R*Lambda)-P_lambda/R**2))))*(((((1+((2*l_p**4)*gamma**2)/\\\n",
    "((beta**2)*R**2))-8*(l_p**2*gamma**2)/(deltax*R**2) + (8*(3-nu)*l_p**2*gamma**2)/(delta*R**2))*\\\n",
    "((pi*h_0*gamma*G*alpha*P_lambda/R**2)/(2*sympy.sin(gamma*G*alpha*P_lambda/R**2)+pi*h_0*gamma*G*alpha*P_lambda/R**2))+((1+((l_p**4)*\\\n",
    "gamma**2)/((beta**2)*R**2))-8*(l_p**2*gamma**2)/(deltax*R**2) + ((8*(3*nu-1)*l_p**2*gamma**2)/(delta*R**2)))*\\\n",
    "(2*sympy.sin(gamma*G*alpha*P_lambda/R**2)/(2*sympy.sin(gamma*G*alpha*P_lambda/R**2)+pi*h_0*gamma*G*alpha*P_lambda/R**2)))))+\\\n",
    "((pi*Lambda*P_lambda*sympy.sin(alpha*gamma*G*P_lambda/R**2)*h_1*(alpha*gamma*G*P_lambda/R**2))/\\\n",
    "(G*m*R*(2*sympy.sin(gamma*G*alpha*P_lambda/R**2)+sympy.pi*h_0*gamma*G*alpha*P_lambda/R**2)))*(1+(2*l_p**4*gamma**2)/(alpha**2*R**2) + \\\n",
    "(24*l_p**2*gamma**2)/(deltax*R**2) - (8*(1+nu)*l_p**2*gamma**2/(delta*R**2)))+((pi*Lambda*h_0*gamma*G*alpha*P_lambda/R**2)/\\\n",
    "((G**2*m*R)*(2*sympy.sin(gamma*G*alpha*P_lambda/R**2)+pi*h_0*gamma*G*alpha*P_lambda/R**2)))*((sympy.sin(gamma*G*alpha*P_lambda/R**2)*\\\n",
    "(2*l_p**4*gamma/alpha**3 + 24*l_p**2*gamma/(alpha*deltax)-(8*gamma*l_p**2*(1+nu))/(alpha*delta)))+(G*P_lambda*\\\n",
    "sympy.cos(gamma*G*alpha*P_lambda/R**2))*(1+2*l_p**4*gamma**2/((R**2)*alpha**2)+24*l_p**2*gamma**2/(R**2*deltax)-\\\n",
    "8*gamma**2*l_p**2*(1+nu)/(R**2*delta))) + ((Lambda*sympy.sin(gamma*G*beta*(P_R/(R*Lambda)-P_lambda/R**2)))/\\\n",
    "(G**2*m*R*(2*sympy.sin(gamma*G*alpha*P_lambda/R**2)+pi*h_0*gamma*G*alpha*P_lambda/R**2)))*(((G*P_lambda*gamma*G*alpha*P_lambda/R**2*h_1*\\\n",
    "pi*alpha/beta)*(1+2*l_p**4*gamma**2/(R**2*beta**2)+8*l_p**2*gamma**2*(3-nu)/(R**2*delta)-(8*l_p**2*gamma**2/\\\n",
    "(R**2*deltax**2))))+(2*pi*h_0*gamma*G*alpha*P_lambda/R**2)*(l_p**4*gamma/beta**3 + 4*l_p**2*gamma*(3-nu)/(beta*delta)-4*l_p**2*\\\n",
    "gamma/(beta*deltax))+(sympy.sin(gamma*G*alpha*P_lambda/R**2))*(2*l_p**4*gamma/beta**3+16*l_p**2*gamma*(3*nu-1)/(beta*delta)-16*l_p**2*\\\n",
    "gamma/(beta*deltax))+(2*G*P_lambda*alpha/beta)*sympy.cos(gamma*G*alpha*P_lambda/R**2)*(1+l_p**4*gamma**2/(R**2*beta**2))+8*l_p**2*\\\n",
    "gamma**2*(3*nu-1)/(R**2*delta)-8*l_p**2*gamma**2/(R**2*deltax))-(2*gamma*Lambda/(G**2*m))*(sympy.sin(alpha/R)-\\\n",
    "sympy.sin(2*alpha/R))/(2*sympy.sin(gamma*G*alpha*P_lambda/R**2)+pi*h_0*(gamma*G*alpha*P_lambda)/R**2)\n",
    "\n",
    "display(dP_R)"
   ]
  },
  {
   "cell_type": "code",
   "execution_count": 36,
   "id": "70cf201a",
   "metadata": {},
   "outputs": [
    {
     "data": {
      "image/png": "[encoded data removed]",
      "text/plain": [
       "<Figure size 432x288 with 1 Axes>"
      ]
     },
     "metadata": {
      "needs_background": "light"
     },
     "output_type": "display_data"
    },
    {
     "data": {
      "text/plain": [
       "3.8574996959278356e-22"
      ]
     },
     "execution_count": 36,
     "metadata": {},
     "output_type": "execute_result"
    }
   ],
   "source": [
    "# testing graph \n",
    "import numpy as np\n",
    "import matplotlib.pyplot as plt\n",
    "import sympy\n",
    "\n",
    "# R = sympy.Function('R_c')(z)\n",
    "# Lambda= sympy.Function('lambda_c')(z)\n",
    "# P_R = sympy.Function('P_R_c')(z)\n",
    "# P_lambda = sympy.Function('P_lambda_c')(z)\n",
    "# z = sympy.symbols('z')\n",
    "\n",
    "#testing another time array \n",
    "tau = np.linspace(-1e2,0,1000)\n",
    "G = 1\n",
    "m = 1\n",
    "\n",
    "#equation \n",
    "R_c = 2*G*m*np.exp(tau/(2*G*m))\n",
    "Lambda_c = np.sqrt(np.exp(-tau/(2*G*m))-1)\n",
    "P_R_c = (1/(2*G)) * (2-np.exp(-tau/(2*G*m)))\n",
    "P_Lambda_c = 2*m*np.exp(tau/(4*G*m))*np.sqrt(1-np.exp(tau/(2*G*m)))\n",
    "\n",
    "plt.plot(tau,R_c,label='$R_c$')\n",
    "plt.plot(tau,P_Lambda_c,label='$P_{\\Lambda_c}$')\n",
    "plt.plot(tau,Lambda_c,label='$\\Lambda_c$')\n",
    "plt.plot(tau,P_R_c,label='$P_{R_c}$')\n",
    "plt.grid()\n",
    "\n",
    "# title \n",
    "plt.title('Classical Equations')\n",
    "# legend \n",
    "plt.legend()\n",
    "#save figure\n",
    "#plt.savefig('Classical equation.png')\n",
    "\n",
    "plt.show()"
   ]
  },
  {
   "cell_type": "markdown",
   "id": "3ce23162",
   "metadata": {},
   "source": [
    "### Classical equation as a function of tau "
   ]
  },
  {
   "cell_type": "code",
   "execution_count": 27,
   "id": "30dd136c",
   "metadata": {},
   "outputs": [
    {
     "data": {
      "image/png": "[encoded data removed]",
      "text/plain": [
       "<Figure size 432x288 with 1 Axes>"
      ]
     },
     "metadata": {
      "needs_background": "light"
     },
     "output_type": "display_data"
    }
   ],
   "source": [
    "import matplotlib.pyplot as plt\n",
    "import numpy as np\n",
    "# import math \n",
    "\n",
    "tau =np.linspace(0,-20,1000) \n",
    "\n",
    "# equation \n",
    "G = 1\n",
    "m = 1\n",
    "\n",
    "R_c = 2*G*m*np.exp(tau/(2*G*m))\n",
    "Lambda_c = np.sqrt(np.exp(-tau/(2*G*m))-1)\n",
    "P_R_c = (1/(2*G)) * (2-np.exp(-tau/(2*G*m)))\n",
    "P_Lambda_c = 2*m*np.exp(tau/(4*G*m))*np.sqrt(1-np.exp(tau/(2*G*m)))\n",
    "\n",
    "#plotting \n",
    "plt.plot(tau,R_c,label='$R_c$')\n",
    "plt.plot(tau,P_Lambda_c,label='$P_{\\Lambda_c}$')\n",
    "plt.plot(tau,Lambda_c,label='$\\Lambda_c$')\n",
    "plt.plot(tau,P_R_c,label='$P_{R_c}$')\n",
    "plt.grid()\n",
    "# title \n",
    "plt.title('Classical Equations as a function of tau ')\n",
    "# xlabel \n",
    "plt.xlabel('$\\\\tau$')\n",
    "# legend \n",
    "plt.legend()\n",
    "#save figure\n",
    "plt.savefig('Classical equation.png')\n",
    "\n",
    "plt.show()\n",
    "\n"
   ]
  },
  {
   "cell_type": "code",
   "execution_count": null,
   "id": "9d586fc4",
   "metadata": {},
   "outputs": [],
   "source": []
  }
 ],
 "metadata": {
  "kernelspec": {
   "display_name": "Python 3",
   "language": "python",
   "name": "python3"
  }
 },
 "nbformat": 4,
 "nbformat_minor": 5
}
