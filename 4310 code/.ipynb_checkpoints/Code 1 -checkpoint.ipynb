{
 "cells": [
  {
   "cell_type": "markdown",
   "metadata": {},
   "source": [
    "# Code\n",
    "Code intended to symbolically compute a metric, its inverse, Christoffel symbols (any kind), covariant derivatives, and geodesics\n",
    "## Defining coordinates, metrics, and variables/functions"
   ]
  },
  {
   "cell_type": "code",
   "execution_count": 1,
   "metadata": {},
   "outputs": [],
   "source": [
    "# All packages needed: \n",
    "from sympy import *   #symbolic computations\n",
    "import numpy as np    #usual numpy \n",
    "import time           #timer for computations"
   ]
  },
  {
   "cell_type": "markdown",
   "metadata": {},
   "source": [
    "### Coordinates:"
   ]
  },
  {
   "cell_type": "code",
   "execution_count": 2,
   "metadata": {},
   "outputs": [
    {
     "data": {
      "text/latex": [
       "$\\displaystyle \\left[\\begin{matrix}t\\\\r\\\\\\theta\\\\\\phi\\end{matrix}\\right]$"
      ],
      "text/plain": [
       "Matrix([\n",
       "[     t],\n",
       "[     r],\n",
       "[\\theta],\n",
       "[  \\phi]])"
      ]
     },
     "metadata": {},
     "output_type": "display_data"
    },
    {
     "data": {
      "text/latex": [
       "$\\displaystyle \\left[\\begin{matrix}dt\\\\dr\\\\d\\theta\\\\d\\phi\\end{matrix}\\right]$"
      ],
      "text/plain": [
       "Matrix([\n",
       "[     dt],\n",
       "[     dr],\n",
       "[d\\theta],\n",
       "[  d\\phi]])"
      ]
     },
     "metadata": {},
     "output_type": "display_data"
    },
    {
     "data": {
      "text/latex": [
       "$\\displaystyle \\left[\\begin{matrix}t\\\\x\\\\y\\\\z\\end{matrix}\\right]$"
      ],
      "text/plain": [
       "Matrix([\n",
       "[t],\n",
       "[x],\n",
       "[y],\n",
       "[z]])"
      ]
     },
     "metadata": {},
     "output_type": "display_data"
    },
    {
     "data": {
      "text/latex": [
       "$\\displaystyle \\left[\\begin{matrix}dt\\\\dx\\\\dy\\\\dz\\end{matrix}\\right]$"
      ],
      "text/plain": [
       "Matrix([\n",
       "[dt],\n",
       "[dx],\n",
       "[dy],\n",
       "[dz]])"
      ]
     },
     "metadata": {},
     "output_type": "display_data"
    }
   ],
   "source": [
    "#Defining symbolic variable names\n",
    "t, r, theta, phi = symbols('t, r, \\\\theta, \\phi')\n",
    "x ,y ,z = symbols('x, y, z')\n",
    "#differentials\n",
    "a, b, c, ds, dt, dr, dtheta, dphi = symbols('a, b, c, ds, dt, dr, d\\\\theta, d\\phi')\n",
    "dx ,dy ,dz = symbols('dx, dy, dz')\n",
    "x_spherical=Matrix([t,r,theta,phi])\n",
    "x_cartesian=Matrix([t,x,y,z])\n",
    "dx_spherical=Matrix([dt,dr,dtheta,dphi])\n",
    "dx_cartesian=Matrix([dt,dx,dy,dz])\n",
    "xlist=[x_spherical, dx_spherical, x_cartesian, dx_cartesian]\n",
    "for i in range(0,4):\n",
    "    display(xlist[i])\n",
    "###Replacing f at the end or anyway"
   ]
  },
  {
   "cell_type": "markdown",
   "metadata": {},
   "source": [
    "\n",
    "### Metrics and their inverse:"
   ]
  },
  {
   "cell_type": "markdown",
   "metadata": {},
   "source": [
    "#### Minkowski metric:\n",
    "#### $\\eta_{\\mu \\nu}\\to$ g_down_mink[$\\mu ,\\nu$]"
   ]
  },
  {
   "cell_type": "code",
   "execution_count": 3,
   "metadata": {},
   "outputs": [
    {
     "data": {
      "text/latex": [
       "$\\displaystyle \\eta_{ab}$"
      ],
      "text/plain": [
       "\\eta_{ab}"
      ]
     },
     "metadata": {},
     "output_type": "display_data"
    },
    {
     "data": {
      "text/latex": [
       "$\\displaystyle \\left[\\begin{matrix}-1 & 0 & 0 & 0\\\\0 & 1 & 0 & 0\\\\0 & 0 & 1 & 0\\\\0 & 0 & 0 & 1\\end{matrix}\\right]$"
      ],
      "text/plain": [
       "Matrix([\n",
       "[-1, 0, 0, 0],\n",
       "[ 0, 1, 0, 0],\n",
       "[ 0, 0, 1, 0],\n",
       "[ 0, 0, 0, 1]])"
      ]
     },
     "metadata": {},
     "output_type": "display_data"
    }
   ],
   "source": [
    "eta_down=symbols('\\eta_{ab}')\n",
    "g_down_mink=Matrix([[-1, 0, 0, 0],[0,1, 0, 0],[0, 0, 1, 0],[0, 0, 0, 1]])\n",
    "display(eta_down)\n",
    "display(g_down_mink)\n"
   ]
  },
  {
   "cell_type": "markdown",
   "metadata": {},
   "source": [
    "#### $\\eta^{\\mu \\nu}\\to$ g_up_mink[$\\mu ,\\nu$]"
   ]
  },
  {
   "cell_type": "code",
   "execution_count": 4,
   "metadata": {},
   "outputs": [
    {
     "data": {
      "text/latex": [
       "$\\displaystyle \\eta^{ab}$"
      ],
      "text/plain": [
       "\\eta^{ab}"
      ]
     },
     "metadata": {},
     "output_type": "display_data"
    },
    {
     "data": {
      "text/latex": [
       "$\\displaystyle \\left[\\begin{matrix}-1 & 0 & 0 & 0\\\\0 & 1 & 0 & 0\\\\0 & 0 & 1 & 0\\\\0 & 0 & 0 & 1\\end{matrix}\\right]$"
      ],
      "text/plain": [
       "Matrix([\n",
       "[-1, 0, 0, 0],\n",
       "[ 0, 1, 0, 0],\n",
       "[ 0, 0, 1, 0],\n",
       "[ 0, 0, 0, 1]])"
      ]
     },
     "metadata": {},
     "output_type": "display_data"
    }
   ],
   "source": [
    "eta_up=symbols('\\eta^{ab}')\n",
    "g_up_mink=g_down_mink.inv()\n",
    "display(eta_up)\n",
    "display(g_up_mink)"
   ]
  },
  {
   "cell_type": "markdown",
   "metadata": {},
   "source": [
    "#### $\\eta_{\\mu a}\\eta^{a \\nu}=\\delta_{\\mu}^{\\nu}$"
   ]
  },
  {
   "cell_type": "code",
   "execution_count": 5,
   "metadata": {
    "scrolled": true
   },
   "outputs": [
    {
     "data": {
      "text/latex": [
       "$\\displaystyle \\left[\\begin{matrix}1 & 0 & 0 & 0\\\\0 & 1 & 0 & 0\\\\0 & 0 & 1 & 0\\\\0 & 0 & 0 & 1\\end{matrix}\\right]$"
      ],
      "text/plain": [
       "Matrix([\n",
       "[1, 0, 0, 0],\n",
       "[0, 1, 0, 0],\n",
       "[0, 0, 1, 0],\n",
       "[0, 0, 0, 1]])"
      ]
     },
     "execution_count": 5,
     "metadata": {},
     "output_type": "execute_result"
    }
   ],
   "source": [
    "g_down_mink*g_up_mink"
   ]
  },
  {
   "cell_type": "code",
   "execution_count": 6,
   "metadata": {
    "scrolled": true
   },
   "outputs": [
    {
     "data": {
      "text/latex": [
       "$\\displaystyle ds^{2} = \\eta_{ab} dx^{a} dx^{b}$"
      ],
      "text/plain": [
       "Eq(ds**2, \\eta_{ab}*dx**a*dx**b)"
      ]
     },
     "metadata": {},
     "output_type": "display_data"
    },
    {
     "data": {
      "text/latex": [
       "$\\displaystyle dx^{a}$"
      ],
      "text/plain": [
       "dx**a"
      ]
     },
     "metadata": {},
     "output_type": "display_data"
    },
    {
     "data": {
      "text/latex": [
       "$\\displaystyle \\left[\\begin{matrix}dt\\\\dx\\\\dy\\\\dz\\end{matrix}\\right]$"
      ],
      "text/plain": [
       "Matrix([\n",
       "[dt],\n",
       "[dx],\n",
       "[dy],\n",
       "[dz]])"
      ]
     },
     "metadata": {},
     "output_type": "display_data"
    },
    {
     "data": {
      "text/latex": [
       "$\\displaystyle \\eta_{ab}$"
      ],
      "text/plain": [
       "\\eta_{ab}"
      ]
     },
     "metadata": {},
     "output_type": "display_data"
    },
    {
     "data": {
      "text/latex": [
       "$\\displaystyle \\left[\\begin{matrix}-1 & 0 & 0 & 0\\\\0 & 1 & 0 & 0\\\\0 & 0 & 1 & 0\\\\0 & 0 & 0 & 1\\end{matrix}\\right]$"
      ],
      "text/plain": [
       "Matrix([\n",
       "[-1, 0, 0, 0],\n",
       "[ 0, 1, 0, 0],\n",
       "[ 0, 0, 1, 0],\n",
       "[ 0, 0, 0, 1]])"
      ]
     },
     "metadata": {},
     "output_type": "display_data"
    },
    {
     "data": {
      "text/latex": [
       "$\\displaystyle ds^{2} = - dt^{2} + dx^{2} + dy^{2} + dz^{2}$"
      ],
      "text/plain": [
       "Eq(ds**2, -dt**2 + dx**2 + dy**2 + dz**2)"
      ]
     },
     "metadata": {},
     "output_type": "display_data"
    }
   ],
   "source": [
    "def down(g,x):\n",
    "    return (g*x).T\n",
    "\n",
    "display(Eq(ds**2,eta_down*dx**a * dx**b))\n",
    "\n",
    "#displaying dx^a\n",
    "display(dx**a)\n",
    "x1_up=xlist[3]\n",
    "display(xlist[3])\n",
    "\n",
    "#displaying the metric\n",
    "display(eta_down)\n",
    "display(g_down_mink)\n",
    "\n",
    "#computing and displaying the line element\n",
    "x1_down=down(g_down_mink, x1_up)\n",
    "ds2=x1_down*x1_up\n",
    "ds2=ds2[0]\n",
    "display(Eq(ds**2,ds2))"
   ]
  },
  {
   "cell_type": "code",
   "execution_count": 7,
   "metadata": {},
   "outputs": [
    {
     "name": "stdout",
     "output_type": "stream",
     "text": [
      "Line element:\n"
     ]
    },
    {
     "data": {
      "text/latex": [
       "$\\displaystyle ds^{2} = - c^{2} dt^{2} + dt dx + dx^{2} + dx dy f{\\left(r,t \\right)} + dy^{2} + dz^{2}$"
      ],
      "text/plain": [
       "Eq(ds**2, -c**2*dt**2 + dt*dx + dx**2 + dx*dy*f(r, t) + dy**2 + dz**2)"
      ]
     },
     "metadata": {},
     "output_type": "display_data"
    },
    {
     "name": "stdout",
     "output_type": "stream",
     "text": [
      "Metric tensor:\n"
     ]
    },
    {
     "data": {
      "text/latex": [
       "$\\displaystyle g_{ab}$"
      ],
      "text/plain": [
       "g_{ab}"
      ]
     },
     "metadata": {},
     "output_type": "display_data"
    },
    {
     "data": {
      "text/latex": [
       "$\\displaystyle \\left[\\begin{matrix}- c^{2} & 1 & 0 & 0\\\\1 & 1 & f{\\left(r,t \\right)} & 0\\\\0 & f{\\left(r,t \\right)} & 1 & 0\\\\0 & 0 & 0 & 1\\end{matrix}\\right]$"
      ],
      "text/plain": [
       "Matrix([\n",
       "[-c**2,       1,       0, 0],\n",
       "[    1,       1, f(r, t), 0],\n",
       "[    0, f(r, t),       1, 0],\n",
       "[    0,       0,       0, 1]])"
      ]
     },
     "metadata": {},
     "output_type": "display_data"
    },
    {
     "data": {
      "text/latex": [
       "$\\displaystyle g^{ab}$"
      ],
      "text/plain": [
       "g^{ab}"
      ]
     },
     "metadata": {},
     "output_type": "display_data"
    },
    {
     "data": {
      "text/latex": [
       "$\\displaystyle \\left[\\begin{matrix}\\frac{f^{2}{\\left(r,t \\right)} - 1}{- c^{2} f^{2}{\\left(r,t \\right)} + c^{2} + 1} & \\frac{1}{- c^{2} f^{2}{\\left(r,t \\right)} + c^{2} + 1} & \\frac{f{\\left(r,t \\right)}}{c^{2} f^{2}{\\left(r,t \\right)} - c^{2} - 1} & 0\\\\\\frac{1}{- c^{2} f^{2}{\\left(r,t \\right)} + c^{2} + 1} & \\frac{c^{2}}{- c^{2} f^{2}{\\left(r,t \\right)} + c^{2} + 1} & \\frac{c^{2} f{\\left(r,t \\right)}}{c^{2} f^{2}{\\left(r,t \\right)} - c^{2} - 1} & 0\\\\\\frac{f{\\left(r,t \\right)}}{c^{2} f^{2}{\\left(r,t \\right)} - c^{2} - 1} & \\frac{c^{2} f{\\left(r,t \\right)}}{c^{2} f^{2}{\\left(r,t \\right)} - c^{2} - 1} & \\frac{c^{2} + 1}{- c^{2} f^{2}{\\left(r,t \\right)} + c^{2} + 1} & 0\\\\0 & 0 & 0 & 1\\end{matrix}\\right]$"
      ],
      "text/plain": [
       "Matrix([\n",
       "[(f(r, t)**2 - 1)/(-c**2*f(r, t)**2 + c**2 + 1),           1/(-c**2*f(r, t)**2 + c**2 + 1),      f(r, t)/(c**2*f(r, t)**2 - c**2 - 1), 0],\n",
       "[               1/(-c**2*f(r, t)**2 + c**2 + 1),        c**2/(-c**2*f(r, t)**2 + c**2 + 1), c**2*f(r, t)/(c**2*f(r, t)**2 - c**2 - 1), 0],\n",
       "[          f(r, t)/(c**2*f(r, t)**2 - c**2 - 1), c**2*f(r, t)/(c**2*f(r, t)**2 - c**2 - 1),  (c**2 + 1)/(-c**2*f(r, t)**2 + c**2 + 1), 0],\n",
       "[                                             0,                                         0,                                         0, 1]])"
      ]
     },
     "metadata": {},
     "output_type": "display_data"
    },
    {
     "data": {
      "text/latex": [
       "$\\displaystyle g^{ab} g_{ab}$"
      ],
      "text/plain": [
       "g^{ab}*g_{ab}"
      ]
     },
     "metadata": {},
     "output_type": "display_data"
    },
    {
     "data": {
      "text/latex": [
       "$\\displaystyle \\left[\\begin{matrix}1 & 0 & 0 & 0\\\\0 & 1 & 0 & 0\\\\0 & 0 & 1 & 0\\\\0 & 0 & 0 & 1\\end{matrix}\\right]$"
      ],
      "text/plain": [
       "Matrix([\n",
       "[1, 0, 0, 0],\n",
       "[0, 1, 0, 0],\n",
       "[0, 0, 1, 0],\n",
       "[0, 0, 0, 1]])"
      ]
     },
     "execution_count": 7,
     "metadata": {},
     "output_type": "execute_result"
    }
   ],
   "source": [
    "#Insert arbitrary metric (from line element)\n",
    "f=Function('f')(r,t)\n",
    "ds2=-c**2*dt**2+dx**2+dy**2+dz**2+dx*dt+f*dx*dy\n",
    "\n",
    "#display line element\n",
    "print('Line element:')\n",
    "display(Eq(ds**2,ds2))\n",
    "\n",
    "#compute metric\n",
    "g_down=Matrix([[0, 0, 0, 0],[0,0, 0, 0],[0, 0, 0, 0],[0, 0, 0, 0]])\n",
    "for i in range(0,4):\n",
    "    for j in range(0,4):\n",
    "        g_down[i,j]=ds2.coeff(xlist[3][i]*xlist[3][j])\n",
    "        \n",
    "#display metric\n",
    "print('Metric tensor:')\n",
    "g_ab=symbols('g_{ab}')\n",
    "g_up_ab=symbols('g^{ab}')\n",
    "display(g_ab)\n",
    "display(g_down)\n",
    "\n",
    "display(g_up_ab)\n",
    "display(simplify(g_down.inv()))\n",
    "\n",
    "display(g_ab*g_up_ab)\n",
    "simplify(g_down*g_down.inv())"
   ]
  },
  {
   "cell_type": "markdown",
   "metadata": {},
   "source": [
    "#### Schwarzschild metric"
   ]
  },
  {
   "cell_type": "markdown",
   "metadata": {},
   "source": [
    "#### $g_{\\mu \\nu}\\to $ g_down[$\\mu, \\nu$]\n",
    "#### $g^{\\mu \\nu}\\to $ g_up[$\\mu, \\nu$]"
   ]
  },
  {
   "cell_type": "code",
   "execution_count": 8,
   "metadata": {},
   "outputs": [
    {
     "name": "stdout",
     "output_type": "stream",
     "text": [
      "Line element:\n"
     ]
    },
    {
     "data": {
      "text/latex": [
       "$\\displaystyle ds^{2} = d\\phi^{2} r^{2} \\sin^{2}{\\left(\\theta \\right)} + d\\theta^{2} r^{2} + \\frac{dr^{2}}{f{\\left(r \\right)}} - dt^{2} f{\\left(r \\right)}$"
      ],
      "text/plain": [
       "Eq(ds**2, d\\phi**2*r**2*sin(\\theta)**2 + d\\theta**2*r**2 + dr**2/f(r) - dt**2*f(r))"
      ]
     },
     "metadata": {},
     "output_type": "display_data"
    },
    {
     "name": "stdout",
     "output_type": "stream",
     "text": [
      "Metric tensor:\n"
     ]
    },
    {
     "data": {
      "text/latex": [
       "$\\displaystyle g_{ab}$"
      ],
      "text/plain": [
       "g_{ab}"
      ]
     },
     "metadata": {},
     "output_type": "display_data"
    },
    {
     "data": {
      "text/latex": [
       "$\\displaystyle \\left[\\begin{matrix}- f{\\left(r \\right)} & 0 & 0 & 0\\\\0 & \\frac{1}{f{\\left(r \\right)}} & 0 & 0\\\\0 & 0 & r^{2} & 0\\\\0 & 0 & 0 & r^{2} \\sin^{2}{\\left(\\theta \\right)}\\end{matrix}\\right]$"
      ],
      "text/plain": [
       "Matrix([\n",
       "[-f(r),      0,    0,                   0],\n",
       "[    0, 1/f(r),    0,                   0],\n",
       "[    0,      0, r**2,                   0],\n",
       "[    0,      0,    0, r**2*sin(\\theta)**2]])"
      ]
     },
     "metadata": {},
     "output_type": "display_data"
    },
    {
     "data": {
      "text/latex": [
       "$\\displaystyle g^{ab}$"
      ],
      "text/plain": [
       "g^{ab}"
      ]
     },
     "metadata": {},
     "output_type": "display_data"
    },
    {
     "data": {
      "text/latex": [
       "$\\displaystyle \\left[\\begin{matrix}- \\frac{1}{f{\\left(r \\right)}} & 0 & 0 & 0\\\\0 & f{\\left(r \\right)} & 0 & 0\\\\0 & 0 & \\frac{1}{r^{2}} & 0\\\\0 & 0 & 0 & \\frac{1}{r^{2} \\sin^{2}{\\left(\\theta \\right)}}\\end{matrix}\\right]$"
      ],
      "text/plain": [
       "Matrix([\n",
       "[-1/f(r),    0,       0,                       0],\n",
       "[      0, f(r),       0,                       0],\n",
       "[      0,    0, r**(-2),                       0],\n",
       "[      0,    0,       0, 1/(r**2*sin(\\theta)**2)]])"
      ]
     },
     "metadata": {},
     "output_type": "display_data"
    },
    {
     "data": {
      "text/latex": [
       "$\\displaystyle g^{ab} g_{ab}$"
      ],
      "text/plain": [
       "g^{ab}*g_{ab}"
      ]
     },
     "metadata": {},
     "output_type": "display_data"
    },
    {
     "data": {
      "text/latex": [
       "$\\displaystyle \\left[\\begin{matrix}1 & 0 & 0 & 0\\\\0 & 1 & 0 & 0\\\\0 & 0 & 1 & 0\\\\0 & 0 & 0 & 1\\end{matrix}\\right]$"
      ],
      "text/plain": [
       "Matrix([\n",
       "[1, 0, 0, 0],\n",
       "[0, 1, 0, 0],\n",
       "[0, 0, 1, 0],\n",
       "[0, 0, 0, 1]])"
      ]
     },
     "execution_count": 8,
     "metadata": {},
     "output_type": "execute_result"
    }
   ],
   "source": [
    "#Covariant Schwarzschild metric\n",
    "#Insert arbitrary metric (from line element)\n",
    "f=Function('f')(r)\n",
    "ds2=-f*dt**2+dr**2/f+r**2 * dtheta**2+ r**2 * sin(theta)**2 * dphi**2\n",
    "\n",
    "#display line element\n",
    "print('Line element:')\n",
    "display(Eq(ds**2,ds2))\n",
    "\n",
    "#compute metric\n",
    "g_down=Matrix([[0, 0, 0, 0],[0,0, 0, 0],[0, 0, 0, 0],[0, 0, 0, 0]])\n",
    "for i in range(0,4):\n",
    "    for j in range(0,4):\n",
    "        g_down[i,j]=ds2.coeff(xlist[1][i]*xlist[1][j])\n",
    "        \n",
    "#display metric\n",
    "print('Metric tensor:')\n",
    "g_ab=symbols('g_{ab}')\n",
    "g_up_ab=symbols('g^{ab}')\n",
    "display(g_ab)\n",
    "display(g_down)\n",
    "\n",
    "display(g_up_ab)\n",
    "g_up=simplify(g_down.inv())\n",
    "display(g_up)\n",
    "\n",
    "\n",
    "display(g_ab*g_up_ab)\n",
    "simplify(g_down*g_down.inv())"
   ]
  },
  {
   "cell_type": "markdown",
   "metadata": {},
   "source": [
    "## Christoffel Symbols"
   ]
  },
  {
   "cell_type": "markdown",
   "metadata": {},
   "source": [
    "#### (Second kind)"
   ]
  },
  {
   "cell_type": "code",
   "execution_count": 9,
   "metadata": {},
   "outputs": [
    {
     "data": {
      "text/latex": [
       "$\\displaystyle \\left[\\begin{matrix}\\left[\\begin{matrix}0.0 & 0.0 & 0.0 & 0.0\\\\0.0 & 0.0 & 0.0 & 0.0\\\\0.0 & 0.0 & 0.0 & 0.0\\\\0.0 & 0.0 & 0.0 & 0.0\\end{matrix}\\right] & \\left[\\begin{matrix}0.0 & 0.0 & 0.0 & 0.0\\\\0.0 & 0.0 & 0.0 & 0.0\\\\0.0 & 0.0 & 0.0 & 0.0\\\\0.0 & 0.0 & 0.0 & 0.0\\end{matrix}\\right] & \\left[\\begin{matrix}0.0 & 0.0 & 0.0 & 0.0\\\\0.0 & 0.0 & 0.0 & 0.0\\\\0.0 & 0.0 & 0.0 & 0.0\\\\0.0 & 0.0 & 0.0 & 0.0\\end{matrix}\\right] & \\left[\\begin{matrix}0.0 & 0.0 & 0.0 & 0.0\\\\0.0 & 0.0 & 0.0 & 0.0\\\\0.0 & 0.0 & 0.0 & 0.0\\\\0.0 & 0.0 & 0.0 & 0.0\\end{matrix}\\right]\\end{matrix}\\right]$"
      ],
      "text/plain": [
       "[[[0.0, 0.0, 0.0, 0.0], [0.0, 0.0, 0.0, 0.0], [0.0, 0.0, 0.0, 0.0], [0.0, 0.0, 0.0, 0.0]], [[0.0, 0.0, 0.0, 0.0], [0.0, 0.0, 0.0, 0.0], [0.0, 0.0, 0.0, 0.0], [0.0, 0.0, 0.0, 0.0]], [[0.0, 0.0, 0.0, 0.0], [0.0, 0.0, 0.0, 0.0], [0.0, 0.0, 0.0, 0.0], [0.0, 0.0, 0.0, 0.0]], [[0.0, 0.0, 0.0, 0.0], [0.0, 0.0, 0.0, 0.0], [0.0, 0.0, 0.0, 0.0], [0.0, 0.0, 0.0, 0.0]]]"
      ]
     },
     "execution_count": 9,
     "metadata": {},
     "output_type": "execute_result"
    }
   ],
   "source": [
    "#creation of an empty 4x4x4 array \n",
    "C=MutableDenseNDimArray(np.zeros((4,)*3))\n",
    "C"
   ]
  },
  {
   "cell_type": "markdown",
   "metadata": {},
   "source": [
    "### $\\Gamma^{\\rho}_{\\mu \\nu} \\to $ C[$\\rho,\\mu,\\nu$]"
   ]
  },
  {
   "cell_type": "code",
   "execution_count": 10,
   "metadata": {},
   "outputs": [
    {
     "data": {
      "text/latex": [
       "$\\displaystyle \\left[\\begin{matrix}\\left[\\begin{matrix}0 & \\frac{0.5 \\frac{d}{d r} f{\\left(r \\right)}}{f{\\left(r \\right)}} & 0 & 0\\\\\\frac{0.5 \\frac{d}{d r} f{\\left(r \\right)}}{f{\\left(r \\right)}} & 0 & 0 & 0\\\\0 & 0 & 0 & 0\\\\0 & 0 & 0 & 0\\end{matrix}\\right] & \\left[\\begin{matrix}0.5 f{\\left(r \\right)} \\frac{d}{d r} f{\\left(r \\right)} & 0 & 0 & 0\\\\0 & - \\frac{0.5 \\frac{d}{d r} f{\\left(r \\right)}}{f{\\left(r \\right)}} & 0 & 0\\\\0 & 0 & - 1.0 r f{\\left(r \\right)} & 0\\\\0 & 0 & 0 & - 1.0 r f{\\left(r \\right)} \\sin^{2}{\\left(\\theta \\right)}\\end{matrix}\\right] & \\left[\\begin{matrix}0 & 0 & 0 & 0\\\\0 & 0 & \\frac{1.0}{r} & 0\\\\0 & \\frac{1.0}{r} & 0 & 0\\\\0 & 0 & 0 & - 1.0 \\sin{\\left(\\theta \\right)} \\cos{\\left(\\theta \\right)}\\end{matrix}\\right] & \\left[\\begin{matrix}0 & 0 & 0 & 0\\\\0 & 0 & 0 & \\frac{1.0}{r}\\\\0 & 0 & 0 & \\frac{1.0 \\cos{\\left(\\theta \\right)}}{\\sin{\\left(\\theta \\right)}}\\\\0 & \\frac{1.0}{r} & \\frac{1.0 \\cos{\\left(\\theta \\right)}}{\\sin{\\left(\\theta \\right)}} & 0\\end{matrix}\\right]\\end{matrix}\\right]$"
      ],
      "text/plain": [
       "[[[0, 0.5*Derivative(f(r), r)/f(r), 0, 0], [0.5*Derivative(f(r), r)/f(r), 0, 0, 0], [0, 0, 0, 0], [0, 0, 0, 0]], [[0.5*f(r)*Derivative(f(r), r), 0, 0, 0], [0, -0.5*Derivative(f(r), r)/f(r), 0, 0], [0, 0, -1.0*r*f(r), 0], [0, 0, 0, -1.0*r*f(r)*sin(\\theta)**2]], [[0, 0, 0, 0], [0, 0, 1.0/r, 0], [0, 1.0/r, 0, 0], [0, 0, 0, -1.0*sin(\\theta)*cos(\\theta)]], [[0, 0, 0, 0], [0, 0, 0, 1.0/r], [0, 0, 0, 1.0*cos(\\theta)/sin(\\theta)], [0, 1.0/r, 1.0*cos(\\theta)/sin(\\theta), 0]]]"
      ]
     },
     "execution_count": 10,
     "metadata": {},
     "output_type": "execute_result"
    }
   ],
   "source": [
    "#Computing the actual components and assigning them\n",
    "for i in range(0,4):\n",
    "    for j in range(0,4):\n",
    "        for k in range(0,4):\n",
    "            su=0\n",
    "            for p in range(0,4):\n",
    "                su=su+0.5*g_up[i,p]*(  diff(g_down[k,p],xlist[0][j]) + diff(g_down[p,j],xlist[0][k]) - diff(g_down[j,k],xlist[0][p])   )\n",
    "            C[i,j,k]=su\n",
    "C\n",
    "\n"
   ]
  },
  {
   "cell_type": "code",
   "execution_count": 11,
   "metadata": {
    "scrolled": true
   },
   "outputs": [
    {
     "data": {
      "text/latex": [
       "$\\displaystyle \\left[\\begin{matrix}0 & \\frac{0.5 \\frac{d}{d r} f{\\left(r \\right)}}{f{\\left(r \\right)}} & 0 & 0\\\\\\frac{0.5 \\frac{d}{d r} f{\\left(r \\right)}}{f{\\left(r \\right)}} & 0 & 0 & 0\\\\0 & 0 & 0 & 0\\\\0 & 0 & 0 & 0\\end{matrix}\\right]$"
      ],
      "text/plain": [
       "[[0, 0.5*Derivative(f(r), r)/f(r), 0, 0], [0.5*Derivative(f(r), r)/f(r), 0, 0, 0], [0, 0, 0, 0], [0, 0, 0, 0]]"
      ]
     },
     "execution_count": 11,
     "metadata": {},
     "output_type": "execute_result"
    }
   ],
   "source": [
    "C[0,:,:]"
   ]
  },
  {
   "cell_type": "markdown",
   "metadata": {},
   "source": [
    "### $\\Gamma^{\\rho}_{\\mu \\nu} \\to $ C[$\\rho,\\mu,\\nu$] as a function of $f(r)$"
   ]
  },
  {
   "cell_type": "code",
   "execution_count": 12,
   "metadata": {},
   "outputs": [
    {
     "data": {
      "text/latex": [
       "$\\displaystyle f{\\left(r \\right)} = - \\frac{2 G M}{r} + 1$"
      ],
      "text/plain": [
       "Eq(f(r), -2*G*M/r + 1)"
      ]
     },
     "metadata": {},
     "output_type": "display_data"
    },
    {
     "name": "stdout",
     "output_type": "stream",
     "text": [
      "Then leads to:\n"
     ]
    },
    {
     "data": {
      "text/latex": [
       "$\\displaystyle \\left[\\begin{matrix}\\left[\\begin{matrix}0 & - \\frac{0.5 r \\left(\\frac{1}{r} + \\frac{2 G M - r}{r^{2}}\\right)}{2 G M - r} & 0 & 0\\\\- \\frac{0.5 r \\left(\\frac{1}{r} + \\frac{2 G M - r}{r^{2}}\\right)}{2 G M - r} & 0 & 0 & 0\\\\0 & 0 & 0 & 0\\\\0 & 0 & 0 & 0\\end{matrix}\\right] & \\left[\\begin{matrix}- \\frac{0.5 \\left(\\frac{1}{r} + \\frac{2 G M - r}{r^{2}}\\right) \\left(2 G M - r\\right)}{r} & 0 & 0 & 0\\\\0 & \\frac{0.5 r \\left(\\frac{1}{r} - \\frac{- 2 G M + r}{r^{2}}\\right)}{2 G M - r} & 0 & 0\\\\0 & 0 & 2.0 G M - 1.0 r & 0\\\\0 & 0 & 0 & \\left(2.0 G M - 1.0 r\\right) \\sin^{2}{\\left(\\theta \\right)}\\end{matrix}\\right] & \\left[\\begin{matrix}0 & 0 & 0 & 0\\\\0 & 0 & \\frac{1.0}{r} & 0\\\\0 & \\frac{1.0}{r} & 0 & 0\\\\0 & 0 & 0 & - 0.5 \\sin{\\left(2 \\theta \\right)}\\end{matrix}\\right] & \\left[\\begin{matrix}0 & 0 & 0 & 0\\\\0 & 0 & 0 & \\frac{1.0}{r}\\\\0 & 0 & 0 & \\frac{1.0}{\\tan{\\left(\\theta \\right)}}\\\\0 & \\frac{1.0}{r} & \\frac{1.0}{\\tan{\\left(\\theta \\right)}} & 0\\end{matrix}\\right]\\end{matrix}\\right]$"
      ],
      "text/plain": [
       "[[[0, -0.5*r*(1/r + (2*G*M - r)/r**2)/(2*G*M - r), 0, 0], [-0.5*r*(1/r + (2*G*M - r)/r**2)/(2*G*M - r), 0, 0, 0], [0, 0, 0, 0], [0, 0, 0, 0]], [[-0.5*(1/r + (2*G*M - r)/r**2)*(2*G*M - r)/r, 0, 0, 0], [0, 0.5*r*(1/r - (-2*G*M + r)/r**2)/(2*G*M - r), 0, 0], [0, 0, 2.0*G*M - 1.0*r, 0], [0, 0, 0, (2.0*G*M - 1.0*r)*sin(\\theta)**2]], [[0, 0, 0, 0], [0, 0, 1.0/r, 0], [0, 1.0/r, 0, 0], [0, 0, 0, -0.5*sin(2*\\theta)]], [[0, 0, 0, 0], [0, 0, 0, 1.0/r], [0, 0, 0, 1.0/tan(\\theta)], [0, 1.0/r, 1.0/tan(\\theta), 0]]]"
      ]
     },
     "execution_count": 12,
     "metadata": {},
     "output_type": "execute_result"
    }
   ],
   "source": [
    "#Assign an actual value to f\n",
    "G, M =symbols('G, M')\n",
    "f_value=1-2*G*M/r\n",
    "display(Eq(f,f_value))\n",
    "print('Then leads to:')\n",
    "\n",
    "#replacing this function in the Christoffel symbol\n",
    "for i in range(0,4):\n",
    "    for j in range(0,4):\n",
    "        for k in range(0,4):\n",
    "            C[i,j,k]=simplify(C[i,j,k].subs(f,f_value))\n",
    "C"
   ]
  },
  {
   "cell_type": "code",
   "execution_count": 35,
   "metadata": {},
   "outputs": [
    {
     "data": {
      "text/latex": [
       "$\\displaystyle g_{ab}$"
      ],
      "text/plain": [
       "g_{ab}"
      ]
     },
     "metadata": {},
     "output_type": "display_data"
    },
    {
     "data": {
      "text/latex": [
       "$\\displaystyle \\left[\\begin{matrix}\\frac{2 G M}{r} - 1 & 0 & 0 & 0\\\\0 & \\frac{1}{- \\frac{2 G M}{r} + 1} & 0 & 0\\\\0 & 0 & r^{2} & 0\\\\0 & 0 & 0 & r^{2} \\sin^{2}{\\left(\\theta \\right)}\\end{matrix}\\right]$"
      ],
      "text/plain": [
       "Matrix([\n",
       "[2*G*M/r - 1,                0,    0,                   0],\n",
       "[          0, 1/(-2*G*M/r + 1),    0,                   0],\n",
       "[          0,                0, r**2,                   0],\n",
       "[          0,                0,    0, r**2*sin(\\theta)**2]])"
      ]
     },
     "metadata": {},
     "output_type": "display_data"
    },
    {
     "data": {
      "text/latex": [
       "$\\displaystyle g^{ab}$"
      ],
      "text/plain": [
       "g^{ab}"
      ]
     },
     "metadata": {},
     "output_type": "display_data"
    },
    {
     "data": {
      "text/latex": [
       "$\\displaystyle \\left[\\begin{matrix}- \\frac{1}{- \\frac{2 G M}{r} + 1} & 0 & 0 & 0\\\\0 & - \\frac{2 G M}{r} + 1 & 0 & 0\\\\0 & 0 & \\frac{1}{r^{2}} & 0\\\\0 & 0 & 0 & \\frac{1}{r^{2} \\sin^{2}{\\left(\\theta \\right)}}\\end{matrix}\\right]$"
      ],
      "text/plain": [
       "Matrix([\n",
       "[-1/(-2*G*M/r + 1),            0,       0,                       0],\n",
       "[                0, -2*G*M/r + 1,       0,                       0],\n",
       "[                0,            0, r**(-2),                       0],\n",
       "[                0,            0,       0, 1/(r**2*sin(\\theta)**2)]])"
      ]
     },
     "metadata": {},
     "output_type": "display_data"
    }
   ],
   "source": [
    "#display and sub f on the metric\n",
    "display(g_ab)\n",
    "g_down=g_down.subs(f,f_value)\n",
    "display(g_down)\n",
    "\n",
    "#display and sub f on the metric\n",
    "display(g_up_ab)\n",
    "g_up=g_up.subs(f,f_value)\n",
    "display(g_up)"
   ]
  },
  {
   "cell_type": "markdown",
   "metadata": {},
   "source": [
    "## Covariant Derivative\n",
    "$\\nabla_{b}A^{a}=\\partial_{b}A^{a}+\\Gamma_{bk}^{a}A^{k}=B^{a} \\; _{b}$\n",
    "\n",
    "and \n",
    "\n",
    "$\\nabla_{b}A_{a}=\\partial_{b}A_{a}-\\Gamma_{ab}^{k}A_{k}=B_{ab}$"
   ]
  },
  {
   "cell_type": "code",
   "execution_count": 1,
   "metadata": {},
   "outputs": [],
   "source": [
    "def covariant_derivative_up(C,xlist,x1):\n",
    "    D=Matrix(np.zeros((4,)*2))\n",
    "    for i in range(0,4):\n",
    "        for j in range(0,4):\n",
    "            tmp=0\n",
    "            for k in range(0,4):\n",
    "                tmp=tmp+C[j,i,k]*x1[k] #2\n",
    "                D[i,j]=diff(x1[j],xlist[0][i])+tmp\n",
    "    return D.T\n",
    "\n",
    "def covariant_derivative_down(C,xlist,x1):\n",
    "    D=Matrix(np.zeros((4,)*2))\n",
    "    for i in range(0,4):\n",
    "        for j in range(0,4):\n",
    "            tmp=0\n",
    "            for k in range(0,4):\n",
    "                tmp=tmp+C[k,i,j]*x1[k] #2\n",
    "                D[i,j]=diff(x1[j],xlist[0][i])-tmp\n",
    "    return D.T"
   ]
  },
  {
   "cell_type": "code",
   "execution_count": 105,
   "metadata": {},
   "outputs": [
    {
     "data": {
      "text/latex": [
       "$\\displaystyle \\left[\\begin{matrix}f{\\left(t \\right)}\\\\f{\\left(r \\right)}\\\\0\\\\0\\end{matrix}\\right]$"
      ],
      "text/plain": [
       "Matrix([\n",
       "[f(t)],\n",
       "[f(r)],\n",
       "[   0],\n",
       "[   0]])"
      ]
     },
     "metadata": {},
     "output_type": "display_data"
    },
    {
     "data": {
      "text/latex": [
       "$\\displaystyle \\left[\\begin{matrix}\\left(\\frac{2 G M}{r} - 1\\right) f{\\left(t \\right)} & \\frac{f{\\left(r \\right)}}{- \\frac{2 G M}{r} + 1} & 0 & 0\\end{matrix}\\right]$"
      ],
      "text/plain": [
       "Matrix([[(2*G*M/r - 1)*f(t), f(r)/(-2*G*M/r + 1), 0, 0]])"
      ]
     },
     "metadata": {},
     "output_type": "display_data"
    }
   ],
   "source": [
    "t1=Function('f')(t)\n",
    "r1=Function('f')(r)\n",
    "x1=Matrix([t1,r1,0,0])\n",
    "display(x1)\n",
    "\n",
    "x1_down=down(g_down,x1)\n",
    "display(x1_down)"
   ]
  },
  {
   "cell_type": "code",
   "execution_count": 106,
   "metadata": {},
   "outputs": [
    {
     "data": {
      "text/latex": [
       "$\\displaystyle B^{a}_{b}$"
      ],
      "text/plain": [
       "B^{a}_{b}"
      ]
     },
     "metadata": {},
     "output_type": "display_data"
    },
    {
     "data": {
      "text/latex": [
       "$\\displaystyle \\left[\\begin{matrix}- \\frac{0.5 r \\left(\\frac{1}{r} + \\frac{2 G M - r}{r^{2}}\\right) f{\\left(r \\right)}}{2 G M - r} + \\frac{d}{d t} f{\\left(t \\right)} & - \\frac{0.5 r \\left(\\frac{1}{r} + \\frac{2 G M - r}{r^{2}}\\right) f{\\left(t \\right)}}{2 G M - r} & 0 & 0\\\\- \\frac{0.5 \\left(\\frac{1}{r} + \\frac{2 G M - r}{r^{2}}\\right) \\left(2 G M - r\\right) f{\\left(t \\right)}}{r} & \\frac{0.5 r \\left(\\frac{1}{r} - \\frac{- 2 G M + r}{r^{2}}\\right) f{\\left(r \\right)}}{2 G M - r} + \\frac{d}{d r} f{\\left(r \\right)} & 0 & 0\\\\0 & 0 & \\frac{1.0 f{\\left(r \\right)}}{r} & 0\\\\0 & 0 & 0 & \\frac{1.0 f{\\left(r \\right)}}{r}\\end{matrix}\\right]$"
      ],
      "text/plain": [
       "Matrix([\n",
       "[-0.5*r*(1/r + (2*G*M - r)/r**2)*f(r)/(2*G*M - r) + Derivative(f(t), t),                       -0.5*r*(1/r + (2*G*M - r)/r**2)*f(t)/(2*G*M - r),          0,          0],\n",
       "[                      -0.5*(1/r + (2*G*M - r)/r**2)*(2*G*M - r)*f(t)/r, 0.5*r*(1/r - (-2*G*M + r)/r**2)*f(r)/(2*G*M - r) + Derivative(f(r), r),          0,          0],\n",
       "[                                                                     0,                                                                      0, 1.0*f(r)/r,          0],\n",
       "[                                                                     0,                                                                      0,          0, 1.0*f(r)/r]])"
      ]
     },
     "metadata": {},
     "output_type": "display_data"
    },
    {
     "data": {
      "text/latex": [
       "$\\displaystyle B_{ab}$"
      ],
      "text/plain": [
       "B_{ab}"
      ]
     },
     "metadata": {},
     "output_type": "display_data"
    },
    {
     "data": {
      "text/latex": [
       "$\\displaystyle \\left[\\begin{matrix}\\frac{- 1.0 G M f{\\left(r \\right)} + r \\left(2 G M - r\\right) \\frac{d}{d t} f{\\left(t \\right)}}{r^{2}} & - \\frac{1.0 G M f{\\left(t \\right)}}{r^{2}} & 0 & 0\\\\\\frac{1.0 G M f{\\left(t \\right)}}{r^{2}} & - \\frac{1.0 G M f{\\left(r \\right)} + r \\left(2 G M - r\\right) \\frac{d}{d r} f{\\left(r \\right)}}{\\left(2 G M - r\\right)^{2}} & 0 & 0\\\\0 & 0 & 1.0 r f{\\left(r \\right)} & 0\\\\0 & 0 & 0 & 1.0 r f{\\left(r \\right)} \\sin^{2}{\\left(\\theta \\right)}\\end{matrix}\\right]$"
      ],
      "text/plain": [
       "Matrix([\n",
       "[(-1.0*G*M*f(r) + r*(2*G*M - r)*Derivative(f(t), t))/r**2,                                                 -1.0*G*M*f(t)/r**2,          0,                         0],\n",
       "[                                       1.0*G*M*f(t)/r**2, -(1.0*G*M*f(r) + r*(2*G*M - r)*Derivative(f(r), r))/(2*G*M - r)**2,          0,                         0],\n",
       "[                                                       0,                                                                  0, 1.0*r*f(r),                         0],\n",
       "[                                                       0,                                                                  0,          0, 1.0*r*f(r)*sin(\\theta)**2]])"
      ]
     },
     "metadata": {},
     "output_type": "display_data"
    },
    {
     "data": {
      "text/latex": [
       "$\\displaystyle - B_{ab} + g_{ac}B^{c}_{b}$"
      ],
      "text/plain": [
       "-B_{ab} + g_{ac}B^{c}_{b}"
      ]
     },
     "metadata": {},
     "output_type": "display_data"
    },
    {
     "data": {
      "text/latex": [
       "$\\displaystyle \\left[\\begin{matrix}0 & 0 & 0 & 0\\\\0 & 0 & 0 & 0\\\\0 & 0 & 0 & 0\\\\0 & 0 & 0 & 0\\end{matrix}\\right]$"
      ],
      "text/plain": [
       "Matrix([\n",
       "[0, 0, 0, 0],\n",
       "[0, 0, 0, 0],\n",
       "[0, 0, 0, 0],\n",
       "[0, 0, 0, 0]])"
      ]
     },
     "metadata": {},
     "output_type": "display_data"
    }
   ],
   "source": [
    "Bs1, Bs2, Bs3=symbols('B^{a}_{b}, B_{ab}, g_{ac}B^{c}_{b}')\n",
    "B1=covariant_derivative_up(C,xlist,x1)\n",
    "display(Bs1)\n",
    "display(B1)\n",
    "\n",
    "B2=covariant_derivative_down(C,xlist,x1_down)\n",
    "display(Bs2)\n",
    "display(simplify(B2))\n",
    "display(Bs3 - Bs2)\n",
    "display(simplify(g_down*B1-B2))"
   ]
  },
  {
   "cell_type": "markdown",
   "metadata": {},
   "source": [
    "Now we need $U^{\\mu}$ such that:\n",
    "\n",
    "$g_{\\mu \\nu}U^{\\mu}U^{\\nu}=-1$\n",
    "\n",
    "And while we're at it, might as well:\n",
    "\n",
    "$g_{\\mu \\nu} U_{\\text{null}}^{\\mu}U_{\\text{null}}^{\\nu}=0$"
   ]
  },
  {
   "cell_type": "code",
   "execution_count": 107,
   "metadata": {},
   "outputs": [
    {
     "name": "stdout",
     "output_type": "stream",
     "text": [
      "Then we have for U:\n"
     ]
    },
    {
     "data": {
      "text/latex": [
       "$\\displaystyle \\left[\\begin{matrix}u_{0}\\\\u_{1}\\\\0\\\\0\\end{matrix}\\right]$"
      ],
      "text/plain": [
       "Matrix([\n",
       "[u_0],\n",
       "[u_1],\n",
       "[  0],\n",
       "[  0]])"
      ]
     },
     "metadata": {},
     "output_type": "display_data"
    },
    {
     "name": "stdout",
     "output_type": "stream",
     "text": [
      "The contraction\n"
     ]
    },
    {
     "data": {
      "text/latex": [
       "$\\displaystyle g_{ac}U^{c}U^{a}$"
      ],
      "text/plain": [
       "g_{ac}U^{c}U^{a}"
      ]
     },
     "metadata": {},
     "output_type": "display_data"
    },
    {
     "name": "stdout",
     "output_type": "stream",
     "text": [
      "yields a value of:\n"
     ]
    },
    {
     "data": {
      "text/latex": [
       "$\\displaystyle u_{0}^{2} \\left(\\frac{2 G M}{r} - 1\\right) + \\frac{u_{1}^{2}}{- \\frac{2 G M}{r} + 1}$"
      ],
      "text/plain": [
       "u_0**2*(2*G*M/r - 1) + u_1**2/(-2*G*M/r + 1)"
      ]
     },
     "metadata": {},
     "output_type": "display_data"
    },
    {
     "name": "stdout",
     "output_type": "stream",
     "text": [
      "Choosing a normalization of -1 yields: \n"
     ]
    },
    {
     "data": {
      "text/latex": [
       "$\\displaystyle g_{ac}U^{c}U^{a} = -1$"
      ],
      "text/plain": [
       "Eq(g_{ac}U^{c}U^{a}, -1)"
      ]
     },
     "metadata": {},
     "output_type": "display_data"
    },
    {
     "data": {
      "text/latex": [
       "$\\displaystyle u_{1} = - \\frac{\\sqrt{\\left(2 G M - r\\right) \\left(2 G M u_{0}^{2} - r u_{0}^{2} + r\\right)}}{r}$"
      ],
      "text/plain": [
       "Eq(u_1, -sqrt((2*G*M - r)*(2*G*M*u_0**2 - r*u_0**2 + r))/r)"
      ]
     },
     "metadata": {},
     "output_type": "display_data"
    },
    {
     "name": "stdout",
     "output_type": "stream",
     "text": [
      "U is then given by:\n"
     ]
    },
    {
     "data": {
      "text/latex": [
       "$\\displaystyle \\left[\\begin{matrix}1\\\\- \\frac{\\sqrt{2} \\sqrt{G M \\left(2 G M - r\\right)}}{r}\\\\0\\\\0\\end{matrix}\\right]$"
      ],
      "text/plain": [
       "Matrix([\n",
       "[                               1],\n",
       "[-sqrt(2)*sqrt(G*M*(2*G*M - r))/r],\n",
       "[                               0],\n",
       "[                               0]])"
      ]
     },
     "metadata": {},
     "output_type": "display_data"
    }
   ],
   "source": [
    "#displaying U \n",
    "u0, u1, ua=symbols('u_0, u_1, g_{ac}U^{c}U^{a}')\n",
    "print('Then we have for U:')\n",
    "U=Matrix([u0,u1,0,0])\n",
    "\n",
    "#contraction of U\n",
    "display(U)\n",
    "print('The contraction')\n",
    "display(ua)\n",
    "contraction=(down(g_down,U)*U)[0]\n",
    "print('yields a value of:')\n",
    "display(contraction)\n",
    "\n",
    "#Choose normalization\n",
    "normalization=-1\n",
    "print('Choosing a normalization of',normalization, 'yields: ')\n",
    "display(Eq(ua,normalization))\n",
    "\n",
    "#computing u1(u0)\n",
    "tmp=contraction-normalization\n",
    "tmp1=solve(tmp,u1)\n",
    "display(Eq(u1,tmp1[0]))\n",
    "\n",
    "#Final U vector\n",
    "arbitraty_u0=1\n",
    "U=simplify(Matrix([u0,tmp1[0],0,0]).subs(u0,arbitraty_u0))\n",
    "print('U is then given by:')\n",
    "display(U)"
   ]
  },
  {
   "cell_type": "markdown",
   "metadata": {},
   "source": [
    "## We then know:\n",
    "\n",
    "$B_{\\mu \\nu} = \\nabla_{\\mu} U_{\\nu}=\\frac{\\theta}{3}P_{\\mu \\nu} + \\sigma_{\\mu \\nu} + \\omega_{\\mu \\nu}$\n",
    "\n",
    "$\\theta=P^{\\mu \\nu}B_{\\mu \\nu} = \\nabla_{\\mu} U^{\\nu}=B_{\\mu \\mu} $"
   ]
  },
  {
   "cell_type": "code",
   "execution_count": 115,
   "metadata": {},
   "outputs": [
    {
     "name": "stdout",
     "output_type": "stream",
     "text": [
      "B:\n"
     ]
    },
    {
     "data": {
      "text/latex": [
       "$\\displaystyle \\left[\\begin{matrix}- \\frac{0.5 \\sqrt{2} \\sqrt{G M \\left(2 G M - r\\right)} \\left(\\frac{1}{r} + \\frac{2 G M - r}{r^{2}}\\right) \\left(2 G M - r\\right)}{r^{2} \\left(- \\frac{2 G M}{r} + 1\\right)} & - \\frac{2 G M}{r^{2}} + \\frac{0.5 r \\left(\\frac{1}{r} + \\frac{2 G M - r}{r^{2}}\\right) \\left(\\frac{2 G M}{r} - 1\\right)}{2 G M - r} & 0 & 0\\\\\\frac{0.5 r \\left(\\frac{1}{r} + \\frac{2 G M - r}{r^{2}}\\right) \\left(\\frac{2 G M}{r} - 1\\right)}{2 G M - r} & \\frac{2 \\sqrt{2} G M \\sqrt{G M \\left(2 G M - r\\right)}}{r^{3} \\left(- \\frac{2 G M}{r} + 1\\right)^{2}} + \\frac{0.5 \\sqrt{2} \\sqrt{G M \\left(2 G M - r\\right)} \\left(\\frac{1}{r} - \\frac{- 2 G M + r}{r^{2}}\\right)}{\\left(2 G M - r\\right) \\left(- \\frac{2 G M}{r} + 1\\right)} + \\frac{\\sqrt{2} \\sqrt{G M \\left(2 G M - r\\right)}}{2 r \\left(2 G M - r\\right) \\left(- \\frac{2 G M}{r} + 1\\right)} + \\frac{\\sqrt{2} \\sqrt{G M \\left(2 G M - r\\right)}}{r^{2} \\left(- \\frac{2 G M}{r} + 1\\right)} & 0 & 0\\\\0 & 0 & \\frac{\\sqrt{2} \\sqrt{G M \\left(2 G M - r\\right)} \\left(2.0 G M - 1.0 r\\right)}{r \\left(- \\frac{2 G M}{r} + 1\\right)} & 0\\\\0 & 0 & 0 & \\frac{\\sqrt{2} \\sqrt{G M \\left(2 G M - r\\right)} \\left(2.0 G M - 1.0 r\\right) \\sin^{2}{\\left(\\theta \\right)}}{r \\left(- \\frac{2 G M}{r} + 1\\right)}\\end{matrix}\\right]$"
      ],
      "text/plain": [
       "Matrix([\n",
       "[-0.5*sqrt(2)*sqrt(G*M*(2*G*M - r))*(1/r + (2*G*M - r)/r**2)*(2*G*M - r)/(r**2*(-2*G*M/r + 1)),                                                                                                                                                                                                         -2*G*M/r**2 + 0.5*r*(1/r + (2*G*M - r)/r**2)*(2*G*M/r - 1)/(2*G*M - r),                                                                  0,                                                                                 0],\n",
       "[                                     0.5*r*(1/r + (2*G*M - r)/r**2)*(2*G*M/r - 1)/(2*G*M - r), 2*sqrt(2)*G*M*sqrt(G*M*(2*G*M - r))/(r**3*(-2*G*M/r + 1)**2) + 0.5*sqrt(2)*sqrt(G*M*(2*G*M - r))*(1/r - (-2*G*M + r)/r**2)/((2*G*M - r)*(-2*G*M/r + 1)) + sqrt(2)*sqrt(G*M*(2*G*M - r))/(2*r*(2*G*M - r)*(-2*G*M/r + 1)) + sqrt(2)*sqrt(G*M*(2*G*M - r))/(r**2*(-2*G*M/r + 1)),                                                                  0,                                                                                 0],\n",
       "[                                                                                            0,                                                                                                                                                                                                                                                                              0, sqrt(2)*sqrt(G*M*(2*G*M - r))*(2.0*G*M - 1.0*r)/(r*(-2*G*M/r + 1)),                                                                                 0],\n",
       "[                                                                                            0,                                                                                                                                                                                                                                                                              0,                                                                  0, sqrt(2)*sqrt(G*M*(2*G*M - r))*(2.0*G*M - 1.0*r)*sin(\\theta)**2/(r*(-2*G*M/r + 1))]])"
      ]
     },
     "metadata": {},
     "output_type": "display_data"
    },
    {
     "name": "stdout",
     "output_type": "stream",
     "text": [
      "Expansion coefficient theta:\n"
     ]
    },
    {
     "data": {
      "text/latex": [
       "$\\displaystyle \\frac{\\sqrt{2} G M \\sqrt{G M \\left(2 G M - r\\right)}}{r^{3}} - 1.0 \\sqrt{2} \\sqrt{G M \\left(2 G M - r\\right)} \\sin^{2}{\\left(\\theta \\right)} - 1.0 \\sqrt{2} \\sqrt{G M \\left(2 G M - r\\right)} + \\frac{1.0 \\sqrt{2} \\sqrt{G M \\left(2 G M - r\\right)}}{r \\left(- 4.0 G M + 2.0 r\\right)}$"
      ],
      "text/plain": [
       "sqrt(2)*G*M*sqrt(G*M*(2*G*M - r))/r**3 - 1.0*sqrt(2)*sqrt(G*M*(2*G*M - r))*sin(\\theta)**2 - 1.0*sqrt(2)*sqrt(G*M*(2*G*M - r)) + 1.0*sqrt(2)*sqrt(G*M*(2*G*M - r))/(r*(-4.0*G*M + 2.0*r))"
      ]
     },
     "metadata": {},
     "output_type": "display_data"
    }
   ],
   "source": [
    "U_down=down(g_down,U)\n",
    "B=covariant_derivative_down(C,xlist,U_down)\n",
    "print('B:')\n",
    "display(B)\n",
    "\n",
    "print('Expansion coefficient theta:')\n",
    "theta_expansion=simplify(Trace(B))\n",
    "display(theta_expansion)"
   ]
  },
  {
   "cell_type": "markdown",
   "metadata": {},
   "source": [
    "## Riemann curvature tensor"
   ]
  },
  {
   "cell_type": "markdown",
   "metadata": {},
   "source": [
    "###  $R_{\\sigma \\mu \\nu}^{\\rho}\\to$ R_up[$\\rho, \\sigma, \\mu, \\nu$]"
   ]
  },
  {
   "cell_type": "code",
   "execution_count": 49,
   "metadata": {},
   "outputs": [
    {
     "data": {
      "text/latex": [
       "$\\displaystyle \\left[\\begin{matrix}\\left[\\begin{matrix}0 & 0 & 0 & 0\\\\0 & 0 & 0 & 0\\\\0 & 0 & 0 & 0\\\\0 & 0 & 0 & 0\\end{matrix}\\right] & \\left[\\begin{matrix}0 & - \\frac{0.5 \\frac{\\partial^{2}}{\\partial r^{2}} f{\\left(r,t \\right)}}{f{\\left(r,t \\right)}} - \\frac{0.5 \\frac{\\partial^{2}}{\\partial t^{2}} f{\\left(r,t \\right)}}{f^{3}{\\left(r,t \\right)}} + \\frac{1.0 \\left(\\frac{\\partial}{\\partial t} f{\\left(r,t \\right)}\\right)^{2}}{f^{4}{\\left(r,t \\right)}} & 0 & 0\\\\\\frac{0.5 \\frac{\\partial^{2}}{\\partial r^{2}} f{\\left(r,t \\right)}}{f{\\left(r,t \\right)}} + \\frac{0.5 \\frac{\\partial^{2}}{\\partial t^{2}} f{\\left(r,t \\right)}}{f^{3}{\\left(r,t \\right)}} - \\frac{1.0 \\left(\\frac{\\partial}{\\partial t} f{\\left(r,t \\right)}\\right)^{2}}{f^{4}{\\left(r,t \\right)}} & 0 & 0 & 0\\\\0 & 0 & 0 & 0\\\\0 & 0 & 0 & 0\\end{matrix}\\right] & \\left[\\begin{matrix}0 & 0 & - 0.5 r \\frac{\\partial}{\\partial r} f{\\left(r,t \\right)} & 0\\\\0 & 0 & \\frac{0.5 r \\frac{\\partial}{\\partial t} f{\\left(r,t \\right)}}{f^{2}{\\left(r,t \\right)}} & 0\\\\0.5 r \\frac{\\partial}{\\partial r} f{\\left(r,t \\right)} & - \\frac{0.5 r \\frac{\\partial}{\\partial t} f{\\left(r,t \\right)}}{f^{2}{\\left(r,t \\right)}} & 0 & 0\\\\0 & 0 & 0 & 0\\end{matrix}\\right] & \\left[\\begin{matrix}0 & 0 & 0 & - 0.5 r \\sin^{2}{\\left(\\theta \\right)} \\frac{\\partial}{\\partial r} f{\\left(r,t \\right)}\\\\0 & 0 & 0 & \\frac{0.5 r \\sin^{2}{\\left(\\theta \\right)} \\frac{\\partial}{\\partial t} f{\\left(r,t \\right)}}{f^{2}{\\left(r,t \\right)}}\\\\0 & 0 & 0 & 0\\\\0.5 r \\sin^{2}{\\left(\\theta \\right)} \\frac{\\partial}{\\partial r} f{\\left(r,t \\right)} & - \\frac{0.5 r \\sin^{2}{\\left(\\theta \\right)} \\frac{\\partial}{\\partial t} f{\\left(r,t \\right)}}{f^{2}{\\left(r,t \\right)}} & 0 & 0\\end{matrix}\\right]\\\\\\left[\\begin{matrix}0 & - 0.5 f{\\left(r,t \\right)} \\frac{\\partial^{2}}{\\partial r^{2}} f{\\left(r,t \\right)} - \\frac{0.5 \\frac{\\partial^{2}}{\\partial t^{2}} f{\\left(r,t \\right)}}{f{\\left(r,t \\right)}} + \\frac{1.0 \\left(\\frac{\\partial}{\\partial t} f{\\left(r,t \\right)}\\right)^{2}}{f^{2}{\\left(r,t \\right)}} & 0 & 0\\\\0.5 f{\\left(r,t \\right)} \\frac{\\partial^{2}}{\\partial r^{2}} f{\\left(r,t \\right)} + \\frac{0.5 \\frac{\\partial^{2}}{\\partial t^{2}} f{\\left(r,t \\right)}}{f{\\left(r,t \\right)}} - \\frac{1.0 \\left(\\frac{\\partial}{\\partial t} f{\\left(r,t \\right)}\\right)^{2}}{f^{2}{\\left(r,t \\right)}} & 0 & 0 & 0\\\\0 & 0 & 0 & 0\\\\0 & 0 & 0 & 0\\end{matrix}\\right] & \\left[\\begin{matrix}0 & 0 & 0 & 0\\\\0 & 0 & 0 & 0\\\\0 & 0 & 0 & 0\\\\0 & 0 & 0 & 0\\end{matrix}\\right] & \\left[\\begin{matrix}0 & 0 & - 0.5 r \\frac{\\partial}{\\partial t} f{\\left(r,t \\right)} & 0\\\\0 & 0 & - 0.5 r \\frac{\\partial}{\\partial r} f{\\left(r,t \\right)} & 0\\\\0.5 r \\frac{\\partial}{\\partial t} f{\\left(r,t \\right)} & 0.5 r \\frac{\\partial}{\\partial r} f{\\left(r,t \\right)} & 0 & 0\\\\0 & 0 & 0 & 0\\end{matrix}\\right] & \\left[\\begin{matrix}0 & 0 & 0 & - 0.5 r \\sin^{2}{\\left(\\theta \\right)} \\frac{\\partial}{\\partial t} f{\\left(r,t \\right)}\\\\0 & 0 & 0 & - 0.5 r \\sin^{2}{\\left(\\theta \\right)} \\frac{\\partial}{\\partial r} f{\\left(r,t \\right)}\\\\0 & 0 & 0 & 0\\\\0.5 r \\sin^{2}{\\left(\\theta \\right)} \\frac{\\partial}{\\partial t} f{\\left(r,t \\right)} & 0.5 r \\sin^{2}{\\left(\\theta \\right)} \\frac{\\partial}{\\partial r} f{\\left(r,t \\right)} & 0 & 0\\end{matrix}\\right]\\\\\\left[\\begin{matrix}0 & 0 & - \\frac{0.5 f{\\left(r,t \\right)} \\frac{\\partial}{\\partial r} f{\\left(r,t \\right)}}{r} & 0\\\\0 & 0 & \\frac{0.5 \\frac{\\partial}{\\partial t} f{\\left(r,t \\right)}}{r f{\\left(r,t \\right)}} & 0\\\\\\frac{0.5 f{\\left(r,t \\right)} \\frac{\\partial}{\\partial r} f{\\left(r,t \\right)}}{r} & - \\frac{0.5 \\frac{\\partial}{\\partial t} f{\\left(r,t \\right)}}{r f{\\left(r,t \\right)}} & 0 & 0\\\\0 & 0 & 0 & 0\\end{matrix}\\right] & \\left[\\begin{matrix}0 & 0 & \\frac{0.5 \\frac{\\partial}{\\partial t} f{\\left(r,t \\right)}}{r f{\\left(r,t \\right)}} & 0\\\\0 & 0 & \\frac{0.5 \\frac{\\partial}{\\partial r} f{\\left(r,t \\right)}}{r f{\\left(r,t \\right)}} & 0\\\\- \\frac{0.5 \\frac{\\partial}{\\partial t} f{\\left(r,t \\right)}}{r f{\\left(r,t \\right)}} & - \\frac{0.5 \\frac{\\partial}{\\partial r} f{\\left(r,t \\right)}}{r f{\\left(r,t \\right)}} & 0 & 0\\\\0 & 0 & 0 & 0\\end{matrix}\\right] & \\left[\\begin{matrix}0 & 0 & 0 & 0\\\\0 & 0 & 0 & 0\\\\0 & 0 & 0 & 0\\\\0 & 0 & 0 & 0\\end{matrix}\\right] & \\left[\\begin{matrix}0 & 0 & 0 & 0\\\\0 & 0 & 0 & 0\\\\0 & 0 & 0 & - 1.0 f{\\left(r,t \\right)} \\sin^{2}{\\left(\\theta \\right)} + 1.0 \\sin^{2}{\\left(\\theta \\right)}\\\\0 & 0 & 1.0 f{\\left(r,t \\right)} \\sin^{2}{\\left(\\theta \\right)} - 1.0 \\sin^{2}{\\left(\\theta \\right)} & 0\\end{matrix}\\right]\\\\\\left[\\begin{matrix}0 & 0 & 0 & - \\frac{0.5 f{\\left(r,t \\right)} \\frac{\\partial}{\\partial r} f{\\left(r,t \\right)}}{r}\\\\0 & 0 & 0 & \\frac{0.5 \\frac{\\partial}{\\partial t} f{\\left(r,t \\right)}}{r f{\\left(r,t \\right)}}\\\\0 & 0 & 0 & 0\\\\\\frac{0.5 f{\\left(r,t \\right)} \\frac{\\partial}{\\partial r} f{\\left(r,t \\right)}}{r} & - \\frac{0.5 \\frac{\\partial}{\\partial t} f{\\left(r,t \\right)}}{r f{\\left(r,t \\right)}} & 0 & 0\\end{matrix}\\right] & \\left[\\begin{matrix}0 & 0 & 0 & \\frac{0.5 \\frac{\\partial}{\\partial t} f{\\left(r,t \\right)}}{r f{\\left(r,t \\right)}}\\\\0 & 0 & 0 & \\frac{0.5 \\frac{\\partial}{\\partial r} f{\\left(r,t \\right)}}{r f{\\left(r,t \\right)}}\\\\0 & 0 & 0 & 0\\\\- \\frac{0.5 \\frac{\\partial}{\\partial t} f{\\left(r,t \\right)}}{r f{\\left(r,t \\right)}} & - \\frac{0.5 \\frac{\\partial}{\\partial r} f{\\left(r,t \\right)}}{r f{\\left(r,t \\right)}} & 0 & 0\\end{matrix}\\right] & \\left[\\begin{matrix}0 & 0 & 0 & 0\\\\0 & 0 & 0 & 0\\\\0 & 0 & 0 & 1.0 f{\\left(r,t \\right)} - 1.0\\\\0 & 0 & 1.0 - 1.0 f{\\left(r,t \\right)} & 0\\end{matrix}\\right] & \\left[\\begin{matrix}0 & 0 & 0 & 0\\\\0 & 0 & 0 & 0\\\\0 & 0 & 0 & 0\\\\0 & 0 & 0 & 0\\end{matrix}\\right]\\end{matrix}\\right]$"
      ],
      "text/plain": [
       "[[[[0, 0, 0, 0], [0, 0, 0, 0], [0, 0, 0, 0], [0, 0, 0, 0]], [[0, -0.5*Derivative(f(r, t), (r, 2))/f(r, t) - 0.5*Derivative(f(r, t), (t, 2))/f(r, t)**3 + 1.0*Derivative(f(r, t), t)**2/f(r, t)**4, 0, 0], [0.5*Derivative(f(r, t), (r, 2))/f(r, t) + 0.5*Derivative(f(r, t), (t, 2))/f(r, t)**3 - 1.0*Derivative(f(r, t), t)**2/f(r, t)**4, 0, 0, 0], [0, 0, 0, 0], [0, 0, 0, 0]], [[0, 0, -0.5*r*Derivative(f(r, t), r), 0], [0, 0, 0.5*r*Derivative(f(r, t), t)/f(r, t)**2, 0], [0.5*r*Derivative(f(r, t), r), -0.5*r*Derivative(f(r, t), t)/f(r, t)**2, 0, 0], [0, 0, 0, 0]], [[0, 0, 0, -0.5*r*sin(\\theta)**2*Derivative(f(r, t), r)], [0, 0, 0, 0.5*r*sin(\\theta)**2*Derivative(f(r, t), t)/f(r, t)**2], [0, 0, 0, 0], [0.5*r*sin(\\theta)**2*Derivative(f(r, t), r), -0.5*r*sin(\\theta)**2*Derivative(f(r, t), t)/f(r, t)**2, 0, 0]]], [[[0, -0.5*f(r, t)*Derivative(f(r, t), (r, 2)) - 0.5*Derivative(f(r, t), (t, 2))/f(r, t) + 1.0*Derivative(f(r, t), t)**2/f(r, t)**2, 0, 0], [0.5*f(r, t)*Derivative(f(r, t), (r, 2)) + 0.5*Derivative(f(r, t), (t, 2))/f(r, t) - 1.0*Derivative(f(r, t), t)**2/f(r, t)**2, 0, 0, 0], [0, 0, 0, 0], [0, 0, 0, 0]], [[0, 0, 0, 0], [0, 0, 0, 0], [0, 0, 0, 0], [0, 0, 0, 0]], [[0, 0, -0.5*r*Derivative(f(r, t), t), 0], [0, 0, -0.5*r*Derivative(f(r, t), r), 0], [0.5*r*Derivative(f(r, t), t), 0.5*r*Derivative(f(r, t), r), 0, 0], [0, 0, 0, 0]], [[0, 0, 0, -0.5*r*sin(\\theta)**2*Derivative(f(r, t), t)], [0, 0, 0, -0.5*r*sin(\\theta)**2*Derivative(f(r, t), r)], [0, 0, 0, 0], [0.5*r*sin(\\theta)**2*Derivative(f(r, t), t), 0.5*r*sin(\\theta)**2*Derivative(f(r, t), r), 0, 0]]], [[[0, 0, -0.5*f(r, t)*Derivative(f(r, t), r)/r, 0], [0, 0, 0.5*Derivative(f(r, t), t)/(r*f(r, t)), 0], [0.5*f(r, t)*Derivative(f(r, t), r)/r, -0.5*Derivative(f(r, t), t)/(r*f(r, t)), 0, 0], [0, 0, 0, 0]], [[0, 0, 0.5*Derivative(f(r, t), t)/(r*f(r, t)), 0], [0, 0, 0.5*Derivative(f(r, t), r)/(r*f(r, t)), 0], [-0.5*Derivative(f(r, t), t)/(r*f(r, t)), -0.5*Derivative(f(r, t), r)/(r*f(r, t)), 0, 0], [0, 0, 0, 0]], [[0, 0, 0, 0], [0, 0, 0, 0], [0, 0, 0, 0], [0, 0, 0, 0]], [[0, 0, 0, 0], [0, 0, 0, 0], [0, 0, 0, -1.0*f(r, t)*sin(\\theta)**2 + 1.0*sin(\\theta)**2], [0, 0, 1.0*f(r, t)*sin(\\theta)**2 - 1.0*sin(\\theta)**2, 0]]], [[[0, 0, 0, -0.5*f(r, t)*Derivative(f(r, t), r)/r], [0, 0, 0, 0.5*Derivative(f(r, t), t)/(r*f(r, t))], [0, 0, 0, 0], [0.5*f(r, t)*Derivative(f(r, t), r)/r, -0.5*Derivative(f(r, t), t)/(r*f(r, t)), 0, 0]], [[0, 0, 0, 0.5*Derivative(f(r, t), t)/(r*f(r, t))], [0, 0, 0, 0.5*Derivative(f(r, t), r)/(r*f(r, t))], [0, 0, 0, 0], [-0.5*Derivative(f(r, t), t)/(r*f(r, t)), -0.5*Derivative(f(r, t), r)/(r*f(r, t)), 0, 0]], [[0, 0, 0, 0], [0, 0, 0, 0], [0, 0, 0, 1.0*f(r, t) - 1.0], [0, 0, 1.0 - 1.0*f(r, t), 0]], [[0, 0, 0, 0], [0, 0, 0, 0], [0, 0, 0, 0], [0, 0, 0, 0]]]]"
      ]
     },
     "execution_count": 49,
     "metadata": {},
     "output_type": "execute_result"
    }
   ],
   "source": [
    "R_up=MutableDenseNDimArray(np.zeros((4,)*4))\n",
    "for i in range(0,4):\n",
    "    for j in range(0,4):\n",
    "        for k in range(0,4):\n",
    "            for l in range(0,4):\n",
    "                su=0\n",
    "                for m in range(0,4):\n",
    "                    su=su+  C[i,k,m]*C[m,l,j] -  C[i,l,m]*C[m,k,j]  #Christoffel symbols double sum\n",
    "                R_up[i,j,k,l]= su + (   diff(C[i,l,j],x[k]) - diff(C[i,k,j],x[l])   )  #derivatives\n",
    "R_up                \n"
   ]
  },
  {
   "cell_type": "markdown",
   "metadata": {},
   "source": [
    "### $R_{\\mu \\nu \\rho \\sigma} \\to$ R_down[$\\mu, \\nu, \\rho, \\sigma$]"
   ]
  },
  {
   "cell_type": "code",
   "execution_count": 50,
   "metadata": {
    "scrolled": true
   },
   "outputs": [
    {
     "data": {
      "text/latex": [
       "$\\displaystyle \\left[\\begin{matrix}\\left[\\begin{matrix}0 & 0 & 0 & 0\\\\0 & 0 & 0 & 0\\\\0 & 0 & 0 & 0\\\\0 & 0 & 0 & 0\\end{matrix}\\right] & \\left[\\begin{matrix}0 & - \\left(- \\frac{0.5 \\frac{\\partial^{2}}{\\partial r^{2}} f{\\left(r,t \\right)}}{f{\\left(r,t \\right)}} - \\frac{0.5 \\frac{\\partial^{2}}{\\partial t^{2}} f{\\left(r,t \\right)}}{f^{3}{\\left(r,t \\right)}} + \\frac{1.0 \\left(\\frac{\\partial}{\\partial t} f{\\left(r,t \\right)}\\right)^{2}}{f^{4}{\\left(r,t \\right)}}\\right) f{\\left(r,t \\right)} & 0 & 0\\\\- \\left(\\frac{0.5 \\frac{\\partial^{2}}{\\partial r^{2}} f{\\left(r,t \\right)}}{f{\\left(r,t \\right)}} + \\frac{0.5 \\frac{\\partial^{2}}{\\partial t^{2}} f{\\left(r,t \\right)}}{f^{3}{\\left(r,t \\right)}} - \\frac{1.0 \\left(\\frac{\\partial}{\\partial t} f{\\left(r,t \\right)}\\right)^{2}}{f^{4}{\\left(r,t \\right)}}\\right) f{\\left(r,t \\right)} & 0 & 0 & 0\\\\0 & 0 & 0 & 0\\\\0 & 0 & 0 & 0\\end{matrix}\\right] & \\left[\\begin{matrix}0 & 0 & 0.5 r f{\\left(r,t \\right)} \\frac{\\partial}{\\partial r} f{\\left(r,t \\right)} & 0\\\\0 & 0 & - \\frac{0.5 r \\frac{\\partial}{\\partial t} f{\\left(r,t \\right)}}{f{\\left(r,t \\right)}} & 0\\\\- 0.5 r f{\\left(r,t \\right)} \\frac{\\partial}{\\partial r} f{\\left(r,t \\right)} & \\frac{0.5 r \\frac{\\partial}{\\partial t} f{\\left(r,t \\right)}}{f{\\left(r,t \\right)}} & 0 & 0\\\\0 & 0 & 0 & 0\\end{matrix}\\right] & \\left[\\begin{matrix}0 & 0 & 0 & 0.5 r f{\\left(r,t \\right)} \\sin^{2}{\\left(\\theta \\right)} \\frac{\\partial}{\\partial r} f{\\left(r,t \\right)}\\\\0 & 0 & 0 & - \\frac{0.5 r \\sin^{2}{\\left(\\theta \\right)} \\frac{\\partial}{\\partial t} f{\\left(r,t \\right)}}{f{\\left(r,t \\right)}}\\\\0 & 0 & 0 & 0\\\\- 0.5 r f{\\left(r,t \\right)} \\sin^{2}{\\left(\\theta \\right)} \\frac{\\partial}{\\partial r} f{\\left(r,t \\right)} & \\frac{0.5 r \\sin^{2}{\\left(\\theta \\right)} \\frac{\\partial}{\\partial t} f{\\left(r,t \\right)}}{f{\\left(r,t \\right)}} & 0 & 0\\end{matrix}\\right]\\\\\\left[\\begin{matrix}0 & \\frac{- 0.5 f{\\left(r,t \\right)} \\frac{\\partial^{2}}{\\partial r^{2}} f{\\left(r,t \\right)} - \\frac{0.5 \\frac{\\partial^{2}}{\\partial t^{2}} f{\\left(r,t \\right)}}{f{\\left(r,t \\right)}} + \\frac{1.0 \\left(\\frac{\\partial}{\\partial t} f{\\left(r,t \\right)}\\right)^{2}}{f^{2}{\\left(r,t \\right)}}}{f{\\left(r,t \\right)}} & 0 & 0\\\\\\frac{0.5 f{\\left(r,t \\right)} \\frac{\\partial^{2}}{\\partial r^{2}} f{\\left(r,t \\right)} + \\frac{0.5 \\frac{\\partial^{2}}{\\partial t^{2}} f{\\left(r,t \\right)}}{f{\\left(r,t \\right)}} - \\frac{1.0 \\left(\\frac{\\partial}{\\partial t} f{\\left(r,t \\right)}\\right)^{2}}{f^{2}{\\left(r,t \\right)}}}{f{\\left(r,t \\right)}} & 0 & 0 & 0\\\\0 & 0 & 0 & 0\\\\0 & 0 & 0 & 0\\end{matrix}\\right] & \\left[\\begin{matrix}0 & 0 & 0 & 0\\\\0 & 0 & 0 & 0\\\\0 & 0 & 0 & 0\\\\0 & 0 & 0 & 0\\end{matrix}\\right] & \\left[\\begin{matrix}0 & 0 & - \\frac{0.5 r \\frac{\\partial}{\\partial t} f{\\left(r,t \\right)}}{f{\\left(r,t \\right)}} & 0\\\\0 & 0 & - \\frac{0.5 r \\frac{\\partial}{\\partial r} f{\\left(r,t \\right)}}{f{\\left(r,t \\right)}} & 0\\\\\\frac{0.5 r \\frac{\\partial}{\\partial t} f{\\left(r,t \\right)}}{f{\\left(r,t \\right)}} & \\frac{0.5 r \\frac{\\partial}{\\partial r} f{\\left(r,t \\right)}}{f{\\left(r,t \\right)}} & 0 & 0\\\\0 & 0 & 0 & 0\\end{matrix}\\right] & \\left[\\begin{matrix}0 & 0 & 0 & - \\frac{0.5 r \\sin^{2}{\\left(\\theta \\right)} \\frac{\\partial}{\\partial t} f{\\left(r,t \\right)}}{f{\\left(r,t \\right)}}\\\\0 & 0 & 0 & - \\frac{0.5 r \\sin^{2}{\\left(\\theta \\right)} \\frac{\\partial}{\\partial r} f{\\left(r,t \\right)}}{f{\\left(r,t \\right)}}\\\\0 & 0 & 0 & 0\\\\\\frac{0.5 r \\sin^{2}{\\left(\\theta \\right)} \\frac{\\partial}{\\partial t} f{\\left(r,t \\right)}}{f{\\left(r,t \\right)}} & \\frac{0.5 r \\sin^{2}{\\left(\\theta \\right)} \\frac{\\partial}{\\partial r} f{\\left(r,t \\right)}}{f{\\left(r,t \\right)}} & 0 & 0\\end{matrix}\\right]\\\\\\left[\\begin{matrix}0 & 0 & - 0.5 r f{\\left(r,t \\right)} \\frac{\\partial}{\\partial r} f{\\left(r,t \\right)} & 0\\\\0 & 0 & \\frac{0.5 r \\frac{\\partial}{\\partial t} f{\\left(r,t \\right)}}{f{\\left(r,t \\right)}} & 0\\\\0.5 r f{\\left(r,t \\right)} \\frac{\\partial}{\\partial r} f{\\left(r,t \\right)} & - \\frac{0.5 r \\frac{\\partial}{\\partial t} f{\\left(r,t \\right)}}{f{\\left(r,t \\right)}} & 0 & 0\\\\0 & 0 & 0 & 0\\end{matrix}\\right] & \\left[\\begin{matrix}0 & 0 & \\frac{0.5 r \\frac{\\partial}{\\partial t} f{\\left(r,t \\right)}}{f{\\left(r,t \\right)}} & 0\\\\0 & 0 & \\frac{0.5 r \\frac{\\partial}{\\partial r} f{\\left(r,t \\right)}}{f{\\left(r,t \\right)}} & 0\\\\- \\frac{0.5 r \\frac{\\partial}{\\partial t} f{\\left(r,t \\right)}}{f{\\left(r,t \\right)}} & - \\frac{0.5 r \\frac{\\partial}{\\partial r} f{\\left(r,t \\right)}}{f{\\left(r,t \\right)}} & 0 & 0\\\\0 & 0 & 0 & 0\\end{matrix}\\right] & \\left[\\begin{matrix}0 & 0 & 0 & 0\\\\0 & 0 & 0 & 0\\\\0 & 0 & 0 & 0\\\\0 & 0 & 0 & 0\\end{matrix}\\right] & \\left[\\begin{matrix}0 & 0 & 0 & 0\\\\0 & 0 & 0 & 0\\\\0 & 0 & 0 & r^{2} \\left(- 1.0 f{\\left(r,t \\right)} \\sin^{2}{\\left(\\theta \\right)} + 1.0 \\sin^{2}{\\left(\\theta \\right)}\\right)\\\\0 & 0 & r^{2} \\left(1.0 f{\\left(r,t \\right)} \\sin^{2}{\\left(\\theta \\right)} - 1.0 \\sin^{2}{\\left(\\theta \\right)}\\right) & 0\\end{matrix}\\right]\\\\\\left[\\begin{matrix}0 & 0 & 0 & - 0.5 r f{\\left(r,t \\right)} \\sin^{2}{\\left(\\theta \\right)} \\frac{\\partial}{\\partial r} f{\\left(r,t \\right)}\\\\0 & 0 & 0 & \\frac{0.5 r \\sin^{2}{\\left(\\theta \\right)} \\frac{\\partial}{\\partial t} f{\\left(r,t \\right)}}{f{\\left(r,t \\right)}}\\\\0 & 0 & 0 & 0\\\\0.5 r f{\\left(r,t \\right)} \\sin^{2}{\\left(\\theta \\right)} \\frac{\\partial}{\\partial r} f{\\left(r,t \\right)} & - \\frac{0.5 r \\sin^{2}{\\left(\\theta \\right)} \\frac{\\partial}{\\partial t} f{\\left(r,t \\right)}}{f{\\left(r,t \\right)}} & 0 & 0\\end{matrix}\\right] & \\left[\\begin{matrix}0 & 0 & 0 & \\frac{0.5 r \\sin^{2}{\\left(\\theta \\right)} \\frac{\\partial}{\\partial t} f{\\left(r,t \\right)}}{f{\\left(r,t \\right)}}\\\\0 & 0 & 0 & \\frac{0.5 r \\sin^{2}{\\left(\\theta \\right)} \\frac{\\partial}{\\partial r} f{\\left(r,t \\right)}}{f{\\left(r,t \\right)}}\\\\0 & 0 & 0 & 0\\\\- \\frac{0.5 r \\sin^{2}{\\left(\\theta \\right)} \\frac{\\partial}{\\partial t} f{\\left(r,t \\right)}}{f{\\left(r,t \\right)}} & - \\frac{0.5 r \\sin^{2}{\\left(\\theta \\right)} \\frac{\\partial}{\\partial r} f{\\left(r,t \\right)}}{f{\\left(r,t \\right)}} & 0 & 0\\end{matrix}\\right] & \\left[\\begin{matrix}0 & 0 & 0 & 0\\\\0 & 0 & 0 & 0\\\\0 & 0 & 0 & r^{2} \\left(1.0 f{\\left(r,t \\right)} - 1.0\\right) \\sin^{2}{\\left(\\theta \\right)}\\\\0 & 0 & r^{2} \\left(1.0 - 1.0 f{\\left(r,t \\right)}\\right) \\sin^{2}{\\left(\\theta \\right)} & 0\\end{matrix}\\right] & \\left[\\begin{matrix}0 & 0 & 0 & 0\\\\0 & 0 & 0 & 0\\\\0 & 0 & 0 & 0\\\\0 & 0 & 0 & 0\\end{matrix}\\right]\\end{matrix}\\right]$"
      ],
      "text/plain": [
       "[[[[0, 0, 0, 0], [0, 0, 0, 0], [0, 0, 0, 0], [0, 0, 0, 0]], [[0, -(-0.5*Derivative(f(r, t), (r, 2))/f(r, t) - 0.5*Derivative(f(r, t), (t, 2))/f(r, t)**3 + 1.0*Derivative(f(r, t), t)**2/f(r, t)**4)*f(r, t), 0, 0], [-(0.5*Derivative(f(r, t), (r, 2))/f(r, t) + 0.5*Derivative(f(r, t), (t, 2))/f(r, t)**3 - 1.0*Derivative(f(r, t), t)**2/f(r, t)**4)*f(r, t), 0, 0, 0], [0, 0, 0, 0], [0, 0, 0, 0]], [[0, 0, 0.5*r*f(r, t)*Derivative(f(r, t), r), 0], [0, 0, -0.5*r*Derivative(f(r, t), t)/f(r, t), 0], [-0.5*r*f(r, t)*Derivative(f(r, t), r), 0.5*r*Derivative(f(r, t), t)/f(r, t), 0, 0], [0, 0, 0, 0]], [[0, 0, 0, 0.5*r*f(r, t)*sin(\\theta)**2*Derivative(f(r, t), r)], [0, 0, 0, -0.5*r*sin(\\theta)**2*Derivative(f(r, t), t)/f(r, t)], [0, 0, 0, 0], [-0.5*r*f(r, t)*sin(\\theta)**2*Derivative(f(r, t), r), 0.5*r*sin(\\theta)**2*Derivative(f(r, t), t)/f(r, t), 0, 0]]], [[[0, (-0.5*f(r, t)*Derivative(f(r, t), (r, 2)) - 0.5*Derivative(f(r, t), (t, 2))/f(r, t) + 1.0*Derivative(f(r, t), t)**2/f(r, t)**2)/f(r, t), 0, 0], [(0.5*f(r, t)*Derivative(f(r, t), (r, 2)) + 0.5*Derivative(f(r, t), (t, 2))/f(r, t) - 1.0*Derivative(f(r, t), t)**2/f(r, t)**2)/f(r, t), 0, 0, 0], [0, 0, 0, 0], [0, 0, 0, 0]], [[0, 0, 0, 0], [0, 0, 0, 0], [0, 0, 0, 0], [0, 0, 0, 0]], [[0, 0, -0.5*r*Derivative(f(r, t), t)/f(r, t), 0], [0, 0, -0.5*r*Derivative(f(r, t), r)/f(r, t), 0], [0.5*r*Derivative(f(r, t), t)/f(r, t), 0.5*r*Derivative(f(r, t), r)/f(r, t), 0, 0], [0, 0, 0, 0]], [[0, 0, 0, -0.5*r*sin(\\theta)**2*Derivative(f(r, t), t)/f(r, t)], [0, 0, 0, -0.5*r*sin(\\theta)**2*Derivative(f(r, t), r)/f(r, t)], [0, 0, 0, 0], [0.5*r*sin(\\theta)**2*Derivative(f(r, t), t)/f(r, t), 0.5*r*sin(\\theta)**2*Derivative(f(r, t), r)/f(r, t), 0, 0]]], [[[0, 0, -0.5*r*f(r, t)*Derivative(f(r, t), r), 0], [0, 0, 0.5*r*Derivative(f(r, t), t)/f(r, t), 0], [0.5*r*f(r, t)*Derivative(f(r, t), r), -0.5*r*Derivative(f(r, t), t)/f(r, t), 0, 0], [0, 0, 0, 0]], [[0, 0, 0.5*r*Derivative(f(r, t), t)/f(r, t), 0], [0, 0, 0.5*r*Derivative(f(r, t), r)/f(r, t), 0], [-0.5*r*Derivative(f(r, t), t)/f(r, t), -0.5*r*Derivative(f(r, t), r)/f(r, t), 0, 0], [0, 0, 0, 0]], [[0, 0, 0, 0], [0, 0, 0, 0], [0, 0, 0, 0], [0, 0, 0, 0]], [[0, 0, 0, 0], [0, 0, 0, 0], [0, 0, 0, r**2*(-1.0*f(r, t)*sin(\\theta)**2 + 1.0*sin(\\theta)**2)], [0, 0, r**2*(1.0*f(r, t)*sin(\\theta)**2 - 1.0*sin(\\theta)**2), 0]]], [[[0, 0, 0, -0.5*r*f(r, t)*sin(\\theta)**2*Derivative(f(r, t), r)], [0, 0, 0, 0.5*r*sin(\\theta)**2*Derivative(f(r, t), t)/f(r, t)], [0, 0, 0, 0], [0.5*r*f(r, t)*sin(\\theta)**2*Derivative(f(r, t), r), -0.5*r*sin(\\theta)**2*Derivative(f(r, t), t)/f(r, t), 0, 0]], [[0, 0, 0, 0.5*r*sin(\\theta)**2*Derivative(f(r, t), t)/f(r, t)], [0, 0, 0, 0.5*r*sin(\\theta)**2*Derivative(f(r, t), r)/f(r, t)], [0, 0, 0, 0], [-0.5*r*sin(\\theta)**2*Derivative(f(r, t), t)/f(r, t), -0.5*r*sin(\\theta)**2*Derivative(f(r, t), r)/f(r, t), 0, 0]], [[0, 0, 0, 0], [0, 0, 0, 0], [0, 0, 0, r**2*(1.0*f(r, t) - 1.0)*sin(\\theta)**2], [0, 0, r**2*(1.0 - 1.0*f(r, t))*sin(\\theta)**2, 0]], [[0, 0, 0, 0], [0, 0, 0, 0], [0, 0, 0, 0], [0, 0, 0, 0]]]]"
      ]
     },
     "execution_count": 50,
     "metadata": {},
     "output_type": "execute_result"
    }
   ],
   "source": [
    "R_down=MutableDenseNDimArray(np.zeros((4,)*4))\n",
    "for i in range(0,4):\n",
    "    for j in range(0,4):\n",
    "        for k in range(0,4):\n",
    "            for l in range(0,4):\n",
    "                su=0\n",
    "                for m in range(0,4):\n",
    "                    su=su+R_up[m,i,j,k]*g_down_sch[l,m]\n",
    "                R_down[l,i,j,k]=su\n",
    "R_down"
   ]
  },
  {
   "cell_type": "code",
   "execution_count": 51,
   "metadata": {},
   "outputs": [],
   "source": [
    "### 0.5 "
   ]
  },
  {
   "cell_type": "markdown",
   "metadata": {},
   "source": [
    "## Ricci Tensor and Ricci Scalar"
   ]
  },
  {
   "cell_type": "markdown",
   "metadata": {},
   "source": [
    "### $R_{\\mu \\nu}\\to $ Ric_t[$\\mu,\\nu$]"
   ]
  },
  {
   "cell_type": "code",
   "execution_count": 52,
   "metadata": {},
   "outputs": [
    {
     "data": {
      "text/latex": [
       "$\\displaystyle \\left[\\begin{matrix}0.5 f{\\left(r,t \\right)} \\frac{\\partial^{2}}{\\partial r^{2}} f{\\left(r,t \\right)} + \\frac{0.5 \\frac{\\partial^{2}}{\\partial t^{2}} f{\\left(r,t \\right)}}{f{\\left(r,t \\right)}} - \\frac{1.0 \\left(\\frac{\\partial}{\\partial t} f{\\left(r,t \\right)}\\right)^{2}}{f^{2}{\\left(r,t \\right)}} + \\frac{1.0 f{\\left(r,t \\right)} \\frac{\\partial}{\\partial r} f{\\left(r,t \\right)}}{r} & - \\frac{1.0 \\frac{\\partial}{\\partial t} f{\\left(r,t \\right)}}{r f{\\left(r,t \\right)}} & 0 & 0\\\\- \\frac{1.0 \\frac{\\partial}{\\partial t} f{\\left(r,t \\right)}}{r f{\\left(r,t \\right)}} & - \\frac{0.5 \\frac{\\partial^{2}}{\\partial r^{2}} f{\\left(r,t \\right)}}{f{\\left(r,t \\right)}} - \\frac{0.5 \\frac{\\partial^{2}}{\\partial t^{2}} f{\\left(r,t \\right)}}{f^{3}{\\left(r,t \\right)}} + \\frac{1.0 \\left(\\frac{\\partial}{\\partial t} f{\\left(r,t \\right)}\\right)^{2}}{f^{4}{\\left(r,t \\right)}} - \\frac{1.0 \\frac{\\partial}{\\partial r} f{\\left(r,t \\right)}}{r f{\\left(r,t \\right)}} & 0 & 0\\\\0 & 0 & - 1.0 r \\frac{\\partial}{\\partial r} f{\\left(r,t \\right)} - 1.0 f{\\left(r,t \\right)} + 1.0 & 0\\\\0 & 0 & 0 & - 1.0 r \\sin^{2}{\\left(\\theta \\right)} \\frac{\\partial}{\\partial r} f{\\left(r,t \\right)} - 1.0 f{\\left(r,t \\right)} \\sin^{2}{\\left(\\theta \\right)} + 1.0 \\sin^{2}{\\left(\\theta \\right)}\\end{matrix}\\right]$"
      ],
      "text/plain": [
       "[[0.5*f(r, t)*Derivative(f(r, t), (r, 2)) + 0.5*Derivative(f(r, t), (t, 2))/f(r, t) - 1.0*Derivative(f(r, t), t)**2/f(r, t)**2 + 1.0*f(r, t)*Derivative(f(r, t), r)/r, -1.0*Derivative(f(r, t), t)/(r*f(r, t)), 0, 0], [-1.0*Derivative(f(r, t), t)/(r*f(r, t)), -0.5*Derivative(f(r, t), (r, 2))/f(r, t) - 0.5*Derivative(f(r, t), (t, 2))/f(r, t)**3 + 1.0*Derivative(f(r, t), t)**2/f(r, t)**4 - 1.0*Derivative(f(r, t), r)/(r*f(r, t)), 0, 0], [0, 0, -1.0*r*Derivative(f(r, t), r) - 1.0*f(r, t) + 1.0, 0], [0, 0, 0, -1.0*r*sin(\\theta)**2*Derivative(f(r, t), r) - 1.0*f(r, t)*sin(\\theta)**2 + 1.0*sin(\\theta)**2]]"
      ]
     },
     "execution_count": 52,
     "metadata": {},
     "output_type": "execute_result"
    }
   ],
   "source": [
    "Ric_t=MutableDenseNDimArray(np.zeros((4,)*2))\n",
    "for i in range(0,4):\n",
    "    for k in range(0,4):\n",
    "        su=0\n",
    "        for j in range(0,4):\n",
    "            su=su+R_up[j,i,j,k]\n",
    "        Ric_t[i,k]=su\n",
    "Ric_t"
   ]
  },
  {
   "cell_type": "markdown",
   "metadata": {},
   "source": [
    "### $R= g^{\\mu \\nu} R_{\\mu \\nu} \\to$ Ric_s"
   ]
  },
  {
   "cell_type": "code",
   "execution_count": 53,
   "metadata": {
    "scrolled": true
   },
   "outputs": [
    {
     "data": {
      "text/latex": [
       "$\\displaystyle - 1.0 \\frac{\\partial^{2}}{\\partial r^{2}} f{\\left(r,t \\right)} - \\frac{1.0 \\frac{\\partial^{2}}{\\partial t^{2}} f{\\left(r,t \\right)}}{f^{2}{\\left(r,t \\right)}} + \\frac{2.0 \\left(\\frac{\\partial}{\\partial t} f{\\left(r,t \\right)}\\right)^{2}}{f^{3}{\\left(r,t \\right)}} - \\frac{4.0 \\frac{\\partial}{\\partial r} f{\\left(r,t \\right)}}{r} - \\frac{2.0 f{\\left(r,t \\right)}}{r^{2}} + \\frac{2.0}{r^{2}}$"
      ],
      "text/plain": [
       "-1.0*Derivative(f(r, t), (r, 2)) - 1.0*Derivative(f(r, t), (t, 2))/f(r, t)**2 + 2.0*Derivative(f(r, t), t)**2/f(r, t)**3 - 4.0*Derivative(f(r, t), r)/r - 2.0*f(r, t)/r**2 + 2.0/r**2"
      ]
     },
     "execution_count": 53,
     "metadata": {},
     "output_type": "execute_result"
    }
   ],
   "source": [
    "Ric_s=0\n",
    "for i in range(0,4):\n",
    "    for j in range(0,4):\n",
    "        Ric_s=Ric_s+g_up_sch[i,j]*Ric_t[i,j]\n",
    "Ric_s=simplify(Ric_s)\n",
    "Ric_s\n",
    "\n",
    "### expand"
   ]
  },
  {
   "cell_type": "code",
   "execution_count": 54,
   "metadata": {},
   "outputs": [
    {
     "data": {
      "text/latex": [
       "$\\displaystyle - 1.0 \\frac{\\partial^{2}}{\\partial r^{2}} f{\\left(r,t \\right)} - \\frac{1.0 \\frac{\\partial^{2}}{\\partial t^{2}} f{\\left(r,t \\right)}}{f^{2}{\\left(r,t \\right)}} + \\frac{2.0 \\left(\\frac{\\partial}{\\partial t} f{\\left(r,t \\right)}\\right)^{2}}{f^{3}{\\left(r,t \\right)}} - \\frac{4.0 \\frac{\\partial}{\\partial r} f{\\left(r,t \\right)}}{r} - \\frac{2.0 f{\\left(r,t \\right)}}{r^{2}} + \\frac{2.0}{r^{2}}$"
      ],
      "text/plain": [
       "-1.0*Derivative(f(r, t), (r, 2)) - 1.0*Derivative(f(r, t), (t, 2))/f(r, t)**2 + 2.0*Derivative(f(r, t), t)**2/f(r, t)**3 - 4.0*Derivative(f(r, t), r)/r - 2.0*f(r, t)/r**2 + 2.0/r**2"
      ]
     },
     "execution_count": 54,
     "metadata": {},
     "output_type": "execute_result"
    }
   ],
   "source": [
    "Ric_s=expand(Ric_s)\n",
    "Ric_s"
   ]
  },
  {
   "cell_type": "markdown",
   "metadata": {},
   "source": [
    "## Kretschmann scalar"
   ]
  },
  {
   "cell_type": "markdown",
   "metadata": {},
   "source": [
    "### $K=R_{abcd}R^{abcd}\\to$ K"
   ]
  },
  {
   "cell_type": "markdown",
   "metadata": {},
   "source": [
    "#### $R^{abcd}=g^{ax}g^{by}g^{cz}g^{dw}R_{xyzw}\\to K=g^{ax}g^{by}g^{cz}g^{dw}R_{xyzw}R_{abcd}$"
   ]
  },
  {
   "cell_type": "code",
   "execution_count": 55,
   "metadata": {
    "scrolled": true
   },
   "outputs": [
    {
     "data": {
      "text/latex": [
       "$\\displaystyle \\frac{4 \\left(0.5 f^{3}{\\left(r,t \\right)} \\frac{\\partial^{2}}{\\partial r^{2}} f{\\left(r,t \\right)} + 0.5 f{\\left(r,t \\right)} \\frac{\\partial^{2}}{\\partial t^{2}} f{\\left(r,t \\right)} - 1.0 \\left(\\frac{\\partial}{\\partial t} f{\\left(r,t \\right)}\\right)^{2}\\right)^{2}}{f^{6}{\\left(r,t \\right)}} + \\frac{4.0 \\left(\\frac{\\partial}{\\partial r} f{\\left(r,t \\right)}\\right)^{2}}{r^{2}} - \\frac{4.0 \\left(\\frac{\\partial}{\\partial t} f{\\left(r,t \\right)}\\right)^{2}}{r^{2} f^{2}{\\left(r,t \\right)}} + \\frac{4.0 \\left(f{\\left(r,t \\right)} - 1\\right)^{2}}{r^{4}}$"
      ],
      "text/plain": [
       "4*(0.5*f(r, t)**3*Derivative(f(r, t), (r, 2)) + 0.5*f(r, t)*Derivative(f(r, t), (t, 2)) - 1.0*Derivative(f(r, t), t)**2)**2/f(r, t)**6 + 4.0*Derivative(f(r, t), r)**2/r**2 - 4.0*Derivative(f(r, t), t)**2/(r**2*f(r, t)**2) + 4.0*(f(r, t) - 1)**2/r**4"
      ]
     },
     "execution_count": 55,
     "metadata": {},
     "output_type": "execute_result"
    }
   ],
   "source": [
    "K=0\n",
    "for a in range(0,4):\n",
    "    for b in range(0,4):\n",
    "        for c in range(0,4):\n",
    "            for d in range(0,4):\n",
    "                for a2 in range(0,4):\n",
    "                    for b2 in range(0,4):\n",
    "                        for c2 in range(0,4):\n",
    "                            for d2 in range(0,4):\n",
    "                                K=K+g_up_sch[a,a2]*g_up_sch[b,b2]*g_up_sch[c,c2]*g_up_sch[d,d2]*R_down[a,b,c,d]*R_down[a2,b2,c2,d2]\n",
    "K=simplify(K)\n",
    "K"
   ]
  },
  {
   "cell_type": "markdown",
   "metadata": {},
   "source": [
    "## Einstein Tensor and its diagonal form"
   ]
  },
  {
   "cell_type": "markdown",
   "metadata": {},
   "source": [
    "### $G_{\\mu \\nu} \\to$ G_down[i,j]"
   ]
  },
  {
   "cell_type": "code",
   "execution_count": 56,
   "metadata": {},
   "outputs": [
    {
     "data": {
      "text/latex": [
       "$\\displaystyle \\left[\\begin{matrix}\\frac{1.0 \\left(- r \\frac{\\partial}{\\partial r} f{\\left(r,t \\right)} - f{\\left(r,t \\right)} + 1\\right) f{\\left(r,t \\right)}}{r^{2}} & - \\frac{1.0 \\frac{\\partial}{\\partial t} f{\\left(r,t \\right)}}{r f{\\left(r,t \\right)}} & 0 & 0\\\\- \\frac{1.0 \\frac{\\partial}{\\partial t} f{\\left(r,t \\right)}}{r f{\\left(r,t \\right)}} & \\frac{1.0 \\left(r \\frac{\\partial}{\\partial r} f{\\left(r,t \\right)} + f{\\left(r,t \\right)} - 1\\right)}{r^{2} f{\\left(r,t \\right)}} & 0 & 0\\\\0 & 0 & 0.5 r^{2} \\frac{\\partial^{2}}{\\partial r^{2}} f{\\left(r,t \\right)} + \\frac{0.5 r^{2} \\frac{\\partial^{2}}{\\partial t^{2}} f{\\left(r,t \\right)}}{f^{2}{\\left(r,t \\right)}} - \\frac{1.0 r^{2} \\left(\\frac{\\partial}{\\partial t} f{\\left(r,t \\right)}\\right)^{2}}{f^{3}{\\left(r,t \\right)}} + 1.0 r \\frac{\\partial}{\\partial r} f{\\left(r,t \\right)} & 0\\\\0 & 0 & 0 & \\frac{1.0 r \\left(0.5 r f^{3}{\\left(r,t \\right)} \\frac{\\partial^{2}}{\\partial r^{2}} f{\\left(r,t \\right)} + 0.5 r f{\\left(r,t \\right)} \\frac{\\partial^{2}}{\\partial t^{2}} f{\\left(r,t \\right)} - 1.0 r \\left(\\frac{\\partial}{\\partial t} f{\\left(r,t \\right)}\\right)^{2} + 1.0 f^{3}{\\left(r,t \\right)} \\frac{\\partial}{\\partial r} f{\\left(r,t \\right)}\\right) \\sin^{2}{\\left(\\theta \\right)}}{f^{3}{\\left(r,t \\right)}}\\end{matrix}\\right]$"
      ],
      "text/plain": [
       "Matrix([\n",
       "[1.0*(-r*Derivative(f(r, t), r) - f(r, t) + 1)*f(r, t)/r**2,                     -1.0*Derivative(f(r, t), t)/(r*f(r, t)),                                                                                                                                                                     0,                                                                                                                                                                                                    0],\n",
       "[                   -1.0*Derivative(f(r, t), t)/(r*f(r, t)), 1.0*(r*Derivative(f(r, t), r) + f(r, t) - 1)/(r**2*f(r, t)),                                                                                                                                                                     0,                                                                                                                                                                                                    0],\n",
       "[                                                         0,                                                           0, 0.5*r**2*Derivative(f(r, t), (r, 2)) + 0.5*r**2*Derivative(f(r, t), (t, 2))/f(r, t)**2 - 1.0*r**2*Derivative(f(r, t), t)**2/f(r, t)**3 + 1.0*r*Derivative(f(r, t), r),                                                                                                                                                                                                    0],\n",
       "[                                                         0,                                                           0,                                                                                                                                                                     0, 1.0*r*(0.5*r*f(r, t)**3*Derivative(f(r, t), (r, 2)) + 0.5*r*f(r, t)*Derivative(f(r, t), (t, 2)) - 1.0*r*Derivative(f(r, t), t)**2 + 1.0*f(r, t)**3*Derivative(f(r, t), r))*sin(\\theta)**2/f(r, t)**3]])"
      ]
     },
     "execution_count": 56,
     "metadata": {},
     "output_type": "execute_result"
    }
   ],
   "source": [
    "G_down_=MutableDenseNDimArray(np.zeros((4,)*2))\n",
    "Ric=Matrix(Ric_t)\n",
    "G_down=Ric - 0.5*Ric_s*g_down_sch\n",
    "simplify(G_down)"
   ]
  },
  {
   "cell_type": "markdown",
   "metadata": {},
   "source": [
    "### Eigenvectors and eigenvalues"
   ]
  },
  {
   "cell_type": "code",
   "execution_count": 57,
   "metadata": {},
   "outputs": [
    {
     "name": "stdout",
     "output_type": "stream",
     "text": [
      "Time: 39.96904397010803\n"
     ]
    },
    {
     "data": {
      "text/plain": [
       "[(0.5*(-r*f(r, t)**2*Derivative(f(r, t), r) + r*Derivative(f(r, t), r) - 2.0*(0.25*r**2*f(r, t)**4*Derivative(f(r, t), r)**2 + 0.5*r**2*f(r, t)**2*Derivative(f(r, t), r)**2 + 0.25*r**2*Derivative(f(r, t), r)**2 + r**2*Derivative(f(r, t), t)**2 + 0.5*r*f(r, t)**5*Derivative(f(r, t), r) - 0.5*r*f(r, t)**4*Derivative(f(r, t), r) + r*f(r, t)**3*Derivative(f(r, t), r) - r*f(r, t)**2*Derivative(f(r, t), r) + 0.5*r*f(r, t)*Derivative(f(r, t), r) - 0.5*r*Derivative(f(r, t), r) + 0.25*f(r, t)**6 - 0.5*f(r, t)**5 + 0.75*f(r, t)**4 - f(r, t)**3 + 0.75*f(r, t)**2 - 0.5*f(r, t) + 0.25)**0.5 - f(r, t)**3 + f(r, t)**2 + f(r, t) - 1.0)/(r**2*f(r, t)),\n",
       "  1,\n",
       "  [Matrix([\n",
       "   [-2.0*r*Derivative(f(r, t), t)/(r*f(r, t)**2*Derivative(f(r, t), r) + r*Derivative(f(r, t), r) - 2.0*(0.25*r**2*f(r, t)**4*Derivative(f(r, t), r)**2 + 0.5*r**2*f(r, t)**2*Derivative(f(r, t), r)**2 + 0.25*r**2*Derivative(f(r, t), r)**2 + r**2*Derivative(f(r, t), t)**2 + 0.5*r*f(r, t)**5*Derivative(f(r, t), r) - 0.5*r*f(r, t)**4*Derivative(f(r, t), r) + r*f(r, t)**3*Derivative(f(r, t), r) - r*f(r, t)**2*Derivative(f(r, t), r) + 0.5*r*f(r, t)*Derivative(f(r, t), r) - 0.5*r*Derivative(f(r, t), r) + 0.25*f(r, t)**6 - 0.5*f(r, t)**5 + 0.75*f(r, t)**4 - f(r, t)**3 + 0.75*f(r, t)**2 - 0.5*f(r, t) + 0.25)**0.5 + f(r, t)**3 - f(r, t)**2 + f(r, t) - 1.0)],\n",
       "   [                                                                                                                                                                                                                                                                                                                                                                                                                                                                                                                                                                                                                                                                       1.0],\n",
       "   [                                                                                                                                                                                                                                                                                                                                                                                                                                                                                                                                                                                                                                                                         0],\n",
       "   [                                                                                                                                                                                                                                                                                                                                                                                                                                                                                                                                                                                                                                                                         0]])]),\n",
       " (0.5*(-r*f(r, t)**2*Derivative(f(r, t), r) + r*Derivative(f(r, t), r) + 2.0*(0.25*r**2*f(r, t)**4*Derivative(f(r, t), r)**2 + 0.5*r**2*f(r, t)**2*Derivative(f(r, t), r)**2 + 0.25*r**2*Derivative(f(r, t), r)**2 + r**2*Derivative(f(r, t), t)**2 + 0.5*r*f(r, t)**5*Derivative(f(r, t), r) - 0.5*r*f(r, t)**4*Derivative(f(r, t), r) + r*f(r, t)**3*Derivative(f(r, t), r) - r*f(r, t)**2*Derivative(f(r, t), r) + 0.5*r*f(r, t)*Derivative(f(r, t), r) - 0.5*r*Derivative(f(r, t), r) + 0.25*f(r, t)**6 - 0.5*f(r, t)**5 + 0.75*f(r, t)**4 - f(r, t)**3 + 0.75*f(r, t)**2 - 0.5*f(r, t) + 0.25)**0.5 - f(r, t)**3 + f(r, t)**2 + f(r, t) - 1.0)/(r**2*f(r, t)),\n",
       "  1,\n",
       "  [Matrix([\n",
       "   [-2.0*r*Derivative(f(r, t), t)/(r*f(r, t)**2*Derivative(f(r, t), r) + r*Derivative(f(r, t), r) + 2.0*(0.25*r**2*f(r, t)**4*Derivative(f(r, t), r)**2 + 0.5*r**2*f(r, t)**2*Derivative(f(r, t), r)**2 + 0.25*r**2*Derivative(f(r, t), r)**2 + r**2*Derivative(f(r, t), t)**2 + 0.5*r*f(r, t)**5*Derivative(f(r, t), r) - 0.5*r*f(r, t)**4*Derivative(f(r, t), r) + r*f(r, t)**3*Derivative(f(r, t), r) - r*f(r, t)**2*Derivative(f(r, t), r) + 0.5*r*f(r, t)*Derivative(f(r, t), r) - 0.5*r*Derivative(f(r, t), r) + 0.25*f(r, t)**6 - 0.5*f(r, t)**5 + 0.75*f(r, t)**4 - f(r, t)**3 + 0.75*f(r, t)**2 - 0.5*f(r, t) + 0.25)**0.5 + f(r, t)**3 - f(r, t)**2 + f(r, t) - 1.0)],\n",
       "   [                                                                                                                                                                                                                                                                                                                                                                                                                                                                                                                                                                                                                                                                       1.0],\n",
       "   [                                                                                                                                                                                                                                                                                                                                                                                                                                                                                                                                                                                                                                                                         0],\n",
       "   [                                                                                                                                                                                                                                                                                                                                                                                                                                                                                                                                                                                                                                                                         0]])]),\n",
       " (0.5*r*(r*f(r, t)**3*Derivative(f(r, t), (r, 2)) + r*f(r, t)*Derivative(f(r, t), (t, 2)) - 2.0*r*Derivative(f(r, t), t)**2 + 2.0*f(r, t)**3*Derivative(f(r, t), r))*sin(\\theta)**2/f(r, t)**3,\n",
       "  1,\n",
       "  [Matrix([\n",
       "   [  0],\n",
       "   [  0],\n",
       "   [  0],\n",
       "   [1.0]])]),\n",
       " (0.5*r**2*Derivative(f(r, t), (r, 2)) + 0.5*r**2*Derivative(f(r, t), (t, 2))/f(r, t)**2 - r**2*Derivative(f(r, t), t)**2/f(r, t)**3 + r*Derivative(f(r, t), r),\n",
       "  1,\n",
       "  [Matrix([\n",
       "   [  0],\n",
       "   [  0],\n",
       "   [1.0],\n",
       "   [  0]])])]"
      ]
     },
     "execution_count": 57,
     "metadata": {},
     "output_type": "execute_result"
    }
   ],
   "source": [
    "import time\n",
    "\n",
    "start = time.time()\n",
    "info =G_down.eigenvects()\n",
    "print(f'Time: {time.time() - start}')\n",
    "\n",
    "info"
   ]
  },
  {
   "cell_type": "code",
   "execution_count": 58,
   "metadata": {},
   "outputs": [
    {
     "data": {
      "text/latex": [
       "$\\displaystyle \\left[\\begin{matrix}- \\frac{2.0 r \\frac{\\partial}{\\partial t} f{\\left(r,t \\right)}}{r f^{2}{\\left(r,t \\right)} \\frac{\\partial}{\\partial r} f{\\left(r,t \\right)} + r \\frac{\\partial}{\\partial r} f{\\left(r,t \\right)} - 2.0 \\left(0.25 r^{2} f^{4}{\\left(r,t \\right)} \\left(\\frac{\\partial}{\\partial r} f{\\left(r,t \\right)}\\right)^{2} + 0.5 r^{2} f^{2}{\\left(r,t \\right)} \\left(\\frac{\\partial}{\\partial r} f{\\left(r,t \\right)}\\right)^{2} + 0.25 r^{2} \\left(\\frac{\\partial}{\\partial r} f{\\left(r,t \\right)}\\right)^{2} + r^{2} \\left(\\frac{\\partial}{\\partial t} f{\\left(r,t \\right)}\\right)^{2} + 0.5 r f^{5}{\\left(r,t \\right)} \\frac{\\partial}{\\partial r} f{\\left(r,t \\right)} - 0.5 r f^{4}{\\left(r,t \\right)} \\frac{\\partial}{\\partial r} f{\\left(r,t \\right)} + r f^{3}{\\left(r,t \\right)} \\frac{\\partial}{\\partial r} f{\\left(r,t \\right)} - r f^{2}{\\left(r,t \\right)} \\frac{\\partial}{\\partial r} f{\\left(r,t \\right)} + 0.5 r f{\\left(r,t \\right)} \\frac{\\partial}{\\partial r} f{\\left(r,t \\right)} - 0.5 r \\frac{\\partial}{\\partial r} f{\\left(r,t \\right)} + 0.25 f^{6}{\\left(r,t \\right)} - 0.5 f^{5}{\\left(r,t \\right)} + 0.75 f^{4}{\\left(r,t \\right)} - f^{3}{\\left(r,t \\right)} + 0.75 f^{2}{\\left(r,t \\right)} - 0.5 f{\\left(r,t \\right)} + 0.25\\right)^{0.5} + f^{3}{\\left(r,t \\right)} - f^{2}{\\left(r,t \\right)} + f{\\left(r,t \\right)} - 1.0} & - \\frac{2.0 r \\frac{\\partial}{\\partial t} f{\\left(r,t \\right)}}{r f^{2}{\\left(r,t \\right)} \\frac{\\partial}{\\partial r} f{\\left(r,t \\right)} + r \\frac{\\partial}{\\partial r} f{\\left(r,t \\right)} + 2.0 \\left(0.25 r^{2} f^{4}{\\left(r,t \\right)} \\left(\\frac{\\partial}{\\partial r} f{\\left(r,t \\right)}\\right)^{2} + 0.5 r^{2} f^{2}{\\left(r,t \\right)} \\left(\\frac{\\partial}{\\partial r} f{\\left(r,t \\right)}\\right)^{2} + 0.25 r^{2} \\left(\\frac{\\partial}{\\partial r} f{\\left(r,t \\right)}\\right)^{2} + r^{2} \\left(\\frac{\\partial}{\\partial t} f{\\left(r,t \\right)}\\right)^{2} + 0.5 r f^{5}{\\left(r,t \\right)} \\frac{\\partial}{\\partial r} f{\\left(r,t \\right)} - 0.5 r f^{4}{\\left(r,t \\right)} \\frac{\\partial}{\\partial r} f{\\left(r,t \\right)} + r f^{3}{\\left(r,t \\right)} \\frac{\\partial}{\\partial r} f{\\left(r,t \\right)} - r f^{2}{\\left(r,t \\right)} \\frac{\\partial}{\\partial r} f{\\left(r,t \\right)} + 0.5 r f{\\left(r,t \\right)} \\frac{\\partial}{\\partial r} f{\\left(r,t \\right)} - 0.5 r \\frac{\\partial}{\\partial r} f{\\left(r,t \\right)} + 0.25 f^{6}{\\left(r,t \\right)} - 0.5 f^{5}{\\left(r,t \\right)} + 0.75 f^{4}{\\left(r,t \\right)} - f^{3}{\\left(r,t \\right)} + 0.75 f^{2}{\\left(r,t \\right)} - 0.5 f{\\left(r,t \\right)} + 0.25\\right)^{0.5} + f^{3}{\\left(r,t \\right)} - f^{2}{\\left(r,t \\right)} + f{\\left(r,t \\right)} - 1.0} & 0 & 0\\\\1.0 & 1.0 & 0 & 0\\\\0 & 0 & 0 & 1.0\\\\0 & 0 & 1.0 & 0\\end{matrix}\\right]$"
      ],
      "text/plain": [
       "Matrix([\n",
       "[-2.0*r*Derivative(f(r, t), t)/(r*f(r, t)**2*Derivative(f(r, t), r) + r*Derivative(f(r, t), r) - 2.0*(0.25*r**2*f(r, t)**4*Derivative(f(r, t), r)**2 + 0.5*r**2*f(r, t)**2*Derivative(f(r, t), r)**2 + 0.25*r**2*Derivative(f(r, t), r)**2 + r**2*Derivative(f(r, t), t)**2 + 0.5*r*f(r, t)**5*Derivative(f(r, t), r) - 0.5*r*f(r, t)**4*Derivative(f(r, t), r) + r*f(r, t)**3*Derivative(f(r, t), r) - r*f(r, t)**2*Derivative(f(r, t), r) + 0.5*r*f(r, t)*Derivative(f(r, t), r) - 0.5*r*Derivative(f(r, t), r) + 0.25*f(r, t)**6 - 0.5*f(r, t)**5 + 0.75*f(r, t)**4 - f(r, t)**3 + 0.75*f(r, t)**2 - 0.5*f(r, t) + 0.25)**0.5 + f(r, t)**3 - f(r, t)**2 + f(r, t) - 1.0), -2.0*r*Derivative(f(r, t), t)/(r*f(r, t)**2*Derivative(f(r, t), r) + r*Derivative(f(r, t), r) + 2.0*(0.25*r**2*f(r, t)**4*Derivative(f(r, t), r)**2 + 0.5*r**2*f(r, t)**2*Derivative(f(r, t), r)**2 + 0.25*r**2*Derivative(f(r, t), r)**2 + r**2*Derivative(f(r, t), t)**2 + 0.5*r*f(r, t)**5*Derivative(f(r, t), r) - 0.5*r*f(r, t)**4*Derivative(f(r, t), r) + r*f(r, t)**3*Derivative(f(r, t), r) - r*f(r, t)**2*Derivative(f(r, t), r) + 0.5*r*f(r, t)*Derivative(f(r, t), r) - 0.5*r*Derivative(f(r, t), r) + 0.25*f(r, t)**6 - 0.5*f(r, t)**5 + 0.75*f(r, t)**4 - f(r, t)**3 + 0.75*f(r, t)**2 - 0.5*f(r, t) + 0.25)**0.5 + f(r, t)**3 - f(r, t)**2 + f(r, t) - 1.0),   0,   0],\n",
       "[                                                                                                                                                                                                                                                                                                                                                                                                                                                                                                                                                                                                                                                                       1.0,                                                                                                                                                                                                                                                                                                                                                                                                                                                                                                                                                                                                                                                                        1.0,   0,   0],\n",
       "[                                                                                                                                                                                                                                                                                                                                                                                                                                                                                                                                                                                                                                                                         0,                                                                                                                                                                                                                                                                                                                                                                                                                                                                                                                                                                                                                                                                          0,   0, 1.0],\n",
       "[                                                                                                                                                                                                                                                                                                                                                                                                                                                                                                                                                                                                                                                                         0,                                                                                                                                                                                                                                                                                                                                                                                                                                                                                                                                                                                                                                                                          0, 1.0,   0]])"
      ]
     },
     "execution_count": 58,
     "metadata": {},
     "output_type": "execute_result"
    }
   ],
   "source": [
    "#eigen vectors\n",
    "P=Matrix(MutableDenseNDimArray(np.zeros((4,)*2)))\n",
    "count=0\n",
    "for i in range(0,len(info)):\n",
    "    for j in range(0,info[i][1]):\n",
    "        P[:,count]=Matrix(info[i][2][j])\n",
    "        count=count+1\n",
    "P\n",
    "\n",
    "##display array\n",
    "# eigenvec=[]\n",
    "# for i in range(0,len(info)):\n",
    "#     eigenvec.append(info[i][2][0])\n",
    "# eigenvectors=MutableDenseNDimArray(np.array(eigenvec))\n",
    "# eigenvectors"
   ]
  },
  {
   "cell_type": "code",
   "execution_count": 59,
   "metadata": {},
   "outputs": [
    {
     "data": {
      "text/latex": [
       "$\\displaystyle \\left[\\begin{matrix}\\frac{- 0.5 r f^{2}{\\left(r,t \\right)} \\frac{\\partial}{\\partial r} f{\\left(r,t \\right)} + 0.5 r \\frac{\\partial}{\\partial r} f{\\left(r,t \\right)} - 1.0 \\left(0.25 r^{2} f^{4}{\\left(r,t \\right)} \\left(\\frac{\\partial}{\\partial r} f{\\left(r,t \\right)}\\right)^{2} + 0.5 r^{2} f^{2}{\\left(r,t \\right)} \\left(\\frac{\\partial}{\\partial r} f{\\left(r,t \\right)}\\right)^{2} + 0.25 r^{2} \\left(\\frac{\\partial}{\\partial r} f{\\left(r,t \\right)}\\right)^{2} + r^{2} \\left(\\frac{\\partial}{\\partial t} f{\\left(r,t \\right)}\\right)^{2} + 0.5 r f^{5}{\\left(r,t \\right)} \\frac{\\partial}{\\partial r} f{\\left(r,t \\right)} - 0.5 r f^{4}{\\left(r,t \\right)} \\frac{\\partial}{\\partial r} f{\\left(r,t \\right)} + r f^{3}{\\left(r,t \\right)} \\frac{\\partial}{\\partial r} f{\\left(r,t \\right)} - r f^{2}{\\left(r,t \\right)} \\frac{\\partial}{\\partial r} f{\\left(r,t \\right)} + 0.5 r f{\\left(r,t \\right)} \\frac{\\partial}{\\partial r} f{\\left(r,t \\right)} - 0.5 r \\frac{\\partial}{\\partial r} f{\\left(r,t \\right)} + 0.25 f^{6}{\\left(r,t \\right)} - 0.5 f^{5}{\\left(r,t \\right)} + 0.75 f^{4}{\\left(r,t \\right)} - f^{3}{\\left(r,t \\right)} + 0.75 f^{2}{\\left(r,t \\right)} - 0.5 f{\\left(r,t \\right)} + 0.25\\right)^{0.5} - 0.5 f^{3}{\\left(r,t \\right)} + 0.5 f^{2}{\\left(r,t \\right)} + 0.5 f{\\left(r,t \\right)} - 0.5}{r^{2} f{\\left(r,t \\right)}} & 0.0 & 0.0 & 0.0\\\\0.0 & \\frac{- 0.5 r f^{2}{\\left(r,t \\right)} \\frac{\\partial}{\\partial r} f{\\left(r,t \\right)} + 0.5 r \\frac{\\partial}{\\partial r} f{\\left(r,t \\right)} + 1.0 \\left(0.25 r^{2} f^{4}{\\left(r,t \\right)} \\left(\\frac{\\partial}{\\partial r} f{\\left(r,t \\right)}\\right)^{2} + 0.5 r^{2} f^{2}{\\left(r,t \\right)} \\left(\\frac{\\partial}{\\partial r} f{\\left(r,t \\right)}\\right)^{2} + 0.25 r^{2} \\left(\\frac{\\partial}{\\partial r} f{\\left(r,t \\right)}\\right)^{2} + r^{2} \\left(\\frac{\\partial}{\\partial t} f{\\left(r,t \\right)}\\right)^{2} + 0.5 r f^{5}{\\left(r,t \\right)} \\frac{\\partial}{\\partial r} f{\\left(r,t \\right)} - 0.5 r f^{4}{\\left(r,t \\right)} \\frac{\\partial}{\\partial r} f{\\left(r,t \\right)} + r f^{3}{\\left(r,t \\right)} \\frac{\\partial}{\\partial r} f{\\left(r,t \\right)} - r f^{2}{\\left(r,t \\right)} \\frac{\\partial}{\\partial r} f{\\left(r,t \\right)} + 0.5 r f{\\left(r,t \\right)} \\frac{\\partial}{\\partial r} f{\\left(r,t \\right)} - 0.5 r \\frac{\\partial}{\\partial r} f{\\left(r,t \\right)} + 0.25 f^{6}{\\left(r,t \\right)} - 0.5 f^{5}{\\left(r,t \\right)} + 0.75 f^{4}{\\left(r,t \\right)} - f^{3}{\\left(r,t \\right)} + 0.75 f^{2}{\\left(r,t \\right)} - 0.5 f{\\left(r,t \\right)} + 0.25\\right)^{0.5} - 0.5 f^{3}{\\left(r,t \\right)} + 0.5 f^{2}{\\left(r,t \\right)} + 0.5 f{\\left(r,t \\right)} - 0.5}{r^{2} f{\\left(r,t \\right)}} & 0.0 & 0.0\\\\0.0 & 0.0 & \\frac{0.5 r \\left(r f^{3}{\\left(r,t \\right)} \\frac{\\partial^{2}}{\\partial r^{2}} f{\\left(r,t \\right)} + r f{\\left(r,t \\right)} \\frac{\\partial^{2}}{\\partial t^{2}} f{\\left(r,t \\right)} - 2.0 r \\left(\\frac{\\partial}{\\partial t} f{\\left(r,t \\right)}\\right)^{2} + 2.0 f^{3}{\\left(r,t \\right)} \\frac{\\partial}{\\partial r} f{\\left(r,t \\right)}\\right) \\sin^{2}{\\left(\\theta \\right)}}{f^{3}{\\left(r,t \\right)}} & 0.0\\\\0.0 & 0.0 & 0.0 & \\frac{r \\left(0.5 r f{\\left(r,t \\right)} \\frac{\\partial^{2}}{\\partial t^{2}} f{\\left(r,t \\right)} - r \\left(\\frac{\\partial}{\\partial t} f{\\left(r,t \\right)}\\right)^{2} + \\left(0.5 r \\frac{\\partial^{2}}{\\partial r^{2}} f{\\left(r,t \\right)} + \\frac{\\partial}{\\partial r} f{\\left(r,t \\right)}\\right) f^{3}{\\left(r,t \\right)}\\right)}{f^{3}{\\left(r,t \\right)}}\\end{matrix}\\right]$"
      ],
      "text/plain": [
       "Matrix([\n",
       "[(-0.5*r*f(r, t)**2*Derivative(f(r, t), r) + 0.5*r*Derivative(f(r, t), r) - 1.0*(0.25*r**2*f(r, t)**4*Derivative(f(r, t), r)**2 + 0.5*r**2*f(r, t)**2*Derivative(f(r, t), r)**2 + 0.25*r**2*Derivative(f(r, t), r)**2 + r**2*Derivative(f(r, t), t)**2 + 0.5*r*f(r, t)**5*Derivative(f(r, t), r) - 0.5*r*f(r, t)**4*Derivative(f(r, t), r) + r*f(r, t)**3*Derivative(f(r, t), r) - r*f(r, t)**2*Derivative(f(r, t), r) + 0.5*r*f(r, t)*Derivative(f(r, t), r) - 0.5*r*Derivative(f(r, t), r) + 0.25*f(r, t)**6 - 0.5*f(r, t)**5 + 0.75*f(r, t)**4 - f(r, t)**3 + 0.75*f(r, t)**2 - 0.5*f(r, t) + 0.25)**0.5 - 0.5*f(r, t)**3 + 0.5*f(r, t)**2 + 0.5*f(r, t) - 0.5)/(r**2*f(r, t)),                                                                                                                                                                                                                                                                                                                                                                                                                                                                                                                                                                                                                                                                              0.0,                                                                                                                                                                                          0.0,                                                                                                                                                              0.0],\n",
       "[                                                                                                                                                                                                                                                                                                                                                                                                                                                                                                                                                                                                                                                                             0.0, (-0.5*r*f(r, t)**2*Derivative(f(r, t), r) + 0.5*r*Derivative(f(r, t), r) + 1.0*(0.25*r**2*f(r, t)**4*Derivative(f(r, t), r)**2 + 0.5*r**2*f(r, t)**2*Derivative(f(r, t), r)**2 + 0.25*r**2*Derivative(f(r, t), r)**2 + r**2*Derivative(f(r, t), t)**2 + 0.5*r*f(r, t)**5*Derivative(f(r, t), r) - 0.5*r*f(r, t)**4*Derivative(f(r, t), r) + r*f(r, t)**3*Derivative(f(r, t), r) - r*f(r, t)**2*Derivative(f(r, t), r) + 0.5*r*f(r, t)*Derivative(f(r, t), r) - 0.5*r*Derivative(f(r, t), r) + 0.25*f(r, t)**6 - 0.5*f(r, t)**5 + 0.75*f(r, t)**4 - f(r, t)**3 + 0.75*f(r, t)**2 - 0.5*f(r, t) + 0.25)**0.5 - 0.5*f(r, t)**3 + 0.5*f(r, t)**2 + 0.5*f(r, t) - 0.5)/(r**2*f(r, t)),                                                                                                                                                                                          0.0,                                                                                                                                                              0.0],\n",
       "[                                                                                                                                                                                                                                                                                                                                                                                                                                                                                                                                                                                                                                                                             0.0,                                                                                                                                                                                                                                                                                                                                                                                                                                                                                                                                                                                                                                                                              0.0, 0.5*r*(r*f(r, t)**3*Derivative(f(r, t), (r, 2)) + r*f(r, t)*Derivative(f(r, t), (t, 2)) - 2.0*r*Derivative(f(r, t), t)**2 + 2.0*f(r, t)**3*Derivative(f(r, t), r))*sin(\\theta)**2/f(r, t)**3,                                                                                                                                                              0.0],\n",
       "[                                                                                                                                                                                                                                                                                                                                                                                                                                                                                                                                                                                                                                                                             0.0,                                                                                                                                                                                                                                                                                                                                                                                                                                                                                                                                                                                                                                                                              0.0,                                                                                                                                                                                          0.0, r*(0.5*r*f(r, t)*Derivative(f(r, t), (t, 2)) - r*Derivative(f(r, t), t)**2 + (0.5*r*Derivative(f(r, t), (r, 2)) + Derivative(f(r, t), r))*f(r, t)**3)/f(r, t)**3]])"
      ]
     },
     "execution_count": 59,
     "metadata": {},
     "output_type": "execute_result"
    }
   ],
   "source": [
    "#eigenvalues\n",
    "D=Matrix(MutableDenseNDimArray(np.zeros((4,)*2)))\n",
    "count=0\n",
    "for i in range(0,len(info)):\n",
    "    for j in range(0,info[i][1]):\n",
    "        D[count,count]=simplify(info[i][0])\n",
    "        count=count+1\n",
    "D\n",
    "\n",
    "##display array\n",
    "# eigenval=[]\n",
    "# for i in range(0,len(info)):\n",
    "#     eigenval.append(info[i][0])\n",
    "# eigenvalues=simplify(MutableDenseNDimArray(np.array(eigenval)))\n",
    "# eigenvalues"
   ]
  },
  {
   "cell_type": "markdown",
   "metadata": {},
   "source": [
    "### Diagonalization"
   ]
  },
  {
   "cell_type": "markdown",
   "metadata": {},
   "source": [
    "### $[G]=[P][D][P]^{-1} \\to [D]=[P]^{-1}[G][P]$"
   ]
  },
  {
   "cell_type": "code",
   "execution_count": 61,
   "metadata": {},
   "outputs": [
    {
     "ename": "KeyboardInterrupt",
     "evalue": "",
     "output_type": "error",
     "traceback": [
      "\u001b[1;31m---------------------------------------------------------------------------\u001b[0m",
      "\u001b[1;31mKeyError\u001b[0m                                  Traceback (most recent call last)",
      "\u001b[1;32m~\\anaconda3\\lib\\site-packages\\sympy\\core\\assumptions.py\u001b[0m in \u001b[0;36mgetit\u001b[1;34m(self)\u001b[0m\n\u001b[0;32m    453\u001b[0m         \u001b[1;32mtry\u001b[0m\u001b[1;33m:\u001b[0m\u001b[1;33m\u001b[0m\u001b[1;33m\u001b[0m\u001b[0m\n\u001b[1;32m--> 454\u001b[1;33m             \u001b[1;32mreturn\u001b[0m \u001b[0mself\u001b[0m\u001b[1;33m.\u001b[0m\u001b[0m_assumptions\u001b[0m\u001b[1;33m[\u001b[0m\u001b[0mfact\u001b[0m\u001b[1;33m]\u001b[0m\u001b[1;33m\u001b[0m\u001b[1;33m\u001b[0m\u001b[0m\n\u001b[0m\u001b[0;32m    455\u001b[0m         \u001b[1;32mexcept\u001b[0m \u001b[0mKeyError\u001b[0m\u001b[1;33m:\u001b[0m\u001b[1;33m\u001b[0m\u001b[1;33m\u001b[0m\u001b[0m\n",
      "\u001b[1;31mKeyError\u001b[0m: 'zero'",
      "\nDuring handling of the above exception, another exception occurred:\n",
      "\u001b[1;31mKeyboardInterrupt\u001b[0m                         Traceback (most recent call last)",
      "\u001b[1;32m<ipython-input-61-7e026f1eef39>\u001b[0m in \u001b[0;36m<module>\u001b[1;34m\u001b[0m\n\u001b[1;32m----> 1\u001b[1;33m \u001b[0mG_down_diag\u001b[0m\u001b[1;33m=\u001b[0m\u001b[0msimplify\u001b[0m\u001b[1;33m(\u001b[0m\u001b[1;33m(\u001b[0m\u001b[1;33m(\u001b[0m\u001b[0mP\u001b[0m\u001b[1;33m.\u001b[0m\u001b[0mT\u001b[0m\u001b[1;33m)\u001b[0m\u001b[1;33m.\u001b[0m\u001b[0minv\u001b[0m\u001b[1;33m(\u001b[0m\u001b[1;33m)\u001b[0m\u001b[1;33m)\u001b[0m\u001b[1;33m*\u001b[0m\u001b[0mG_down\u001b[0m\u001b[1;33m*\u001b[0m\u001b[0mP\u001b[0m\u001b[1;33m)\u001b[0m\u001b[1;33m\u001b[0m\u001b[1;33m\u001b[0m\u001b[0m\n\u001b[0m\u001b[0;32m      2\u001b[0m \u001b[0mG_down_diag\u001b[0m\u001b[1;33m\u001b[0m\u001b[1;33m\u001b[0m\u001b[0m\n",
      "\u001b[1;32m~\\anaconda3\\lib\\site-packages\\sympy\\simplify\\simplify.py\u001b[0m in \u001b[0;36msimplify\u001b[1;34m(expr, ratio, measure, rational, inverse, doit, **kwargs)\u001b[0m\n\u001b[0;32m    590\u001b[0m     \u001b[0m_eval_simplify\u001b[0m \u001b[1;33m=\u001b[0m \u001b[0mgetattr\u001b[0m\u001b[1;33m(\u001b[0m\u001b[0mexpr\u001b[0m\u001b[1;33m,\u001b[0m \u001b[1;34m'_eval_simplify'\u001b[0m\u001b[1;33m,\u001b[0m \u001b[1;32mNone\u001b[0m\u001b[1;33m)\u001b[0m\u001b[1;33m\u001b[0m\u001b[1;33m\u001b[0m\u001b[0m\n\u001b[0;32m    591\u001b[0m     \u001b[1;32mif\u001b[0m \u001b[0m_eval_simplify\u001b[0m \u001b[1;32mis\u001b[0m \u001b[1;32mnot\u001b[0m \u001b[1;32mNone\u001b[0m\u001b[1;33m:\u001b[0m\u001b[1;33m\u001b[0m\u001b[1;33m\u001b[0m\u001b[0m\n\u001b[1;32m--> 592\u001b[1;33m         \u001b[1;32mreturn\u001b[0m \u001b[0m_eval_simplify\u001b[0m\u001b[1;33m(\u001b[0m\u001b[1;33m**\u001b[0m\u001b[0mkwargs\u001b[0m\u001b[1;33m)\u001b[0m\u001b[1;33m\u001b[0m\u001b[1;33m\u001b[0m\u001b[0m\n\u001b[0m\u001b[0;32m    593\u001b[0m \u001b[1;33m\u001b[0m\u001b[0m\n\u001b[0;32m    594\u001b[0m     \u001b[0moriginal_expr\u001b[0m \u001b[1;33m=\u001b[0m \u001b[0mexpr\u001b[0m \u001b[1;33m=\u001b[0m \u001b[0mcollect_abs\u001b[0m\u001b[1;33m(\u001b[0m\u001b[0msignsimp\u001b[0m\u001b[1;33m(\u001b[0m\u001b[0mexpr\u001b[0m\u001b[1;33m)\u001b[0m\u001b[1;33m)\u001b[0m\u001b[1;33m\u001b[0m\u001b[1;33m\u001b[0m\u001b[0m\n",
      "\u001b[1;32m~\\anaconda3\\lib\\site-packages\\sympy\\matrices\\common.py\u001b[0m in \u001b[0;36m_eval_simplify\u001b[1;34m(self, **kwargs)\u001b[0m\n\u001b[0;32m   2483\u001b[0m         \u001b[1;31m# XXX: We can't use self.simplify here as mutable subclasses will\u001b[0m\u001b[1;33m\u001b[0m\u001b[1;33m\u001b[0m\u001b[1;33m\u001b[0m\u001b[0m\n\u001b[0;32m   2484\u001b[0m         \u001b[1;31m# override simplify and have it return None\u001b[0m\u001b[1;33m\u001b[0m\u001b[1;33m\u001b[0m\u001b[1;33m\u001b[0m\u001b[0m\n\u001b[1;32m-> 2485\u001b[1;33m         \u001b[1;32mreturn\u001b[0m \u001b[0mMatrixOperations\u001b[0m\u001b[1;33m.\u001b[0m\u001b[0msimplify\u001b[0m\u001b[1;33m(\u001b[0m\u001b[0mself\u001b[0m\u001b[1;33m,\u001b[0m \u001b[1;33m**\u001b[0m\u001b[0mkwargs\u001b[0m\u001b[1;33m)\u001b[0m\u001b[1;33m\u001b[0m\u001b[1;33m\u001b[0m\u001b[0m\n\u001b[0m\u001b[0;32m   2486\u001b[0m \u001b[1;33m\u001b[0m\u001b[0m\n\u001b[0;32m   2487\u001b[0m     \u001b[1;32mdef\u001b[0m \u001b[0m_eval_trigsimp\u001b[0m\u001b[1;33m(\u001b[0m\u001b[0mself\u001b[0m\u001b[1;33m,\u001b[0m \u001b[1;33m**\u001b[0m\u001b[0mopts\u001b[0m\u001b[1;33m)\u001b[0m\u001b[1;33m:\u001b[0m\u001b[1;33m\u001b[0m\u001b[1;33m\u001b[0m\u001b[0m\n",
      "\u001b[1;32m~\\anaconda3\\lib\\site-packages\\sympy\\matrices\\common.py\u001b[0m in \u001b[0;36msimplify\u001b[1;34m(self, **kwargs)\u001b[0m\n\u001b[0;32m   2373\u001b[0m         \u001b[0mMatrix\u001b[0m\u001b[1;33m(\u001b[0m\u001b[1;33m[\u001b[0m\u001b[1;33m[\u001b[0m\u001b[0mx\u001b[0m\u001b[1;33m]\u001b[0m\u001b[1;33m]\u001b[0m\u001b[1;33m)\u001b[0m\u001b[1;33m\u001b[0m\u001b[1;33m\u001b[0m\u001b[0m\n\u001b[0;32m   2374\u001b[0m         \"\"\"\n\u001b[1;32m-> 2375\u001b[1;33m         \u001b[1;32mreturn\u001b[0m \u001b[0mself\u001b[0m\u001b[1;33m.\u001b[0m\u001b[0mapplyfunc\u001b[0m\u001b[1;33m(\u001b[0m\u001b[1;32mlambda\u001b[0m \u001b[0mx\u001b[0m\u001b[1;33m:\u001b[0m \u001b[0mx\u001b[0m\u001b[1;33m.\u001b[0m\u001b[0msimplify\u001b[0m\u001b[1;33m(\u001b[0m\u001b[1;33m**\u001b[0m\u001b[0mkwargs\u001b[0m\u001b[1;33m)\u001b[0m\u001b[1;33m)\u001b[0m\u001b[1;33m\u001b[0m\u001b[1;33m\u001b[0m\u001b[0m\n\u001b[0m\u001b[0;32m   2376\u001b[0m \u001b[1;33m\u001b[0m\u001b[0m\n\u001b[0;32m   2377\u001b[0m     \u001b[1;32mdef\u001b[0m \u001b[0msubs\u001b[0m\u001b[1;33m(\u001b[0m\u001b[0mself\u001b[0m\u001b[1;33m,\u001b[0m \u001b[1;33m*\u001b[0m\u001b[0margs\u001b[0m\u001b[1;33m,\u001b[0m \u001b[1;33m**\u001b[0m\u001b[0mkwargs\u001b[0m\u001b[1;33m)\u001b[0m\u001b[1;33m:\u001b[0m  \u001b[1;31m# should mirror core.basic.subs\u001b[0m\u001b[1;33m\u001b[0m\u001b[1;33m\u001b[0m\u001b[0m\n",
      "\u001b[1;32m~\\anaconda3\\lib\\site-packages\\sympy\\matrices\\common.py\u001b[0m in \u001b[0;36mapplyfunc\u001b[1;34m(self, f)\u001b[0m\n\u001b[0;32m   2024\u001b[0m             \u001b[1;32mraise\u001b[0m \u001b[0mTypeError\u001b[0m\u001b[1;33m(\u001b[0m\u001b[1;34m\"`f` must be callable.\"\u001b[0m\u001b[1;33m)\u001b[0m\u001b[1;33m\u001b[0m\u001b[1;33m\u001b[0m\u001b[0m\n\u001b[0;32m   2025\u001b[0m \u001b[1;33m\u001b[0m\u001b[0m\n\u001b[1;32m-> 2026\u001b[1;33m         \u001b[1;32mreturn\u001b[0m \u001b[0mself\u001b[0m\u001b[1;33m.\u001b[0m\u001b[0m_eval_applyfunc\u001b[0m\u001b[1;33m(\u001b[0m\u001b[0mf\u001b[0m\u001b[1;33m)\u001b[0m\u001b[1;33m\u001b[0m\u001b[1;33m\u001b[0m\u001b[0m\n\u001b[0m\u001b[0;32m   2027\u001b[0m \u001b[1;33m\u001b[0m\u001b[0m\n\u001b[0;32m   2028\u001b[0m     \u001b[1;32mdef\u001b[0m \u001b[0mas_real_imag\u001b[0m\u001b[1;33m(\u001b[0m\u001b[0mself\u001b[0m\u001b[1;33m,\u001b[0m \u001b[0mdeep\u001b[0m\u001b[1;33m=\u001b[0m\u001b[1;32mTrue\u001b[0m\u001b[1;33m,\u001b[0m \u001b[1;33m**\u001b[0m\u001b[0mhints\u001b[0m\u001b[1;33m)\u001b[0m\u001b[1;33m:\u001b[0m\u001b[1;33m\u001b[0m\u001b[1;33m\u001b[0m\u001b[0m\n",
      "\u001b[1;32m~\\anaconda3\\lib\\site-packages\\sympy\\matrices\\common.py\u001b[0m in \u001b[0;36m_eval_applyfunc\u001b[1;34m(self, f)\u001b[0m\n\u001b[0;32m   1964\u001b[0m \u001b[1;33m\u001b[0m\u001b[0m\n\u001b[0;32m   1965\u001b[0m     \u001b[1;32mdef\u001b[0m \u001b[0m_eval_applyfunc\u001b[0m\u001b[1;33m(\u001b[0m\u001b[0mself\u001b[0m\u001b[1;33m,\u001b[0m \u001b[0mf\u001b[0m\u001b[1;33m)\u001b[0m\u001b[1;33m:\u001b[0m\u001b[1;33m\u001b[0m\u001b[1;33m\u001b[0m\u001b[0m\n\u001b[1;32m-> 1966\u001b[1;33m         \u001b[0mout\u001b[0m \u001b[1;33m=\u001b[0m \u001b[0mself\u001b[0m\u001b[1;33m.\u001b[0m\u001b[0m_new\u001b[0m\u001b[1;33m(\u001b[0m\u001b[0mself\u001b[0m\u001b[1;33m.\u001b[0m\u001b[0mrows\u001b[0m\u001b[1;33m,\u001b[0m \u001b[0mself\u001b[0m\u001b[1;33m.\u001b[0m\u001b[0mcols\u001b[0m\u001b[1;33m,\u001b[0m \u001b[1;33m[\u001b[0m\u001b[0mf\u001b[0m\u001b[1;33m(\u001b[0m\u001b[0mx\u001b[0m\u001b[1;33m)\u001b[0m \u001b[1;32mfor\u001b[0m \u001b[0mx\u001b[0m \u001b[1;32min\u001b[0m \u001b[0mself\u001b[0m\u001b[1;33m]\u001b[0m\u001b[1;33m)\u001b[0m\u001b[1;33m\u001b[0m\u001b[1;33m\u001b[0m\u001b[0m\n\u001b[0m\u001b[0;32m   1967\u001b[0m         \u001b[1;32mreturn\u001b[0m \u001b[0mout\u001b[0m\u001b[1;33m\u001b[0m\u001b[1;33m\u001b[0m\u001b[0m\n\u001b[0;32m   1968\u001b[0m \u001b[1;33m\u001b[0m\u001b[0m\n",
      "\u001b[1;32m~\\anaconda3\\lib\\site-packages\\sympy\\matrices\\common.py\u001b[0m in \u001b[0;36m<listcomp>\u001b[1;34m(.0)\u001b[0m\n\u001b[0;32m   1964\u001b[0m \u001b[1;33m\u001b[0m\u001b[0m\n\u001b[0;32m   1965\u001b[0m     \u001b[1;32mdef\u001b[0m \u001b[0m_eval_applyfunc\u001b[0m\u001b[1;33m(\u001b[0m\u001b[0mself\u001b[0m\u001b[1;33m,\u001b[0m \u001b[0mf\u001b[0m\u001b[1;33m)\u001b[0m\u001b[1;33m:\u001b[0m\u001b[1;33m\u001b[0m\u001b[1;33m\u001b[0m\u001b[0m\n\u001b[1;32m-> 1966\u001b[1;33m         \u001b[0mout\u001b[0m \u001b[1;33m=\u001b[0m \u001b[0mself\u001b[0m\u001b[1;33m.\u001b[0m\u001b[0m_new\u001b[0m\u001b[1;33m(\u001b[0m\u001b[0mself\u001b[0m\u001b[1;33m.\u001b[0m\u001b[0mrows\u001b[0m\u001b[1;33m,\u001b[0m \u001b[0mself\u001b[0m\u001b[1;33m.\u001b[0m\u001b[0mcols\u001b[0m\u001b[1;33m,\u001b[0m \u001b[1;33m[\u001b[0m\u001b[0mf\u001b[0m\u001b[1;33m(\u001b[0m\u001b[0mx\u001b[0m\u001b[1;33m)\u001b[0m \u001b[1;32mfor\u001b[0m \u001b[0mx\u001b[0m \u001b[1;32min\u001b[0m \u001b[0mself\u001b[0m\u001b[1;33m]\u001b[0m\u001b[1;33m)\u001b[0m\u001b[1;33m\u001b[0m\u001b[1;33m\u001b[0m\u001b[0m\n\u001b[0m\u001b[0;32m   1967\u001b[0m         \u001b[1;32mreturn\u001b[0m \u001b[0mout\u001b[0m\u001b[1;33m\u001b[0m\u001b[1;33m\u001b[0m\u001b[0m\n\u001b[0;32m   1968\u001b[0m \u001b[1;33m\u001b[0m\u001b[0m\n",
      "\u001b[1;32m~\\anaconda3\\lib\\site-packages\\sympy\\matrices\\common.py\u001b[0m in \u001b[0;36m<lambda>\u001b[1;34m(x)\u001b[0m\n\u001b[0;32m   2373\u001b[0m         \u001b[0mMatrix\u001b[0m\u001b[1;33m(\u001b[0m\u001b[1;33m[\u001b[0m\u001b[1;33m[\u001b[0m\u001b[0mx\u001b[0m\u001b[1;33m]\u001b[0m\u001b[1;33m]\u001b[0m\u001b[1;33m)\u001b[0m\u001b[1;33m\u001b[0m\u001b[1;33m\u001b[0m\u001b[0m\n\u001b[0;32m   2374\u001b[0m         \"\"\"\n\u001b[1;32m-> 2375\u001b[1;33m         \u001b[1;32mreturn\u001b[0m \u001b[0mself\u001b[0m\u001b[1;33m.\u001b[0m\u001b[0mapplyfunc\u001b[0m\u001b[1;33m(\u001b[0m\u001b[1;32mlambda\u001b[0m \u001b[0mx\u001b[0m\u001b[1;33m:\u001b[0m \u001b[0mx\u001b[0m\u001b[1;33m.\u001b[0m\u001b[0msimplify\u001b[0m\u001b[1;33m(\u001b[0m\u001b[1;33m**\u001b[0m\u001b[0mkwargs\u001b[0m\u001b[1;33m)\u001b[0m\u001b[1;33m)\u001b[0m\u001b[1;33m\u001b[0m\u001b[1;33m\u001b[0m\u001b[0m\n\u001b[0m\u001b[0;32m   2376\u001b[0m \u001b[1;33m\u001b[0m\u001b[0m\n\u001b[0;32m   2377\u001b[0m     \u001b[1;32mdef\u001b[0m \u001b[0msubs\u001b[0m\u001b[1;33m(\u001b[0m\u001b[0mself\u001b[0m\u001b[1;33m,\u001b[0m \u001b[1;33m*\u001b[0m\u001b[0margs\u001b[0m\u001b[1;33m,\u001b[0m \u001b[1;33m**\u001b[0m\u001b[0mkwargs\u001b[0m\u001b[1;33m)\u001b[0m\u001b[1;33m:\u001b[0m  \u001b[1;31m# should mirror core.basic.subs\u001b[0m\u001b[1;33m\u001b[0m\u001b[1;33m\u001b[0m\u001b[0m\n",
      "\u001b[1;32m~\\anaconda3\\lib\\site-packages\\sympy\\core\\basic.py\u001b[0m in \u001b[0;36msimplify\u001b[1;34m(self, **kwargs)\u001b[0m\n\u001b[0;32m   1673\u001b[0m         \u001b[1;34m\"\"\"See the simplify function in sympy.simplify\"\"\"\u001b[0m\u001b[1;33m\u001b[0m\u001b[1;33m\u001b[0m\u001b[0m\n\u001b[0;32m   1674\u001b[0m         \u001b[1;32mfrom\u001b[0m \u001b[0msympy\u001b[0m\u001b[1;33m.\u001b[0m\u001b[0msimplify\u001b[0m \u001b[1;32mimport\u001b[0m \u001b[0msimplify\u001b[0m\u001b[1;33m\u001b[0m\u001b[1;33m\u001b[0m\u001b[0m\n\u001b[1;32m-> 1675\u001b[1;33m         \u001b[1;32mreturn\u001b[0m \u001b[0msimplify\u001b[0m\u001b[1;33m(\u001b[0m\u001b[0mself\u001b[0m\u001b[1;33m,\u001b[0m \u001b[1;33m**\u001b[0m\u001b[0mkwargs\u001b[0m\u001b[1;33m)\u001b[0m\u001b[1;33m\u001b[0m\u001b[1;33m\u001b[0m\u001b[0m\n\u001b[0m\u001b[0;32m   1676\u001b[0m \u001b[1;33m\u001b[0m\u001b[0m\n\u001b[0;32m   1677\u001b[0m     \u001b[1;32mdef\u001b[0m \u001b[0mrefine\u001b[0m\u001b[1;33m(\u001b[0m\u001b[0mself\u001b[0m\u001b[1;33m,\u001b[0m \u001b[0massumption\u001b[0m\u001b[1;33m=\u001b[0m\u001b[1;32mTrue\u001b[0m\u001b[1;33m)\u001b[0m\u001b[1;33m:\u001b[0m\u001b[1;33m\u001b[0m\u001b[1;33m\u001b[0m\u001b[0m\n",
      "\u001b[1;32m~\\anaconda3\\lib\\site-packages\\sympy\\simplify\\simplify.py\u001b[0m in \u001b[0;36msimplify\u001b[1;34m(expr, ratio, measure, rational, inverse, doit, **kwargs)\u001b[0m\n\u001b[0;32m    634\u001b[0m     \u001b[0mexpr\u001b[0m \u001b[1;33m=\u001b[0m \u001b[0mMul\u001b[0m\u001b[1;33m(\u001b[0m\u001b[1;33m*\u001b[0m\u001b[0mpowsimp\u001b[0m\u001b[1;33m(\u001b[0m\u001b[0mexpr\u001b[0m\u001b[1;33m)\u001b[0m\u001b[1;33m.\u001b[0m\u001b[0mas_content_primitive\u001b[0m\u001b[1;33m(\u001b[0m\u001b[1;33m)\u001b[0m\u001b[1;33m)\u001b[0m\u001b[1;33m\u001b[0m\u001b[1;33m\u001b[0m\u001b[0m\n\u001b[0;32m    635\u001b[0m     \u001b[0m_e\u001b[0m \u001b[1;33m=\u001b[0m \u001b[0mcancel\u001b[0m\u001b[1;33m(\u001b[0m\u001b[0mexpr\u001b[0m\u001b[1;33m)\u001b[0m\u001b[1;33m\u001b[0m\u001b[1;33m\u001b[0m\u001b[0m\n\u001b[1;32m--> 636\u001b[1;33m     \u001b[0mexpr1\u001b[0m \u001b[1;33m=\u001b[0m \u001b[0mshorter\u001b[0m\u001b[1;33m(\u001b[0m\u001b[0m_e\u001b[0m\u001b[1;33m,\u001b[0m \u001b[0m_mexpand\u001b[0m\u001b[1;33m(\u001b[0m\u001b[0m_e\u001b[0m\u001b[1;33m)\u001b[0m\u001b[1;33m.\u001b[0m\u001b[0mcancel\u001b[0m\u001b[1;33m(\u001b[0m\u001b[1;33m)\u001b[0m\u001b[1;33m)\u001b[0m  \u001b[1;31m# issue 6829\u001b[0m\u001b[1;33m\u001b[0m\u001b[1;33m\u001b[0m\u001b[0m\n\u001b[0m\u001b[0;32m    637\u001b[0m     \u001b[0mexpr2\u001b[0m \u001b[1;33m=\u001b[0m \u001b[0mshorter\u001b[0m\u001b[1;33m(\u001b[0m\u001b[0mtogether\u001b[0m\u001b[1;33m(\u001b[0m\u001b[0mexpr\u001b[0m\u001b[1;33m,\u001b[0m \u001b[0mdeep\u001b[0m\u001b[1;33m=\u001b[0m\u001b[1;32mTrue\u001b[0m\u001b[1;33m)\u001b[0m\u001b[1;33m,\u001b[0m \u001b[0mtogether\u001b[0m\u001b[1;33m(\u001b[0m\u001b[0mexpr1\u001b[0m\u001b[1;33m,\u001b[0m \u001b[0mdeep\u001b[0m\u001b[1;33m=\u001b[0m\u001b[1;32mTrue\u001b[0m\u001b[1;33m)\u001b[0m\u001b[1;33m)\u001b[0m\u001b[1;33m\u001b[0m\u001b[1;33m\u001b[0m\u001b[0m\n\u001b[0;32m    638\u001b[0m \u001b[1;33m\u001b[0m\u001b[0m\n",
      "\u001b[1;32m~\\anaconda3\\lib\\site-packages\\sympy\\core\\function.py\u001b[0m in \u001b[0;36m_mexpand\u001b[1;34m(expr, recursive)\u001b[0m\n\u001b[0;32m   2847\u001b[0m     \u001b[0mwas\u001b[0m \u001b[1;33m=\u001b[0m \u001b[1;32mNone\u001b[0m\u001b[1;33m\u001b[0m\u001b[1;33m\u001b[0m\u001b[0m\n\u001b[0;32m   2848\u001b[0m     \u001b[1;32mwhile\u001b[0m \u001b[0mwas\u001b[0m \u001b[1;33m!=\u001b[0m \u001b[0mexpr\u001b[0m\u001b[1;33m:\u001b[0m\u001b[1;33m\u001b[0m\u001b[1;33m\u001b[0m\u001b[0m\n\u001b[1;32m-> 2849\u001b[1;33m         \u001b[0mwas\u001b[0m\u001b[1;33m,\u001b[0m \u001b[0mexpr\u001b[0m \u001b[1;33m=\u001b[0m \u001b[0mexpr\u001b[0m\u001b[1;33m,\u001b[0m \u001b[0mexpand_mul\u001b[0m\u001b[1;33m(\u001b[0m\u001b[0mexpand_multinomial\u001b[0m\u001b[1;33m(\u001b[0m\u001b[0mexpr\u001b[0m\u001b[1;33m)\u001b[0m\u001b[1;33m)\u001b[0m\u001b[1;33m\u001b[0m\u001b[1;33m\u001b[0m\u001b[0m\n\u001b[0m\u001b[0;32m   2850\u001b[0m         \u001b[1;32mif\u001b[0m \u001b[1;32mnot\u001b[0m \u001b[0mrecursive\u001b[0m\u001b[1;33m:\u001b[0m\u001b[1;33m\u001b[0m\u001b[1;33m\u001b[0m\u001b[0m\n\u001b[0;32m   2851\u001b[0m             \u001b[1;32mbreak\u001b[0m\u001b[1;33m\u001b[0m\u001b[1;33m\u001b[0m\u001b[0m\n",
      "\u001b[1;32m~\\anaconda3\\lib\\site-packages\\sympy\\core\\function.py\u001b[0m in \u001b[0;36mexpand_mul\u001b[1;34m(expr, deep)\u001b[0m\n\u001b[0;32m   2870\u001b[0m \u001b[1;33m\u001b[0m\u001b[0m\n\u001b[0;32m   2871\u001b[0m     \"\"\"\n\u001b[1;32m-> 2872\u001b[1;33m     return sympify(expr).expand(deep=deep, mul=True, power_exp=False,\n\u001b[0m\u001b[0;32m   2873\u001b[0m     power_base=False, basic=False, multinomial=False, log=False)\n\u001b[0;32m   2874\u001b[0m \u001b[1;33m\u001b[0m\u001b[0m\n",
      "\u001b[1;32m~\\anaconda3\\lib\\site-packages\\sympy\\core\\cache.py\u001b[0m in \u001b[0;36mwrapper\u001b[1;34m(*args, **kwargs)\u001b[0m\n\u001b[0;32m     70\u001b[0m         \u001b[1;32mdef\u001b[0m \u001b[0mwrapper\u001b[0m\u001b[1;33m(\u001b[0m\u001b[1;33m*\u001b[0m\u001b[0margs\u001b[0m\u001b[1;33m,\u001b[0m \u001b[1;33m**\u001b[0m\u001b[0mkwargs\u001b[0m\u001b[1;33m)\u001b[0m\u001b[1;33m:\u001b[0m\u001b[1;33m\u001b[0m\u001b[1;33m\u001b[0m\u001b[0m\n\u001b[0;32m     71\u001b[0m             \u001b[1;32mtry\u001b[0m\u001b[1;33m:\u001b[0m\u001b[1;33m\u001b[0m\u001b[1;33m\u001b[0m\u001b[0m\n\u001b[1;32m---> 72\u001b[1;33m                 \u001b[0mretval\u001b[0m \u001b[1;33m=\u001b[0m \u001b[0mcfunc\u001b[0m\u001b[1;33m(\u001b[0m\u001b[1;33m*\u001b[0m\u001b[0margs\u001b[0m\u001b[1;33m,\u001b[0m \u001b[1;33m**\u001b[0m\u001b[0mkwargs\u001b[0m\u001b[1;33m)\u001b[0m\u001b[1;33m\u001b[0m\u001b[1;33m\u001b[0m\u001b[0m\n\u001b[0m\u001b[0;32m     73\u001b[0m             \u001b[1;32mexcept\u001b[0m \u001b[0mTypeError\u001b[0m\u001b[1;33m:\u001b[0m\u001b[1;33m\u001b[0m\u001b[1;33m\u001b[0m\u001b[0m\n\u001b[0;32m     74\u001b[0m                 \u001b[0mretval\u001b[0m \u001b[1;33m=\u001b[0m \u001b[0mfunc\u001b[0m\u001b[1;33m(\u001b[0m\u001b[1;33m*\u001b[0m\u001b[0margs\u001b[0m\u001b[1;33m,\u001b[0m \u001b[1;33m**\u001b[0m\u001b[0mkwargs\u001b[0m\u001b[1;33m)\u001b[0m\u001b[1;33m\u001b[0m\u001b[1;33m\u001b[0m\u001b[0m\n",
      "\u001b[1;32m~\\anaconda3\\lib\\site-packages\\sympy\\core\\expr.py\u001b[0m in \u001b[0;36mexpand\u001b[1;34m(self, deep, modulus, power_base, power_exp, mul, log, multinomial, basic, **hints)\u001b[0m\n\u001b[0;32m   3604\u001b[0m                     expr, '_eval_expand_multinomial', deep=deep, **hints)\n\u001b[0;32m   3605\u001b[0m             \u001b[1;32mif\u001b[0m \u001b[0mhints\u001b[0m\u001b[1;33m.\u001b[0m\u001b[0mget\u001b[0m\u001b[1;33m(\u001b[0m\u001b[1;34m'mul'\u001b[0m\u001b[1;33m,\u001b[0m \u001b[1;32mFalse\u001b[0m\u001b[1;33m)\u001b[0m\u001b[1;33m:\u001b[0m\u001b[1;33m\u001b[0m\u001b[1;33m\u001b[0m\u001b[0m\n\u001b[1;32m-> 3606\u001b[1;33m                 expr, _ = Expr._expand_hint(\n\u001b[0m\u001b[0;32m   3607\u001b[0m                     expr, '_eval_expand_mul', deep=deep, **hints)\n\u001b[0;32m   3608\u001b[0m             \u001b[1;32mif\u001b[0m \u001b[0mhints\u001b[0m\u001b[1;33m.\u001b[0m\u001b[0mget\u001b[0m\u001b[1;33m(\u001b[0m\u001b[1;34m'log'\u001b[0m\u001b[1;33m,\u001b[0m \u001b[1;32mFalse\u001b[0m\u001b[1;33m)\u001b[0m\u001b[1;33m:\u001b[0m\u001b[1;33m\u001b[0m\u001b[1;33m\u001b[0m\u001b[0m\n",
      "\u001b[1;32m~\\anaconda3\\lib\\site-packages\\sympy\\core\\expr.py\u001b[0m in \u001b[0;36m_expand_hint\u001b[1;34m(expr, hint, deep, **hints)\u001b[0m\n\u001b[0;32m   3529\u001b[0m             \u001b[0msargs\u001b[0m \u001b[1;33m=\u001b[0m \u001b[1;33m[\u001b[0m\u001b[1;33m]\u001b[0m\u001b[1;33m\u001b[0m\u001b[1;33m\u001b[0m\u001b[0m\n\u001b[0;32m   3530\u001b[0m             \u001b[1;32mfor\u001b[0m \u001b[0marg\u001b[0m \u001b[1;32min\u001b[0m \u001b[0mexpr\u001b[0m\u001b[1;33m.\u001b[0m\u001b[0margs\u001b[0m\u001b[1;33m:\u001b[0m\u001b[1;33m\u001b[0m\u001b[1;33m\u001b[0m\u001b[0m\n\u001b[1;32m-> 3531\u001b[1;33m                 \u001b[0marg\u001b[0m\u001b[1;33m,\u001b[0m \u001b[0marghit\u001b[0m \u001b[1;33m=\u001b[0m \u001b[0mExpr\u001b[0m\u001b[1;33m.\u001b[0m\u001b[0m_expand_hint\u001b[0m\u001b[1;33m(\u001b[0m\u001b[0marg\u001b[0m\u001b[1;33m,\u001b[0m \u001b[0mhint\u001b[0m\u001b[1;33m,\u001b[0m \u001b[1;33m**\u001b[0m\u001b[0mhints\u001b[0m\u001b[1;33m)\u001b[0m\u001b[1;33m\u001b[0m\u001b[1;33m\u001b[0m\u001b[0m\n\u001b[0m\u001b[0;32m   3532\u001b[0m                 \u001b[0mhit\u001b[0m \u001b[1;33m|=\u001b[0m \u001b[0marghit\u001b[0m\u001b[1;33m\u001b[0m\u001b[1;33m\u001b[0m\u001b[0m\n\u001b[0;32m   3533\u001b[0m                 \u001b[0msargs\u001b[0m\u001b[1;33m.\u001b[0m\u001b[0mappend\u001b[0m\u001b[1;33m(\u001b[0m\u001b[0marg\u001b[0m\u001b[1;33m)\u001b[0m\u001b[1;33m\u001b[0m\u001b[1;33m\u001b[0m\u001b[0m\n",
      "\u001b[1;32m~\\anaconda3\\lib\\site-packages\\sympy\\core\\expr.py\u001b[0m in \u001b[0;36m_expand_hint\u001b[1;34m(expr, hint, deep, **hints)\u001b[0m\n\u001b[0;32m   3529\u001b[0m             \u001b[0msargs\u001b[0m \u001b[1;33m=\u001b[0m \u001b[1;33m[\u001b[0m\u001b[1;33m]\u001b[0m\u001b[1;33m\u001b[0m\u001b[1;33m\u001b[0m\u001b[0m\n\u001b[0;32m   3530\u001b[0m             \u001b[1;32mfor\u001b[0m \u001b[0marg\u001b[0m \u001b[1;32min\u001b[0m \u001b[0mexpr\u001b[0m\u001b[1;33m.\u001b[0m\u001b[0margs\u001b[0m\u001b[1;33m:\u001b[0m\u001b[1;33m\u001b[0m\u001b[1;33m\u001b[0m\u001b[0m\n\u001b[1;32m-> 3531\u001b[1;33m                 \u001b[0marg\u001b[0m\u001b[1;33m,\u001b[0m \u001b[0marghit\u001b[0m \u001b[1;33m=\u001b[0m \u001b[0mExpr\u001b[0m\u001b[1;33m.\u001b[0m\u001b[0m_expand_hint\u001b[0m\u001b[1;33m(\u001b[0m\u001b[0marg\u001b[0m\u001b[1;33m,\u001b[0m \u001b[0mhint\u001b[0m\u001b[1;33m,\u001b[0m \u001b[1;33m**\u001b[0m\u001b[0mhints\u001b[0m\u001b[1;33m)\u001b[0m\u001b[1;33m\u001b[0m\u001b[1;33m\u001b[0m\u001b[0m\n\u001b[0m\u001b[0;32m   3532\u001b[0m                 \u001b[0mhit\u001b[0m \u001b[1;33m|=\u001b[0m \u001b[0marghit\u001b[0m\u001b[1;33m\u001b[0m\u001b[1;33m\u001b[0m\u001b[0m\n\u001b[0;32m   3533\u001b[0m                 \u001b[0msargs\u001b[0m\u001b[1;33m.\u001b[0m\u001b[0mappend\u001b[0m\u001b[1;33m(\u001b[0m\u001b[0marg\u001b[0m\u001b[1;33m)\u001b[0m\u001b[1;33m\u001b[0m\u001b[1;33m\u001b[0m\u001b[0m\n",
      "\u001b[1;32m~\\anaconda3\\lib\\site-packages\\sympy\\core\\expr.py\u001b[0m in \u001b[0;36m_expand_hint\u001b[1;34m(expr, hint, deep, **hints)\u001b[0m\n\u001b[0;32m   3529\u001b[0m             \u001b[0msargs\u001b[0m \u001b[1;33m=\u001b[0m \u001b[1;33m[\u001b[0m\u001b[1;33m]\u001b[0m\u001b[1;33m\u001b[0m\u001b[1;33m\u001b[0m\u001b[0m\n\u001b[0;32m   3530\u001b[0m             \u001b[1;32mfor\u001b[0m \u001b[0marg\u001b[0m \u001b[1;32min\u001b[0m \u001b[0mexpr\u001b[0m\u001b[1;33m.\u001b[0m\u001b[0margs\u001b[0m\u001b[1;33m:\u001b[0m\u001b[1;33m\u001b[0m\u001b[1;33m\u001b[0m\u001b[0m\n\u001b[1;32m-> 3531\u001b[1;33m                 \u001b[0marg\u001b[0m\u001b[1;33m,\u001b[0m \u001b[0marghit\u001b[0m \u001b[1;33m=\u001b[0m \u001b[0mExpr\u001b[0m\u001b[1;33m.\u001b[0m\u001b[0m_expand_hint\u001b[0m\u001b[1;33m(\u001b[0m\u001b[0marg\u001b[0m\u001b[1;33m,\u001b[0m \u001b[0mhint\u001b[0m\u001b[1;33m,\u001b[0m \u001b[1;33m**\u001b[0m\u001b[0mhints\u001b[0m\u001b[1;33m)\u001b[0m\u001b[1;33m\u001b[0m\u001b[1;33m\u001b[0m\u001b[0m\n\u001b[0m\u001b[0;32m   3532\u001b[0m                 \u001b[0mhit\u001b[0m \u001b[1;33m|=\u001b[0m \u001b[0marghit\u001b[0m\u001b[1;33m\u001b[0m\u001b[1;33m\u001b[0m\u001b[0m\n\u001b[0;32m   3533\u001b[0m                 \u001b[0msargs\u001b[0m\u001b[1;33m.\u001b[0m\u001b[0mappend\u001b[0m\u001b[1;33m(\u001b[0m\u001b[0marg\u001b[0m\u001b[1;33m)\u001b[0m\u001b[1;33m\u001b[0m\u001b[1;33m\u001b[0m\u001b[0m\n",
      "\u001b[1;32m~\\anaconda3\\lib\\site-packages\\sympy\\core\\expr.py\u001b[0m in \u001b[0;36m_expand_hint\u001b[1;34m(expr, hint, deep, **hints)\u001b[0m\n\u001b[0;32m   3529\u001b[0m             \u001b[0msargs\u001b[0m \u001b[1;33m=\u001b[0m \u001b[1;33m[\u001b[0m\u001b[1;33m]\u001b[0m\u001b[1;33m\u001b[0m\u001b[1;33m\u001b[0m\u001b[0m\n\u001b[0;32m   3530\u001b[0m             \u001b[1;32mfor\u001b[0m \u001b[0marg\u001b[0m \u001b[1;32min\u001b[0m \u001b[0mexpr\u001b[0m\u001b[1;33m.\u001b[0m\u001b[0margs\u001b[0m\u001b[1;33m:\u001b[0m\u001b[1;33m\u001b[0m\u001b[1;33m\u001b[0m\u001b[0m\n\u001b[1;32m-> 3531\u001b[1;33m                 \u001b[0marg\u001b[0m\u001b[1;33m,\u001b[0m \u001b[0marghit\u001b[0m \u001b[1;33m=\u001b[0m \u001b[0mExpr\u001b[0m\u001b[1;33m.\u001b[0m\u001b[0m_expand_hint\u001b[0m\u001b[1;33m(\u001b[0m\u001b[0marg\u001b[0m\u001b[1;33m,\u001b[0m \u001b[0mhint\u001b[0m\u001b[1;33m,\u001b[0m \u001b[1;33m**\u001b[0m\u001b[0mhints\u001b[0m\u001b[1;33m)\u001b[0m\u001b[1;33m\u001b[0m\u001b[1;33m\u001b[0m\u001b[0m\n\u001b[0m\u001b[0;32m   3532\u001b[0m                 \u001b[0mhit\u001b[0m \u001b[1;33m|=\u001b[0m \u001b[0marghit\u001b[0m\u001b[1;33m\u001b[0m\u001b[1;33m\u001b[0m\u001b[0m\n\u001b[0;32m   3533\u001b[0m                 \u001b[0msargs\u001b[0m\u001b[1;33m.\u001b[0m\u001b[0mappend\u001b[0m\u001b[1;33m(\u001b[0m\u001b[0marg\u001b[0m\u001b[1;33m)\u001b[0m\u001b[1;33m\u001b[0m\u001b[1;33m\u001b[0m\u001b[0m\n",
      "\u001b[1;32m~\\anaconda3\\lib\\site-packages\\sympy\\core\\expr.py\u001b[0m in \u001b[0;36m_expand_hint\u001b[1;34m(expr, hint, deep, **hints)\u001b[0m\n\u001b[0;32m   3537\u001b[0m \u001b[1;33m\u001b[0m\u001b[0m\n\u001b[0;32m   3538\u001b[0m         \u001b[1;32mif\u001b[0m \u001b[0mhasattr\u001b[0m\u001b[1;33m(\u001b[0m\u001b[0mexpr\u001b[0m\u001b[1;33m,\u001b[0m \u001b[0mhint\u001b[0m\u001b[1;33m)\u001b[0m\u001b[1;33m:\u001b[0m\u001b[1;33m\u001b[0m\u001b[1;33m\u001b[0m\u001b[0m\n\u001b[1;32m-> 3539\u001b[1;33m             \u001b[0mnewexpr\u001b[0m \u001b[1;33m=\u001b[0m \u001b[0mgetattr\u001b[0m\u001b[1;33m(\u001b[0m\u001b[0mexpr\u001b[0m\u001b[1;33m,\u001b[0m \u001b[0mhint\u001b[0m\u001b[1;33m)\u001b[0m\u001b[1;33m(\u001b[0m\u001b[1;33m**\u001b[0m\u001b[0mhints\u001b[0m\u001b[1;33m)\u001b[0m\u001b[1;33m\u001b[0m\u001b[1;33m\u001b[0m\u001b[0m\n\u001b[0m\u001b[0;32m   3540\u001b[0m             \u001b[1;32mif\u001b[0m \u001b[0mnewexpr\u001b[0m \u001b[1;33m!=\u001b[0m \u001b[0mexpr\u001b[0m\u001b[1;33m:\u001b[0m\u001b[1;33m\u001b[0m\u001b[1;33m\u001b[0m\u001b[0m\n\u001b[0;32m   3541\u001b[0m                 \u001b[1;32mreturn\u001b[0m \u001b[1;33m(\u001b[0m\u001b[0mnewexpr\u001b[0m\u001b[1;33m,\u001b[0m \u001b[1;32mTrue\u001b[0m\u001b[1;33m)\u001b[0m\u001b[1;33m\u001b[0m\u001b[1;33m\u001b[0m\u001b[0m\n",
      "\u001b[1;32m~\\anaconda3\\lib\\site-packages\\sympy\\core\\mul.py\u001b[0m in \u001b[0;36m_eval_expand_mul\u001b[1;34m(self, **hints)\u001b[0m\n\u001b[0;32m    934\u001b[0m         \u001b[1;31m# to 1/x*1/(x + 1)\u001b[0m\u001b[1;33m\u001b[0m\u001b[1;33m\u001b[0m\u001b[1;33m\u001b[0m\u001b[0m\n\u001b[0;32m    935\u001b[0m         \u001b[0mexpr\u001b[0m \u001b[1;33m=\u001b[0m \u001b[0mself\u001b[0m\u001b[1;33m\u001b[0m\u001b[1;33m\u001b[0m\u001b[0m\n\u001b[1;32m--> 936\u001b[1;33m         \u001b[0mn\u001b[0m\u001b[1;33m,\u001b[0m \u001b[0md\u001b[0m \u001b[1;33m=\u001b[0m \u001b[0mfraction\u001b[0m\u001b[1;33m(\u001b[0m\u001b[0mexpr\u001b[0m\u001b[1;33m)\u001b[0m\u001b[1;33m\u001b[0m\u001b[1;33m\u001b[0m\u001b[0m\n\u001b[0m\u001b[0;32m    937\u001b[0m         \u001b[1;32mif\u001b[0m \u001b[0md\u001b[0m\u001b[1;33m.\u001b[0m\u001b[0mis_Mul\u001b[0m\u001b[1;33m:\u001b[0m\u001b[1;33m\u001b[0m\u001b[1;33m\u001b[0m\u001b[0m\n\u001b[0;32m    938\u001b[0m             n, d = [i._eval_expand_mul(**hints) if i.is_Mul else i\n",
      "\u001b[1;32m~\\anaconda3\\lib\\site-packages\\sympy\\simplify\\radsimp.py\u001b[0m in \u001b[0;36mfraction\u001b[1;34m(expr, exact)\u001b[0m\n\u001b[0;32m   1109\u001b[0m         \u001b[1;32melse\u001b[0m\u001b[1;33m:\u001b[0m\u001b[1;33m\u001b[0m\u001b[1;33m\u001b[0m\u001b[0m\n\u001b[0;32m   1110\u001b[0m             \u001b[0mnumer\u001b[0m\u001b[1;33m.\u001b[0m\u001b[0mappend\u001b[0m\u001b[1;33m(\u001b[0m\u001b[0mterm\u001b[0m\u001b[1;33m)\u001b[0m\u001b[1;33m\u001b[0m\u001b[1;33m\u001b[0m\u001b[0m\n\u001b[1;32m-> 1111\u001b[1;33m     \u001b[1;32mreturn\u001b[0m \u001b[0mMul\u001b[0m\u001b[1;33m(\u001b[0m\u001b[1;33m*\u001b[0m\u001b[0mnumer\u001b[0m\u001b[1;33m,\u001b[0m \u001b[0mevaluate\u001b[0m\u001b[1;33m=\u001b[0m\u001b[1;32mnot\u001b[0m \u001b[0mexact\u001b[0m\u001b[1;33m)\u001b[0m\u001b[1;33m,\u001b[0m \u001b[0mMul\u001b[0m\u001b[1;33m(\u001b[0m\u001b[1;33m*\u001b[0m\u001b[0mdenom\u001b[0m\u001b[1;33m,\u001b[0m \u001b[0mevaluate\u001b[0m\u001b[1;33m=\u001b[0m\u001b[1;32mnot\u001b[0m \u001b[0mexact\u001b[0m\u001b[1;33m)\u001b[0m\u001b[1;33m\u001b[0m\u001b[1;33m\u001b[0m\u001b[0m\n\u001b[0m\u001b[0;32m   1112\u001b[0m \u001b[1;33m\u001b[0m\u001b[0m\n\u001b[0;32m   1113\u001b[0m \u001b[1;33m\u001b[0m\u001b[0m\n",
      "\u001b[1;32m~\\anaconda3\\lib\\site-packages\\sympy\\core\\cache.py\u001b[0m in \u001b[0;36mwrapper\u001b[1;34m(*args, **kwargs)\u001b[0m\n\u001b[0;32m     70\u001b[0m         \u001b[1;32mdef\u001b[0m \u001b[0mwrapper\u001b[0m\u001b[1;33m(\u001b[0m\u001b[1;33m*\u001b[0m\u001b[0margs\u001b[0m\u001b[1;33m,\u001b[0m \u001b[1;33m**\u001b[0m\u001b[0mkwargs\u001b[0m\u001b[1;33m)\u001b[0m\u001b[1;33m:\u001b[0m\u001b[1;33m\u001b[0m\u001b[1;33m\u001b[0m\u001b[0m\n\u001b[0;32m     71\u001b[0m             \u001b[1;32mtry\u001b[0m\u001b[1;33m:\u001b[0m\u001b[1;33m\u001b[0m\u001b[1;33m\u001b[0m\u001b[0m\n\u001b[1;32m---> 72\u001b[1;33m                 \u001b[0mretval\u001b[0m \u001b[1;33m=\u001b[0m \u001b[0mcfunc\u001b[0m\u001b[1;33m(\u001b[0m\u001b[1;33m*\u001b[0m\u001b[0margs\u001b[0m\u001b[1;33m,\u001b[0m \u001b[1;33m**\u001b[0m\u001b[0mkwargs\u001b[0m\u001b[1;33m)\u001b[0m\u001b[1;33m\u001b[0m\u001b[1;33m\u001b[0m\u001b[0m\n\u001b[0m\u001b[0;32m     73\u001b[0m             \u001b[1;32mexcept\u001b[0m \u001b[0mTypeError\u001b[0m\u001b[1;33m:\u001b[0m\u001b[1;33m\u001b[0m\u001b[1;33m\u001b[0m\u001b[0m\n\u001b[0;32m     74\u001b[0m                 \u001b[0mretval\u001b[0m \u001b[1;33m=\u001b[0m \u001b[0mfunc\u001b[0m\u001b[1;33m(\u001b[0m\u001b[1;33m*\u001b[0m\u001b[0margs\u001b[0m\u001b[1;33m,\u001b[0m \u001b[1;33m**\u001b[0m\u001b[0mkwargs\u001b[0m\u001b[1;33m)\u001b[0m\u001b[1;33m\u001b[0m\u001b[1;33m\u001b[0m\u001b[0m\n",
      "\u001b[1;32m~\\anaconda3\\lib\\site-packages\\sympy\\core\\operations.py\u001b[0m in \u001b[0;36m__new__\u001b[1;34m(cls, evaluate, _sympify, *args)\u001b[0m\n\u001b[0;32m     83\u001b[0m             \u001b[1;32mreturn\u001b[0m \u001b[0margs\u001b[0m\u001b[1;33m[\u001b[0m\u001b[1;36m0\u001b[0m\u001b[1;33m]\u001b[0m\u001b[1;33m\u001b[0m\u001b[1;33m\u001b[0m\u001b[0m\n\u001b[0;32m     84\u001b[0m \u001b[1;33m\u001b[0m\u001b[0m\n\u001b[1;32m---> 85\u001b[1;33m         \u001b[0mc_part\u001b[0m\u001b[1;33m,\u001b[0m \u001b[0mnc_part\u001b[0m\u001b[1;33m,\u001b[0m \u001b[0morder_symbols\u001b[0m \u001b[1;33m=\u001b[0m \u001b[0mcls\u001b[0m\u001b[1;33m.\u001b[0m\u001b[0mflatten\u001b[0m\u001b[1;33m(\u001b[0m\u001b[0margs\u001b[0m\u001b[1;33m)\u001b[0m\u001b[1;33m\u001b[0m\u001b[1;33m\u001b[0m\u001b[0m\n\u001b[0m\u001b[0;32m     86\u001b[0m         \u001b[0mis_commutative\u001b[0m \u001b[1;33m=\u001b[0m \u001b[1;32mnot\u001b[0m \u001b[0mnc_part\u001b[0m\u001b[1;33m\u001b[0m\u001b[1;33m\u001b[0m\u001b[0m\n\u001b[0;32m     87\u001b[0m         \u001b[0mobj\u001b[0m \u001b[1;33m=\u001b[0m \u001b[0mcls\u001b[0m\u001b[1;33m.\u001b[0m\u001b[0m_from_args\u001b[0m\u001b[1;33m(\u001b[0m\u001b[0mc_part\u001b[0m \u001b[1;33m+\u001b[0m \u001b[0mnc_part\u001b[0m\u001b[1;33m,\u001b[0m \u001b[0mis_commutative\u001b[0m\u001b[1;33m)\u001b[0m\u001b[1;33m\u001b[0m\u001b[1;33m\u001b[0m\u001b[0m\n",
      "\u001b[1;32m~\\anaconda3\\lib\\site-packages\\sympy\\core\\mul.py\u001b[0m in \u001b[0;36mflatten\u001b[1;34m(cls, seq)\u001b[0m\n\u001b[0;32m    670\u001b[0m \u001b[1;33m\u001b[0m\u001b[0m\n\u001b[0;32m    671\u001b[0m         \u001b[1;31m# 0\u001b[0m\u001b[1;33m\u001b[0m\u001b[1;33m\u001b[0m\u001b[1;33m\u001b[0m\u001b[0m\n\u001b[1;32m--> 672\u001b[1;33m         \u001b[1;32melif\u001b[0m \u001b[0mcoeff\u001b[0m\u001b[1;33m.\u001b[0m\u001b[0mis_zero\u001b[0m\u001b[1;33m:\u001b[0m\u001b[1;33m\u001b[0m\u001b[1;33m\u001b[0m\u001b[0m\n\u001b[0m\u001b[0;32m    673\u001b[0m             \u001b[1;31m# we know for sure the result will be 0 except the multiplicand\u001b[0m\u001b[1;33m\u001b[0m\u001b[1;33m\u001b[0m\u001b[1;33m\u001b[0m\u001b[0m\n\u001b[0;32m    674\u001b[0m             \u001b[1;31m# is infinity or a matrix\u001b[0m\u001b[1;33m\u001b[0m\u001b[1;33m\u001b[0m\u001b[1;33m\u001b[0m\u001b[0m\n",
      "\u001b[1;32m~\\anaconda3\\lib\\site-packages\\sympy\\core\\assumptions.py\u001b[0m in \u001b[0;36mgetit\u001b[1;34m(self)\u001b[0m\n\u001b[0;32m    455\u001b[0m         \u001b[1;32mexcept\u001b[0m \u001b[0mKeyError\u001b[0m\u001b[1;33m:\u001b[0m\u001b[1;33m\u001b[0m\u001b[1;33m\u001b[0m\u001b[0m\n\u001b[0;32m    456\u001b[0m             \u001b[1;32mif\u001b[0m \u001b[0mself\u001b[0m\u001b[1;33m.\u001b[0m\u001b[0m_assumptions\u001b[0m \u001b[1;32mis\u001b[0m \u001b[0mself\u001b[0m\u001b[1;33m.\u001b[0m\u001b[0mdefault_assumptions\u001b[0m\u001b[1;33m:\u001b[0m\u001b[1;33m\u001b[0m\u001b[1;33m\u001b[0m\u001b[0m\n\u001b[1;32m--> 457\u001b[1;33m                 \u001b[0mself\u001b[0m\u001b[1;33m.\u001b[0m\u001b[0m_assumptions\u001b[0m \u001b[1;33m=\u001b[0m \u001b[0mself\u001b[0m\u001b[1;33m.\u001b[0m\u001b[0mdefault_assumptions\u001b[0m\u001b[1;33m.\u001b[0m\u001b[0mcopy\u001b[0m\u001b[1;33m(\u001b[0m\u001b[1;33m)\u001b[0m\u001b[1;33m\u001b[0m\u001b[1;33m\u001b[0m\u001b[0m\n\u001b[0m\u001b[0;32m    458\u001b[0m             \u001b[1;32mreturn\u001b[0m \u001b[0m_ask\u001b[0m\u001b[1;33m(\u001b[0m\u001b[0mfact\u001b[0m\u001b[1;33m,\u001b[0m \u001b[0mself\u001b[0m\u001b[1;33m)\u001b[0m\u001b[1;33m\u001b[0m\u001b[1;33m\u001b[0m\u001b[0m\n\u001b[0;32m    459\u001b[0m \u001b[1;33m\u001b[0m\u001b[0m\n",
      "\u001b[1;32m~\\anaconda3\\lib\\site-packages\\sympy\\core\\assumptions.py\u001b[0m in \u001b[0;36mcopy\u001b[1;34m(self)\u001b[0m\n\u001b[0;32m    435\u001b[0m \u001b[1;33m\u001b[0m\u001b[0m\n\u001b[0;32m    436\u001b[0m     \u001b[1;32mdef\u001b[0m \u001b[0mcopy\u001b[0m\u001b[1;33m(\u001b[0m\u001b[0mself\u001b[0m\u001b[1;33m)\u001b[0m\u001b[1;33m:\u001b[0m\u001b[1;33m\u001b[0m\u001b[1;33m\u001b[0m\u001b[0m\n\u001b[1;32m--> 437\u001b[1;33m         \u001b[1;32mreturn\u001b[0m \u001b[0mself\u001b[0m\u001b[1;33m.\u001b[0m\u001b[0m__class__\u001b[0m\u001b[1;33m(\u001b[0m\u001b[0mself\u001b[0m\u001b[1;33m)\u001b[0m\u001b[1;33m\u001b[0m\u001b[1;33m\u001b[0m\u001b[0m\n\u001b[0m\u001b[0;32m    438\u001b[0m \u001b[1;33m\u001b[0m\u001b[0m\n\u001b[0;32m    439\u001b[0m     \u001b[1;33m@\u001b[0m\u001b[0mproperty\u001b[0m\u001b[1;33m\u001b[0m\u001b[1;33m\u001b[0m\u001b[0m\n",
      "\u001b[1;32m~\\anaconda3\\lib\\site-packages\\sympy\\core\\assumptions.py\u001b[0m in \u001b[0;36m__init__\u001b[1;34m(self, facts)\u001b[0m\n\u001b[0;32m    432\u001b[0m             \u001b[0mself\u001b[0m\u001b[1;33m.\u001b[0m\u001b[0m_generator\u001b[0m \u001b[1;33m=\u001b[0m \u001b[0mfacts\u001b[0m\u001b[1;33m.\u001b[0m\u001b[0mgenerator\u001b[0m\u001b[1;33m\u001b[0m\u001b[1;33m\u001b[0m\u001b[0m\n\u001b[0;32m    433\u001b[0m         \u001b[1;32mif\u001b[0m \u001b[0mfacts\u001b[0m\u001b[1;33m:\u001b[0m\u001b[1;33m\u001b[0m\u001b[1;33m\u001b[0m\u001b[0m\n\u001b[1;32m--> 434\u001b[1;33m             \u001b[0mself\u001b[0m\u001b[1;33m.\u001b[0m\u001b[0mdeduce_all_facts\u001b[0m\u001b[1;33m(\u001b[0m\u001b[0mfacts\u001b[0m\u001b[1;33m)\u001b[0m\u001b[1;33m\u001b[0m\u001b[1;33m\u001b[0m\u001b[0m\n\u001b[0m\u001b[0;32m    435\u001b[0m \u001b[1;33m\u001b[0m\u001b[0m\n\u001b[0;32m    436\u001b[0m     \u001b[1;32mdef\u001b[0m \u001b[0mcopy\u001b[0m\u001b[1;33m(\u001b[0m\u001b[0mself\u001b[0m\u001b[1;33m)\u001b[0m\u001b[1;33m:\u001b[0m\u001b[1;33m\u001b[0m\u001b[1;33m\u001b[0m\u001b[0m\n",
      "\u001b[1;32m~\\anaconda3\\lib\\site-packages\\sympy\\core\\facts.py\u001b[0m in \u001b[0;36mdeduce_all_facts\u001b[1;34m(self, facts)\u001b[0m\n\u001b[0;32m    523\u001b[0m                 \u001b[1;31m# lookup routing tables\u001b[0m\u001b[1;33m\u001b[0m\u001b[1;33m\u001b[0m\u001b[1;33m\u001b[0m\u001b[0m\n\u001b[0;32m    524\u001b[0m                 \u001b[1;32mfor\u001b[0m \u001b[0mkey\u001b[0m\u001b[1;33m,\u001b[0m \u001b[0mvalue\u001b[0m \u001b[1;32min\u001b[0m \u001b[0mfull_implications\u001b[0m\u001b[1;33m[\u001b[0m\u001b[0mk\u001b[0m\u001b[1;33m,\u001b[0m \u001b[0mv\u001b[0m\u001b[1;33m]\u001b[0m\u001b[1;33m:\u001b[0m\u001b[1;33m\u001b[0m\u001b[1;33m\u001b[0m\u001b[0m\n\u001b[1;32m--> 525\u001b[1;33m                     \u001b[0mself\u001b[0m\u001b[1;33m.\u001b[0m\u001b[0m_tell\u001b[0m\u001b[1;33m(\u001b[0m\u001b[0mkey\u001b[0m\u001b[1;33m,\u001b[0m \u001b[0mvalue\u001b[0m\u001b[1;33m)\u001b[0m\u001b[1;33m\u001b[0m\u001b[1;33m\u001b[0m\u001b[0m\n\u001b[0m\u001b[0;32m    526\u001b[0m \u001b[1;33m\u001b[0m\u001b[0m\n\u001b[0;32m    527\u001b[0m                 \u001b[0mbeta_maytrigger\u001b[0m\u001b[1;33m.\u001b[0m\u001b[0mupdate\u001b[0m\u001b[1;33m(\u001b[0m\u001b[0mbeta_triggers\u001b[0m\u001b[1;33m[\u001b[0m\u001b[0mk\u001b[0m\u001b[1;33m,\u001b[0m \u001b[0mv\u001b[0m\u001b[1;33m]\u001b[0m\u001b[1;33m)\u001b[0m\u001b[1;33m\u001b[0m\u001b[1;33m\u001b[0m\u001b[0m\n",
      "\u001b[1;31mKeyboardInterrupt\u001b[0m: "
     ]
    }
   ],
   "source": [
    "G_down_diag=simplify(((P.T).inv())*G_down*P)\n",
    "G_down_diag"
   ]
  },
  {
   "cell_type": "markdown",
   "metadata": {},
   "source": [
    "### $G_{\\mu}^{\\nu}\\to $ G_mixed[$\\mu, \\nu$]"
   ]
  },
  {
   "cell_type": "code",
   "execution_count": 20,
   "metadata": {
    "scrolled": false
   },
   "outputs": [
    {
     "data": {
      "text/latex": [
       "$\\displaystyle \\left[\\begin{matrix}\\frac{1.0 \\left(r \\frac{d}{d r} f{\\left(r \\right)} + f{\\left(r \\right)} - 1\\right)}{r^{2}} & 0 & 0 & 0\\\\0 & \\frac{1.0 \\left(r \\frac{d}{d r} f{\\left(r \\right)} + f{\\left(r \\right)} - 1\\right)}{r^{2}} & 0 & 0\\\\0 & 0 & 0.5 \\frac{d^{2}}{d r^{2}} f{\\left(r \\right)} + \\frac{1.0 \\frac{d}{d r} f{\\left(r \\right)}}{r} & 0\\\\0 & 0 & 0 & 0.5 \\frac{d^{2}}{d r^{2}} f{\\left(r \\right)} + \\frac{1.0 \\frac{d}{d r} f{\\left(r \\right)}}{r}\\end{matrix}\\right]$"
      ],
      "text/plain": [
       "Matrix([\n",
       "[1.0*(r*Derivative(f(r), r) + f(r) - 1)/r**2,                                           0,                                                        0,                                                        0],\n",
       "[                                          0, 1.0*(r*Derivative(f(r), r) + f(r) - 1)/r**2,                                                        0,                                                        0],\n",
       "[                                          0,                                           0, 0.5*Derivative(f(r), (r, 2)) + 1.0*Derivative(f(r), r)/r,                                                        0],\n",
       "[                                          0,                                           0,                                                        0, 0.5*Derivative(f(r), (r, 2)) + 1.0*Derivative(f(r), r)/r]])"
      ]
     },
     "execution_count": 20,
     "metadata": {},
     "output_type": "execute_result"
    }
   ],
   "source": [
    "G_mixed=G_down*g_up_sch\n",
    "G_mixed=simplify(G_mixed)\n",
    "G_mixed"
   ]
  },
  {
   "cell_type": "code",
   "execution_count": 21,
   "metadata": {},
   "outputs": [
    {
     "data": {
      "text/latex": [
       "$\\displaystyle \\left[\\begin{matrix}1.0 & 0 & 0 & 0\\\\0 & 1.0 & 0 & 0\\\\0 & 0 & 1.0 & 0\\\\0 & 0 & 0 & 1.0\\end{matrix}\\right]$"
      ],
      "text/plain": [
       "Matrix([\n",
       "[1.0,   0,   0,   0],\n",
       "[  0, 1.0,   0,   0],\n",
       "[  0,   0, 1.0,   0],\n",
       "[  0,   0,   0, 1.0]])"
      ]
     },
     "execution_count": 21,
     "metadata": {},
     "output_type": "execute_result"
    }
   ],
   "source": [
    "#Eigen vectors and values of the mixed Einstein tensor\n",
    "info_new =G_mixed.eigenvects()\n",
    "P_mixed=Matrix(MutableDenseNDimArray(np.zeros((4,)*2)))\n",
    "count=0\n",
    "for i in range(0,len(info_new)):\n",
    "    for j in range(0,info_new[i][1]):\n",
    "        P_mixed[:,count]=Matrix(info_new[i][2][j])\n",
    "        count=count+1\n",
    "P_mixed  "
   ]
  },
  {
   "cell_type": "code",
   "execution_count": 22,
   "metadata": {},
   "outputs": [
    {
     "data": {
      "text/latex": [
       "$\\displaystyle \\left[\\begin{matrix}\\frac{r \\frac{d}{d r} f{\\left(r \\right)} + f{\\left(r \\right)} - 1.0}{r^{2}} & 0.0 & 0.0 & 0.0\\\\0.0 & \\frac{r \\frac{d}{d r} f{\\left(r \\right)} + f{\\left(r \\right)} - 1.0}{r^{2}} & 0.0 & 0.0\\\\0.0 & 0.0 & 0.5 \\frac{d^{2}}{d r^{2}} f{\\left(r \\right)} + \\frac{\\frac{d}{d r} f{\\left(r \\right)}}{r} & 0.0\\\\0.0 & 0.0 & 0.0 & 0.5 \\frac{d^{2}}{d r^{2}} f{\\left(r \\right)} + \\frac{\\frac{d}{d r} f{\\left(r \\right)}}{r}\\end{matrix}\\right]$"
      ],
      "text/plain": [
       "Matrix([\n",
       "[(r*Derivative(f(r), r) + f(r) - 1.0)/r**2,                                       0.0,                                                  0.0,                                                  0.0],\n",
       "[                                      0.0, (r*Derivative(f(r), r) + f(r) - 1.0)/r**2,                                                  0.0,                                                  0.0],\n",
       "[                                      0.0,                                       0.0, 0.5*Derivative(f(r), (r, 2)) + Derivative(f(r), r)/r,                                                  0.0],\n",
       "[                                      0.0,                                       0.0,                                                  0.0, 0.5*Derivative(f(r), (r, 2)) + Derivative(f(r), r)/r]])"
      ]
     },
     "execution_count": 22,
     "metadata": {},
     "output_type": "execute_result"
    }
   ],
   "source": [
    "D_mixed=Matrix(MutableDenseNDimArray(np.zeros((4,)*2)))\n",
    "count=0\n",
    "for i in range(0,len(info_new)):\n",
    "    for j in range(0,info_new[i][1]):\n",
    "        D_mixed[count,count]=simplify(info_new[i][0])\n",
    "        count=count+1\n",
    "D_mixed  \n",
    "\n",
    "# eigenval=[]\n",
    "# for i in range(0,len(info_new)):\n",
    "#     eigenval.append(info[i][0])\n",
    "# eigenvalues=simplify(MutableDenseNDimArray(np.array(eigenval)))\n",
    "# eigenvalues"
   ]
  },
  {
   "cell_type": "markdown",
   "metadata": {},
   "source": [
    "#### Diagonalization"
   ]
  },
  {
   "cell_type": "code",
   "execution_count": 38,
   "metadata": {},
   "outputs": [
    {
     "data": {
      "text/latex": [
       "$\\displaystyle \\left[\\begin{matrix}\\frac{1.0 \\left(r \\frac{d}{d r} f{\\left(r \\right)} + f{\\left(r \\right)} - 1\\right)}{r^{2}} & 0 & 0 & 0\\\\0 & \\frac{1.0 \\left(r \\frac{d}{d r} f{\\left(r \\right)} + f{\\left(r \\right)} - 1\\right)}{r^{2}} & 0 & 0\\\\0 & 0 & 0.5 \\frac{d^{2}}{d r^{2}} f{\\left(r \\right)} + \\frac{1.0 \\frac{d}{d r} f{\\left(r \\right)}}{r} & 0\\\\0 & 0 & 0 & 0.5 \\frac{d^{2}}{d r^{2}} f{\\left(r \\right)} + \\frac{1.0 \\frac{d}{d r} f{\\left(r \\right)}}{r}\\end{matrix}\\right]$"
      ],
      "text/plain": [
       "Matrix([\n",
       "[1.0*(r*Derivative(f(r), r) + f(r) - 1)/r**2,                                           0,                                                        0,                                                        0],\n",
       "[                                          0, 1.0*(r*Derivative(f(r), r) + f(r) - 1)/r**2,                                                        0,                                                        0],\n",
       "[                                          0,                                           0, 0.5*Derivative(f(r), (r, 2)) + 1.0*Derivative(f(r), r)/r,                                                        0],\n",
       "[                                          0,                                           0,                                                        0, 0.5*Derivative(f(r), (r, 2)) + 1.0*Derivative(f(r), r)/r]])"
      ]
     },
     "execution_count": 38,
     "metadata": {},
     "output_type": "execute_result"
    }
   ],
   "source": [
    "G_mixed_diag=simplify((P_mixed.T).inv()*G_mixed*P_mixed)\n",
    "G_mixed_diag"
   ]
  },
  {
   "cell_type": "code",
   "execution_count": null,
   "metadata": {},
   "outputs": [],
   "source": []
  }
 ],
 "metadata": {
  "kernelspec": {
   "display_name": "Python 3",
   "language": "python",
   "name": "python3"
  },
  "language_info": {
   "codemirror_mode": {
    "name": "ipython",
    "version": 3
   },
   "file_extension": ".py",
   "mimetype": "text/x-python",
   "name": "python",
   "nbconvert_exporter": "python",
   "pygments_lexer": "ipython3",
   "version": "3.8.8"
  }
 },
 "nbformat": 4,
 "nbformat_minor": 4
}
