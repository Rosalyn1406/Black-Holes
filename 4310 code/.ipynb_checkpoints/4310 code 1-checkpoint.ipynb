{
 "cells": [
  {
   "cell_type": "code",
   "execution_count": 1,
   "id": "74732a61",
   "metadata": {},
   "outputs": [],
   "source": [
    "# packages needed\n",
    "from sympy import * \n",
    "import numpy as np\n",
    "import time"
   ]
  },
  {
   "cell_type": "markdown",
   "id": "d1c6d2c9",
   "metadata": {},
   "source": [
    "# Coordinates"
   ]
  },
  {
   "cell_type": "code",
   "execution_count": 20,
   "id": "1e4e4c2b",
   "metadata": {},
   "outputs": [
    {
     "data": {
      "text/latex": [
       "$\\displaystyle \\left[\\begin{matrix}t\\\\r\\\\\\theta\\\\\\phi\\end{matrix}\\right]$"
      ],
      "text/plain": [
       "Matrix([\n",
       "[     t],\n",
       "[     r],\n",
       "[\\theta],\n",
       "[  \\phi]])"
      ]
     },
     "metadata": {},
     "output_type": "display_data"
    },
    {
     "data": {
      "text/latex": [
       "$\\displaystyle \\left[\\begin{matrix}dt\\\\dr\\\\d\\theta\\\\d\\phi\\end{matrix}\\right]$"
      ],
      "text/plain": [
       "Matrix([\n",
       "[     dt],\n",
       "[     dr],\n",
       "[d\\theta],\n",
       "[  d\\phi]])"
      ]
     },
     "metadata": {},
     "output_type": "display_data"
    },
    {
     "data": {
      "text/latex": [
       "$\\displaystyle \\left[\\begin{matrix}t\\\\x\\\\y\\\\z\\end{matrix}\\right]$"
      ],
      "text/plain": [
       "Matrix([\n",
       "[t],\n",
       "[x],\n",
       "[y],\n",
       "[z]])"
      ]
     },
     "metadata": {},
     "output_type": "display_data"
    },
    {
     "data": {
      "text/latex": [
       "$\\displaystyle \\left[\\begin{matrix}dt\\\\dx\\\\dy\\\\dz\\end{matrix}\\right]$"
      ],
      "text/plain": [
       "Matrix([\n",
       "[dt],\n",
       "[dx],\n",
       "[dy],\n",
       "[dz]])"
      ]
     },
     "metadata": {},
     "output_type": "display_data"
    }
   ],
   "source": [
    "# defining symbolic variables names\n",
    "t,r,theta,phi = symbols('t,r,\\\\theta,\\phi')\n",
    "x,y,z = symbols('x,y,z')\n",
    "# differentials\n",
    "a,b,c,ds,dt,dr,dtheta,dphi = symbols('a,b,c,ds,dt,dr,d\\\\theta,d\\phi')\n",
    "dx,dy,dz = symbols('dx,dy,dz')\n",
    "# matrix form \n",
    "x_spherical = Matrix([t,r,theta,phi])\n",
    "#display(x_spherical)\n",
    "x_cartesian = Matrix([t,x,y,z])\n",
    "#display(x_cartesian)\n",
    "dx_spherical = Matrix([dt,dr,dtheta,dphi])\n",
    "#display(dx_spherical)\n",
    "dx_cartesian = Matrix([dt,dx,dy,dz])\n",
    "#display(dx_cartesian)\n",
    "# usign loop\n",
    "xlist=[x_spherical, dx_spherical, x_cartesian, dx_cartesian]\n",
    "for i in range(0,4):\n",
    "    display(xlist[i])\n",
    "\n"
   ]
  },
  {
   "cell_type": "markdown",
   "id": "1491c57f",
   "metadata": {},
   "source": [
    "# Metrics and their inverse"
   ]
  },
  {
   "cell_type": "markdown",
   "id": "3aedb6dc",
   "metadata": {},
   "source": [
    "# Minkowski metric:"
   ]
  },
  {
   "cell_type": "markdown",
   "id": "acb3f9d0",
   "metadata": {},
   "source": [
    "# 𝜂𝜇𝜈→  g_down_mink[ 𝜇,𝜈 ]"
   ]
  },
  {
   "cell_type": "code",
   "execution_count": 12,
   "id": "10d70095",
   "metadata": {},
   "outputs": [
    {
     "data": {
      "text/latex": [
       "$\\displaystyle \\eta_{ab}$"
      ],
      "text/plain": [
       "\\eta_{ab}"
      ]
     },
     "metadata": {},
     "output_type": "display_data"
    },
    {
     "data": {
      "text/latex": [
       "$\\displaystyle \\left[\\begin{matrix}-1 & 0 & 0 & 0\\\\0 & 1 & 0 & 0\\\\0 & 0 & 1 & 0\\\\0 & 0 & 0 & 1\\end{matrix}\\right]$"
      ],
      "text/plain": [
       "Matrix([\n",
       "[-1, 0, 0, 0],\n",
       "[ 0, 1, 0, 0],\n",
       "[ 0, 0, 1, 0],\n",
       "[ 0, 0, 0, 1]])"
      ]
     },
     "metadata": {},
     "output_type": "display_data"
    }
   ],
   "source": [
    "# what does this mean\n",
    "# _ means down\n",
    "eta_down = symbols('\\eta_{ab}')\n",
    "display(eta_down)\n",
    "g_down_mink = Matrix([[-1,0,0,0],[0,1,0,0],[0,0,1,0],[0,0,0,1]])\n",
    "display(g_down_mink)"
   ]
  },
  {
   "cell_type": "markdown",
   "id": "7bd9ab81",
   "metadata": {},
   "source": [
    "# 𝜂𝜇𝜈→  g_up_mink[ 𝜇,𝜈 ]"
   ]
  },
  {
   "cell_type": "code",
   "execution_count": 14,
   "id": "7392d9e1",
   "metadata": {},
   "outputs": [
    {
     "data": {
      "text/latex": [
       "$\\displaystyle \\eta^{ab}$"
      ],
      "text/plain": [
       "\\eta^{ab}"
      ]
     },
     "metadata": {},
     "output_type": "display_data"
    },
    {
     "data": {
      "text/latex": [
       "$\\displaystyle \\left[\\begin{matrix}-1 & 0 & 0 & 0\\\\0 & 1 & 0 & 0\\\\0 & 0 & 1 & 0\\\\0 & 0 & 0 & 1\\end{matrix}\\right]$"
      ],
      "text/plain": [
       "Matrix([\n",
       "[-1, 0, 0, 0],\n",
       "[ 0, 1, 0, 0],\n",
       "[ 0, 0, 1, 0],\n",
       "[ 0, 0, 0, 1]])"
      ]
     },
     "metadata": {},
     "output_type": "display_data"
    }
   ],
   "source": [
    "# what does this mean\n",
    "eta_up = symbols('\\eta^{ab}')\n",
    "display(eta_up)\n",
    "g_up_mink = g_down_mink.inv()\n",
    "display(g_up_mink)\n"
   ]
  },
  {
   "cell_type": "markdown",
   "id": "81c4a6e7",
   "metadata": {},
   "source": [
    "# 𝜂_𝜇𝑎𝜂^𝑎𝜈=𝛿𝜈𝜇"
   ]
  },
  {
   "cell_type": "code",
   "execution_count": 15,
   "id": "ec0ec852",
   "metadata": {},
   "outputs": [
    {
     "data": {
      "text/latex": [
       "$\\displaystyle \\left[\\begin{matrix}1 & 0 & 0 & 0\\\\0 & 1 & 0 & 0\\\\0 & 0 & 1 & 0\\\\0 & 0 & 0 & 1\\end{matrix}\\right]$"
      ],
      "text/plain": [
       "Matrix([\n",
       "[1, 0, 0, 0],\n",
       "[0, 1, 0, 0],\n",
       "[0, 0, 1, 0],\n",
       "[0, 0, 0, 1]])"
      ]
     },
     "execution_count": 15,
     "metadata": {},
     "output_type": "execute_result"
    }
   ],
   "source": [
    "g_down_mink*g_up_mink"
   ]
  },
  {
   "cell_type": "code",
   "execution_count": 30,
   "id": "e2a4a3ed",
   "metadata": {},
   "outputs": [
    {
     "data": {
      "text/latex": [
       "$\\displaystyle ds^{2} = \\eta_{ab} b dx dx^{a}$"
      ],
      "text/plain": [
       "Eq(ds**2, \\eta_{ab}*b*dx*dx**a)"
      ]
     },
     "metadata": {},
     "output_type": "display_data"
    },
    {
     "data": {
      "text/latex": [
       "$\\displaystyle dx^{a}$"
      ],
      "text/plain": [
       "dx**a"
      ]
     },
     "metadata": {},
     "output_type": "display_data"
    },
    {
     "data": {
      "text/latex": [
       "$\\displaystyle \\left[\\begin{matrix}dt\\\\dx\\\\dy\\\\dz\\end{matrix}\\right]$"
      ],
      "text/plain": [
       "Matrix([\n",
       "[dt],\n",
       "[dx],\n",
       "[dy],\n",
       "[dz]])"
      ]
     },
     "metadata": {},
     "output_type": "display_data"
    },
    {
     "data": {
      "text/latex": [
       "$\\displaystyle \\eta_{ab}$"
      ],
      "text/plain": [
       "\\eta_{ab}"
      ]
     },
     "metadata": {},
     "output_type": "display_data"
    },
    {
     "data": {
      "text/latex": [
       "$\\displaystyle \\left[\\begin{matrix}-1 & 0 & 0 & 0\\\\0 & 1 & 0 & 0\\\\0 & 0 & 1 & 0\\\\0 & 0 & 0 & 1\\end{matrix}\\right]$"
      ],
      "text/plain": [
       "Matrix([\n",
       "[-1, 0, 0, 0],\n",
       "[ 0, 1, 0, 0],\n",
       "[ 0, 0, 1, 0],\n",
       "[ 0, 0, 0, 1]])"
      ]
     },
     "metadata": {},
     "output_type": "display_data"
    },
    {
     "data": {
      "text/latex": [
       "$\\displaystyle ds^{2} = - dt^{2} + dx^{2} + dy^{2} + dz^{2}$"
      ],
      "text/plain": [
       "Eq(ds**2, -dt**2 + dx**2 + dy**2 + dz**2)"
      ]
     },
     "metadata": {},
     "output_type": "display_data"
    }
   ],
   "source": [
    "def down(g,x):\n",
    "    return (g*x).T\n",
    "display(Eq(ds**2, eta_down*dx**a * dx*b))\n",
    "\n",
    "# displaying dx^a\n",
    "display(dx**a)\n",
    "x1_up=xlist[3]\n",
    "display(xlist[3])\n",
    "\n",
    "# displaying the metric\n",
    "display(eta_down)\n",
    "display(g_down_mink)\n",
    "\n",
    "# computing and displaying the line element\n",
    "# line element is the infinitesimal displacement vector in a metric space\n",
    "x1_down=down(g_down_mink, x1_up)\n",
    "ds2=x1_down*x1_up\n",
    "ds2=ds2[0]\n",
    "# line element\n",
    "display(Eq(ds**2,ds2))\n",
    "\n"
   ]
  },
  {
   "cell_type": "code",
   "execution_count": 40,
   "id": "4e98a79b",
   "metadata": {},
   "outputs": [
    {
     "name": "stdout",
     "output_type": "stream",
     "text": [
      "Line element\n"
     ]
    },
    {
     "data": {
      "text/latex": [
       "$\\displaystyle ds^{2} = - c^{2} dt^{2} + dt dx + dx^{2} + dx dy f{\\left(r,t \\right)} + dy^{2} + dz^{2}$"
      ],
      "text/plain": [
       "Eq(ds**2, -c**2*dt**2 + dt*dx + dx**2 + dx*dy*f(r, t) + dy**2 + dz**2)"
      ]
     },
     "metadata": {},
     "output_type": "display_data"
    },
    {
     "name": "stdout",
     "output_type": "stream",
     "text": [
      "metric tensor\n"
     ]
    },
    {
     "data": {
      "text/latex": [
       "$\\displaystyle g_{ab}$"
      ],
      "text/plain": [
       "g_{ab}"
      ]
     },
     "metadata": {},
     "output_type": "display_data"
    },
    {
     "data": {
      "text/latex": [
       "$\\displaystyle \\left[\\begin{matrix}- c^{2} & 1 & 0 & 0\\\\1 & 1 & f{\\left(r,t \\right)} & 0\\\\0 & f{\\left(r,t \\right)} & 1 & 0\\\\0 & 0 & 0 & 1\\end{matrix}\\right]$"
      ],
      "text/plain": [
       "Matrix([\n",
       "[-c**2,       1,       0, 0],\n",
       "[    1,       1, f(r, t), 0],\n",
       "[    0, f(r, t),       1, 0],\n",
       "[    0,       0,       0, 1]])"
      ]
     },
     "metadata": {},
     "output_type": "display_data"
    },
    {
     "data": {
      "text/latex": [
       "$\\displaystyle g^{ab}$"
      ],
      "text/plain": [
       "g^{ab}"
      ]
     },
     "metadata": {},
     "output_type": "display_data"
    },
    {
     "data": {
      "text/latex": [
       "$\\displaystyle \\left[\\begin{matrix}\\frac{f^{2}{\\left(r,t \\right)} - 1}{- c^{2} f^{2}{\\left(r,t \\right)} + c^{2} + 1} & \\frac{1}{- c^{2} f^{2}{\\left(r,t \\right)} + c^{2} + 1} & \\frac{f{\\left(r,t \\right)}}{c^{2} f^{2}{\\left(r,t \\right)} - c^{2} - 1} & 0\\\\\\frac{1}{- c^{2} f^{2}{\\left(r,t \\right)} + c^{2} + 1} & \\frac{c^{2}}{- c^{2} f^{2}{\\left(r,t \\right)} + c^{2} + 1} & \\frac{c^{2} f{\\left(r,t \\right)}}{c^{2} f^{2}{\\left(r,t \\right)} - c^{2} - 1} & 0\\\\\\frac{f{\\left(r,t \\right)}}{c^{2} f^{2}{\\left(r,t \\right)} - c^{2} - 1} & \\frac{c^{2} f{\\left(r,t \\right)}}{c^{2} f^{2}{\\left(r,t \\right)} - c^{2} - 1} & \\frac{c^{2} + 1}{- c^{2} f^{2}{\\left(r,t \\right)} + c^{2} + 1} & 0\\\\0 & 0 & 0 & 1\\end{matrix}\\right]$"
      ],
      "text/plain": [
       "Matrix([\n",
       "[(f(r, t)**2 - 1)/(-c**2*f(r, t)**2 + c**2 + 1),           1/(-c**2*f(r, t)**2 + c**2 + 1),      f(r, t)/(c**2*f(r, t)**2 - c**2 - 1), 0],\n",
       "[               1/(-c**2*f(r, t)**2 + c**2 + 1),        c**2/(-c**2*f(r, t)**2 + c**2 + 1), c**2*f(r, t)/(c**2*f(r, t)**2 - c**2 - 1), 0],\n",
       "[          f(r, t)/(c**2*f(r, t)**2 - c**2 - 1), c**2*f(r, t)/(c**2*f(r, t)**2 - c**2 - 1),  (c**2 + 1)/(-c**2*f(r, t)**2 + c**2 + 1), 0],\n",
       "[                                             0,                                         0,                                         0, 1]])"
      ]
     },
     "metadata": {},
     "output_type": "display_data"
    },
    {
     "data": {
      "text/latex": [
       "$\\displaystyle g^{ab} g_{ab}$"
      ],
      "text/plain": [
       "g^{ab}*g_{ab}"
      ]
     },
     "metadata": {},
     "output_type": "display_data"
    },
    {
     "data": {
      "text/latex": [
       "$\\displaystyle \\left[\\begin{matrix}1 & 0 & 0 & 0\\\\0 & 1 & 0 & 0\\\\0 & 0 & 1 & 0\\\\0 & 0 & 0 & 1\\end{matrix}\\right]$"
      ],
      "text/plain": [
       "Matrix([\n",
       "[1, 0, 0, 0],\n",
       "[0, 1, 0, 0],\n",
       "[0, 0, 1, 0],\n",
       "[0, 0, 0, 1]])"
      ]
     },
     "metadata": {},
     "output_type": "display_data"
    }
   ],
   "source": [
    "# insert arbitrary metric ( from line element)\n",
    "f = Function('f')(r,t)\n",
    "ds2= -c**2*dt**2+dx**2+dy**2+dz**2+dx*dt+f*dx*dy\n",
    "\n",
    "\n",
    "# display line element\n",
    "print('Line element')\n",
    "display(Eq(ds**2,ds2))\n",
    "\n",
    "#compute metric\n",
    "g_down = Matrix([[0,0,0,0],[0,0,0,0],[0,0,0,0],[0,0,0,0]])\n",
    "for i in range(0,4):\n",
    "    for j in range(0,4):\n",
    "        g_down[i,j]=ds2.coeff(xlist[3][i]*xlist[3][j])\n",
    "\n",
    "# display metric\n",
    "print('metric tensor')\n",
    "g_ab=symbols('g_{ab}')\n",
    "display(g_ab)\n",
    "g_up_ab=symbols('g^{ab}')\n",
    "# g_down is 0 matrix\n",
    "display(g_down)\n",
    "\n",
    "# g^ab\n",
    "display(g_up_ab)\n",
    "display(simplify(g_down.inv()))\n",
    "\n",
    "# g_ab*g^ab\n",
    "display(g_ab*g_up_ab)\n",
    "display(simplify(g_down*g_down.inv()))\n",
    "\n",
    "\n",
    "\n"
   ]
  },
  {
   "cell_type": "markdown",
   "id": "4f7146b3",
   "metadata": {},
   "source": [
    "# Schwarzchild metric"
   ]
  },
  {
   "cell_type": "markdown",
   "id": "fe319293",
   "metadata": {},
   "source": [
    "# 𝑔𝜇𝜈→  g_down[𝜇,𝜈]"
   ]
  },
  {
   "cell_type": "markdown",
   "id": "2786e53f",
   "metadata": {},
   "source": [
    "# 𝑔𝜇𝜈→  g_up[𝜇,𝜈]"
   ]
  },
  {
   "cell_type": "code",
   "execution_count": 49,
   "id": "8d4a9abe",
   "metadata": {},
   "outputs": [
    {
     "name": "stdout",
     "output_type": "stream",
     "text": [
      "line element:\n"
     ]
    },
    {
     "data": {
      "text/latex": [
       "$\\displaystyle ds^{2} = d\\phi^{2} r^{2} \\sin^{2}{\\left(\\theta \\right)} + d\\theta^{2} r^{2} + \\frac{dr^{2}}{f{\\left(r \\right)}} - dt^{2} f{\\left(r \\right)}$"
      ],
      "text/plain": [
       "Eq(ds**2, d\\phi**2*r**2*sin(\\theta)**2 + d\\theta**2*r**2 + dr**2/f(r) - dt**2*f(r))"
      ]
     },
     "metadata": {},
     "output_type": "display_data"
    },
    {
     "name": "stdout",
     "output_type": "stream",
     "text": [
      "Metric tensor:\n"
     ]
    },
    {
     "data": {
      "text/latex": [
       "$\\displaystyle g_{ab}$"
      ],
      "text/plain": [
       "g_{ab}"
      ]
     },
     "metadata": {},
     "output_type": "display_data"
    },
    {
     "data": {
      "text/latex": [
       "$\\displaystyle \\left[\\begin{matrix}- f{\\left(r \\right)} & 0 & 0 & 0\\\\0 & \\frac{1}{f{\\left(r \\right)}} & 0 & 0\\\\0 & 0 & r^{2} & 0\\\\0 & 0 & 0 & r^{2} \\sin^{2}{\\left(\\theta \\right)}\\end{matrix}\\right]$"
      ],
      "text/plain": [
       "Matrix([\n",
       "[-f(r),      0,    0,                   0],\n",
       "[    0, 1/f(r),    0,                   0],\n",
       "[    0,      0, r**2,                   0],\n",
       "[    0,      0,    0, r**2*sin(\\theta)**2]])"
      ]
     },
     "metadata": {},
     "output_type": "display_data"
    },
    {
     "data": {
      "text/latex": [
       "$\\displaystyle g^{ab}$"
      ],
      "text/plain": [
       "g^{ab}"
      ]
     },
     "metadata": {},
     "output_type": "display_data"
    },
    {
     "data": {
      "text/latex": [
       "$\\displaystyle \\left[\\begin{matrix}- \\frac{1}{f{\\left(r \\right)}} & 0 & 0 & 0\\\\0 & f{\\left(r \\right)} & 0 & 0\\\\0 & 0 & \\frac{1}{r^{2}} & 0\\\\0 & 0 & 0 & \\frac{1}{r^{2} \\sin^{2}{\\left(\\theta \\right)}}\\end{matrix}\\right]$"
      ],
      "text/plain": [
       "Matrix([\n",
       "[-1/f(r),    0,       0,                       0],\n",
       "[      0, f(r),       0,                       0],\n",
       "[      0,    0, r**(-2),                       0],\n",
       "[      0,    0,       0, 1/(r**2*sin(\\theta)**2)]])"
      ]
     },
     "metadata": {},
     "output_type": "display_data"
    },
    {
     "data": {
      "text/latex": [
       "$\\displaystyle g^{ab} g_{ab}$"
      ],
      "text/plain": [
       "g^{ab}*g_{ab}"
      ]
     },
     "metadata": {},
     "output_type": "display_data"
    },
    {
     "data": {
      "text/latex": [
       "$\\displaystyle \\left[\\begin{matrix}1 & 0 & 0 & 0\\\\0 & 1 & 0 & 0\\\\0 & 0 & 1 & 0\\\\0 & 0 & 0 & 1\\end{matrix}\\right]$"
      ],
      "text/plain": [
       "Matrix([\n",
       "[1, 0, 0, 0],\n",
       "[0, 1, 0, 0],\n",
       "[0, 0, 1, 0],\n",
       "[0, 0, 0, 1]])"
      ]
     },
     "execution_count": 49,
     "metadata": {},
     "output_type": "execute_result"
    }
   ],
   "source": [
    "# Covariant Scwarzchild metric\n",
    "# insert abitrary metric (from line element)\n",
    "f=Function('f')(r)\n",
    "ds2= -f*dt**2+dr**2/f+r**2 *dtheta**2 + r**2 * sin(theta)**2 * dphi**2\n",
    "\n",
    "# display line element\n",
    "print('line element:')\n",
    "display(Eq(ds**2,ds2))\n",
    "\n",
    "# compute metric\n",
    "g_down=Matrix([[0,0,0,0],[0,0,0,0],[0,0,0,0],[0,0,0,0]])\n",
    "for i in range(0,4):\n",
    "    for j in range(0,4):\n",
    "        g_down[i,j]=ds2.coeff(xlist[1][i]*xlist[1][j])\n",
    "\n",
    "# display metrix\n",
    "print('Metric tensor:')\n",
    "g_ab=symbols('g_{ab}')\n",
    "display(g_ab)\n",
    "display(g_down)\n",
    "\n",
    "g_up_ab=symbols('g^{ab}')\n",
    "g_up=simplify(g_down.inv())\n",
    "display(g_up_ab)\n",
    "display(g_up)\n",
    "\n",
    "display(g_ab*g_up_ab)\n",
    "simplify(g_down*g_down.inv())"
   ]
  },
  {
   "cell_type": "markdown",
   "id": "c08b6f9a",
   "metadata": {},
   "source": [
    "# Christoffel symbols"
   ]
  },
  {
   "cell_type": "code",
   "execution_count": 66,
   "id": "29dd4d79",
   "metadata": {},
   "outputs": [
    {
     "data": {
      "text/latex": [
       "$\\displaystyle \\left[\\begin{matrix}\\left[\\begin{matrix}0.0 & 0.0 & 0.0 & 0.0\\\\0.0 & 0.0 & 0.0 & 0.0\\\\0.0 & 0.0 & 0.0 & 0.0\\\\0.0 & 0.0 & 0.0 & 0.0\\end{matrix}\\right] & \\left[\\begin{matrix}0.0 & 0.0 & 0.0 & 0.0\\\\0.0 & 0.0 & 0.0 & 0.0\\\\0.0 & 0.0 & 0.0 & 0.0\\\\0.0 & 0.0 & 0.0 & 0.0\\end{matrix}\\right] & \\left[\\begin{matrix}0.0 & 0.0 & 0.0 & 0.0\\\\0.0 & 0.0 & 0.0 & 0.0\\\\0.0 & 0.0 & 0.0 & 0.0\\\\0.0 & 0.0 & 0.0 & 0.0\\end{matrix}\\right] & \\left[\\begin{matrix}0.0 & 0.0 & 0.0 & 0.0\\\\0.0 & 0.0 & 0.0 & 0.0\\\\0.0 & 0.0 & 0.0 & 0.0\\\\0.0 & 0.0 & 0.0 & 0.0\\end{matrix}\\right]\\end{matrix}\\right]$"
      ],
      "text/plain": [
       "[[[0.0, 0.0, 0.0, 0.0], [0.0, 0.0, 0.0, 0.0], [0.0, 0.0, 0.0, 0.0], [0.0, 0.0, 0.0, 0.0]], [[0.0, 0.0, 0.0, 0.0], [0.0, 0.0, 0.0, 0.0], [0.0, 0.0, 0.0, 0.0], [0.0, 0.0, 0.0, 0.0]], [[0.0, 0.0, 0.0, 0.0], [0.0, 0.0, 0.0, 0.0], [0.0, 0.0, 0.0, 0.0], [0.0, 0.0, 0.0, 0.0]], [[0.0, 0.0, 0.0, 0.0], [0.0, 0.0, 0.0, 0.0], [0.0, 0.0, 0.0, 0.0], [0.0, 0.0, 0.0, 0.0]]]"
      ]
     },
     "execution_count": 66,
     "metadata": {},
     "output_type": "execute_result"
    }
   ],
   "source": [
    "# creation of an empty 4x4x4 array\n",
    "C=MutableDenseNDimArray(np.zeros((4,)*3))\n",
    "C"
   ]
  },
  {
   "cell_type": "markdown",
   "id": "f73b6958",
   "metadata": {},
   "source": [
    "# Γ𝜌𝜇𝜈→  C[𝜌,𝜇,𝜈]"
   ]
  },
  {
   "cell_type": "code",
   "execution_count": 82,
   "id": "d205d620",
   "metadata": {},
   "outputs": [
    {
     "data": {
      "text/latex": [
       "$\\displaystyle \\left[\\begin{matrix}\\left[\\begin{matrix}0 & \\frac{1.0 G M}{r^{2} \\left(- \\frac{2 G M}{r} + 1\\right)} & 0 & 0\\\\\\frac{1.0 G M}{r^{2} \\left(- \\frac{2 G M}{r} + 1\\right)} & 0 & 0 & 0\\\\0 & 0 & 0 & 0\\\\0 & 0 & 0 & 0\\end{matrix}\\right] & \\left[\\begin{matrix}\\frac{2 G M \\left(- \\frac{1.0 G M}{r} + 0.5\\right)}{r^{2}} & 0 & 0 & 0\\\\0 & - \\frac{2 G M \\left(- \\frac{1.0 G M}{r} + 0.5\\right)}{r^{2} \\left(- \\frac{2 G M}{r} + 1\\right)^{2}} & 0 & 0\\\\0 & 0 & - 2 r \\left(- \\frac{1.0 G M}{r} + 0.5\\right) & 0\\\\0 & 0 & 0 & - 2 r \\left(- \\frac{1.0 G M}{r} + 0.5\\right) \\sin^{2}{\\left(\\theta \\right)}\\end{matrix}\\right] & \\left[\\begin{matrix}0 & 0 & 0 & 0\\\\0 & 0 & \\frac{1.0}{r} & 0\\\\0 & \\frac{1.0}{r} & 0 & 0\\\\0 & 0 & 0 & - 1.0 \\sin{\\left(\\theta \\right)} \\cos{\\left(\\theta \\right)}\\end{matrix}\\right] & \\left[\\begin{matrix}0 & 0 & 0 & 0\\\\0 & 0 & 0 & \\frac{1.0}{r}\\\\0 & 0 & 0 & \\frac{1.0 \\cos{\\left(\\theta \\right)}}{\\sin{\\left(\\theta \\right)}}\\\\0 & \\frac{1.0}{r} & \\frac{1.0 \\cos{\\left(\\theta \\right)}}{\\sin{\\left(\\theta \\right)}} & 0\\end{matrix}\\right]\\end{matrix}\\right]$"
      ],
      "text/plain": [
       "[[[0, 1.0*G*M/(r**2*(-2*G*M/r + 1)), 0, 0], [1.0*G*M/(r**2*(-2*G*M/r + 1)), 0, 0, 0], [0, 0, 0, 0], [0, 0, 0, 0]], [[2*G*M*(-1.0*G*M/r + 0.5)/r**2, 0, 0, 0], [0, -2*G*M*(-1.0*G*M/r + 0.5)/(r**2*(-2*G*M/r + 1)**2), 0, 0], [0, 0, -2*r*(-1.0*G*M/r + 0.5), 0], [0, 0, 0, -2*r*(-1.0*G*M/r + 0.5)*sin(\\theta)**2]], [[0, 0, 0, 0], [0, 0, 1.0/r, 0], [0, 1.0/r, 0, 0], [0, 0, 0, -1.0*sin(\\theta)*cos(\\theta)]], [[0, 0, 0, 0], [0, 0, 0, 1.0/r], [0, 0, 0, 1.0*cos(\\theta)/sin(\\theta)], [0, 1.0/r, 1.0*cos(\\theta)/sin(\\theta), 0]]]"
      ]
     },
     "execution_count": 82,
     "metadata": {},
     "output_type": "execute_result"
    }
   ],
   "source": [
    "# computing the actual components and assigning them\n",
    "for i in range(0,4):\n",
    "    for j in range(0,4):\n",
    "        for k in range(0,4):\n",
    "            su=0\n",
    "            for p in range(0,4):\n",
    "                  su=su+0.5*g_up[i,p]*(  diff(g_down[k,p],xlist[0][j]) + diff(g_down[p,j],xlist[0][k]) - diff(g_down[j,k],xlist[0][p])   )\n",
    "            C[i,j,k]=su\n",
    "C"
   ]
  },
  {
   "cell_type": "code",
   "execution_count": 83,
   "id": "d29f9a0b",
   "metadata": {},
   "outputs": [
    {
     "data": {
      "text/latex": [
       "$\\displaystyle \\left[\\begin{matrix}0 & \\frac{1.0 G M}{r^{2} \\left(- \\frac{2 G M}{r} + 1\\right)} & 0 & 0\\\\\\frac{1.0 G M}{r^{2} \\left(- \\frac{2 G M}{r} + 1\\right)} & 0 & 0 & 0\\\\0 & 0 & 0 & 0\\\\0 & 0 & 0 & 0\\end{matrix}\\right]$"
      ],
      "text/plain": [
       "[[0, 1.0*G*M/(r**2*(-2*G*M/r + 1)), 0, 0], [1.0*G*M/(r**2*(-2*G*M/r + 1)), 0, 0, 0], [0, 0, 0, 0], [0, 0, 0, 0]]"
      ]
     },
     "execution_count": 83,
     "metadata": {},
     "output_type": "execute_result"
    }
   ],
   "source": [
    "C[0,:,:]"
   ]
  },
  {
   "cell_type": "markdown",
   "id": "c972f44b",
   "metadata": {},
   "source": [
    "# Γ𝜌𝜇𝜈→  C[𝜌,𝜇,𝜈] as a function of 𝑓(𝑟)¶"
   ]
  },
  {
   "cell_type": "code",
   "execution_count": 74,
   "id": "001ccc6b",
   "metadata": {},
   "outputs": [
    {
     "data": {
      "text/latex": [
       "$\\displaystyle f{\\left(r \\right)} = - \\frac{2 G M}{r} + 1$"
      ],
      "text/plain": [
       "Eq(f(r), -2*G*M/r + 1)"
      ]
     },
     "metadata": {},
     "output_type": "display_data"
    },
    {
     "name": "stdout",
     "output_type": "stream",
     "text": [
      "Then leads to:\n"
     ]
    },
    {
     "data": {
      "text/latex": [
       "$\\displaystyle \\left[\\begin{matrix}\\left[\\begin{matrix}0 & - \\frac{0.5 r \\left(\\frac{1}{r} + \\frac{2 G M - r}{r^{2}}\\right)}{2 G M - r} & 0 & 0\\\\- \\frac{0.5 r \\left(\\frac{1}{r} + \\frac{2 G M - r}{r^{2}}\\right)}{2 G M - r} & 0 & 0 & 0\\\\0 & 0 & 0 & 0\\\\0 & 0 & 0 & 0\\end{matrix}\\right] & \\left[\\begin{matrix}- \\frac{0.5 \\left(\\frac{1}{r} + \\frac{2 G M - r}{r^{2}}\\right) \\left(2 G M - r\\right)}{r} & 0 & 0 & 0\\\\0 & \\frac{0.5 r \\left(\\frac{1}{r} - \\frac{- 2 G M + r}{r^{2}}\\right)}{2 G M - r} & 0 & 0\\\\0 & 0 & 2.0 G M - 1.0 r & 0\\\\0 & 0 & 0 & \\left(2.0 G M - 1.0 r\\right) \\sin^{2}{\\left(\\theta \\right)}\\end{matrix}\\right] & \\left[\\begin{matrix}0 & 0 & 0 & 0\\\\0 & 0 & \\frac{1.0}{r} & 0\\\\0 & \\frac{1.0}{r} & 0 & 0\\\\0 & 0 & 0 & - 0.5 \\sin{\\left(2 \\theta \\right)}\\end{matrix}\\right] & \\left[\\begin{matrix}0 & 0 & 0 & 0\\\\0 & 0 & 0 & \\frac{1.0}{r}\\\\0 & 0 & 0 & \\frac{1.0}{\\tan{\\left(\\theta \\right)}}\\\\0 & \\frac{1.0}{r} & \\frac{1.0}{\\tan{\\left(\\theta \\right)}} & 0\\end{matrix}\\right]\\end{matrix}\\right]$"
      ],
      "text/plain": [
       "[[[0, -0.5*r*(1/r + (2*G*M - r)/r**2)/(2*G*M - r), 0, 0], [-0.5*r*(1/r + (2*G*M - r)/r**2)/(2*G*M - r), 0, 0, 0], [0, 0, 0, 0], [0, 0, 0, 0]], [[-0.5*(1/r + (2*G*M - r)/r**2)*(2*G*M - r)/r, 0, 0, 0], [0, 0.5*r*(1/r - (-2*G*M + r)/r**2)/(2*G*M - r), 0, 0], [0, 0, 2.0*G*M - 1.0*r, 0], [0, 0, 0, (2.0*G*M - 1.0*r)*sin(\\theta)**2]], [[0, 0, 0, 0], [0, 0, 1.0/r, 0], [0, 1.0/r, 0, 0], [0, 0, 0, -0.5*sin(2*\\theta)]], [[0, 0, 0, 0], [0, 0, 0, 1.0/r], [0, 0, 0, 1.0/tan(\\theta)], [0, 1.0/r, 1.0/tan(\\theta), 0]]]"
      ]
     },
     "execution_count": 74,
     "metadata": {},
     "output_type": "execute_result"
    }
   ],
   "source": [
    "# Assign an actua value to f\n",
    "G, M =symbols('G,M')\n",
    "f_value = 1-2*G*M/r\n",
    "display(Eq(f,f_value))\n",
    "print('Then leads to:')\n",
    "\n",
    "# replce this function in the christoffel symbol\n",
    "for i in range(0,4):\n",
    "    for j in range(0,4):\n",
    "        for k in range(0,4):\n",
    "            C[i,j,k]=simplify(C[i,j,k].subs(f,f_value))\n",
    "C"
   ]
  },
  {
   "cell_type": "code",
   "execution_count": 79,
   "id": "07ce04b0",
   "metadata": {},
   "outputs": [
    {
     "data": {
      "text/latex": [
       "$\\displaystyle g_{ab}$"
      ],
      "text/plain": [
       "g_{ab}"
      ]
     },
     "metadata": {},
     "output_type": "display_data"
    },
    {
     "data": {
      "text/latex": [
       "$\\displaystyle \\left[\\begin{matrix}\\frac{2 G M}{r} - 1 & 0 & 0 & 0\\\\0 & \\frac{1}{- \\frac{2 G M}{r} + 1} & 0 & 0\\\\0 & 0 & r^{2} & 0\\\\0 & 0 & 0 & r^{2} \\sin^{2}{\\left(\\theta \\right)}\\end{matrix}\\right]$"
      ],
      "text/plain": [
       "Matrix([\n",
       "[2*G*M/r - 1,                0,    0,                   0],\n",
       "[          0, 1/(-2*G*M/r + 1),    0,                   0],\n",
       "[          0,                0, r**2,                   0],\n",
       "[          0,                0,    0, r**2*sin(\\theta)**2]])"
      ]
     },
     "metadata": {},
     "output_type": "display_data"
    },
    {
     "data": {
      "text/latex": [
       "$\\displaystyle g^{ab}$"
      ],
      "text/plain": [
       "g^{ab}"
      ]
     },
     "metadata": {},
     "output_type": "display_data"
    },
    {
     "data": {
      "text/latex": [
       "$\\displaystyle \\left[\\begin{matrix}- \\frac{1}{- \\frac{2 G M}{r} + 1} & 0 & 0 & 0\\\\0 & - \\frac{2 G M}{r} + 1 & 0 & 0\\\\0 & 0 & \\frac{1}{r^{2}} & 0\\\\0 & 0 & 0 & \\frac{1}{r^{2} \\sin^{2}{\\left(\\theta \\right)}}\\end{matrix}\\right]$"
      ],
      "text/plain": [
       "Matrix([\n",
       "[-1/(-2*G*M/r + 1),            0,       0,                       0],\n",
       "[                0, -2*G*M/r + 1,       0,                       0],\n",
       "[                0,            0, r**(-2),                       0],\n",
       "[                0,            0,       0, 1/(r**2*sin(\\theta)**2)]])"
      ]
     },
     "metadata": {},
     "output_type": "display_data"
    }
   ],
   "source": [
    "# display and sub f on the metric\n",
    "display(g_ab)\n",
    "g_down=g_down.subs(f,f_value)\n",
    "display(g_down)\n",
    "\n",
    "display(g_up_ab)\n",
    "g_up=g_up.subs(f,f_value)\n",
    "display(g_up)\n"
   ]
  },
  {
   "cell_type": "markdown",
   "id": "b6a7e608",
   "metadata": {},
   "source": [
    "# Covariant Derivative"
   ]
  },
  {
   "cell_type": "code",
   "execution_count": null,
   "id": "4c442f9f",
   "metadata": {},
   "outputs": [],
   "source": []
  }
 ],
 "metadata": {
  "kernelspec": {
   "display_name": "Python 3",
   "language": "python",
   "name": "python3"
  },
  "language_info": {
   "codemirror_mode": {
    "name": "ipython",
    "version": 3
   },
   "file_extension": ".py",
   "mimetype": "text/x-python",
   "name": "python",
   "nbconvert_exporter": "python",
   "pygments_lexer": "ipython3",
   "version": "3.8.8"
  }
 },
 "nbformat": 4,
 "nbformat_minor": 5
}
