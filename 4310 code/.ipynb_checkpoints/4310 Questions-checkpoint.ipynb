{
 "cells": [
  {
   "cell_type": "code",
   "execution_count": 1,
   "id": "95e0c60c",
   "metadata": {},
   "outputs": [],
   "source": [
    "# packages\n",
    "from sympy import*\n",
    "import numpy as np\n",
    "import time\n"
   ]
  },
  {
   "cell_type": "code",
   "execution_count": 2,
   "id": "645c73e7",
   "metadata": {},
   "outputs": [
    {
     "data": {
      "text/latex": [
       "$\\displaystyle \\left[\\begin{matrix}t\\\\r\\\\\\theta\\\\\\phi\\end{matrix}\\right]$"
      ],
      "text/plain": [
       "Matrix([\n",
       "[     t],\n",
       "[     r],\n",
       "[\\theta],\n",
       "[  \\phi]])"
      ]
     },
     "metadata": {},
     "output_type": "display_data"
    },
    {
     "data": {
      "text/latex": [
       "$\\displaystyle \\left[\\begin{matrix}dt\\\\dr\\\\d\\theta\\\\d\\phi\\end{matrix}\\right]$"
      ],
      "text/plain": [
       "Matrix([\n",
       "[     dt],\n",
       "[     dr],\n",
       "[d\\theta],\n",
       "[  d\\phi]])"
      ]
     },
     "metadata": {},
     "output_type": "display_data"
    },
    {
     "data": {
      "text/latex": [
       "$\\displaystyle \\left[\\begin{matrix}t\\\\x\\\\y\\\\z\\end{matrix}\\right]$"
      ],
      "text/plain": [
       "Matrix([\n",
       "[t],\n",
       "[x],\n",
       "[y],\n",
       "[z]])"
      ]
     },
     "metadata": {},
     "output_type": "display_data"
    },
    {
     "data": {
      "text/latex": [
       "$\\displaystyle \\left[\\begin{matrix}dt\\\\dx\\\\dy\\\\dz\\end{matrix}\\right]$"
      ],
      "text/plain": [
       "Matrix([\n",
       "[dt],\n",
       "[dx],\n",
       "[dy],\n",
       "[dz]])"
      ]
     },
     "metadata": {},
     "output_type": "display_data"
    }
   ],
   "source": [
    "# defining symbolic variables names\n",
    "t,r,theta,phi = symbols('t,r,\\\\theta,\\\\phi')\n",
    "x,y,z = symbols('x,y,z')\n",
    "\n",
    "# differentials\n",
    "a,b,c,ds,dt,dr,dtheta,dphi = symbols('a,b,c,ds,dt,dr,d\\\\theta,d\\phi')\n",
    "dx,dy,dz = symbols('dx,dy,dz')\n",
    "\n",
    "# matrix form\n",
    "x_spherical = Matrix([t,r,theta,phi])\n",
    "#display(x_spherical)\n",
    "x_cartesian = Matrix([t,x,y,z])\n",
    "#display(x_cartesian)\n",
    "dx_spherical = Matrix([dt,dr,dtheta,dphi]) \n",
    "#display(dx_spherical)\n",
    "dx_cartesian = Matrix([dt,dx,dy,dz])\n",
    "#display(dx_cartesian)\n",
    "\n",
    "xlist = [x_spherical, dx_spherical, x_cartesian, dx_cartesian]\n",
    "for i in range(0,4):\n",
    "    display(xlist[i])"
   ]
  },
  {
   "cell_type": "code",
   "execution_count": 3,
   "id": "0826cb4c",
   "metadata": {},
   "outputs": [
    {
     "name": "stdout",
     "output_type": "stream",
     "text": [
      "Metric tensor:\n"
     ]
    },
    {
     "data": {
      "text/latex": [
       "$\\displaystyle g_{uv}$"
      ],
      "text/plain": [
       "g_{uv}"
      ]
     },
     "metadata": {},
     "output_type": "display_data"
    },
    {
     "data": {
      "text/latex": [
       "$\\displaystyle \\left[\\begin{matrix}L^{2} N^{2 r} - N^{2} & L^{2} N^{r} & 0 & 0\\\\L^{2} N^{r} & L^{2} & 0 & 0\\\\0 & 0 & R^{2} & 0\\\\0 & 0 & 0 & R^{2} sin^{2}\\end{matrix}\\right]$"
      ],
      "text/plain": [
       "Matrix([\n",
       "[L**2*N**(2*r) - N**2, L**2*N**r,    0,           0],\n",
       "[           L**2*N**r,      L**2,    0,           0],\n",
       "[                   0,         0, R**2,           0],\n",
       "[                   0,         0,    0, R**2*sin**2]])"
      ]
     },
     "metadata": {},
     "output_type": "display_data"
    },
    {
     "data": {
      "text/latex": [
       "$\\displaystyle \\left[\\begin{matrix}- N^{2} & 0 & 0 & 0\\\\0 & X^{2} & 0 & 0\\\\0 & 0 & Y^{2} & 0\\\\0 & 0 & 0 & Y^{2} sin^{2}\\end{matrix}\\right]$"
      ],
      "text/plain": [
       "Matrix([\n",
       "[-N**2,    0,    0,           0],\n",
       "[    0, X**2,    0,           0],\n",
       "[    0,    0, Y**2,           0],\n",
       "[    0,    0,    0, Y**2*sin**2]])"
      ]
     },
     "metadata": {},
     "output_type": "display_data"
    },
    {
     "data": {
      "text/latex": [
       "$\\displaystyle g^{uv}$"
      ],
      "text/plain": [
       "g^{uv}"
      ]
     },
     "metadata": {},
     "output_type": "display_data"
    },
    {
     "data": {
      "text/latex": [
       "$\\displaystyle \\left[\\begin{matrix}- \\frac{1}{N^{2}} & N^{r - 2} & 0 & 0\\\\N^{r - 2} & - \\frac{N^{2 r}}{N^{2}} + \\frac{1}{L^{2}} & 0 & 0\\\\0 & 0 & \\frac{1}{R^{2}} & 0\\\\0 & 0 & 0 & \\frac{1}{R^{2} sin^{2}}\\end{matrix}\\right]$"
      ],
      "text/plain": [
       "Matrix([\n",
       "[   -1/N**2,               N**(r - 2),       0,               0],\n",
       "[N**(r - 2), -N**(2*r)/N**2 + L**(-2),       0,               0],\n",
       "[         0,                        0, R**(-2),               0],\n",
       "[         0,                        0,       0, 1/(R**2*sin**2)]])"
      ]
     },
     "metadata": {},
     "output_type": "display_data"
    },
    {
     "data": {
      "text/latex": [
       "$\\displaystyle U^{u}$"
      ],
      "text/plain": [
       "U^{u}"
      ]
     },
     "metadata": {},
     "output_type": "display_data"
    },
    {
     "data": {
      "text/latex": [
       "$\\displaystyle \\left[\\begin{matrix}\\frac{1}{N} & - \\frac{N^{r}}{N} & 0 & 0\\end{matrix}\\right]$"
      ],
      "text/plain": [
       "Matrix([[1/N, -N**r/N, 0, 0]])"
      ]
     },
     "metadata": {},
     "output_type": "display_data"
    },
    {
     "data": {
      "text/latex": [
       "$\\displaystyle U^{v}$"
      ],
      "text/plain": [
       "U^{v}"
      ]
     },
     "metadata": {},
     "output_type": "display_data"
    },
    {
     "data": {
      "text/latex": [
       "$\\displaystyle \\left[\\begin{matrix}\\frac{1}{N}\\\\- \\frac{N^{r}}{N}\\\\0\\\\0\\end{matrix}\\right]$"
      ],
      "text/plain": [
       "Matrix([\n",
       "[    1/N],\n",
       "[-N**r/N],\n",
       "[      0],\n",
       "[      0]])"
      ]
     },
     "metadata": {},
     "output_type": "display_data"
    },
    {
     "data": {
      "text/latex": [
       "$\\displaystyle U_{u}$"
      ],
      "text/plain": [
       "U_{u}"
      ]
     },
     "metadata": {},
     "output_type": "display_data"
    },
    {
     "data": {
      "text/latex": [
       "$\\displaystyle \\left[\\begin{matrix}- \\frac{L^{2} N^{2 r}}{N} + \\frac{L^{2} N^{2 r} - N^{2}}{N}\\\\0\\\\0\\\\0\\end{matrix}\\right]$"
      ],
      "text/plain": [
       "Matrix([\n",
       "[-L**2*N**(2*r)/N + (L**2*N**(2*r) - N**2)/N],\n",
       "[                                          0],\n",
       "[                                          0],\n",
       "[                                          0]])"
      ]
     },
     "metadata": {},
     "output_type": "display_data"
    },
    {
     "name": "stdout",
     "output_type": "stream",
     "text": [
      "Transpose Matrix:\n"
     ]
    },
    {
     "data": {
      "text/latex": [
       "$\\displaystyle \\left[\\begin{matrix}- \\frac{L^{2} N^{2 r}}{N} + \\frac{L^{2} N^{2 r} - N^{2}}{N} & 0 & 0 & 0\\end{matrix}\\right]$"
      ],
      "text/plain": [
       "Matrix([[-L**2*N**(2*r)/N + (L**2*N**(2*r) - N**2)/N, 0, 0, 0]])"
      ]
     },
     "metadata": {},
     "output_type": "display_data"
    },
    {
     "data": {
      "text/latex": [
       "$\\displaystyle h_{uv}$"
      ],
      "text/plain": [
       "h_{uv}"
      ]
     },
     "metadata": {},
     "output_type": "display_data"
    },
    {
     "data": {
      "text/latex": [
       "$\\displaystyle \\left[\\begin{matrix}L^{2} N^{2 r} - N^{2} - \\left(- \\frac{L^{2} N^{2 r}}{N} + \\frac{L^{2} N^{2 r} - N^{2}}{N}\\right)^{2} & L^{2} N^{r} & 0 & 0\\\\L^{2} N^{r} & L^{2} & 0 & 0\\\\0 & 0 & R^{2} & 0\\\\0 & 0 & 0 & R^{2} sin^{2}\\end{matrix}\\right]$"
      ],
      "text/plain": [
       "Matrix([\n",
       "[L**2*N**(2*r) - N**2 - (-L**2*N**(2*r)/N + (L**2*N**(2*r) - N**2)/N)**2, L**2*N**r,    0,           0],\n",
       "[                                                              L**2*N**r,      L**2,    0,           0],\n",
       "[                                                                      0,         0, R**2,           0],\n",
       "[                                                                      0,         0,    0, R**2*sin**2]])"
      ]
     },
     "metadata": {},
     "output_type": "display_data"
    }
   ],
   "source": [
    "# question d\n",
    "# Defining the metric tensor from evan's code\n",
    "\n",
    "L,N,r,R,sin,X,Y = symbols('L,N,r,R,sin,X,Y')\n",
    "print('Metric tensor:')\n",
    "\n",
    "g_uv_down = symbols('g_{uv}')\n",
    "display(g_uv_down)\n",
    "g_uv_down_metric = Matrix([[(L**2)*(N**r)**2 - (N)**2, (L)**2 * (N**r), 0, 0],[(L)**2 * (N)**r,(L)**2,0,0],[0,0,(R)**2,0],[0,0,0,(R)**2 * (sin)**2]])\n",
    "display(g_uv_down_metric)\n",
    "g_uv_down_metric1 = Matrix([[-N**2, 0, 0, 0],[ 0,X**2,0,0],[0,0,Y**2,0],[0,0,0,(sin)**2 * Y**2]])\n",
    "display(g_uv_down_metric1)\n",
    "\n",
    "g_uv_up=symbols('g^{uv}')\n",
    "display(g_uv_up)\n",
    "g_uv_up_metric=simplify(g_uv_down_metric.inv())\n",
    "display(g_uv_up_metric)\n",
    "\n",
    "#display(g_uv_down_metric*g_uv_up_metric)\n",
    "#simplify(g_uv_down_metric * g_uv_down_metric.inv())\n",
    "\n",
    "# defining U^u from Evan's note\n",
    "L,N,r,R,U,o = symbols('L,N,r,R,U,o')\n",
    "u_u_up=symbols('U^{u}')\n",
    "display(u_u_up)\n",
    "u_u_up_metric = Matrix([1/N, -(N**r)/N, 0, 0])\n",
    "#display(u_u_up_metric)\n",
    "# transpose metrix\n",
    "t_up = u_u_up_metric.transpose()\n",
    "display(t_up)\n",
    "\n",
    "u_v_up=symbols('U^{v}')\n",
    "display(u_v_up)\n",
    "u_v_up_metric=Matrix([1/N, -(N**r)/(N),0,0])\n",
    "display(u_v_up_metric)\n",
    "\n",
    "u_u_down=symbols('U_{u}')\n",
    "display(u_u_down)\n",
    "u_u_down_metric = g_uv_down_metric * u_v_up_metric\n",
    "display(u_u_down_metric)\n",
    "# transpose matrix of u_u_down\n",
    "print('Transpose Matrix:')\n",
    "t_down=u_u_down_metric.transpose()\n",
    "display(t_down)\n",
    "\n",
    "# computing transverse metric\n",
    "h_uv=symbols('h_{uv}')\n",
    "display(h_uv)\n",
    "h_uv_metric = g_uv_down_metric - (u_u_down_metric * t_down)\n",
    "display(h_uv_metric)\n"
   ]
  },
  {
   "cell_type": "code",
   "execution_count": 4,
   "id": "b4b43dda",
   "metadata": {},
   "outputs": [
    {
     "data": {
      "text/latex": [
       "$\\displaystyle \\left[\\begin{matrix}\\left[\\begin{matrix}0.0 & 0.0 & 0.0 & 0.0\\\\0.0 & 0.0 & 0.0 & 0.0\\\\0.0 & 0.0 & 0.0 & 0.0\\\\0.0 & 0.0 & 0.0 & 0.0\\end{matrix}\\right] & \\left[\\begin{matrix}0.0 & 0.0 & 0.0 & 0.0\\\\0.0 & 0.0 & 0.0 & 0.0\\\\0.0 & 0.0 & 0.0 & 0.0\\\\0.0 & 0.0 & 0.0 & 0.0\\end{matrix}\\right] & \\left[\\begin{matrix}0.0 & 0.0 & 0.0 & 0.0\\\\0.0 & 0.0 & 0.0 & 0.0\\\\0.0 & 0.0 & 0.0 & 0.0\\\\0.0 & 0.0 & 0.0 & 0.0\\end{matrix}\\right] & \\left[\\begin{matrix}0.0 & 0.0 & 0.0 & 0.0\\\\0.0 & 0.0 & 0.0 & 0.0\\\\0.0 & 0.0 & 0.0 & 0.0\\\\0.0 & 0.0 & 0.0 & 0.0\\end{matrix}\\right]\\end{matrix}\\right]$"
      ],
      "text/plain": [
       "[[[0.0, 0.0, 0.0, 0.0], [0.0, 0.0, 0.0, 0.0], [0.0, 0.0, 0.0, 0.0], [0.0, 0.0, 0.0, 0.0]], [[0.0, 0.0, 0.0, 0.0], [0.0, 0.0, 0.0, 0.0], [0.0, 0.0, 0.0, 0.0], [0.0, 0.0, 0.0, 0.0]], [[0.0, 0.0, 0.0, 0.0], [0.0, 0.0, 0.0, 0.0], [0.0, 0.0, 0.0, 0.0], [0.0, 0.0, 0.0, 0.0]], [[0.0, 0.0, 0.0, 0.0], [0.0, 0.0, 0.0, 0.0], [0.0, 0.0, 0.0, 0.0], [0.0, 0.0, 0.0, 0.0]]]"
      ]
     },
     "metadata": {},
     "output_type": "display_data"
    },
    {
     "data": {
      "text/latex": [
       "$\\displaystyle \\left[\\begin{matrix}\\left[\\begin{matrix}- 1.0 L^{2} N^{2 r} N^{r - 2} \\log{\\left(N \\right)} & - \\frac{1.0 L^{2} N^{2 r} \\log{\\left(N \\right)}}{N^{2}} & 0 & 0\\\\- \\frac{1.0 L^{2} N^{2 r} \\log{\\left(N \\right)}}{N^{2}} & - \\frac{1.0 L^{2} N^{r} \\log{\\left(N \\right)}}{N^{2}} & 0 & 0\\\\0 & 0 & 0 & 0\\\\0 & 0 & 0 & 0\\end{matrix}\\right] & \\left[\\begin{matrix}- 2 L^{2} N^{2 r} \\left(- \\frac{0.5 N^{2 r}}{N^{2}} + \\frac{0.5}{L^{2}}\\right) \\log{\\left(N \\right)} & 1.0 L^{2} N^{2 r} N^{r - 2} \\log{\\left(N \\right)} & 0 & 0\\\\1.0 L^{2} N^{2 r} N^{r - 2} \\log{\\left(N \\right)} & 1.0 L^{2} N^{r} N^{r - 2} \\log{\\left(N \\right)} & 0 & 0\\\\0 & 0 & 0 & 0\\\\0 & 0 & 0 & 0\\end{matrix}\\right] & \\left[\\begin{matrix}0 & 0 & 0 & 0\\\\0 & 0 & 0 & 0\\\\0 & 0 & 0 & 0\\\\0 & 0 & 0 & 0\\end{matrix}\\right] & \\left[\\begin{matrix}0 & 0 & 0 & 0\\\\0 & 0 & 0 & 0\\\\0 & 0 & 0 & 0\\\\0 & 0 & 0 & 0\\end{matrix}\\right]\\end{matrix}\\right]$"
      ],
      "text/plain": [
       "[[[-1.0*L**2*N**(2*r)*N**(r - 2)*log(N), -1.0*L**2*N**(2*r)*log(N)/N**2, 0, 0], [-1.0*L**2*N**(2*r)*log(N)/N**2, -1.0*L**2*N**r*log(N)/N**2, 0, 0], [0, 0, 0, 0], [0, 0, 0, 0]], [[-2*L**2*N**(2*r)*(-0.5*N**(2*r)/N**2 + 0.5/L**2)*log(N), 1.0*L**2*N**(2*r)*N**(r - 2)*log(N), 0, 0], [1.0*L**2*N**(2*r)*N**(r - 2)*log(N), 1.0*L**2*N**r*N**(r - 2)*log(N), 0, 0], [0, 0, 0, 0], [0, 0, 0, 0]], [[0, 0, 0, 0], [0, 0, 0, 0], [0, 0, 0, 0], [0, 0, 0, 0]], [[0, 0, 0, 0], [0, 0, 0, 0], [0, 0, 0, 0], [0, 0, 0, 0]]]"
      ]
     },
     "metadata": {},
     "output_type": "display_data"
    }
   ],
   "source": [
    "# question e\n",
    "# Christoffel symbols\n",
    "ch = MutableDenseNDimArray(np.zeros((4,)*3))\n",
    "display(ch)\n",
    "\n",
    "# computation of the actual component and assigning them \n",
    "for i in range(0,4):\n",
    "    for j in range(0,4):\n",
    "        for k in range(0,4):\n",
    "            su=0\n",
    "            for p in range(0,4):\n",
    "                 su=su+0.5*g_uv_up_metric[i,p]*(  diff(g_uv_down_metric[k,p],x_spherical[j]) + diff(g_uv_down_metric[p,j],x_spherical[k]) - diff(g_uv_down_metric[j,k],x_spherical[p])   )\n",
    "            ch[i,j,k]=su\n",
    "display(ch)\n",
    "\n",
    "\n",
    "                \n",
    "\n"
   ]
  },
  {
   "cell_type": "code",
   "execution_count": 5,
   "id": "d243b76c",
   "metadata": {},
   "outputs": [
    {
     "data": {
      "text/latex": [
       "$\\displaystyle U^{u}$"
      ],
      "text/plain": [
       "U^{u}"
      ]
     },
     "metadata": {},
     "output_type": "display_data"
    },
    {
     "data": {
      "text/latex": [
       "$\\displaystyle \\left[\\begin{matrix}\\frac{1}{N} & - \\frac{N^{r}}{N} & 0 & 0\\end{matrix}\\right]$"
      ],
      "text/plain": [
       "Matrix([[1/N, -N**r/N, 0, 0]])"
      ]
     },
     "metadata": {},
     "output_type": "display_data"
    },
    {
     "data": {
      "text/latex": [
       "$\\displaystyle U_{u}$"
      ],
      "text/plain": [
       "U_{u}"
      ]
     },
     "metadata": {},
     "output_type": "display_data"
    },
    {
     "data": {
      "text/latex": [
       "$\\displaystyle \\left[\\begin{matrix}- \\frac{L^{2} N^{2 r}}{N} + \\frac{L^{2} N^{2 r} - N^{2}}{N}\\\\0\\\\0\\\\0\\end{matrix}\\right]$"
      ],
      "text/plain": [
       "Matrix([\n",
       "[-L**2*N**(2*r)/N + (L**2*N**(2*r) - N**2)/N],\n",
       "[                                          0],\n",
       "[                                          0],\n",
       "[                                          0]])"
      ]
     },
     "metadata": {},
     "output_type": "display_data"
    }
   ],
   "source": [
    "# from part d, we know U^u\n",
    "# defining U^u from Evan's note\n",
    "L,N,r,R,U,o = symbols('L,N,r,R,U,o')\n",
    "u_u_up=symbols('U^{u}')\n",
    "display(u_u_up)\n",
    "u_u_up_metric = Matrix([1/N, -(N**r)/N, 0, 0])\n",
    "#display(u_u_up_metric)\n",
    "# transpose metrix\n",
    "t_up = u_u_up_metric.transpose()\n",
    "display(t_up)\n",
    "\n",
    "u_u_down=symbols('U_{u}')\n",
    "display(u_u_down)\n",
    "u_u_down_metric = g_uv_down_metric * u_v_up_metric\n",
    "display(u_u_down_metric)\n",
    "\n"
   ]
  },
  {
   "cell_type": "code",
   "execution_count": 6,
   "id": "2b1fc9b7",
   "metadata": {},
   "outputs": [
    {
     "data": {
      "text/latex": [
       "$\\displaystyle B_{uv}$"
      ],
      "text/plain": [
       "B_{uv}"
      ]
     },
     "metadata": {},
     "output_type": "display_data"
    }
   ],
   "source": [
    "B,u,v = symbols('B,u,v')\n",
    "B_u_v=symbols('B_{uv}')\n",
    "display(B_u_v)\n"
   ]
  },
  {
   "cell_type": "code",
   "execution_count": null,
   "id": "940c853e",
   "metadata": {},
   "outputs": [],
   "source": [
    "# trying another metric tensor to get christoffel symbol\n",
    "import sympy\n",
    "M,t,r,theta,phi = symbols(\"M t r theta phi\")\n",
    "# list of coordinates\n",
    "coor = [t,r,theta,phi]\n",
    "g00 = -(1-2*M/r)\n",
    "g01 = 0\n",
    "g02 = 0\n",
    "g03 = 0\n",
    "g10 = 0\n",
    "g11 = 1/(1-2*M/r)\n",
    "g12 = 0\n",
    "g13 = 0\n",
    "g20 = 0\n",
    "g21 = 0\n",
    "g22 = r**2\n",
    "g23 = 0\n",
    "g30 = 0\n",
    "g31 = 0\n",
    "g32 = 0\n",
    "g33 = y**2*sympy.sin(theta)**2\n",
    "A=Matrix([[g00,g01,g02,g03],[g10,g11,g12,g13],[g20,g21,g22,g23],[g30,g31,g32,g33]])\n",
    "display(A)"
   ]
  },
  {
   "cell_type": "code",
   "execution_count": null,
   "id": "632f6cab",
   "metadata": {},
   "outputs": [],
   "source": [
    "A1=simplify(A.inv())\n",
    "display(A1)"
   ]
  },
  {
   "cell_type": "code",
   "execution_count": 18,
   "id": "037fc039",
   "metadata": {},
   "outputs": [
    {
     "data": {
      "text/latex": [
       "$\\displaystyle \\left[\\begin{matrix}1 - \\frac{r_{s}}{r} & 0 & 0 & 0\\\\0 & 1 - \\frac{r_{s}}{r} & 0 & 0\\\\0 & 0 & r & 0\\\\0 & 0 & 0 & \\frac{r^{2} \\sin{\\left(\\theta \\right)}}{\\theta}\\end{matrix}\\right]$"
      ],
      "text/plain": [
       "Matrix([\n",
       "[1 - r_s/r,         0, 0,                      0],\n",
       "[        0, 1 - r_s/r, 0,                      0],\n",
       "[        0,         0, r,                      0],\n",
       "[        0,         0, 0, r**2*sin(theta)/\\theta]])"
      ]
     },
     "metadata": {},
     "output_type": "display_data"
    }
   ],
   "source": [
    "r_s = sympy.symbols('r_s')\n",
    "r,sin = sympy.symbols('r,sin')\n",
    "g_uv_down_metric = Matrix([[(1-(r_s/x_spherical[1])),0,0,0],[0,(1-(r_s/x_spherical[1])),0,0],[0,0,r**2/x_spherical[1],0],[0,0,0,r**2*sympy.sin(theta)/x_spherical[2]]])\n",
    "g_uv_up_metric = g_uv_up_metric.inv()\n",
    "display(g_uv_down_metric)"
   ]
  },
  {
   "cell_type": "code",
   "execution_count": 1,
   "id": "1db0f2b9",
   "metadata": {},
   "outputs": [
    {
     "ename": "NameError",
     "evalue": "name 'MutableDenseNDimArray' is not defined",
     "output_type": "error",
     "traceback": [
      "\u001b[1;31m---------------------------------------------------------------------------\u001b[0m",
      "\u001b[1;31mNameError\u001b[0m                                 Traceback (most recent call last)",
      "\u001b[1;32m<ipython-input-1-38cb8c898d68>\u001b[0m in \u001b[0;36m<module>\u001b[1;34m\u001b[0m\n\u001b[1;32m----> 1\u001b[1;33m \u001b[0mch\u001b[0m \u001b[1;33m=\u001b[0m \u001b[0mMutableDenseNDimArray\u001b[0m\u001b[1;33m(\u001b[0m\u001b[0mnp\u001b[0m\u001b[1;33m.\u001b[0m\u001b[0mzeros\u001b[0m\u001b[1;33m(\u001b[0m\u001b[1;33m(\u001b[0m\u001b[1;36m4\u001b[0m\u001b[1;33m,\u001b[0m\u001b[1;33m)\u001b[0m\u001b[1;33m*\u001b[0m\u001b[1;36m3\u001b[0m\u001b[1;33m)\u001b[0m\u001b[1;33m)\u001b[0m\u001b[1;33m\u001b[0m\u001b[1;33m\u001b[0m\u001b[0m\n\u001b[0m\u001b[0;32m      2\u001b[0m \u001b[0mdisplay\u001b[0m\u001b[1;33m(\u001b[0m\u001b[0mch\u001b[0m\u001b[1;33m)\u001b[0m\u001b[1;33m\u001b[0m\u001b[1;33m\u001b[0m\u001b[0m\n\u001b[0;32m      3\u001b[0m \u001b[1;33m\u001b[0m\u001b[0m\n\u001b[0;32m      4\u001b[0m \u001b[1;31m# computation of the actual component and assigning them\u001b[0m\u001b[1;33m\u001b[0m\u001b[1;33m\u001b[0m\u001b[1;33m\u001b[0m\u001b[0m\n\u001b[0;32m      5\u001b[0m \u001b[1;32mfor\u001b[0m \u001b[0mi\u001b[0m \u001b[1;32min\u001b[0m \u001b[0mrange\u001b[0m\u001b[1;33m(\u001b[0m\u001b[1;36m0\u001b[0m\u001b[1;33m,\u001b[0m\u001b[1;36m4\u001b[0m\u001b[1;33m)\u001b[0m\u001b[1;33m:\u001b[0m\u001b[1;33m\u001b[0m\u001b[1;33m\u001b[0m\u001b[0m\n",
      "\u001b[1;31mNameError\u001b[0m: name 'MutableDenseNDimArray' is not defined"
     ]
    }
   ],
   "source": [
    "ch = MutableDenseNDimArray(np.zeros((4,)*3))\n",
    "display(ch)\n",
    "\n",
    "# computation of the actual component and assigning them \n",
    "for i in range(0,4):\n",
    "    for j in range(0,4):\n",
    "        for k in range(0,4):\n",
    "            su=0\n",
    "            for p in range(0,4):\n",
    "                 su=su+0.5*[i,p]*(  diff(g_uv_down_metric[k,p],x_spherical[j]) + diff(g_uv_down_metric[p,j],x_spherical[k]) - diff(g_uv_down_metric[j,k],x_spherical[p])   )\n",
    "            ch[i,j,k]=su\n",
    "display(ch)"
   ]
  },
  {
   "cell_type": "code",
   "execution_count": null,
   "id": "2c9e4f4a",
   "metadata": {},
   "outputs": [],
   "source": []
  }
 ],
 "metadata": {
  "kernelspec": {
   "display_name": "Python 3",
   "language": "python",
   "name": "python3"
  },
  "language_info": {
   "codemirror_mode": {
    "name": "ipython",
    "version": 3
   },
   "file_extension": ".py",
   "mimetype": "text/x-python",
   "name": "python",
   "nbconvert_exporter": "python",
   "pygments_lexer": "ipython3",
   "version": "3.8.8"
  }
 },
 "nbformat": 4,
 "nbformat_minor": 5
}
