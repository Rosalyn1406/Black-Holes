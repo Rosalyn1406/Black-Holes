{
 "cells": [
  {
   "cell_type": "markdown",
   "id": "5da31000",
   "metadata": {},
   "source": [
    "# Code 2\n",
    "Code intended to symbolically compute steps 1 (not yet 2)\n",
    "## Defining coordinates, metrics, and variables/functions\n"
   ]
  },
  {
   "cell_type": "code",
   "execution_count": 1,
   "id": "fde77cf3",
   "metadata": {},
   "outputs": [],
   "source": [
    "# All packages needed: \n",
    "from sympy import *   #symbolic computations\n",
    "import numpy as np    #usual numpy \n",
    "import time           #timer for computations"
   ]
  },
  {
   "cell_type": "markdown",
   "id": "d06ca485",
   "metadata": {},
   "source": [
    "### Coordinates:"
   ]
  },
  {
   "cell_type": "code",
   "execution_count": 2,
   "id": "a53ceb78",
   "metadata": {},
   "outputs": [],
   "source": [
    "#Defining symbolic variable names\n",
    "t, r, theta, phi = symbols('t, r, \\\\theta, \\phi')\n",
    "x ,y ,z = symbols('x, y, z')\n",
    "#differentials\n",
    "a, b, c, ds, dt, dr, dtheta, dphi = symbols('a, b, c, ds, dt, dr, d\\\\theta, d\\phi')\n",
    "dx ,dy ,dz = symbols('dx, dy, dz')\n",
    "x_spherical=Matrix([t,r,theta,phi])\n",
    "x_cartesian=Matrix([t,x,y,z])\n",
    "dx_spherical=Matrix([dt,dr,dtheta,dphi])\n",
    "dx_cartesian=Matrix([dt,dx,dy,dz])\n",
    "xlist=[x_spherical, dx_spherical, x_cartesian, dx_cartesian]\n",
    "# for i in range(0,4):\n",
    "#     display(xlist[i])\n",
    "###Replacing f at the end or anyway\n",
    "\n",
    "\n",
    "#up-index to down index\n",
    "def down(g,x):\n",
    "    return (g*x).T"
   ]
  },
  {
   "cell_type": "markdown",
   "id": "70f7de5b",
   "metadata": {},
   "source": [
    "## Step :\n",
    "### (a)"
   ]
  },
  {
   "cell_type": "code",
   "execution_count": 3,
   "id": "d494d066",
   "metadata": {
    "scrolled": false
   },
   "outputs": [
    {
     "name": "stdout",
     "output_type": "stream",
     "text": [
      "Line element:\n"
     ]
    },
    {
     "data": {
      "text/latex": [
       "$\\displaystyle ds^{2} = - dt^{2} N^{2}{\\left(t \\right)} + \\left(dr + dt \\operatorname{N^{r}}{\\left(r,t \\right)}\\right)^{2} \\Lambda^{2}{\\left(r,t \\right)} + \\left(d\\phi^{2} \\sin^{2}{\\left(\\theta \\right)} + d\\theta^{2}\\right) R^{2}{\\left(r,t \\right)}$"
      ],
      "text/plain": [
       "Eq(ds**2, -dt**2*N(t)**2 + (dr + dt*N^r(r, t))**2*\\Lambda(r, t)**2 + (d\\phi**2*sin(\\theta)**2 + d\\theta**2)*R(r, t)**2)"
      ]
     },
     "metadata": {},
     "output_type": "display_data"
    },
    {
     "name": "stdout",
     "output_type": "stream",
     "text": [
      "Metric tensor:\n"
     ]
    },
    {
     "data": {
      "text/latex": [
       "$\\displaystyle g_{ab}$"
      ],
      "text/plain": [
       "g_{ab}"
      ]
     },
     "metadata": {},
     "output_type": "display_data"
    },
    {
     "data": {
      "text/latex": [
       "$\\displaystyle \\left[\\begin{matrix}- N^{2}{\\left(t \\right)} + \\left(\\operatorname{N^{r}}\\right)^{2}{\\left(r,t \\right)} \\Lambda^{2}{\\left(r,t \\right)} & \\operatorname{N^{r}}{\\left(r,t \\right)} \\Lambda^{2}{\\left(r,t \\right)} & 0 & 0\\\\\\operatorname{N^{r}}{\\left(r,t \\right)} \\Lambda^{2}{\\left(r,t \\right)} & \\Lambda^{2}{\\left(r,t \\right)} & 0 & 0\\\\0 & 0 & R^{2}{\\left(r,t \\right)} & 0\\\\0 & 0 & 0 & R^{2}{\\left(r,t \\right)} \\sin^{2}{\\left(\\theta \\right)}\\end{matrix}\\right]$"
      ],
      "text/plain": [
       "Matrix([\n",
       "[-N(t)**2 + N^r(r, t)**2*\\Lambda(r, t)**2, N^r(r, t)*\\Lambda(r, t)**2,          0,                         0],\n",
       "[              N^r(r, t)*\\Lambda(r, t)**2,           \\Lambda(r, t)**2,          0,                         0],\n",
       "[                                       0,                          0, R(r, t)**2,                         0],\n",
       "[                                       0,                          0,          0, R(r, t)**2*sin(\\theta)**2]])"
      ]
     },
     "metadata": {},
     "output_type": "display_data"
    },
    {
     "data": {
      "text/latex": [
       "$\\displaystyle g^{ab}$"
      ],
      "text/plain": [
       "g^{ab}"
      ]
     },
     "metadata": {},
     "output_type": "display_data"
    },
    {
     "data": {
      "text/latex": [
       "$\\displaystyle \\left[\\begin{matrix}- \\frac{1}{N^{2}{\\left(t \\right)}} & \\frac{\\operatorname{N^{r}}{\\left(r,t \\right)}}{N^{2}{\\left(t \\right)}} & 0 & 0\\\\\\frac{\\operatorname{N^{r}}{\\left(r,t \\right)}}{N^{2}{\\left(t \\right)}} & \\frac{1}{\\Lambda^{2}{\\left(r,t \\right)}} - \\frac{\\left(\\operatorname{N^{r}}\\right)^{2}{\\left(r,t \\right)}}{N^{2}{\\left(t \\right)}} & 0 & 0\\\\0 & 0 & \\frac{1}{R^{2}{\\left(r,t \\right)}} & 0\\\\0 & 0 & 0 & \\frac{1}{R^{2}{\\left(r,t \\right)} \\sin^{2}{\\left(\\theta \\right)}}\\end{matrix}\\right]$"
      ],
      "text/plain": [
       "Matrix([\n",
       "[       -1/N(t)**2,                          N^r(r, t)/N(t)**2,             0,                             0],\n",
       "[N^r(r, t)/N(t)**2, \\Lambda(r, t)**(-2) - N^r(r, t)**2/N(t)**2,             0,                             0],\n",
       "[                0,                                          0, R(r, t)**(-2),                             0],\n",
       "[                0,                                          0,             0, 1/(R(r, t)**2*sin(\\theta)**2)]])"
      ]
     },
     "metadata": {},
     "output_type": "display_data"
    },
    {
     "data": {
      "text/latex": [
       "$\\displaystyle g^{ab} g_{ab}$"
      ],
      "text/plain": [
       "g^{ab}*g_{ab}"
      ]
     },
     "metadata": {},
     "output_type": "display_data"
    },
    {
     "data": {
      "text/latex": [
       "$\\displaystyle \\left[\\begin{matrix}1 & 0 & 0 & 0\\\\0 & 1 & 0 & 0\\\\0 & 0 & 1 & 0\\\\0 & 0 & 0 & 1\\end{matrix}\\right]$"
      ],
      "text/plain": [
       "Matrix([\n",
       "[1, 0, 0, 0],\n",
       "[0, 1, 0, 0],\n",
       "[0, 0, 1, 0],\n",
       "[0, 0, 0, 1]])"
      ]
     },
     "execution_count": 3,
     "metadata": {},
     "output_type": "execute_result"
    }
   ],
   "source": [
    "#Metric from the paper\n",
    "#Paper Metric\n",
    "Lambda=Function('\\Lambda')(r,t)\n",
    "N=Function('N')(r,t)\n",
    "N_r=Function('N^r')(r,t)\n",
    "R_r=Function('R')(r,t)\n",
    "N=Function('N')(t)\n",
    "ds2=-N**2 * dt**2 + Lambda**2 * (dr + N_r * dt) **2 + R_r **2 * (dtheta**2 + sin(theta)**2 * dphi**2)\n",
    "\n",
    "\n",
    "#display line element\n",
    "print('Line element:')\n",
    "display(Eq(ds**2,ds2))\n",
    "ds2=expand(ds2)\n",
    "\n",
    "#compute metric\n",
    "g_down=Matrix([[0, 0, 0, 0],[0, 0, 0, 0],[0, 0, 0, 0],[0, 0, 0, 0]])\n",
    "for i in range(0,4):\n",
    "    for j in range(0,4):\n",
    "        g_down[i,j]=ds2.coeff(xlist[1][i]*xlist[1][j])\n",
    "        if str(xlist[1][i]) != str(xlist[1][j]):\n",
    "            g_down[i,j]=g_down[i,j]/2\n",
    "        \n",
    "#display metric\n",
    "print('Metric tensor:')\n",
    "g_ab=symbols('g_{ab}')\n",
    "g_up_ab=symbols('g^{ab}')\n",
    "display(g_ab)\n",
    "display(g_down)\n",
    "\n",
    "display(g_up_ab)\n",
    "g_up=simplify(g_down.inv())\n",
    "display(g_up)\n",
    "\n",
    "\n",
    "display(g_ab*g_up_ab)\n",
    "simplify(g_down*g_down.inv())"
   ]
  },
  {
   "cell_type": "markdown",
   "id": "aa1d50c7",
   "metadata": {},
   "source": [
    "## Testing the code from steps 1 (a) to (h) with a simple metric"
   ]
  },
  {
   "cell_type": "code",
   "execution_count": 4,
   "id": "97c3c09a",
   "metadata": {},
   "outputs": [
    {
     "data": {
      "text/latex": [
       "$\\displaystyle \\left[\\begin{matrix}- N^{2}{\\left(t \\right)} & 0 & 0 & 0\\\\0 & X^{2}{\\left(t \\right)} & 0 & 0\\\\0 & 0 & Y^{2}{\\left(t \\right)} & 0\\\\0 & 0 & 0 & Y^{2}{\\left(t \\right)} \\sin^{2}{\\left(\\theta \\right)}\\end{matrix}\\right]$"
      ],
      "text/plain": [
       "Matrix([\n",
       "[-N(t)**2,       0,       0,                      0],\n",
       "[       0, X(t)**2,       0,                      0],\n",
       "[       0,       0, Y(t)**2,                      0],\n",
       "[       0,       0,       0, Y(t)**2*sin(\\theta)**2]])"
      ]
     },
     "metadata": {},
     "output_type": "display_data"
    },
    {
     "name": "stdout",
     "output_type": "stream",
     "text": [
      "Metric tensor:\n"
     ]
    },
    {
     "data": {
      "text/latex": [
       "$\\displaystyle g_{ab}$"
      ],
      "text/plain": [
       "g_{ab}"
      ]
     },
     "metadata": {},
     "output_type": "display_data"
    },
    {
     "data": {
      "text/latex": [
       "$\\displaystyle \\left[\\begin{matrix}- N^{2}{\\left(t \\right)} & 0 & 0 & 0\\\\0 & X^{2}{\\left(t \\right)} & 0 & 0\\\\0 & 0 & Y^{2}{\\left(t \\right)} & 0\\\\0 & 0 & 0 & Y^{2}{\\left(t \\right)} \\sin^{2}{\\left(\\theta \\right)}\\end{matrix}\\right]$"
      ],
      "text/plain": [
       "Matrix([\n",
       "[-N(t)**2,       0,       0,                      0],\n",
       "[       0, X(t)**2,       0,                      0],\n",
       "[       0,       0, Y(t)**2,                      0],\n",
       "[       0,       0,       0, Y(t)**2*sin(\\theta)**2]])"
      ]
     },
     "metadata": {},
     "output_type": "display_data"
    },
    {
     "data": {
      "text/latex": [
       "$\\displaystyle g^{ab}$"
      ],
      "text/plain": [
       "g^{ab}"
      ]
     },
     "metadata": {},
     "output_type": "display_data"
    },
    {
     "data": {
      "text/latex": [
       "$\\displaystyle \\left[\\begin{matrix}- \\frac{1}{N^{2}{\\left(t \\right)}} & 0 & 0 & 0\\\\0 & \\frac{1}{X^{2}{\\left(t \\right)}} & 0 & 0\\\\0 & 0 & \\frac{1}{Y^{2}{\\left(t \\right)}} & 0\\\\0 & 0 & 0 & \\frac{1}{Y^{2}{\\left(t \\right)} \\sin^{2}{\\left(\\theta \\right)}}\\end{matrix}\\right]$"
      ],
      "text/plain": [
       "Matrix([\n",
       "[-1/N(t)**2,          0,          0,                          0],\n",
       "[         0, X(t)**(-2),          0,                          0],\n",
       "[         0,          0, Y(t)**(-2),                          0],\n",
       "[         0,          0,          0, 1/(Y(t)**2*sin(\\theta)**2)]])"
      ]
     },
     "metadata": {},
     "output_type": "display_data"
    },
    {
     "data": {
      "text/latex": [
       "$\\displaystyle g^{ab} g_{ab}$"
      ],
      "text/plain": [
       "g^{ab}*g_{ab}"
      ]
     },
     "metadata": {},
     "output_type": "display_data"
    },
    {
     "data": {
      "text/latex": [
       "$\\displaystyle \\left[\\begin{matrix}- N^{2}{\\left(t \\right)} & 0 & 0 & 0\\\\0 & X^{2}{\\left(t \\right)} & 0 & 0\\\\0 & 0 & Y^{2}{\\left(t \\right)} & 0\\\\0 & 0 & 0 & Y^{2}{\\left(t \\right)} \\sin^{2}{\\left(\\theta \\right)}\\end{matrix}\\right]$"
      ],
      "text/plain": [
       "Matrix([\n",
       "[-N(t)**2,       0,       0,                      0],\n",
       "[       0, X(t)**2,       0,                      0],\n",
       "[       0,       0, Y(t)**2,                      0],\n",
       "[       0,       0,       0, Y(t)**2*sin(\\theta)**2]])"
      ]
     },
     "execution_count": 4,
     "metadata": {},
     "output_type": "execute_result"
    }
   ],
   "source": [
    "N=Function('N')(t)\n",
    "X=Function('X')(t)\n",
    "Y=Function('Y')(t)\n",
    "\n",
    "g_down=Matrix([[-N**2, 0, 0, 0],[0, X**2, 0, 0],[0, 0, Y**2, 0],[0, 0, 0, sin(theta)**2 * Y**2]])\n",
    "display(g_down)\n",
    "\n",
    "#display metric\n",
    "print('Metric tensor:')\n",
    "g_ab=symbols('g_{ab}')\n",
    "g_up_ab=symbols('g^{ab}')\n",
    "display(g_ab)\n",
    "display(g_down)\n",
    "\n",
    "display(g_up_ab)\n",
    "g_up=simplify(g_down.inv())\n",
    "display(g_up)\n",
    "\n",
    "\n",
    "display(g_ab*g_up_ab)\n",
    "simplify(g_down*g_down.inv())\n",
    "\n",
    "\n",
    "g_down"
   ]
  },
  {
   "cell_type": "code",
   "execution_count": 5,
   "id": "813d89ae",
   "metadata": {},
   "outputs": [
    {
     "data": {
      "text/latex": [
       "$\\displaystyle - N^{2}{\\left(t \\right)} X^{2}{\\left(t \\right)} Y^{4}{\\left(t \\right)} \\sin^{2}{\\left(\\theta \\right)}$"
      ],
      "text/plain": [
       "-N(t)**2*X(t)**2*Y(t)**4*sin(\\theta)**2"
      ]
     },
     "execution_count": 5,
     "metadata": {},
     "output_type": "execute_result"
    }
   ],
   "source": [
    "g_down.det()"
   ]
  },
  {
   "cell_type": "markdown",
   "id": "db25980d",
   "metadata": {},
   "source": [
    "### (b)\n",
    "\n",
    "### $\\Gamma^{\\rho}_{\\mu \\nu} \\to $ C[$\\rho,\\mu,\\nu$]"
   ]
  },
  {
   "cell_type": "code",
   "execution_count": 6,
   "id": "f88ec095",
   "metadata": {},
   "outputs": [
    {
     "data": {
      "text/latex": [
       "$\\displaystyle \\left[\\begin{matrix}\\left[\\begin{matrix}\\frac{1.0 \\frac{d}{d t} N{\\left(t \\right)}}{N{\\left(t \\right)}} & 0 & 0 & 0\\\\0 & \\frac{1.0 X{\\left(t \\right)} \\frac{d}{d t} X{\\left(t \\right)}}{N^{2}{\\left(t \\right)}} & 0 & 0\\\\0 & 0 & \\frac{1.0 Y{\\left(t \\right)} \\frac{d}{d t} Y{\\left(t \\right)}}{N^{2}{\\left(t \\right)}} & 0\\\\0 & 0 & 0 & \\frac{1.0 Y{\\left(t \\right)} \\sin^{2}{\\left(\\theta \\right)} \\frac{d}{d t} Y{\\left(t \\right)}}{N^{2}{\\left(t \\right)}}\\end{matrix}\\right] & \\left[\\begin{matrix}0 & \\frac{1.0 \\frac{d}{d t} X{\\left(t \\right)}}{X{\\left(t \\right)}} & 0 & 0\\\\\\frac{1.0 \\frac{d}{d t} X{\\left(t \\right)}}{X{\\left(t \\right)}} & 0 & 0 & 0\\\\0 & 0 & 0 & 0\\\\0 & 0 & 0 & 0\\end{matrix}\\right] & \\left[\\begin{matrix}0 & 0 & \\frac{1.0 \\frac{d}{d t} Y{\\left(t \\right)}}{Y{\\left(t \\right)}} & 0\\\\0 & 0 & 0 & 0\\\\\\frac{1.0 \\frac{d}{d t} Y{\\left(t \\right)}}{Y{\\left(t \\right)}} & 0 & 0 & 0\\\\0 & 0 & 0 & - 1.0 \\sin{\\left(\\theta \\right)} \\cos{\\left(\\theta \\right)}\\end{matrix}\\right] & \\left[\\begin{matrix}0 & 0 & 0 & \\frac{1.0 \\frac{d}{d t} Y{\\left(t \\right)}}{Y{\\left(t \\right)}}\\\\0 & 0 & 0 & 0\\\\0 & 0 & 0 & \\frac{1.0 \\cos{\\left(\\theta \\right)}}{\\sin{\\left(\\theta \\right)}}\\\\\\frac{1.0 \\frac{d}{d t} Y{\\left(t \\right)}}{Y{\\left(t \\right)}} & 0 & \\frac{1.0 \\cos{\\left(\\theta \\right)}}{\\sin{\\left(\\theta \\right)}} & 0\\end{matrix}\\right]\\end{matrix}\\right]$"
      ],
      "text/plain": [
       "[[[1.0*Derivative(N(t), t)/N(t), 0, 0, 0], [0, 1.0*X(t)*Derivative(X(t), t)/N(t)**2, 0, 0], [0, 0, 1.0*Y(t)*Derivative(Y(t), t)/N(t)**2, 0], [0, 0, 0, 1.0*Y(t)*sin(\\theta)**2*Derivative(Y(t), t)/N(t)**2]], [[0, 1.0*Derivative(X(t), t)/X(t), 0, 0], [1.0*Derivative(X(t), t)/X(t), 0, 0, 0], [0, 0, 0, 0], [0, 0, 0, 0]], [[0, 0, 1.0*Derivative(Y(t), t)/Y(t), 0], [0, 0, 0, 0], [1.0*Derivative(Y(t), t)/Y(t), 0, 0, 0], [0, 0, 0, -1.0*sin(\\theta)*cos(\\theta)]], [[0, 0, 0, 1.0*Derivative(Y(t), t)/Y(t)], [0, 0, 0, 0], [0, 0, 0, 1.0*cos(\\theta)/sin(\\theta)], [1.0*Derivative(Y(t), t)/Y(t), 0, 1.0*cos(\\theta)/sin(\\theta), 0]]]"
      ]
     },
     "execution_count": 6,
     "metadata": {},
     "output_type": "execute_result"
    }
   ],
   "source": [
    "#creation of an empty 4x4x4 array \n",
    "C=MutableDenseNDimArray(np.zeros((4,)*3))\n",
    "C\n",
    "\n",
    "#Computing the actual components and assigning them\n",
    "for i in range(0,4):\n",
    "    for j in range(0,4):\n",
    "        for k in range(0,4):\n",
    "            su=0\n",
    "            for p in range(0,4):\n",
    "                su=su+0.5*g_up[i,p]*(  diff(g_down[k,p],xlist[0][j]) + diff(g_down[p,j],xlist[0][k]) - diff(g_down[j,k],xlist[0][p])   )\n",
    "            C[i,j,k]=su\n",
    "C\n",
    "\n"
   ]
  },
  {
   "cell_type": "code",
   "execution_count": 7,
   "id": "4d9f5645",
   "metadata": {},
   "outputs": [
    {
     "data": {
      "text/latex": [
       "$\\displaystyle \\left[\\begin{matrix}0 & 0 & 0 & \\frac{1.0 \\frac{d}{d t} Y{\\left(t \\right)}}{Y{\\left(t \\right)}}\\\\0 & 0 & 0 & 0\\\\0 & 0 & 0 & \\frac{1.0 \\cos{\\left(\\theta \\right)}}{\\sin{\\left(\\theta \\right)}}\\\\\\frac{1.0 \\frac{d}{d t} Y{\\left(t \\right)}}{Y{\\left(t \\right)}} & 0 & \\frac{1.0 \\cos{\\left(\\theta \\right)}}{\\sin{\\left(\\theta \\right)}} & 0\\end{matrix}\\right]$"
      ],
      "text/plain": [
       "[[0, 0, 0, 1.0*Derivative(Y(t), t)/Y(t)], [0, 0, 0, 0], [0, 0, 0, 1.0*cos(\\theta)/sin(\\theta)], [1.0*Derivative(Y(t), t)/Y(t), 0, 1.0*cos(\\theta)/sin(\\theta), 0]]"
      ]
     },
     "execution_count": 7,
     "metadata": {},
     "output_type": "execute_result"
    }
   ],
   "source": [
    "C[3,:,:]"
   ]
  },
  {
   "cell_type": "markdown",
   "id": "8c53b48d",
   "metadata": {},
   "source": [
    "## Covariant Derivative\n",
    "$\\nabla_{b}A^{a}=\\partial_{b}A^{a}+\\Gamma_{bk}^{a}A^{k}=B^{a} \\; _{b}$\n",
    "\n",
    "and \n",
    "\n",
    "$\\nabla_{b}A_{a}=\\partial_{b}A_{a}-\\Gamma_{ab}^{k}A_{k}=B_{ab}$"
   ]
  },
  {
   "cell_type": "code",
   "execution_count": 8,
   "id": "816c5a96",
   "metadata": {},
   "outputs": [],
   "source": [
    "def covariant_derivative_up(C,xlist,x1):\n",
    "    D=Matrix(np.zeros((4,)*2))\n",
    "    for i in range(0,4):\n",
    "        for j in range(0,4):\n",
    "            tmp=0\n",
    "            for k in range(0,4):\n",
    "                tmp=tmp+C[j,i,k]*x1[k] #2\n",
    "                D[i,j]=diff(x1[j],xlist[0][i])+tmp\n",
    "    return D.T\n",
    "\n",
    "def covariant_derivative_down(C,xlist,x1):\n",
    "    D=Matrix(np.zeros((4,)*2))\n",
    "    for i in range(0,4):\n",
    "        for j in range(0,4):\n",
    "            tmp=0\n",
    "            for k in range(0,4):\n",
    "                tmp=tmp+C[k,i,j]*x1[k] #2\n",
    "                D[i,j]=diff(x1[j],xlist[0][i])-tmp\n",
    "    return D.T"
   ]
  },
  {
   "cell_type": "code",
   "execution_count": 9,
   "id": "ccb68156",
   "metadata": {},
   "outputs": [
    {
     "data": {
      "text/latex": [
       "$\\displaystyle \\left[\\begin{matrix}f{\\left(t \\right)}\\\\g{\\left(r \\right)}\\\\0\\\\0\\end{matrix}\\right]$"
      ],
      "text/plain": [
       "Matrix([\n",
       "[f(t)],\n",
       "[g(r)],\n",
       "[   0],\n",
       "[   0]])"
      ]
     },
     "metadata": {},
     "output_type": "display_data"
    },
    {
     "data": {
      "text/latex": [
       "$\\displaystyle \\left[\\begin{matrix}- N^{2}{\\left(t \\right)} f{\\left(t \\right)} & X^{2}{\\left(t \\right)} g{\\left(r \\right)} & 0 & 0\\end{matrix}\\right]$"
      ],
      "text/plain": [
       "Matrix([[-N(t)**2*f(t), X(t)**2*g(r), 0, 0]])"
      ]
     },
     "metadata": {},
     "output_type": "display_data"
    }
   ],
   "source": [
    "t1=Function('f')(t)\n",
    "r1=Function('g')(r)\n",
    "x1=Matrix([t1,r1,0,0])\n",
    "display(x1)\n",
    "\n",
    "x1_down=down(g_down,x1)\n",
    "display(x1_down)"
   ]
  },
  {
   "cell_type": "code",
   "execution_count": 10,
   "id": "b78a8d13",
   "metadata": {},
   "outputs": [
    {
     "data": {
      "text/latex": [
       "$\\displaystyle B^{a}_{b}$"
      ],
      "text/plain": [
       "B^{a}_{b}"
      ]
     },
     "metadata": {},
     "output_type": "display_data"
    },
    {
     "data": {
      "text/latex": [
       "$\\displaystyle \\left[\\begin{matrix}\\frac{d}{d t} f{\\left(t \\right)} + \\frac{1.0 f{\\left(t \\right)} \\frac{d}{d t} N{\\left(t \\right)}}{N{\\left(t \\right)}} & \\frac{1.0 X{\\left(t \\right)} g{\\left(r \\right)} \\frac{d}{d t} X{\\left(t \\right)}}{N^{2}{\\left(t \\right)}} & 0 & 0\\\\\\frac{1.0 g{\\left(r \\right)} \\frac{d}{d t} X{\\left(t \\right)}}{X{\\left(t \\right)}} & \\frac{d}{d r} g{\\left(r \\right)} + \\frac{1.0 f{\\left(t \\right)} \\frac{d}{d t} X{\\left(t \\right)}}{X{\\left(t \\right)}} & 0 & 0\\\\0 & 0 & \\frac{1.0 f{\\left(t \\right)} \\frac{d}{d t} Y{\\left(t \\right)}}{Y{\\left(t \\right)}} & 0\\\\0 & 0 & 0 & \\frac{1.0 f{\\left(t \\right)} \\frac{d}{d t} Y{\\left(t \\right)}}{Y{\\left(t \\right)}}\\end{matrix}\\right]$"
      ],
      "text/plain": [
       "Matrix([\n",
       "[Derivative(f(t), t) + 1.0*f(t)*Derivative(N(t), t)/N(t),               1.0*X(t)*g(r)*Derivative(X(t), t)/N(t)**2,                                 0,                                 0],\n",
       "[                      1.0*g(r)*Derivative(X(t), t)/X(t), Derivative(g(r), r) + 1.0*f(t)*Derivative(X(t), t)/X(t),                                 0,                                 0],\n",
       "[                                                      0,                                                       0, 1.0*f(t)*Derivative(Y(t), t)/Y(t),                                 0],\n",
       "[                                                      0,                                                       0,                                 0, 1.0*f(t)*Derivative(Y(t), t)/Y(t)]])"
      ]
     },
     "metadata": {},
     "output_type": "display_data"
    },
    {
     "data": {
      "text/latex": [
       "$\\displaystyle B_{ab}$"
      ],
      "text/plain": [
       "B_{ab}"
      ]
     },
     "metadata": {},
     "output_type": "display_data"
    },
    {
     "data": {
      "text/latex": [
       "$\\displaystyle \\left[\\begin{matrix}- \\left(N{\\left(t \\right)} \\frac{d}{d t} f{\\left(t \\right)} + 1.0 f{\\left(t \\right)} \\frac{d}{d t} N{\\left(t \\right)}\\right) N{\\left(t \\right)} & - 1.0 X{\\left(t \\right)} g{\\left(r \\right)} \\frac{d}{d t} X{\\left(t \\right)} & 0 & 0\\\\1.0 X{\\left(t \\right)} g{\\left(r \\right)} \\frac{d}{d t} X{\\left(t \\right)} & \\left(X{\\left(t \\right)} \\frac{d}{d r} g{\\left(r \\right)} + 1.0 f{\\left(t \\right)} \\frac{d}{d t} X{\\left(t \\right)}\\right) X{\\left(t \\right)} & 0 & 0\\\\0 & 0 & 1.0 Y{\\left(t \\right)} f{\\left(t \\right)} \\frac{d}{d t} Y{\\left(t \\right)} & 0\\\\0 & 0 & 0 & 1.0 Y{\\left(t \\right)} f{\\left(t \\right)} \\sin^{2}{\\left(\\theta \\right)} \\frac{d}{d t} Y{\\left(t \\right)}\\end{matrix}\\right]$"
      ],
      "text/plain": [
       "Matrix([\n",
       "[-(N(t)*Derivative(f(t), t) + 1.0*f(t)*Derivative(N(t), t))*N(t),                             -1.0*X(t)*g(r)*Derivative(X(t), t),                                 0,                                                0],\n",
       "[                              1.0*X(t)*g(r)*Derivative(X(t), t), (X(t)*Derivative(g(r), r) + 1.0*f(t)*Derivative(X(t), t))*X(t),                                 0,                                                0],\n",
       "[                                                              0,                                                              0, 1.0*Y(t)*f(t)*Derivative(Y(t), t),                                                0],\n",
       "[                                                              0,                                                              0,                                 0, 1.0*Y(t)*f(t)*sin(\\theta)**2*Derivative(Y(t), t)]])"
      ]
     },
     "metadata": {},
     "output_type": "display_data"
    },
    {
     "data": {
      "text/latex": [
       "$\\displaystyle - B_{ab} + g_{ac}B^{c}_{b}$"
      ],
      "text/plain": [
       "-B_{ab} + g_{ac}B^{c}_{b}"
      ]
     },
     "metadata": {},
     "output_type": "display_data"
    },
    {
     "data": {
      "text/latex": [
       "$\\displaystyle \\left[\\begin{matrix}0 & 0 & 0 & 0\\\\0 & 0 & 0 & 0\\\\0 & 0 & 0 & 0\\\\0 & 0 & 0 & 0\\end{matrix}\\right]$"
      ],
      "text/plain": [
       "Matrix([\n",
       "[0, 0, 0, 0],\n",
       "[0, 0, 0, 0],\n",
       "[0, 0, 0, 0],\n",
       "[0, 0, 0, 0]])"
      ]
     },
     "metadata": {},
     "output_type": "display_data"
    }
   ],
   "source": [
    "Bs1, Bs2, Bs3=symbols('B^{a}_{b}, B_{ab}, g_{ac}B^{c}_{b}')\n",
    "B1=covariant_derivative_up(C,xlist,x1)\n",
    "display(Bs1)\n",
    "display(B1)\n",
    "\n",
    "B2=covariant_derivative_down(C,xlist,x1_down)\n",
    "display(Bs2)\n",
    "display(simplify(B2))\n",
    "display(Bs3 - Bs2)\n",
    "display(simplify(g_down*B1-B2))"
   ]
  },
  {
   "cell_type": "markdown",
   "id": "4c9aae0d",
   "metadata": {},
   "source": [
    "### (c)\n",
    "Now we need $U^{\\mu}$ such that:\n",
    "\n",
    "$g_{\\mu \\nu}U^{\\mu}U^{\\nu}=-1$\n",
    "\n",
    "And while we're at it, might as well:\n",
    "\n",
    "$g_{\\mu \\nu} U_{\\text{null}}^{\\mu}U_{\\text{null}}^{\\nu}=0$"
   ]
  },
  {
   "cell_type": "code",
   "execution_count": 11,
   "id": "0e9648f8",
   "metadata": {},
   "outputs": [
    {
     "name": "stdout",
     "output_type": "stream",
     "text": [
      "Then we have for U:\n",
      "Then we have for U:\n"
     ]
    },
    {
     "data": {
      "text/latex": [
       "$\\displaystyle \\left[\\begin{matrix}\\operatorname{u_{0}}{\\left(t \\right)}\\\\\\operatorname{u_{1}}{\\left(t \\right)}\\\\0\\\\0\\end{matrix}\\right]$"
      ],
      "text/plain": [
       "Matrix([\n",
       "[u_0(t)],\n",
       "[u_1(t)],\n",
       "[     0],\n",
       "[     0]])"
      ]
     },
     "metadata": {},
     "output_type": "display_data"
    },
    {
     "name": "stdout",
     "output_type": "stream",
     "text": [
      "The contraction\n"
     ]
    },
    {
     "data": {
      "text/latex": [
       "$\\displaystyle g_{ac}U^{c}U^{a}$"
      ],
      "text/plain": [
       "g_{ac}U^{c}U^{a}"
      ]
     },
     "metadata": {},
     "output_type": "display_data"
    },
    {
     "name": "stdout",
     "output_type": "stream",
     "text": [
      "yields a value of:\n"
     ]
    },
    {
     "data": {
      "text/latex": [
       "$\\displaystyle - N^{2}{\\left(t \\right)} \\operatorname{u_{0}}^{2}{\\left(t \\right)} + X^{2}{\\left(t \\right)} \\operatorname{u_{1}}^{2}{\\left(t \\right)}$"
      ],
      "text/plain": [
       "-N(t)**2*u_0(t)**2 + X(t)**2*u_1(t)**2"
      ]
     },
     "metadata": {},
     "output_type": "display_data"
    },
    {
     "name": "stdout",
     "output_type": "stream",
     "text": [
      "Choosing a normalization of -1 yields: \n"
     ]
    },
    {
     "data": {
      "text/latex": [
       "$\\displaystyle g_{ac}U^{c}U^{a} = -1$"
      ],
      "text/plain": [
       "Eq(g_{ac}U^{c}U^{a}, -1)"
      ]
     },
     "metadata": {},
     "output_type": "display_data"
    },
    {
     "data": {
      "text/latex": [
       "$\\displaystyle \\operatorname{u_{1}}{\\left(t \\right)} = - \\frac{\\sqrt{N^{2}{\\left(t \\right)} \\operatorname{u_{0}}^{2}{\\left(t \\right)} - 1}}{X{\\left(t \\right)}}$"
      ],
      "text/plain": [
       "Eq(u_1(t), -sqrt(N(t)**2*u_0(t)**2 - 1)/X(t))"
      ]
     },
     "metadata": {},
     "output_type": "display_data"
    },
    {
     "name": "stdout",
     "output_type": "stream",
     "text": [
      "U is then given by:\n"
     ]
    },
    {
     "data": {
      "text/latex": [
       "$\\displaystyle \\left[\\begin{matrix}\\frac{1}{N{\\left(t \\right)}}\\\\0\\\\0\\\\0\\end{matrix}\\right]$"
      ],
      "text/plain": [
       "Matrix([\n",
       "[1/N(t)],\n",
       "[     0],\n",
       "[     0],\n",
       "[     0]])"
      ]
     },
     "metadata": {},
     "output_type": "display_data"
    }
   ],
   "source": [
    "#displaying U \n",
    "\n",
    "ua=symbols('g_{ac}U^{c}U^{a}')\n",
    "print('Then we have for U:')\n",
    "\n",
    "u0=Function('u_0')(t)\n",
    "u1=Function('u_1')(t)\n",
    "print('Then we have for U:')\n",
    "U=Matrix([u0,u1,0,0])\n",
    "\n",
    "#contraction of U\n",
    "display(U)\n",
    "print('The contraction')\n",
    "display(ua)\n",
    "contraction=(down(g_down,U)*U)[0]\n",
    "print('yields a value of:')\n",
    "display(contraction)\n",
    "\n",
    "#Choose normalization\n",
    "normalization=-1\n",
    "print('Choosing a normalization of',normalization, 'yields: ')\n",
    "display(Eq(ua,normalization))\n",
    "\n",
    "#computing u1(u0)\n",
    "tmp=contraction-normalization\n",
    "tmp1=solve(tmp,u1)\n",
    "display(Eq(u1,tmp1[0]))\n",
    "\n",
    "#Final U vector\n",
    "arbitraty_u0=1/N\n",
    "U=simplify(Matrix([u0,tmp1[0],0,0]).subs(u0,arbitraty_u0))\n",
    "print('U is then given by:')\n",
    "display(U)"
   ]
  },
  {
   "cell_type": "markdown",
   "id": "cccd97a2",
   "metadata": {},
   "source": [
    "### (d)\n",
    "$h_{\\mu \\nu} = g_{\\mu \\nu} - U_{\\mu} U_{\\nu}$"
   ]
  },
  {
   "cell_type": "code",
   "execution_count": 12,
   "id": "65f3318d",
   "metadata": {},
   "outputs": [
    {
     "data": {
      "text/latex": [
       "$\\displaystyle \\left[\\begin{matrix}- 2 N^{2}{\\left(t \\right)} & 0 & 0 & 0\\\\0 & X^{2}{\\left(t \\right)} & 0 & 0\\\\0 & 0 & Y^{2}{\\left(t \\right)} & 0\\\\0 & 0 & 0 & Y^{2}{\\left(t \\right)} \\sin^{2}{\\left(\\theta \\right)}\\end{matrix}\\right]$"
      ],
      "text/plain": [
       "Matrix([\n",
       "[-2*N(t)**2,       0,       0,                      0],\n",
       "[         0, X(t)**2,       0,                      0],\n",
       "[         0,       0, Y(t)**2,                      0],\n",
       "[         0,       0,       0, Y(t)**2*sin(\\theta)**2]])"
      ]
     },
     "metadata": {},
     "output_type": "display_data"
    }
   ],
   "source": [
    "#First, compute U_mu U_nu\n",
    "U_down=down(g_down,U)\n",
    "h=Matrix([[0, 0, 0, 0],[0,0, 0, 0],[0, 0, 0, 0],[0, 0, 0, 0]])\n",
    "for i in range(0,4):\n",
    "    for j in range(0,4):\n",
    "        h[i,j]=g_down[i,j]-U_down[i]*U_down[j]\n",
    "display(h)"
   ]
  },
  {
   "cell_type": "markdown",
   "id": "fb31a10e",
   "metadata": {},
   "source": [
    "### (e)\n",
    "$B_{\\mu \\nu} = \\nabla_{\\mu} U_{\\nu}=\\frac{\\theta}{3}P_{\\mu \\nu} + \\sigma_{\\mu \\nu} + \\omega_{\\mu \\nu}$\n"
   ]
  },
  {
   "cell_type": "code",
   "execution_count": 13,
   "id": "d27198de",
   "metadata": {},
   "outputs": [
    {
     "name": "stdout",
     "output_type": "stream",
     "text": [
      "B:\n"
     ]
    },
    {
     "data": {
      "text/latex": [
       "$\\displaystyle \\left[\\begin{matrix}0 & 0 & 0 & 0\\\\0 & \\frac{1.0 X{\\left(t \\right)} \\frac{d}{d t} X{\\left(t \\right)}}{N{\\left(t \\right)}} & 0 & 0\\\\0 & 0 & \\frac{1.0 Y{\\left(t \\right)} \\frac{d}{d t} Y{\\left(t \\right)}}{N{\\left(t \\right)}} & 0\\\\0 & 0 & 0 & \\frac{1.0 Y{\\left(t \\right)} \\sin^{2}{\\left(\\theta \\right)} \\frac{d}{d t} Y{\\left(t \\right)}}{N{\\left(t \\right)}}\\end{matrix}\\right]$"
      ],
      "text/plain": [
       "Matrix([\n",
       "[0,                                 0,                                 0,                                                0],\n",
       "[0, 1.0*X(t)*Derivative(X(t), t)/N(t),                                 0,                                                0],\n",
       "[0,                                 0, 1.0*Y(t)*Derivative(Y(t), t)/N(t),                                                0],\n",
       "[0,                                 0,                                 0, 1.0*Y(t)*sin(\\theta)**2*Derivative(Y(t), t)/N(t)]])"
      ]
     },
     "metadata": {},
     "output_type": "display_data"
    }
   ],
   "source": [
    "B=simplify(covariant_derivative_down(C,xlist,U_down))\n",
    "print('B:')\n",
    "display(B)\n"
   ]
  },
  {
   "cell_type": "markdown",
   "id": "87f22f71",
   "metadata": {},
   "source": [
    "### (f)\n",
    "$\\theta=P^{\\mu \\nu}B_{\\mu \\nu} = \\nabla_{\\mu} U^{\\mu}=Tr(B) $"
   ]
  },
  {
   "cell_type": "code",
   "execution_count": 14,
   "id": "afb813b2",
   "metadata": {},
   "outputs": [
    {
     "name": "stdout",
     "output_type": "stream",
     "text": [
      "Expansion coefficient theta:\n"
     ]
    },
    {
     "data": {
      "text/latex": [
       "$\\displaystyle \\frac{2.0 \\frac{d}{d t} Y{\\left(t \\right)}}{N{\\left(t \\right)} Y{\\left(t \\right)}} + \\frac{1.0 \\frac{d}{d t} X{\\left(t \\right)}}{N{\\left(t \\right)} X{\\left(t \\right)}}$"
      ],
      "text/plain": [
       "2.0*Derivative(Y(t), t)/(N(t)*Y(t)) + 1.0*Derivative(X(t), t)/(N(t)*X(t))"
      ]
     },
     "metadata": {},
     "output_type": "display_data"
    }
   ],
   "source": [
    "print('Expansion coefficient theta:')\n",
    "theta_expansion=simplify(Trace(B*g_up))\n",
    "display(theta_expansion)"
   ]
  },
  {
   "cell_type": "markdown",
   "id": "446e25f2",
   "metadata": {},
   "source": [
    "### (g) \n",
    "$\\sigma_{\\mu \\nu} = \\frac{1}{2}(B_{\\mu \\nu}+ B_{\\nu \\mu})-\\frac{1}{3}h_{\\mu \\nu} \\theta$\n",
    "\n",
    "and\n",
    "\n",
    "$\\sigma^2=\\sigma_{\\mu \\nu}\\sigma^{\\mu \\nu}= g^{\\mu \\alpha} g^{\\nu \\beta} \\sigma_{\\mu \\nu} \\sigma_{\\alpha \\beta}$"
   ]
  },
  {
   "cell_type": "code",
   "execution_count": 15,
   "id": "aa9ddd50",
   "metadata": {},
   "outputs": [
    {
     "data": {
      "text/latex": [
       "$\\displaystyle \\left[\\begin{matrix}\\frac{1.33333333333333 N{\\left(t \\right)} \\frac{d}{d t} Y{\\left(t \\right)}}{Y{\\left(t \\right)}} + \\frac{0.666666666666667 N{\\left(t \\right)} \\frac{d}{d t} X{\\left(t \\right)}}{X{\\left(t \\right)}} & 0 & 0 & 0\\\\0 & - \\frac{0.666666666666667 X^{2}{\\left(t \\right)} \\frac{d}{d t} Y{\\left(t \\right)}}{N{\\left(t \\right)} Y{\\left(t \\right)}} + \\frac{0.666666666666667 X{\\left(t \\right)} \\frac{d}{d t} X{\\left(t \\right)}}{N{\\left(t \\right)}} & 0 & 0\\\\0 & 0 & \\frac{0.333333333333333 Y{\\left(t \\right)} \\frac{d}{d t} Y{\\left(t \\right)}}{N{\\left(t \\right)}} - \\frac{0.333333333333333 Y^{2}{\\left(t \\right)} \\frac{d}{d t} X{\\left(t \\right)}}{N{\\left(t \\right)} X{\\left(t \\right)}} & 0\\\\0 & 0 & 0 & \\frac{0.333333333333333 Y{\\left(t \\right)} \\sin^{2}{\\left(\\theta \\right)} \\frac{d}{d t} Y{\\left(t \\right)}}{N{\\left(t \\right)}} - \\frac{0.333333333333333 Y^{2}{\\left(t \\right)} \\sin^{2}{\\left(\\theta \\right)} \\frac{d}{d t} X{\\left(t \\right)}}{N{\\left(t \\right)} X{\\left(t \\right)}}\\end{matrix}\\right]$"
      ],
      "text/plain": [
       "Matrix([\n",
       "[1.33333333333333*N(t)*Derivative(Y(t), t)/Y(t) + 0.666666666666667*N(t)*Derivative(X(t), t)/X(t),                                                                                                            0,                                                                                                           0,                                                                                                                                         0],\n",
       "[                                                                                               0, -0.666666666666667*X(t)**2*Derivative(Y(t), t)/(N(t)*Y(t)) + 0.666666666666667*X(t)*Derivative(X(t), t)/N(t),                                                                                                           0,                                                                                                                                         0],\n",
       "[                                                                                               0,                                                                                                            0, 0.333333333333333*Y(t)*Derivative(Y(t), t)/N(t) - 0.333333333333333*Y(t)**2*Derivative(X(t), t)/(N(t)*X(t)),                                                                                                                                         0],\n",
       "[                                                                                               0,                                                                                                            0,                                                                                                           0, 0.333333333333333*Y(t)*sin(\\theta)**2*Derivative(Y(t), t)/N(t) - 0.333333333333333*Y(t)**2*sin(\\theta)**2*Derivative(X(t), t)/(N(t)*X(t))]])"
      ]
     },
     "metadata": {},
     "output_type": "display_data"
    }
   ],
   "source": [
    "sigma=simplify(1/2*(B+B.T)-1/3*h*theta_expansion)\n",
    "display(expand(simplify(sigma)))"
   ]
  },
  {
   "cell_type": "code",
   "execution_count": 16,
   "id": "a4bbb86a",
   "metadata": {},
   "outputs": [
    {
     "data": {
      "text/latex": [
       "$\\displaystyle \\left[\\begin{matrix}0 & 0 & 0 & 0\\\\0 & \\frac{1.0 X{\\left(t \\right)} \\frac{d}{d t} X{\\left(t \\right)}}{N{\\left(t \\right)}} & 0 & 0\\\\0 & 0 & \\frac{1.0 Y{\\left(t \\right)} \\frac{d}{d t} Y{\\left(t \\right)}}{N{\\left(t \\right)}} & 0\\\\0 & 0 & 0 & \\frac{1.0 Y{\\left(t \\right)} \\sin^{2}{\\left(\\theta \\right)} \\frac{d}{d t} Y{\\left(t \\right)}}{N{\\left(t \\right)}}\\end{matrix}\\right]$"
      ],
      "text/plain": [
       "Matrix([\n",
       "[0,                                 0,                                 0,                                                0],\n",
       "[0, 1.0*X(t)*Derivative(X(t), t)/N(t),                                 0,                                                0],\n",
       "[0,                                 0, 1.0*Y(t)*Derivative(Y(t), t)/N(t),                                                0],\n",
       "[0,                                 0,                                 0, 1.0*Y(t)*sin(\\theta)**2*Derivative(Y(t), t)/N(t)]])"
      ]
     },
     "execution_count": 16,
     "metadata": {},
     "output_type": "execute_result"
    }
   ],
   "source": [
    "simplify(1/2*(B+B.T))"
   ]
  },
  {
   "cell_type": "markdown",
   "id": "c7e3beef",
   "metadata": {},
   "source": [
    "$\\sigma^2=\\sigma_{\\mu \\nu}\\sigma^{\\mu \\nu}= g^{\\mu \\alpha} g^{\\nu \\beta} \\sigma_{\\mu \\nu} \\sigma_{\\alpha \\beta}$"
   ]
  },
  {
   "cell_type": "code",
   "execution_count": 17,
   "id": "5fae5a82",
   "metadata": {},
   "outputs": [
    {
     "name": "stdout",
     "output_type": "stream",
     "text": [
      "shear \\sigma^2 is given by: \n"
     ]
    },
    {
     "data": {
      "text/latex": [
       "$\\displaystyle \\frac{2.33333333333333 \\left(\\frac{d}{d t} Y{\\left(t \\right)}\\right)^{2}}{N^{2}{\\left(t \\right)} Y^{2}{\\left(t \\right)}} + \\frac{0.666666666666666 \\frac{d}{d t} X{\\left(t \\right)} \\frac{d}{d t} Y{\\left(t \\right)}}{N^{2}{\\left(t \\right)} X{\\left(t \\right)} Y{\\left(t \\right)}} + \\frac{1.0 \\left(\\frac{d}{d t} X{\\left(t \\right)}\\right)^{2}}{N^{2}{\\left(t \\right)} X^{2}{\\left(t \\right)}}$"
      ],
      "text/plain": [
       "2.33333333333333*Derivative(Y(t), t)**2/(N(t)**2*Y(t)**2) + 0.666666666666666*Derivative(X(t), t)*Derivative(Y(t), t)/(N(t)**2*X(t)*Y(t)) + 1.0*Derivative(X(t), t)**2/(N(t)**2*X(t)**2)"
      ]
     },
     "metadata": {},
     "output_type": "display_data"
    }
   ],
   "source": [
    "#calculating sigma with upper indices\n",
    "sigma_up=g_up*sigma*g_up\n",
    "\n",
    "shear=0\n",
    "for i in range(0,3):\n",
    "    for j in range(0,3):\n",
    "        shear+= sigma_up[i,j]*sigma[i,j]\n",
    "print('shear \\sigma^2 is given by: ')\n",
    "display(expand(simplify(shear)))"
   ]
  },
  {
   "cell_type": "markdown",
   "id": "b5e100c0",
   "metadata": {},
   "source": [
    "### (h)\n",
    "$\\omega_{\\mu \\nu} = B_{[\\mu \\nu]}=\\frac{1}{2}(B_{\\mu \\nu}-B_{\\nu \\mu})$"
   ]
  },
  {
   "cell_type": "code",
   "execution_count": 18,
   "id": "f90180ca",
   "metadata": {},
   "outputs": [
    {
     "data": {
      "text/latex": [
       "$\\displaystyle \\left[\\begin{matrix}0 & 0 & 0 & 0\\\\0 & 0 & 0 & 0\\\\0 & 0 & 0 & 0\\\\0 & 0 & 0 & 0\\end{matrix}\\right]$"
      ],
      "text/plain": [
       "Matrix([\n",
       "[0, 0, 0, 0],\n",
       "[0, 0, 0, 0],\n",
       "[0, 0, 0, 0],\n",
       "[0, 0, 0, 0]])"
      ]
     },
     "metadata": {},
     "output_type": "display_data"
    }
   ],
   "source": [
    "#computing the tensor\n",
    "w=simplify(1/2*(B-B.T))\n",
    "display(w)"
   ]
  },
  {
   "cell_type": "markdown",
   "id": "74cdc786",
   "metadata": {},
   "source": [
    "$\\omega_{\\mu \\nu} + \\omega_{\\nu \\mu}= B_{[\\mu \\nu]} + B_{[\\nu \\mu]}= B_{[\\mu \\nu]} - B_{[\\mu \\nu]} =0$"
   ]
  },
  {
   "cell_type": "code",
   "execution_count": 19,
   "id": "3ea1c6e8",
   "metadata": {},
   "outputs": [
    {
     "data": {
      "text/latex": [
       "$\\displaystyle \\left[\\begin{matrix}0 & 0 & 0 & 0\\\\0 & 0 & 0 & 0\\\\0 & 0 & 0 & 0\\\\0 & 0 & 0 & 0\\end{matrix}\\right]$"
      ],
      "text/plain": [
       "Matrix([\n",
       "[0, 0, 0, 0],\n",
       "[0, 0, 0, 0],\n",
       "[0, 0, 0, 0],\n",
       "[0, 0, 0, 0]])"
      ]
     },
     "execution_count": 19,
     "metadata": {},
     "output_type": "execute_result"
    }
   ],
   "source": [
    "simplify(w+w.T)"
   ]
  },
  {
   "cell_type": "code",
   "execution_count": 20,
   "id": "8aef4c2a",
   "metadata": {},
   "outputs": [
    {
     "name": "stdout",
     "output_type": "stream",
     "text": [
      "vorticity is given by:\n"
     ]
    },
    {
     "data": {
      "text/latex": [
       "$\\displaystyle 0$"
      ],
      "text/plain": [
       "0"
      ]
     },
     "metadata": {},
     "output_type": "display_data"
    }
   ],
   "source": [
    "w_up=g_up*w*g_up\n",
    "\n",
    "vort=0\n",
    "for i in range(0,3):\n",
    "    for j in range(0,3):\n",
    "        vort+= w_up[i,j]*w[i,j]\n",
    "print('vorticity is given by:')\n",
    "display(simplify(vort))\n"
   ]
  }
 ],
 "metadata": {
  "kernelspec": {
   "display_name": "Python 3",
   "language": "python",
   "name": "python3"
  },
  "language_info": {
   "codemirror_mode": {
    "name": "ipython",
    "version": 3
   },
   "file_extension": ".py",
   "mimetype": "text/x-python",
   "name": "python",
   "nbconvert_exporter": "python",
   "pygments_lexer": "ipython3",
   "version": "3.8.8"
  }
 },
 "nbformat": 4,
 "nbformat_minor": 5
}
