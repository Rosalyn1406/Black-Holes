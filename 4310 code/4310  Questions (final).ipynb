{
 "cells": [
  {
   "cell_type": "code",
   "execution_count": 1,
   "id": "f3468188",
   "metadata": {},
   "outputs": [],
   "source": [
    "from sympy import*\n",
    "import numpy as np \n",
    "import time"
   ]
  },
  {
   "cell_type": "code",
   "execution_count": 2,
   "id": "7b6ee20d",
   "metadata": {},
   "outputs": [
    {
     "data": {
      "text/latex": [
       "$\\displaystyle \\left[\\begin{matrix}t\\\\r\\\\\\theta\\\\\\phi\\end{matrix}\\right]$"
      ],
      "text/plain": [
       "Matrix([\n",
       "[     t],\n",
       "[     r],\n",
       "[\\theta],\n",
       "[  \\phi]])"
      ]
     },
     "metadata": {},
     "output_type": "display_data"
    },
    {
     "data": {
      "text/latex": [
       "$\\displaystyle \\left[\\begin{matrix}dt\\\\dr\\\\d\\theta\\\\d\\phi\\end{matrix}\\right]$"
      ],
      "text/plain": [
       "Matrix([\n",
       "[     dt],\n",
       "[     dr],\n",
       "[d\\theta],\n",
       "[  d\\phi]])"
      ]
     },
     "metadata": {},
     "output_type": "display_data"
    },
    {
     "data": {
      "text/latex": [
       "$\\displaystyle \\left[\\begin{matrix}t\\\\x\\\\y\\\\z\\end{matrix}\\right]$"
      ],
      "text/plain": [
       "Matrix([\n",
       "[t],\n",
       "[x],\n",
       "[y],\n",
       "[z]])"
      ]
     },
     "metadata": {},
     "output_type": "display_data"
    },
    {
     "data": {
      "text/latex": [
       "$\\displaystyle \\left[\\begin{matrix}dt\\\\dx\\\\dy\\\\dz\\end{matrix}\\right]$"
      ],
      "text/plain": [
       "Matrix([\n",
       "[dt],\n",
       "[dx],\n",
       "[dy],\n",
       "[dz]])"
      ]
     },
     "metadata": {},
     "output_type": "display_data"
    }
   ],
   "source": [
    "# Variables we need \n",
    "t,r,theta,phi = symbols('t,r, \\\\theta, \\phi')\n",
    "x,y,z = symbols('x,y,z')\n",
    "\n",
    "# differentials\n",
    "a,b,c,ds,dt,dr,dtheta,dphi = symbols('a,b,c,ds,dt,dr,d\\\\theta, d\\phi')\n",
    "dx, dy, dz = symbols('dx,dy,dz')\n",
    "\n",
    "x_spherical = Matrix ([t,r,theta,phi])\n",
    "x_cartesian = Matrix ([t,x,y,z])\n",
    "dx_spherical = Matrix ([dt,dr,dtheta,dphi])\n",
    "dx_cartesian = Matrix ([dt,dx,dy,dz])\n",
    "xlist = [x_spherical, dx_spherical, x_cartesian , dx_cartesian]\n",
    "\n",
    "for i in range (4):\n",
    "    display(xlist[i])\n",
    "    \n",
    "def down(g,x):\n",
    "    return (g*x).T"
   ]
  },
  {
   "cell_type": "markdown",
   "id": "b0b62d35",
   "metadata": {},
   "source": [
    "# a)"
   ]
  },
  {
   "cell_type": "code",
   "execution_count": 7,
   "id": "6e89f7d8",
   "metadata": {},
   "outputs": [],
   "source": [
    "# Lambda = Function('\\Lambda')(r,t)\n",
    "# N = Function ('N')(r,t)\n",
    "# N_r = Function ('N^r')(r,t)\n",
    "# R_r = Function ('R')(r,t)\n",
    "# N = Function('N')(t)\n",
    "\n",
    "# # line element\n",
    "# ds2 = -N**2 * dt**2 + Lambda**2 * (dr + N_r*dt)**2 + R_r**2 * (dtheta**2 +sin(theta)**2 * dphi**2)\n",
    "# print('line element:')\n",
    "# display(Eq(ds**2, ds2))\n",
    "# ds2 = expand(ds2)\n"
   ]
  },
  {
   "cell_type": "code",
   "execution_count": 8,
   "id": "26725c59",
   "metadata": {},
   "outputs": [],
   "source": [
    "# compute metric \n",
    "\n",
    "# g_down= Matrix ([[0,0,0,0],[0,0,0,0],[0,0,0,0],[0,0,0,0]])\n",
    "# for i in range (4):\n",
    "#     for j in range (4):\n",
    "#         g_down[i,j] = ds2.coeff(xlist[1][i]*xlist[1][j])\n",
    "#         if str(xlist[1][i]) != str(xlist[1][j]):\n",
    "#             g_down[i,j]= g_down[i,j]/2\n",
    "\n",
    "# print('metric tensor:')\n",
    "# g_ab = symbols('g_{ab}')\n",
    "# display(g_ab)\n",
    "# display(g_down)\n",
    "\n",
    "# g_up_ab = symbols('g^{ab}')\n",
    "# display(g_up_ab)\n",
    "# g_up = simplify(g_down.inv())\n",
    "# display(g_up)\n",
    "\n",
    "# display(g_ab*g_up_ab)\n",
    "# simplify(g_up*g_down)\n",
    "\n"
   ]
  },
  {
   "cell_type": "code",
   "execution_count": 9,
   "id": "38a004ed",
   "metadata": {},
   "outputs": [
    {
     "name": "stdout",
     "output_type": "stream",
     "text": [
      "metric tensor:\n"
     ]
    },
    {
     "data": {
      "text/latex": [
       "$\\displaystyle g_{uv}$"
      ],
      "text/plain": [
       "g_{uv}"
      ]
     },
     "metadata": {},
     "output_type": "display_data"
    },
    {
     "data": {
      "text/latex": [
       "$\\displaystyle \\left[\\begin{matrix}- N^{2}{\\left(t \\right)} & 0 & 0 & 0\\\\0 & X^{2}{\\left(t \\right)} & 0 & 0\\\\0 & 0 & Y^{2}{\\left(t \\right)} & 0\\\\0 & 0 & 0 & Y^{2}{\\left(t \\right)} \\sin^{2}{\\left(\\theta \\right)}\\end{matrix}\\right]$"
      ],
      "text/plain": [
       "Matrix([\n",
       "[-N(t)**2,       0,       0,                      0],\n",
       "[       0, X(t)**2,       0,                      0],\n",
       "[       0,       0, Y(t)**2,                      0],\n",
       "[       0,       0,       0, Y(t)**2*sin(\\theta)**2]])"
      ]
     },
     "metadata": {},
     "output_type": "display_data"
    },
    {
     "data": {
      "text/latex": [
       "$\\displaystyle g^{uv}$"
      ],
      "text/plain": [
       "g^{uv}"
      ]
     },
     "metadata": {},
     "output_type": "display_data"
    },
    {
     "data": {
      "text/latex": [
       "$\\displaystyle \\left[\\begin{matrix}- \\frac{1}{N^{2}{\\left(t \\right)}} & 0 & 0 & 0\\\\0 & \\frac{1}{X^{2}{\\left(t \\right)}} & 0 & 0\\\\0 & 0 & \\frac{1}{Y^{2}{\\left(t \\right)}} & 0\\\\0 & 0 & 0 & \\frac{1}{Y^{2}{\\left(t \\right)} \\sin^{2}{\\left(\\theta \\right)}}\\end{matrix}\\right]$"
      ],
      "text/plain": [
       "Matrix([\n",
       "[-1/N(t)**2,          0,          0,                          0],\n",
       "[         0, X(t)**(-2),          0,                          0],\n",
       "[         0,          0, Y(t)**(-2),                          0],\n",
       "[         0,          0,          0, 1/(Y(t)**2*sin(\\theta)**2)]])"
      ]
     },
     "metadata": {},
     "output_type": "display_data"
    },
    {
     "data": {
      "text/latex": [
       "$\\displaystyle g^{uv} g_{uv}$"
      ],
      "text/plain": [
       "g^{uv}*g_{uv}"
      ]
     },
     "metadata": {},
     "output_type": "display_data"
    },
    {
     "data": {
      "text/latex": [
       "$\\displaystyle \\left[\\begin{matrix}1 & 0 & 0 & 0\\\\0 & 1 & 0 & 0\\\\0 & 0 & 1 & 0\\\\0 & 0 & 0 & 1\\end{matrix}\\right]$"
      ],
      "text/plain": [
       "Matrix([\n",
       "[1, 0, 0, 0],\n",
       "[0, 1, 0, 0],\n",
       "[0, 0, 1, 0],\n",
       "[0, 0, 0, 1]])"
      ]
     },
     "metadata": {},
     "output_type": "display_data"
    }
   ],
   "source": [
    "N = Function('N')(t)\n",
    "X = Function('X')(t)\n",
    "Y = Function('Y')(t)\n",
    "Lambda = Function ('\\Lambda')(r,t)\n",
    "N = Function ('N')(r,t)\n",
    "N_r = Function ('N^r')(r,t)\n",
    "R_r = Function ('R')(r,t)\n",
    "N = Function ('N')(t)\n",
    "g_down = g_down = Matrix([[-N**2, 0, 0, 0],[0, X**2, 0, 0],[0, 0, Y**2, 0],[0, 0, 0, sin(theta)**2 * Y**2]])\n",
    "#display(g_down)\n",
    "\n",
    "# display metric\n",
    "print('metric tensor:')\n",
    "g_uv = symbols('g_{uv}')\n",
    "display(g_uv)\n",
    "display(g_down)\n",
    "\n",
    "g_uv_up=symbols('g^{uv}')\n",
    "display(g_uv_up)\n",
    "# taking the inverse of g_uv metric \n",
    "g_up = simplify(g_down.inv())\n",
    "display(g_up)\n",
    "\n",
    "display(g_uv*g_uv_up)\n",
    "display(simplify(g_down*g_up))\n",
    "\n",
    "# # displaying only the determinant\n",
    "# print('determinant:')\n",
    "# g_down_det = g_down.det()\n",
    "# display(g_down_det)"
   ]
  },
  {
   "cell_type": "markdown",
   "id": "a6828cdb",
   "metadata": {},
   "source": [
    "# b)\n",
    "#### Finding Christoffel symbol and covariant derivative "
   ]
  },
  {
   "cell_type": "code",
   "execution_count": 10,
   "id": "931f3cab",
   "metadata": {},
   "outputs": [
    {
     "data": {
      "text/latex": [
       "$\\displaystyle \\left[\\begin{matrix}\\left[\\begin{matrix}0.0 & 0.0 & 0.0 & 0.0\\\\0.0 & 0.0 & 0.0 & 0.0\\\\0.0 & 0.0 & 0.0 & 0.0\\\\0.0 & 0.0 & 0.0 & 0.0\\end{matrix}\\right] & \\left[\\begin{matrix}0.0 & 0.0 & 0.0 & 0.0\\\\0.0 & 0.0 & 0.0 & 0.0\\\\0.0 & 0.0 & 0.0 & 0.0\\\\0.0 & 0.0 & 0.0 & 0.0\\end{matrix}\\right] & \\left[\\begin{matrix}0.0 & 0.0 & 0.0 & 0.0\\\\0.0 & 0.0 & 0.0 & 0.0\\\\0.0 & 0.0 & 0.0 & 0.0\\\\0.0 & 0.0 & 0.0 & 0.0\\end{matrix}\\right] & \\left[\\begin{matrix}0.0 & 0.0 & 0.0 & 0.0\\\\0.0 & 0.0 & 0.0 & 0.0\\\\0.0 & 0.0 & 0.0 & 0.0\\\\0.0 & 0.0 & 0.0 & 0.0\\end{matrix}\\right]\\end{matrix}\\right]$"
      ],
      "text/plain": [
       "[[[0.0, 0.0, 0.0, 0.0], [0.0, 0.0, 0.0, 0.0], [0.0, 0.0, 0.0, 0.0], [0.0, 0.0, 0.0, 0.0]], [[0.0, 0.0, 0.0, 0.0], [0.0, 0.0, 0.0, 0.0], [0.0, 0.0, 0.0, 0.0], [0.0, 0.0, 0.0, 0.0]], [[0.0, 0.0, 0.0, 0.0], [0.0, 0.0, 0.0, 0.0], [0.0, 0.0, 0.0, 0.0], [0.0, 0.0, 0.0, 0.0]], [[0.0, 0.0, 0.0, 0.0], [0.0, 0.0, 0.0, 0.0], [0.0, 0.0, 0.0, 0.0], [0.0, 0.0, 0.0, 0.0]]]"
      ]
     },
     "metadata": {},
     "output_type": "display_data"
    },
    {
     "data": {
      "text/latex": [
       "$\\displaystyle \\left[\\begin{matrix}\\left[\\begin{matrix}\\frac{1.0 \\frac{d}{d t} N{\\left(t \\right)}}{N{\\left(t \\right)}} & 0 & 0 & 0\\\\0 & \\frac{1.0 X{\\left(t \\right)} \\frac{d}{d t} X{\\left(t \\right)}}{N^{2}{\\left(t \\right)}} & 0 & 0\\\\0 & 0 & \\frac{1.0 Y{\\left(t \\right)} \\frac{d}{d t} Y{\\left(t \\right)}}{N^{2}{\\left(t \\right)}} & 0\\\\0 & 0 & 0 & \\frac{1.0 Y{\\left(t \\right)} \\sin^{2}{\\left(\\theta \\right)} \\frac{d}{d t} Y{\\left(t \\right)}}{N^{2}{\\left(t \\right)}}\\end{matrix}\\right] & \\left[\\begin{matrix}0 & \\frac{1.0 \\frac{d}{d t} X{\\left(t \\right)}}{X{\\left(t \\right)}} & 0 & 0\\\\\\frac{1.0 \\frac{d}{d t} X{\\left(t \\right)}}{X{\\left(t \\right)}} & 0 & 0 & 0\\\\0 & 0 & 0 & 0\\\\0 & 0 & 0 & 0\\end{matrix}\\right] & \\left[\\begin{matrix}0 & 0 & \\frac{1.0 \\frac{d}{d t} Y{\\left(t \\right)}}{Y{\\left(t \\right)}} & 0\\\\0 & 0 & 0 & 0\\\\\\frac{1.0 \\frac{d}{d t} Y{\\left(t \\right)}}{Y{\\left(t \\right)}} & 0 & 0 & 0\\\\0 & 0 & 0 & - 0.5 \\sin{\\left(2 \\theta \\right)}\\end{matrix}\\right] & \\left[\\begin{matrix}0 & 0 & 0 & \\frac{1.0 \\frac{d}{d t} Y{\\left(t \\right)}}{Y{\\left(t \\right)}}\\\\0 & 0 & 0 & 0\\\\0 & 0 & 0 & \\frac{1.0}{\\tan{\\left(\\theta \\right)}}\\\\\\frac{1.0 \\frac{d}{d t} Y{\\left(t \\right)}}{Y{\\left(t \\right)}} & 0 & \\frac{1.0}{\\tan{\\left(\\theta \\right)}} & 0\\end{matrix}\\right]\\end{matrix}\\right]$"
      ],
      "text/plain": [
       "[[[1.0*Derivative(N(t), t)/N(t), 0, 0, 0], [0, 1.0*X(t)*Derivative(X(t), t)/N(t)**2, 0, 0], [0, 0, 1.0*Y(t)*Derivative(Y(t), t)/N(t)**2, 0], [0, 0, 0, 1.0*Y(t)*sin(\\theta)**2*Derivative(Y(t), t)/N(t)**2]], [[0, 1.0*Derivative(X(t), t)/X(t), 0, 0], [1.0*Derivative(X(t), t)/X(t), 0, 0, 0], [0, 0, 0, 0], [0, 0, 0, 0]], [[0, 0, 1.0*Derivative(Y(t), t)/Y(t), 0], [0, 0, 0, 0], [1.0*Derivative(Y(t), t)/Y(t), 0, 0, 0], [0, 0, 0, -0.5*sin(2*\\theta)]], [[0, 0, 0, 1.0*Derivative(Y(t), t)/Y(t)], [0, 0, 0, 0], [0, 0, 0, 1.0/tan(\\theta)], [1.0*Derivative(Y(t), t)/Y(t), 0, 1.0/tan(\\theta), 0]]]"
      ]
     },
     "metadata": {},
     "output_type": "display_data"
    }
   ],
   "source": [
    "C = MutableDenseNDimArray(np.zeros((4,)*3))\n",
    "display(C)\n",
    "\n",
    "# Assigning component to the christoffel symbols\n",
    "for i in range(4):\n",
    "    for j in range(4):\n",
    "        for k in range (4):\n",
    "            su = 0\n",
    "            for p in range (4):\n",
    "                su = su + 0.5*g_up[i,p]*( diff(g_down[k,p], xlist[0][j]) + diff(g_down[p,j],xlist[0][k]) - diff(g_down[j,k],xlist[0][p]))\n",
    "                C[i,j,k]=su\n",
    "display(simplify(C))"
   ]
  },
  {
   "cell_type": "code",
   "execution_count": 11,
   "id": "37e8a416",
   "metadata": {},
   "outputs": [
    {
     "data": {
      "text/latex": [
       "$\\displaystyle \\left[\\begin{matrix}0 & 0 & \\frac{1.0 \\frac{d}{d t} Y{\\left(t \\right)}}{Y{\\left(t \\right)}} & 0\\\\0 & 0 & 0 & 0\\\\\\frac{1.0 \\frac{d}{d t} Y{\\left(t \\right)}}{Y{\\left(t \\right)}} & 0 & 0 & 0\\\\0 & 0 & 0 & - 0.5 \\sin{\\left(2 \\theta \\right)}\\end{matrix}\\right]$"
      ],
      "text/plain": [
       "[[0, 0, 1.0*Derivative(Y(t), t)/Y(t), 0], [0, 0, 0, 0], [1.0*Derivative(Y(t), t)/Y(t), 0, 0, 0], [0, 0, 0, -0.5*sin(2*\\theta)]]"
      ]
     },
     "execution_count": 11,
     "metadata": {},
     "output_type": "execute_result"
    }
   ],
   "source": [
    "# taking the last element \n",
    "simplify(C[2])"
   ]
  },
  {
   "cell_type": "code",
   "execution_count": 12,
   "id": "7976fe22",
   "metadata": {},
   "outputs": [
    {
     "data": {
      "text/latex": [
       "$\\displaystyle \\frac{1.0 X{\\left(t \\right)} \\frac{d}{d t} X{\\left(t \\right)}}{N^{2}{\\left(t \\right)}}$"
      ],
      "text/plain": [
       "1.0*X(t)*Derivative(X(t), t)/N(t)**2"
      ]
     },
     "execution_count": 12,
     "metadata": {},
     "output_type": "execute_result"
    }
   ],
   "source": [
    "# cell 0, column 1,row 1\n",
    "# start from index 0 \n",
    "C[0,1,1]"
   ]
  },
  {
   "cell_type": "markdown",
   "id": "ff713b7d",
   "metadata": {},
   "source": [
    "# Covariant derivative "
   ]
  },
  {
   "cell_type": "code",
   "execution_count": 13,
   "id": "81838822",
   "metadata": {},
   "outputs": [
    {
     "data": {
      "text/latex": [
       "$\\displaystyle \\left[\\begin{matrix}f{\\left(t \\right)}\\\\g{\\left(r \\right)}\\\\0\\\\0\\end{matrix}\\right]$"
      ],
      "text/plain": [
       "Matrix([\n",
       "[f(t)],\n",
       "[g(r)],\n",
       "[   0],\n",
       "[   0]])"
      ]
     },
     "metadata": {},
     "output_type": "display_data"
    },
    {
     "data": {
      "text/latex": [
       "$\\displaystyle \\left[\\begin{matrix}- N^{2}{\\left(t \\right)} f{\\left(t \\right)} & X^{2}{\\left(t \\right)} g{\\left(r \\right)} & 0 & 0\\end{matrix}\\right]$"
      ],
      "text/plain": [
       "Matrix([[-N(t)**2*f(t), X(t)**2*g(r), 0, 0]])"
      ]
     },
     "metadata": {},
     "output_type": "display_data"
    }
   ],
   "source": [
    "t1 = Function('f')(t)\n",
    "r1 = Function('g')(r)\n",
    "x1 = Matrix([t1,r1,0,0])\n",
    "display(x1)\n",
    "\n",
    "# down index \n",
    "x1_down=down(g_down,x1)\n",
    "display(x1_down)"
   ]
  },
  {
   "cell_type": "code",
   "execution_count": 14,
   "id": "bb4402f0",
   "metadata": {},
   "outputs": [
    {
     "data": {
      "text/latex": [
       "$\\displaystyle B^{a}_{b}$"
      ],
      "text/plain": [
       "B^{a}_{b}"
      ]
     },
     "metadata": {},
     "output_type": "display_data"
    },
    {
     "data": {
      "text/latex": [
       "$\\displaystyle \\left[\\begin{matrix}\\frac{d}{d t} f{\\left(t \\right)} + \\frac{1.0 f{\\left(t \\right)} \\frac{d}{d t} N{\\left(t \\right)}}{N{\\left(t \\right)}} & \\frac{1.0 X{\\left(t \\right)} g{\\left(r \\right)} \\frac{d}{d t} X{\\left(t \\right)}}{N^{2}{\\left(t \\right)}} & 0 & 0\\\\\\frac{1.0 g{\\left(r \\right)} \\frac{d}{d t} X{\\left(t \\right)}}{X{\\left(t \\right)}} & \\frac{d}{d r} g{\\left(r \\right)} + \\frac{1.0 f{\\left(t \\right)} \\frac{d}{d t} X{\\left(t \\right)}}{X{\\left(t \\right)}} & 0 & 0\\\\0 & 0 & \\frac{1.0 f{\\left(t \\right)} \\frac{d}{d t} Y{\\left(t \\right)}}{Y{\\left(t \\right)}} & 0\\\\0 & 0 & 0 & \\frac{1.0 f{\\left(t \\right)} \\frac{d}{d t} Y{\\left(t \\right)}}{Y{\\left(t \\right)}}\\end{matrix}\\right]$"
      ],
      "text/plain": [
       "Matrix([\n",
       "[Derivative(f(t), t) + 1.0*f(t)*Derivative(N(t), t)/N(t),               1.0*X(t)*g(r)*Derivative(X(t), t)/N(t)**2,                                 0,                                 0],\n",
       "[                      1.0*g(r)*Derivative(X(t), t)/X(t), Derivative(g(r), r) + 1.0*f(t)*Derivative(X(t), t)/X(t),                                 0,                                 0],\n",
       "[                                                      0,                                                       0, 1.0*f(t)*Derivative(Y(t), t)/Y(t),                                 0],\n",
       "[                                                      0,                                                       0,                                 0, 1.0*f(t)*Derivative(Y(t), t)/Y(t)]])"
      ]
     },
     "metadata": {},
     "output_type": "display_data"
    },
    {
     "data": {
      "text/latex": [
       "$\\displaystyle B_{ab}$"
      ],
      "text/plain": [
       "B_{ab}"
      ]
     },
     "metadata": {},
     "output_type": "display_data"
    },
    {
     "data": {
      "text/latex": [
       "$\\displaystyle \\left[\\begin{matrix}- \\left(N{\\left(t \\right)} \\frac{d}{d t} f{\\left(t \\right)} + 1.0 f{\\left(t \\right)} \\frac{d}{d t} N{\\left(t \\right)}\\right) N{\\left(t \\right)} & - 1.0 X{\\left(t \\right)} g{\\left(r \\right)} \\frac{d}{d t} X{\\left(t \\right)} & 0 & 0\\\\1.0 X{\\left(t \\right)} g{\\left(r \\right)} \\frac{d}{d t} X{\\left(t \\right)} & \\left(X{\\left(t \\right)} \\frac{d}{d r} g{\\left(r \\right)} + 1.0 f{\\left(t \\right)} \\frac{d}{d t} X{\\left(t \\right)}\\right) X{\\left(t \\right)} & 0 & 0\\\\0 & 0 & 1.0 Y{\\left(t \\right)} f{\\left(t \\right)} \\frac{d}{d t} Y{\\left(t \\right)} & 0\\\\0 & 0 & 0 & 1.0 Y{\\left(t \\right)} f{\\left(t \\right)} \\sin^{2}{\\left(\\theta \\right)} \\frac{d}{d t} Y{\\left(t \\right)}\\end{matrix}\\right]$"
      ],
      "text/plain": [
       "Matrix([\n",
       "[-(N(t)*Derivative(f(t), t) + 1.0*f(t)*Derivative(N(t), t))*N(t),                             -1.0*X(t)*g(r)*Derivative(X(t), t),                                 0,                                                0],\n",
       "[                              1.0*X(t)*g(r)*Derivative(X(t), t), (X(t)*Derivative(g(r), r) + 1.0*f(t)*Derivative(X(t), t))*X(t),                                 0,                                                0],\n",
       "[                                                              0,                                                              0, 1.0*Y(t)*f(t)*Derivative(Y(t), t),                                                0],\n",
       "[                                                              0,                                                              0,                                 0, 1.0*Y(t)*f(t)*sin(\\theta)**2*Derivative(Y(t), t)]])"
      ]
     },
     "metadata": {},
     "output_type": "display_data"
    },
    {
     "data": {
      "text/latex": [
       "$\\displaystyle - B_{ab} + g_{ac}B^{c}_{b}$"
      ],
      "text/plain": [
       "-B_{ab} + g_{ac}B^{c}_{b}"
      ]
     },
     "metadata": {},
     "output_type": "display_data"
    },
    {
     "data": {
      "text/latex": [
       "$\\displaystyle \\left[\\begin{matrix}0 & 0 & 0 & 0\\\\0 & 0 & 0 & 0\\\\0 & 0 & 0 & 0\\\\0 & 0 & 0 & 0\\end{matrix}\\right]$"
      ],
      "text/plain": [
       "Matrix([\n",
       "[0, 0, 0, 0],\n",
       "[0, 0, 0, 0],\n",
       "[0, 0, 0, 0],\n",
       "[0, 0, 0, 0]])"
      ]
     },
     "metadata": {},
     "output_type": "display_data"
    }
   ],
   "source": [
    "def covariant_derivative_up(C,xlist,x1):\n",
    "    # what is argument of x1?\n",
    "    D = Matrix(np.zeros((4,)*2))\n",
    "    for i in range (4):\n",
    "        for j in range (4):\n",
    "            tmp = 0\n",
    "            for k in range(4):\n",
    "                tmp = tmp + C[j,i,k]*x1[k] \n",
    "                D[i,j]=diff(x1[j],xlist[0][i]) + tmp \n",
    "    return D.T\n",
    "Bs1 = symbols('B^{a}_{b}')\n",
    "display(Bs1)\n",
    "display( covariant_derivative_up(C,xlist,x1) )\n",
    "\n",
    "def covariant_derivative_down(C,xlist,x1):\n",
    "    D = Matrix(np.zeros((4,)*2))\n",
    "    for i in range (4):\n",
    "        for j in range (4):\n",
    "            tmp = 0 \n",
    "            for k in range (4):\n",
    "                tmp = tmp + C[k,i,j]*x1[k]\n",
    "                D[i,j]= diff(x1[j],xlist[0][i]) -tmp \n",
    "    return D.T\n",
    "Bs2 = symbols('B_{ab}')\n",
    "display(Bs2)\n",
    "display(simplify(covariant_derivative_down(C,xlist,x1_down)))\n",
    "\n",
    "Bs3 = symbols('g_{ac}B^{c}_{b}')\n",
    "#display(Bs3)\n",
    "display(Bs3 - Bs2)\n",
    "display(simplify(g_down* covariant_derivative_up(C,xlist,x1)) - simplify(covariant_derivative_down(C,xlist,x1_down)))"
   ]
  },
  {
   "cell_type": "markdown",
   "id": "20dad71b",
   "metadata": {},
   "source": [
    "# c) \n",
    "#### Component of tangent vector "
   ]
  },
  {
   "cell_type": "code",
   "execution_count": 15,
   "id": "51d56970",
   "metadata": {},
   "outputs": [
    {
     "name": "stdout",
     "output_type": "stream",
     "text": [
      "Then we have for U:\n"
     ]
    },
    {
     "data": {
      "text/latex": [
       "$\\displaystyle \\left[\\begin{matrix}\\operatorname{u_{0}}{\\left(t \\right)}\\\\\\operatorname{u_{1}}{\\left(t \\right)}\\\\0\\\\0\\end{matrix}\\right]$"
      ],
      "text/plain": [
       "Matrix([\n",
       "[u_0(t)],\n",
       "[u_1(t)],\n",
       "[     0],\n",
       "[     0]])"
      ]
     },
     "metadata": {},
     "output_type": "display_data"
    },
    {
     "name": "stdout",
     "output_type": "stream",
     "text": [
      "The contration\n"
     ]
    },
    {
     "data": {
      "text/latex": [
       "$\\displaystyle g_{uv}U^{u}U^{v}$"
      ],
      "text/plain": [
       "g_{uv}U^{u}U^{v}"
      ]
     },
     "metadata": {},
     "output_type": "display_data"
    },
    {
     "name": "stdout",
     "output_type": "stream",
     "text": [
      "yield a value of:\n"
     ]
    },
    {
     "data": {
      "text/latex": [
       "$\\displaystyle - N^{2}{\\left(t \\right)} \\operatorname{u_{0}}^{2}{\\left(t \\right)} + X^{2}{\\left(t \\right)} \\operatorname{u_{1}}^{2}{\\left(t \\right)}$"
      ],
      "text/plain": [
       "-N(t)**2*u_0(t)**2 + X(t)**2*u_1(t)**2"
      ]
     },
     "metadata": {},
     "output_type": "display_data"
    },
    {
     "name": "stdout",
     "output_type": "stream",
     "text": [
      "Choosing a normalization of -1 yields:\n"
     ]
    },
    {
     "data": {
      "text/latex": [
       "$\\displaystyle g_{uv}U^{u}U^{v} = -1$"
      ],
      "text/plain": [
       "Eq(g_{uv}U^{u}U^{v}, -1)"
      ]
     },
     "metadata": {},
     "output_type": "display_data"
    },
    {
     "data": {
      "text/latex": [
       "$\\displaystyle \\operatorname{u_{1}}{\\left(t \\right)} = - \\frac{\\sqrt{N^{2}{\\left(t \\right)} \\operatorname{u_{0}}^{2}{\\left(t \\right)} - 1}}{X{\\left(t \\right)}}$"
      ],
      "text/plain": [
       "Eq(u_1(t), -sqrt(N(t)**2*u_0(t)**2 - 1)/X(t))"
      ]
     },
     "metadata": {},
     "output_type": "display_data"
    },
    {
     "name": "stdout",
     "output_type": "stream",
     "text": [
      "U is then given by:\n"
     ]
    },
    {
     "data": {
      "text/latex": [
       "$\\displaystyle \\left[\\begin{matrix}\\frac{1}{N{\\left(t \\right)}}\\\\0\\\\0\\\\0\\end{matrix}\\right]$"
      ],
      "text/plain": [
       "Matrix([\n",
       "[1/N(t)],\n",
       "[     0],\n",
       "[     0],\n",
       "[     0]])"
      ]
     },
     "metadata": {},
     "output_type": "display_data"
    }
   ],
   "source": [
    "# U miu\n",
    "ua = symbols ('g_{uv}U^{u}U^{v}')\n",
    "#display(ua)\n",
    "\n",
    "u0=Function('u_0')(t)\n",
    "u1 = Function('u_1')(t)\n",
    "print('Then we have for U:')\n",
    "\n",
    "# contraction of U \n",
    "U = Matrix([u0,u1,0 ,0])\n",
    "display(U)\n",
    "print('The contration')\n",
    "display(ua)\n",
    "# up index to down index \n",
    "contraction = (down(g_down,U)*U)[0]\n",
    "print('yield a value of:')\n",
    "display(contraction)\n",
    "\n",
    "# choose normalization \n",
    "normalization = -1\n",
    "print('Choosing a normalization of', normalization, 'yields:')\n",
    "# display equation \n",
    "display(Eq(ua,normalization))\n",
    "\n",
    "# computing u1(u0)\n",
    "tmp = contraction - normalization \n",
    "tmp1 = solve(tmp,u1)\n",
    "#print('tmp1:')\n",
    "#display(tmp1)\n",
    "display(Eq(u1,tmp1[0]))\n",
    "\n",
    "# Final U vector\n",
    "arbitrary_u0=1/N\n",
    "# substitute u0 with arbitary u0:1/N\n",
    "U = simplify(Matrix([u0,tmp1[0], 0, 0]).subs(u0,arbitrary_u0))\n",
    "print('U is then given by:')\n",
    "display(U)\n"
   ]
  },
  {
   "cell_type": "markdown",
   "id": "fa31600e",
   "metadata": {},
   "source": [
    "# d)"
   ]
  },
  {
   "cell_type": "code",
   "execution_count": 16,
   "id": "8020b2cf",
   "metadata": {},
   "outputs": [
    {
     "data": {
      "text/latex": [
       "$\\displaystyle \\left[\\begin{matrix}- N{\\left(t \\right)} & 0 & 0 & 0\\end{matrix}\\right]$"
      ],
      "text/plain": [
       "Matrix([[-N(t), 0, 0, 0]])"
      ]
     },
     "metadata": {},
     "output_type": "display_data"
    },
    {
     "data": {
      "text/latex": [
       "$\\displaystyle \\left[\\begin{matrix}- 2 N^{2}{\\left(t \\right)} & 0 & 0 & 0\\\\0 & X^{2}{\\left(t \\right)} & 0 & 0\\\\0 & 0 & Y^{2}{\\left(t \\right)} & 0\\\\0 & 0 & 0 & Y^{2}{\\left(t \\right)} \\sin^{2}{\\left(\\theta \\right)}\\end{matrix}\\right]$"
      ],
      "text/plain": [
       "Matrix([\n",
       "[-2*N(t)**2,       0,       0,                      0],\n",
       "[         0, X(t)**2,       0,                      0],\n",
       "[         0,       0, Y(t)**2,                      0],\n",
       "[         0,       0,       0, Y(t)**2*sin(\\theta)**2]])"
      ]
     },
     "metadata": {},
     "output_type": "display_data"
    }
   ],
   "source": [
    "# first, compute U_mu and U_nu\n",
    "# upper to lower index \n",
    "U_down = down(g_down,U)\n",
    "display(U_down)\n",
    "h = Matrix([[ 0,0,0,0,],[0,0,0,0],[0,0,0,0],[0,0,0,0]])\n",
    "for i in range (4):\n",
    "    for j in range (4):\n",
    "        h[i,j]=g_down[i,j]-U_down[i]*U_down[j]\n",
    "display(h)"
   ]
  },
  {
   "cell_type": "markdown",
   "id": "05824a03",
   "metadata": {},
   "source": [
    "# e) "
   ]
  },
  {
   "cell_type": "code",
   "execution_count": 17,
   "id": "e2064cb5",
   "metadata": {},
   "outputs": [
    {
     "name": "stdout",
     "output_type": "stream",
     "text": [
      "B:\n"
     ]
    },
    {
     "data": {
      "text/latex": [
       "$\\displaystyle \\left[\\begin{matrix}0 & 0 & 0 & 0\\\\0 & \\frac{1.0 X{\\left(t \\right)} \\frac{d}{d t} X{\\left(t \\right)}}{N{\\left(t \\right)}} & 0 & 0\\\\0 & 0 & \\frac{1.0 Y{\\left(t \\right)} \\frac{d}{d t} Y{\\left(t \\right)}}{N{\\left(t \\right)}} & 0\\\\0 & 0 & 0 & \\frac{1.0 Y{\\left(t \\right)} \\sin^{2}{\\left(\\theta \\right)} \\frac{d}{d t} Y{\\left(t \\right)}}{N{\\left(t \\right)}}\\end{matrix}\\right]$"
      ],
      "text/plain": [
       "Matrix([\n",
       "[0,                                 0,                                 0,                                                0],\n",
       "[0, 1.0*X(t)*Derivative(X(t), t)/N(t),                                 0,                                                0],\n",
       "[0,                                 0, 1.0*Y(t)*Derivative(Y(t), t)/N(t),                                                0],\n",
       "[0,                                 0,                                 0, 1.0*Y(t)*sin(\\theta)**2*Derivative(Y(t), t)/N(t)]])"
      ]
     },
     "metadata": {},
     "output_type": "display_data"
    }
   ],
   "source": [
    "B = simplify(covariant_derivative_down(C,xlist,U_down))\n",
    "print('B:')\n",
    "display(B)"
   ]
  },
  {
   "cell_type": "markdown",
   "id": "3765c990",
   "metadata": {},
   "source": [
    "# f)"
   ]
  },
  {
   "cell_type": "code",
   "execution_count": 18,
   "id": "4e11fd83",
   "metadata": {},
   "outputs": [
    {
     "name": "stdout",
     "output_type": "stream",
     "text": [
      "Expansion coefficicent theta:\n"
     ]
    },
    {
     "data": {
      "text/latex": [
       "$\\displaystyle \\frac{2.0 \\frac{d}{d t} Y{\\left(t \\right)}}{N{\\left(t \\right)} Y{\\left(t \\right)}} + \\frac{1.0 \\frac{d}{d t} X{\\left(t \\right)}}{N{\\left(t \\right)} X{\\left(t \\right)}}$"
      ],
      "text/plain": [
       "2.0*Derivative(Y(t), t)/(N(t)*Y(t)) + 1.0*Derivative(X(t), t)/(N(t)*X(t))"
      ]
     },
     "metadata": {},
     "output_type": "display_data"
    }
   ],
   "source": [
    "print('Expansion coefficicent theta:')\n",
    "\n",
    "theta_expansion = simplify((Trace(B*g_up))) \n",
    "display(theta_expansion)"
   ]
  },
  {
   "cell_type": "markdown",
   "id": "685db122",
   "metadata": {},
   "source": [
    "# g) "
   ]
  },
  {
   "cell_type": "code",
   "execution_count": 45,
   "id": "e936b646",
   "metadata": {},
   "outputs": [
    {
     "name": "stdout",
     "output_type": "stream",
     "text": [
      "sigma:\n"
     ]
    },
    {
     "data": {
      "text/latex": [
       "$\\displaystyle \\left[\\begin{matrix}\\frac{1.33333333333333 N{\\left(t \\right)} \\frac{d}{d t} Y{\\left(t \\right)}}{Y{\\left(t \\right)}} + \\frac{0.666666666666667 N{\\left(t \\right)} \\frac{d}{d t} X{\\left(t \\right)}}{X{\\left(t \\right)}} & 0 & 0 & 0\\\\0 & \\frac{\\left(- 0.666666666666667 X{\\left(t \\right)} \\frac{d}{d t} Y{\\left(t \\right)} + 0.666666666666667 Y{\\left(t \\right)} \\frac{d}{d t} X{\\left(t \\right)}\\right) X{\\left(t \\right)}}{N{\\left(t \\right)} Y{\\left(t \\right)}} & 0 & 0\\\\0 & 0 & \\frac{\\left(0.333333333333333 X{\\left(t \\right)} \\frac{d}{d t} Y{\\left(t \\right)} - 0.333333333333333 Y{\\left(t \\right)} \\frac{d}{d t} X{\\left(t \\right)}\\right) Y{\\left(t \\right)}}{N{\\left(t \\right)} X{\\left(t \\right)}} & 0\\\\0 & 0 & 0 & \\frac{\\left(0.333333333333333 X{\\left(t \\right)} \\frac{d}{d t} Y{\\left(t \\right)} - 0.333333333333333 Y{\\left(t \\right)} \\frac{d}{d t} X{\\left(t \\right)}\\right) Y{\\left(t \\right)} \\sin^{2}{\\left(\\theta \\right)}}{N{\\left(t \\right)} X{\\left(t \\right)}}\\end{matrix}\\right]$"
      ],
      "text/plain": [
       "Matrix([\n",
       "[1.33333333333333*N(t)*Derivative(Y(t), t)/Y(t) + 0.666666666666667*N(t)*Derivative(X(t), t)/X(t),                                                                                                           0,                                                                                                          0,                                                                                                                         0],\n",
       "[                                                                                               0, (-0.666666666666667*X(t)*Derivative(Y(t), t) + 0.666666666666667*Y(t)*Derivative(X(t), t))*X(t)/(N(t)*Y(t)),                                                                                                          0,                                                                                                                         0],\n",
       "[                                                                                               0,                                                                                                           0, (0.333333333333333*X(t)*Derivative(Y(t), t) - 0.333333333333333*Y(t)*Derivative(X(t), t))*Y(t)/(N(t)*X(t)),                                                                                                                         0],\n",
       "[                                                                                               0,                                                                                                           0,                                                                                                          0, (0.333333333333333*X(t)*Derivative(Y(t), t) - 0.333333333333333*Y(t)*Derivative(X(t), t))*Y(t)*sin(\\theta)**2/(N(t)*X(t))]])"
      ]
     },
     "metadata": {},
     "output_type": "display_data"
    }
   ],
   "source": [
    "# B is from question e\n",
    "# B_mu_nu = symbols('B_{uv}')\n",
    "# display(B_mu_nu)\n",
    "# B_mu_nu_metric = display(B)\n",
    "\n",
    "# B_nu_mu = symbols('B_{vu}')\n",
    "# display(B_nu_mu)\n",
    "# B_nu_mu_metric = display(B.transpose())\n",
    "\n",
    "# from the formula given \n",
    "# simplify simplifies the equation \n",
    "sigma =((1/2*(B + B.T))-(1/3*h*theta_expansion))\n",
    "print('sigma:')\n",
    "display(simplify(sigma))"
   ]
  },
  {
   "cell_type": "code",
   "execution_count": 56,
   "id": "d980d5b3",
   "metadata": {},
   "outputs": [
    {
     "data": {
      "text/latex": [
       "$\\displaystyle \\left[\\begin{matrix}\\frac{1.33333333333333 N{\\left(t \\right)} \\frac{d}{d t} Y{\\left(t \\right)}}{Y{\\left(t \\right)}} + \\frac{0.666666666666667 N{\\left(t \\right)} \\frac{d}{d t} X{\\left(t \\right)}}{X{\\left(t \\right)}} & 0 & 0 & 0\\\\0 & - \\frac{0.666666666666667 X^{2}{\\left(t \\right)} \\frac{d}{d t} Y{\\left(t \\right)}}{N{\\left(t \\right)} Y{\\left(t \\right)}} + \\frac{0.666666666666667 X{\\left(t \\right)} \\frac{d}{d t} X{\\left(t \\right)}}{N{\\left(t \\right)}} & 0 & 0\\\\0 & 0 & \\frac{0.333333333333333 Y{\\left(t \\right)} \\frac{d}{d t} Y{\\left(t \\right)}}{N{\\left(t \\right)}} - \\frac{0.333333333333333 Y^{2}{\\left(t \\right)} \\frac{d}{d t} X{\\left(t \\right)}}{N{\\left(t \\right)} X{\\left(t \\right)}} & 0\\\\0 & 0 & 0 & \\frac{0.333333333333333 Y{\\left(t \\right)} \\sin^{2}{\\left(\\theta \\right)} \\frac{d}{d t} Y{\\left(t \\right)}}{N{\\left(t \\right)}} - \\frac{0.333333333333333 Y^{2}{\\left(t \\right)} \\sin^{2}{\\left(\\theta \\right)} \\frac{d}{d t} X{\\left(t \\right)}}{N{\\left(t \\right)} X{\\left(t \\right)}}\\end{matrix}\\right]$"
      ],
      "text/plain": [
       "Matrix([\n",
       "[1.33333333333333*N(t)*Derivative(Y(t), t)/Y(t) + 0.666666666666667*N(t)*Derivative(X(t), t)/X(t),                                                                                                            0,                                                                                                           0,                                                                                                                                         0],\n",
       "[                                                                                               0, -0.666666666666667*X(t)**2*Derivative(Y(t), t)/(N(t)*Y(t)) + 0.666666666666667*X(t)*Derivative(X(t), t)/N(t),                                                                                                           0,                                                                                                                                         0],\n",
       "[                                                                                               0,                                                                                                            0, 0.333333333333333*Y(t)*Derivative(Y(t), t)/N(t) - 0.333333333333333*Y(t)**2*Derivative(X(t), t)/(N(t)*X(t)),                                                                                                                                         0],\n",
       "[                                                                                               0,                                                                                                            0,                                                                                                           0, 0.333333333333333*Y(t)*sin(\\theta)**2*Derivative(Y(t), t)/N(t) - 0.333333333333333*Y(t)**2*sin(\\theta)**2*Derivative(X(t), t)/(N(t)*X(t))]])"
      ]
     },
     "execution_count": 56,
     "metadata": {},
     "output_type": "execute_result"
    }
   ],
   "source": [
    "expand(sigma)"
   ]
  },
  {
   "cell_type": "markdown",
   "id": "ddf795c7",
   "metadata": {},
   "source": [
    "# g)i)"
   ]
  },
  {
   "cell_type": "code",
   "execution_count": 57,
   "id": "cdc5d44f",
   "metadata": {},
   "outputs": [
    {
     "name": "stdout",
     "output_type": "stream",
     "text": [
      "shear square is:\n"
     ]
    },
    {
     "data": {
      "text/latex": [
       "$\\displaystyle \\frac{2.44444444444444 \\left(\\frac{d}{d t} Y{\\left(t \\right)}\\right)^{2}}{N^{2}{\\left(t \\right)} Y^{2}{\\left(t \\right)}} + \\frac{0.444444444444444 \\frac{d}{d t} X{\\left(t \\right)} \\frac{d}{d t} Y{\\left(t \\right)}}{N^{2}{\\left(t \\right)} X{\\left(t \\right)} Y{\\left(t \\right)}} + \\frac{1.11111111111111 \\left(\\frac{d}{d t} X{\\left(t \\right)}\\right)^{2}}{N^{2}{\\left(t \\right)} X^{2}{\\left(t \\right)}}$"
      ],
      "text/plain": [
       "2.44444444444444*Derivative(Y(t), t)**2/(N(t)**2*Y(t)**2) + 0.444444444444444*Derivative(X(t), t)*Derivative(Y(t), t)/(N(t)**2*X(t)*Y(t)) + 1.11111111111111*Derivative(X(t), t)**2/(N(t)**2*X(t)**2)"
      ]
     },
     "metadata": {},
     "output_type": "display_data"
    }
   ],
   "source": [
    "sigma_up = g_up*sigma*g_up \n",
    "# display(sigma_up)\n",
    "\n",
    "shear = 0\n",
    "for i in range (0,4):\n",
    "    for j in range (0,4):\n",
    "        shear = shear + sigma_up[i,j]*sigma[i,j]\n",
    "print('shear square is:')\n",
    "display(expand(simplify(shear)))\n",
    "\n",
    "\n"
   ]
  },
  {
   "cell_type": "markdown",
   "id": "c553bac6",
   "metadata": {},
   "source": [
    "# h) "
   ]
  },
  {
   "cell_type": "code",
   "execution_count": 31,
   "id": "368e9e1c",
   "metadata": {},
   "outputs": [
    {
     "data": {
      "text/latex": [
       "$\\displaystyle \\left[\\begin{matrix}0 & 0 & 0 & 0\\\\0 & 0 & 0 & 0\\\\0 & 0 & 0 & 0\\\\0 & 0 & 0 & 0\\end{matrix}\\right]$"
      ],
      "text/plain": [
       "Matrix([\n",
       "[0, 0, 0, 0],\n",
       "[0, 0, 0, 0],\n",
       "[0, 0, 0, 0],\n",
       "[0, 0, 0, 0]])"
      ]
     },
     "metadata": {},
     "output_type": "display_data"
    }
   ],
   "source": [
    "omega = simplify(1/2 *B - 1/2*B.transpose())\n",
    "display(omega)"
   ]
  },
  {
   "cell_type": "code",
   "execution_count": 34,
   "id": "79f76516",
   "metadata": {},
   "outputs": [
    {
     "name": "stdout",
     "output_type": "stream",
     "text": [
      "vorticity is given by:\n"
     ]
    },
    {
     "data": {
      "text/latex": [
       "$\\displaystyle 0$"
      ],
      "text/plain": [
       "0"
      ]
     },
     "metadata": {},
     "output_type": "display_data"
    }
   ],
   "source": [
    "w_up=g_up*omega*g_up\n",
    "\n",
    "vort=0\n",
    "for i in range(0,3):\n",
    "    for j in range(0,3):\n",
    "        vort+= w_up[i,j]*omega[i,j]\n",
    "print('vorticity is given by:')\n",
    "display(simplify(vort))\n"
   ]
  },
  {
   "cell_type": "code",
   "execution_count": 58,
   "id": "d794f710",
   "metadata": {},
   "outputs": [
    {
     "data": {
      "text/latex": [
       "$\\displaystyle R_{\\mu \\nu}$"
      ],
      "text/plain": [
       "R_mu_nu"
      ]
     },
     "metadata": {},
     "output_type": "display_data"
    }
   ],
   "source": [
    "R_mu_nu=symbols('R_mu_nu')\n",
    "display(R_mu_nu)\n",
    "\n",
    "R_up=MutableDenseNDimArray(np.zeros((4,)*4))\n",
    "for i in range(0,4):\n",
    "    for j in range(0,4):\n",
    "        for k in range(0,4):\n",
    "            for l in range(0,4):\n",
    "                su=0\n",
    "                for m in range(0,4):\n",
    "                    su=su+  C[i,k,m]*C[m,l,j] -  C[i,l,m]*C[m,k,j]  #Christoffel symbols double sum\n",
    "                R_up[i,j,k,l]= su + (   diff(C[i,l,j],xlist[0][k]) - diff(C[i,k,j],xlist[0][l])   )  #derivatives              \n",
    "# Ricci tensor \n",
    "Ric_t=MutableDenseNDimArray(np.zeros((4,)*2))\n",
    "for i in range(4):\n",
    "    for k in range(4):\n",
    "        sum =0 \n",
    "        for j in range(4):\n",
    "            sum += R_up[j,i,j,k]\n",
    "        Ric_t[i,k]=su\n",
    "\n"
   ]
  },
  {
   "cell_type": "code",
   "execution_count": 71,
   "id": "04aef9ab",
   "metadata": {},
   "outputs": [],
   "source": [
    "RUU=0\n",
    "for i in range(0,4):\n",
    "    for j in range(0,4):\n",
    "        RUU+= Ric_t[i,j] * U[i] * U[j]"
   ]
  },
  {
   "cell_type": "code",
   "execution_count": 75,
   "id": "777cc3cf",
   "metadata": {},
   "outputs": [
    {
     "data": {
      "text/latex": [
       "$\\displaystyle - \\frac{\\left(- 0.333333333333333 \\left(\\frac{2.0 \\frac{d}{d t} Y{\\left(t \\right)}}{N{\\left(t \\right)} Y{\\left(t \\right)}} + \\frac{1.0 \\frac{d}{d t} X{\\left(t \\right)}}{N{\\left(t \\right)} X{\\left(t \\right)}}\\right) X^{2}{\\left(t \\right)} + \\frac{1.0 X{\\left(t \\right)} \\frac{d}{d t} X{\\left(t \\right)}}{N{\\left(t \\right)}}\\right)^{2}}{X^{4}{\\left(t \\right)}} - \\frac{\\left(- 0.333333333333333 \\left(\\frac{2.0 \\frac{d}{d t} Y{\\left(t \\right)}}{N{\\left(t \\right)} Y{\\left(t \\right)}} + \\frac{1.0 \\frac{d}{d t} X{\\left(t \\right)}}{N{\\left(t \\right)} X{\\left(t \\right)}}\\right) Y^{2}{\\left(t \\right)} + \\frac{1.0 Y{\\left(t \\right)} \\frac{d}{d t} Y{\\left(t \\right)}}{N{\\left(t \\right)}}\\right)^{2}}{Y^{4}{\\left(t \\right)}} - \\frac{\\left(- 0.333333333333333 \\left(\\frac{2.0 \\frac{d}{d t} Y{\\left(t \\right)}}{N{\\left(t \\right)} Y{\\left(t \\right)}} + \\frac{1.0 \\frac{d}{d t} X{\\left(t \\right)}}{N{\\left(t \\right)} X{\\left(t \\right)}}\\right) Y^{2}{\\left(t \\right)} \\sin^{2}{\\left(\\theta \\right)} + \\frac{1.0 Y{\\left(t \\right)} \\sin^{2}{\\left(\\theta \\right)} \\frac{d}{d t} Y{\\left(t \\right)}}{N{\\left(t \\right)}}\\right)^{2}}{Y^{4}{\\left(t \\right)} \\sin^{4}{\\left(\\theta \\right)}} + 0.666666666666667 \\left(- \\frac{1.33333333333333 \\frac{d}{d t} Y{\\left(t \\right)}}{N{\\left(t \\right)} Y{\\left(t \\right)}} - \\frac{0.666666666666667 \\frac{d}{d t} X{\\left(t \\right)}}{N{\\left(t \\right)} X{\\left(t \\right)}}\\right) \\left(\\frac{2.0 \\frac{d}{d t} Y{\\left(t \\right)}}{N{\\left(t \\right)} Y{\\left(t \\right)}} + \\frac{1.0 \\frac{d}{d t} X{\\left(t \\right)}}{N{\\left(t \\right)} X{\\left(t \\right)}}\\right) - 1.33333333333333 \\left(\\frac{\\frac{d}{d t} Y{\\left(t \\right)}}{N{\\left(t \\right)} Y{\\left(t \\right)}} + \\frac{0.5 \\frac{d}{d t} X{\\left(t \\right)}}{N{\\left(t \\right)} X{\\left(t \\right)}}\\right)^{2}$"
      ],
      "text/plain": [
       "-(-0.333333333333333*(2.0*Derivative(Y(t), t)/(N(t)*Y(t)) + 1.0*Derivative(X(t), t)/(N(t)*X(t)))*X(t)**2 + 1.0*X(t)*Derivative(X(t), t)/N(t))**2/X(t)**4 - (-0.333333333333333*(2.0*Derivative(Y(t), t)/(N(t)*Y(t)) + 1.0*Derivative(X(t), t)/(N(t)*X(t)))*Y(t)**2 + 1.0*Y(t)*Derivative(Y(t), t)/N(t))**2/Y(t)**4 - (-0.333333333333333*(2.0*Derivative(Y(t), t)/(N(t)*Y(t)) + 1.0*Derivative(X(t), t)/(N(t)*X(t)))*Y(t)**2*sin(\\theta)**2 + 1.0*Y(t)*sin(\\theta)**2*Derivative(Y(t), t)/N(t))**2/(Y(t)**4*sin(\\theta)**4) + 0.666666666666667*(-1.33333333333333*Derivative(Y(t), t)/(N(t)*Y(t)) - 0.666666666666667*Derivative(X(t), t)/(N(t)*X(t)))*(2.0*Derivative(Y(t), t)/(N(t)*Y(t)) + 1.0*Derivative(X(t), t)/(N(t)*X(t))) - 1.33333333333333*(Derivative(Y(t), t)/(N(t)*Y(t)) + 0.5*Derivative(X(t), t)/(N(t)*X(t)))**2"
      ]
     },
     "metadata": {},
     "output_type": "display_data"
    }
   ],
   "source": [
    "raychaudhuri =(-(theta_expansion**2 /3) - shear + vort -RUU)\n",
    "display(raychaudhuri)"
   ]
  },
  {
   "cell_type": "code",
   "execution_count": null,
   "id": "ed8f87cc",
   "metadata": {},
   "outputs": [],
   "source": []
  }
 ],
 "metadata": {
  "kernelspec": {
   "display_name": "Python 3",
   "language": "python",
   "name": "python3"
  },
  "language_info": {
   "codemirror_mode": {
    "name": "ipython",
    "version": 3
   },
   "file_extension": ".py",
   "mimetype": "text/x-python",
   "name": "python",
   "nbconvert_exporter": "python",
   "pygments_lexer": "ipython3",
   "version": "3.8.8"
  }
 },
 "nbformat": 4,
 "nbformat_minor": 5
}
